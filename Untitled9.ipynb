{
  "nbformat": 4,
  "nbformat_minor": 0,
  "metadata": {
    "colab": {
      "provenance": []
    },
    "kernelspec": {
      "name": "python3",
      "display_name": "Python 3"
    },
    "language_info": {
      "name": "python"
    },
    "gpuClass": "standard",
    "accelerator": "GPU"
  },
  "cells": [
    {
      "cell_type": "code",
      "execution_count": null,
      "metadata": {
        "colab": {
          "base_uri": "https://localhost:8080/"
        },
        "id": "6GIeMh8F4tUF",
        "outputId": "e2520b95-b000-4211-e193-762353021bf8"
      },
      "outputs": [
        {
          "output_type": "stream",
          "name": "stdout",
          "text": [
            "Looking in indexes: https://pypi.org/simple, https://us-python.pkg.dev/colab-wheels/public/simple/\n",
            "Requirement already satisfied: kaggle in /usr/local/lib/python3.9/dist-packages (1.5.13)\n",
            "Requirement already satisfied: tqdm in /usr/local/lib/python3.9/dist-packages (from kaggle) (4.65.0)\n",
            "Requirement already satisfied: certifi in /usr/local/lib/python3.9/dist-packages (from kaggle) (2022.12.7)\n",
            "Requirement already satisfied: python-slugify in /usr/local/lib/python3.9/dist-packages (from kaggle) (8.0.1)\n",
            "Requirement already satisfied: python-dateutil in /usr/local/lib/python3.9/dist-packages (from kaggle) (2.8.2)\n",
            "Requirement already satisfied: requests in /usr/local/lib/python3.9/dist-packages (from kaggle) (2.25.1)\n",
            "Requirement already satisfied: urllib3 in /usr/local/lib/python3.9/dist-packages (from kaggle) (1.26.15)\n",
            "Requirement already satisfied: six>=1.10 in /usr/local/lib/python3.9/dist-packages (from kaggle) (1.15.0)\n",
            "Requirement already satisfied: text-unidecode>=1.3 in /usr/local/lib/python3.9/dist-packages (from python-slugify->kaggle) (1.3)\n",
            "Requirement already satisfied: idna<3,>=2.5 in /usr/local/lib/python3.9/dist-packages (from requests->kaggle) (2.10)\n",
            "Requirement already satisfied: chardet<5,>=3.0.2 in /usr/local/lib/python3.9/dist-packages (from requests->kaggle) (4.0.0)\n"
          ]
        }
      ],
      "source": [
        "!pip install kaggle"
      ]
    },
    {
      "cell_type": "code",
      "source": [
        "from google.colab import drive\n",
        "drive.mount (\"/content/drive\")"
      ],
      "metadata": {
        "colab": {
          "base_uri": "https://localhost:8080/"
        },
        "id": "XMuuT40t5Mbw",
        "outputId": "e5091038-08af-4811-d77e-de6f0d3a15dc"
      },
      "execution_count": null,
      "outputs": [
        {
          "output_type": "stream",
          "name": "stdout",
          "text": [
            "Mounted at /content/drive\n"
          ]
        }
      ]
    },
    {
      "cell_type": "code",
      "source": [
        "!mkdir ~/.kaggle"
      ],
      "metadata": {
        "id": "hQABm4bh5qNY"
      },
      "execution_count": null,
      "outputs": []
    },
    {
      "cell_type": "code",
      "source": [
        "!cp /content/drive/MyDrive/kaggle.json ~/.kaggle/kaggle.json"
      ],
      "metadata": {
        "id": "xoUMseC96XdS"
      },
      "execution_count": null,
      "outputs": []
    },
    {
      "cell_type": "code",
      "source": [
        "!chmod 600 ~/.kaggle/kaggle.json"
      ],
      "metadata": {
        "id": "kYMgrrYc64Qb"
      },
      "execution_count": null,
      "outputs": []
    },
    {
      "cell_type": "code",
      "source": [
        "!kaggle datasets download -d nikhilroxtomar/ct-heart-segmentation"
      ],
      "metadata": {
        "colab": {
          "base_uri": "https://localhost:8080/"
        },
        "id": "vswwygeU7JEk",
        "outputId": "9926d04f-7f23-497d-8e2c-5b7a7941a3fc"
      },
      "execution_count": null,
      "outputs": [
        {
          "output_type": "stream",
          "name": "stdout",
          "text": [
            "Downloading ct-heart-segmentation.zip to /content\n",
            "100% 539M/541M [00:24<00:00, 23.7MB/s]\n",
            "100% 541M/541M [00:24<00:00, 23.4MB/s]\n"
          ]
        }
      ]
    },
    {
      "cell_type": "code",
      "source": [
        "!unzip ct-heart-segmentation.zip"
      ],
      "metadata": {
        "colab": {
          "base_uri": "https://localhost:8080/"
        },
        "id": "c6M4MaBI7Te9",
        "outputId": "3874dbe9-71f1-4ea6-d3ad-351db603c7fd"
      },
      "execution_count": null,
      "outputs": [
        {
          "output_type": "stream",
          "name": "stdout",
          "text": [
            "\u001b[1;30;43mStreaming output truncated to the last 5000 lines.\u001b[0m\n",
            "  inflating: data/train/100051/image/1-065.png  \n",
            "  inflating: data/train/100051/image/1-066.png  \n",
            "  inflating: data/train/100051/image/1-067.png  \n",
            "  inflating: data/train/100051/image/1-068.png  \n",
            "  inflating: data/train/100051/image/1-069.png  \n",
            "  inflating: data/train/100051/image/1-070.png  \n",
            "  inflating: data/train/100051/image/1-071.png  \n",
            "  inflating: data/train/100051/image/1-072.png  \n",
            "  inflating: data/train/100051/image/1-073.png  \n",
            "  inflating: data/train/100051/image/1-074.png  \n",
            "  inflating: data/train/100051/image/1-075.png  \n",
            "  inflating: data/train/100051/image/1-076.png  \n",
            "  inflating: data/train/100051/image/1-077.png  \n",
            "  inflating: data/train/100051/image/1-078.png  \n",
            "  inflating: data/train/100051/image/1-079.png  \n",
            "  inflating: data/train/100051/image/1-080.png  \n",
            "  inflating: data/train/100051/image/1-081.png  \n",
            "  inflating: data/train/100051/image/1-082.png  \n",
            "  inflating: data/train/100051/image/1-083.png  \n",
            "  inflating: data/train/100051/image/1-084.png  \n",
            "  inflating: data/train/100051/image/1-085.png  \n",
            "  inflating: data/train/100051/image/1-086.png  \n",
            "  inflating: data/train/100051/image/1-087.png  \n",
            "  inflating: data/train/100051/image/1-088.png  \n",
            "  inflating: data/train/100051/image/1-089.png  \n",
            "  inflating: data/train/100051/image/1-090.png  \n",
            "  inflating: data/train/100051/image/1-091.png  \n",
            "  inflating: data/train/100051/image/1-092.png  \n",
            "  inflating: data/train/100051/image/1-093.png  \n",
            "  inflating: data/train/100051/image/1-094.png  \n",
            "  inflating: data/train/100051/image/1-095.png  \n",
            "  inflating: data/train/100051/image/1-096.png  \n",
            "  inflating: data/train/100051/image/1-097.png  \n",
            "  inflating: data/train/100051/image/1-098.png  \n",
            "  inflating: data/train/100051/image/1-099.png  \n",
            "  inflating: data/train/100051/image/1-100.png  \n",
            "  inflating: data/train/100051/image/1-101.png  \n",
            "  inflating: data/train/100051/image/1-102.png  \n",
            "  inflating: data/train/100051/image/1-103.png  \n",
            "  inflating: data/train/100051/image/1-104.png  \n",
            "  inflating: data/train/100051/image/1-105.png  \n",
            "  inflating: data/train/100051/image/1-106.png  \n",
            "  inflating: data/train/100051/image/1-107.png  \n",
            "  inflating: data/train/100051/image/1-108.png  \n",
            "  inflating: data/train/100051/image/1-109.png  \n",
            "  inflating: data/train/100051/image/1-110.png  \n",
            "  inflating: data/train/100051/image/1-111.png  \n",
            "  inflating: data/train/100051/image/1-112.png  \n",
            "  inflating: data/train/100051/image/1-113.png  \n",
            "  inflating: data/train/100051/image/1-114.png  \n",
            "  inflating: data/train/100051/image/1-115.png  \n",
            "  inflating: data/train/100051/image/1-116.png  \n",
            "  inflating: data/train/100051/image/1-117.png  \n",
            "  inflating: data/train/100051/image/1-118.png  \n",
            "  inflating: data/train/100051/image/1-119.png  \n",
            "  inflating: data/train/100051/image/1-120.png  \n",
            "  inflating: data/train/100051/image/1-121.png  \n",
            "  inflating: data/train/100051/image/1-122.png  \n",
            "  inflating: data/train/100051/image/1-123.png  \n",
            "  inflating: data/train/100051/image/1-124.png  \n",
            "  inflating: data/train/100051/image/1-125.png  \n",
            "  inflating: data/train/100051/image/1-126.png  \n",
            "  inflating: data/train/100051/image/1-127.png  \n",
            "  inflating: data/train/100051/image/1-128.png  \n",
            "  inflating: data/train/100051/image/1-129.png  \n",
            "  inflating: data/train/100051/image/1-130.png  \n",
            "  inflating: data/train/100051/image/1-131.png  \n",
            "  inflating: data/train/100051/mask/1-001.png  \n",
            "  inflating: data/train/100051/mask/1-002.png  \n",
            "  inflating: data/train/100051/mask/1-003.png  \n",
            "  inflating: data/train/100051/mask/1-004.png  \n",
            "  inflating: data/train/100051/mask/1-005.png  \n",
            "  inflating: data/train/100051/mask/1-006.png  \n",
            "  inflating: data/train/100051/mask/1-007.png  \n",
            "  inflating: data/train/100051/mask/1-008.png  \n",
            "  inflating: data/train/100051/mask/1-009.png  \n",
            "  inflating: data/train/100051/mask/1-010.png  \n",
            "  inflating: data/train/100051/mask/1-011.png  \n",
            "  inflating: data/train/100051/mask/1-012.png  \n",
            "  inflating: data/train/100051/mask/1-013.png  \n",
            "  inflating: data/train/100051/mask/1-014.png  \n",
            "  inflating: data/train/100051/mask/1-015.png  \n",
            "  inflating: data/train/100051/mask/1-016.png  \n",
            "  inflating: data/train/100051/mask/1-017.png  \n",
            "  inflating: data/train/100051/mask/1-018.png  \n",
            "  inflating: data/train/100051/mask/1-019.png  \n",
            "  inflating: data/train/100051/mask/1-020.png  \n",
            "  inflating: data/train/100051/mask/1-021.png  \n",
            "  inflating: data/train/100051/mask/1-022.png  \n",
            "  inflating: data/train/100051/mask/1-023.png  \n",
            "  inflating: data/train/100051/mask/1-024.png  \n",
            "  inflating: data/train/100051/mask/1-025.png  \n",
            "  inflating: data/train/100051/mask/1-026.png  \n",
            "  inflating: data/train/100051/mask/1-027.png  \n",
            "  inflating: data/train/100051/mask/1-028.png  \n",
            "  inflating: data/train/100051/mask/1-029.png  \n",
            "  inflating: data/train/100051/mask/1-030.png  \n",
            "  inflating: data/train/100051/mask/1-031.png  \n",
            "  inflating: data/train/100051/mask/1-032.png  \n",
            "  inflating: data/train/100051/mask/1-033.png  \n",
            "  inflating: data/train/100051/mask/1-034.png  \n",
            "  inflating: data/train/100051/mask/1-035.png  \n",
            "  inflating: data/train/100051/mask/1-036.png  \n",
            "  inflating: data/train/100051/mask/1-037.png  \n",
            "  inflating: data/train/100051/mask/1-038.png  \n",
            "  inflating: data/train/100051/mask/1-039.png  \n",
            "  inflating: data/train/100051/mask/1-040.png  \n",
            "  inflating: data/train/100051/mask/1-041.png  \n",
            "  inflating: data/train/100051/mask/1-042.png  \n",
            "  inflating: data/train/100051/mask/1-043.png  \n",
            "  inflating: data/train/100051/mask/1-044.png  \n",
            "  inflating: data/train/100051/mask/1-045.png  \n",
            "  inflating: data/train/100051/mask/1-046.png  \n",
            "  inflating: data/train/100051/mask/1-047.png  \n",
            "  inflating: data/train/100051/mask/1-048.png  \n",
            "  inflating: data/train/100051/mask/1-049.png  \n",
            "  inflating: data/train/100051/mask/1-050.png  \n",
            "  inflating: data/train/100051/mask/1-051.png  \n",
            "  inflating: data/train/100051/mask/1-052.png  \n",
            "  inflating: data/train/100051/mask/1-053.png  \n",
            "  inflating: data/train/100051/mask/1-054.png  \n",
            "  inflating: data/train/100051/mask/1-055.png  \n",
            "  inflating: data/train/100051/mask/1-056.png  \n",
            "  inflating: data/train/100051/mask/1-057.png  \n",
            "  inflating: data/train/100051/mask/1-058.png  \n",
            "  inflating: data/train/100051/mask/1-059.png  \n",
            "  inflating: data/train/100051/mask/1-060.png  \n",
            "  inflating: data/train/100051/mask/1-061.png  \n",
            "  inflating: data/train/100051/mask/1-062.png  \n",
            "  inflating: data/train/100051/mask/1-063.png  \n",
            "  inflating: data/train/100051/mask/1-064.png  \n",
            "  inflating: data/train/100051/mask/1-065.png  \n",
            "  inflating: data/train/100051/mask/1-066.png  \n",
            "  inflating: data/train/100051/mask/1-067.png  \n",
            "  inflating: data/train/100051/mask/1-068.png  \n",
            "  inflating: data/train/100051/mask/1-069.png  \n",
            "  inflating: data/train/100051/mask/1-070.png  \n",
            "  inflating: data/train/100051/mask/1-071.png  \n",
            "  inflating: data/train/100051/mask/1-072.png  \n",
            "  inflating: data/train/100051/mask/1-073.png  \n",
            "  inflating: data/train/100051/mask/1-074.png  \n",
            "  inflating: data/train/100051/mask/1-075.png  \n",
            "  inflating: data/train/100051/mask/1-076.png  \n",
            "  inflating: data/train/100051/mask/1-077.png  \n",
            "  inflating: data/train/100051/mask/1-078.png  \n",
            "  inflating: data/train/100051/mask/1-079.png  \n",
            "  inflating: data/train/100051/mask/1-080.png  \n",
            "  inflating: data/train/100051/mask/1-081.png  \n",
            "  inflating: data/train/100051/mask/1-082.png  \n",
            "  inflating: data/train/100051/mask/1-083.png  \n",
            "  inflating: data/train/100051/mask/1-084.png  \n",
            "  inflating: data/train/100051/mask/1-085.png  \n",
            "  inflating: data/train/100051/mask/1-086.png  \n",
            "  inflating: data/train/100051/mask/1-087.png  \n",
            "  inflating: data/train/100051/mask/1-088.png  \n",
            "  inflating: data/train/100051/mask/1-089.png  \n",
            "  inflating: data/train/100051/mask/1-090.png  \n",
            "  inflating: data/train/100051/mask/1-091.png  \n",
            "  inflating: data/train/100051/mask/1-092.png  \n",
            "  inflating: data/train/100051/mask/1-093.png  \n",
            "  inflating: data/train/100051/mask/1-094.png  \n",
            "  inflating: data/train/100051/mask/1-095.png  \n",
            "  inflating: data/train/100051/mask/1-096.png  \n",
            "  inflating: data/train/100051/mask/1-097.png  \n",
            "  inflating: data/train/100051/mask/1-098.png  \n",
            "  inflating: data/train/100051/mask/1-099.png  \n",
            "  inflating: data/train/100051/mask/1-100.png  \n",
            "  inflating: data/train/100051/mask/1-101.png  \n",
            "  inflating: data/train/100051/mask/1-102.png  \n",
            "  inflating: data/train/100051/mask/1-103.png  \n",
            "  inflating: data/train/100051/mask/1-104.png  \n",
            "  inflating: data/train/100051/mask/1-105.png  \n",
            "  inflating: data/train/100051/mask/1-106.png  \n",
            "  inflating: data/train/100051/mask/1-107.png  \n",
            "  inflating: data/train/100051/mask/1-108.png  \n",
            "  inflating: data/train/100051/mask/1-109.png  \n",
            "  inflating: data/train/100051/mask/1-110.png  \n",
            "  inflating: data/train/100051/mask/1-111.png  \n",
            "  inflating: data/train/100051/mask/1-112.png  \n",
            "  inflating: data/train/100051/mask/1-113.png  \n",
            "  inflating: data/train/100051/mask/1-114.png  \n",
            "  inflating: data/train/100051/mask/1-115.png  \n",
            "  inflating: data/train/100051/mask/1-116.png  \n",
            "  inflating: data/train/100051/mask/1-117.png  \n",
            "  inflating: data/train/100051/mask/1-118.png  \n",
            "  inflating: data/train/100051/mask/1-119.png  \n",
            "  inflating: data/train/100051/mask/1-120.png  \n",
            "  inflating: data/train/100051/mask/1-121.png  \n",
            "  inflating: data/train/100051/mask/1-122.png  \n",
            "  inflating: data/train/100051/mask/1-123.png  \n",
            "  inflating: data/train/100051/mask/1-124.png  \n",
            "  inflating: data/train/100051/mask/1-125.png  \n",
            "  inflating: data/train/100051/mask/1-126.png  \n",
            "  inflating: data/train/100051/mask/1-127.png  \n",
            "  inflating: data/train/100051/mask/1-128.png  \n",
            "  inflating: data/train/100051/mask/1-129.png  \n",
            "  inflating: data/train/100051/mask/1-130.png  \n",
            "  inflating: data/train/100051/mask/1-131.png  \n",
            "  inflating: data/train/100053/image/1-001.png  \n",
            "  inflating: data/train/100053/image/1-002.png  \n",
            "  inflating: data/train/100053/image/1-003.png  \n",
            "  inflating: data/train/100053/image/1-004.png  \n",
            "  inflating: data/train/100053/image/1-005.png  \n",
            "  inflating: data/train/100053/image/1-006.png  \n",
            "  inflating: data/train/100053/image/1-007.png  \n",
            "  inflating: data/train/100053/image/1-008.png  \n",
            "  inflating: data/train/100053/image/1-009.png  \n",
            "  inflating: data/train/100053/image/1-010.png  \n",
            "  inflating: data/train/100053/image/1-011.png  \n",
            "  inflating: data/train/100053/image/1-012.png  \n",
            "  inflating: data/train/100053/image/1-013.png  \n",
            "  inflating: data/train/100053/image/1-014.png  \n",
            "  inflating: data/train/100053/image/1-015.png  \n",
            "  inflating: data/train/100053/image/1-016.png  \n",
            "  inflating: data/train/100053/image/1-017.png  \n",
            "  inflating: data/train/100053/image/1-018.png  \n",
            "  inflating: data/train/100053/image/1-019.png  \n",
            "  inflating: data/train/100053/image/1-020.png  \n",
            "  inflating: data/train/100053/image/1-021.png  \n",
            "  inflating: data/train/100053/image/1-022.png  \n",
            "  inflating: data/train/100053/image/1-023.png  \n",
            "  inflating: data/train/100053/image/1-024.png  \n",
            "  inflating: data/train/100053/image/1-025.png  \n",
            "  inflating: data/train/100053/image/1-026.png  \n",
            "  inflating: data/train/100053/image/1-027.png  \n",
            "  inflating: data/train/100053/image/1-028.png  \n",
            "  inflating: data/train/100053/image/1-029.png  \n",
            "  inflating: data/train/100053/image/1-030.png  \n",
            "  inflating: data/train/100053/image/1-031.png  \n",
            "  inflating: data/train/100053/image/1-032.png  \n",
            "  inflating: data/train/100053/image/1-033.png  \n",
            "  inflating: data/train/100053/image/1-034.png  \n",
            "  inflating: data/train/100053/image/1-035.png  \n",
            "  inflating: data/train/100053/image/1-036.png  \n",
            "  inflating: data/train/100053/image/1-037.png  \n",
            "  inflating: data/train/100053/image/1-038.png  \n",
            "  inflating: data/train/100053/image/1-039.png  \n",
            "  inflating: data/train/100053/image/1-040.png  \n",
            "  inflating: data/train/100053/image/1-041.png  \n",
            "  inflating: data/train/100053/image/1-042.png  \n",
            "  inflating: data/train/100053/image/1-043.png  \n",
            "  inflating: data/train/100053/image/1-044.png  \n",
            "  inflating: data/train/100053/image/1-045.png  \n",
            "  inflating: data/train/100053/image/1-046.png  \n",
            "  inflating: data/train/100053/image/1-047.png  \n",
            "  inflating: data/train/100053/image/1-048.png  \n",
            "  inflating: data/train/100053/image/1-049.png  \n",
            "  inflating: data/train/100053/image/1-050.png  \n",
            "  inflating: data/train/100053/image/1-051.png  \n",
            "  inflating: data/train/100053/image/1-052.png  \n",
            "  inflating: data/train/100053/image/1-053.png  \n",
            "  inflating: data/train/100053/image/1-054.png  \n",
            "  inflating: data/train/100053/image/1-055.png  \n",
            "  inflating: data/train/100053/image/1-056.png  \n",
            "  inflating: data/train/100053/image/1-057.png  \n",
            "  inflating: data/train/100053/image/1-058.png  \n",
            "  inflating: data/train/100053/image/1-059.png  \n",
            "  inflating: data/train/100053/image/1-060.png  \n",
            "  inflating: data/train/100053/image/1-061.png  \n",
            "  inflating: data/train/100053/image/1-062.png  \n",
            "  inflating: data/train/100053/image/1-063.png  \n",
            "  inflating: data/train/100053/image/1-064.png  \n",
            "  inflating: data/train/100053/image/1-065.png  \n",
            "  inflating: data/train/100053/image/1-066.png  \n",
            "  inflating: data/train/100053/image/1-067.png  \n",
            "  inflating: data/train/100053/image/1-068.png  \n",
            "  inflating: data/train/100053/image/1-069.png  \n",
            "  inflating: data/train/100053/image/1-070.png  \n",
            "  inflating: data/train/100053/image/1-071.png  \n",
            "  inflating: data/train/100053/image/1-072.png  \n",
            "  inflating: data/train/100053/image/1-073.png  \n",
            "  inflating: data/train/100053/image/1-074.png  \n",
            "  inflating: data/train/100053/image/1-075.png  \n",
            "  inflating: data/train/100053/image/1-076.png  \n",
            "  inflating: data/train/100053/image/1-077.png  \n",
            "  inflating: data/train/100053/image/1-078.png  \n",
            "  inflating: data/train/100053/image/1-079.png  \n",
            "  inflating: data/train/100053/image/1-080.png  \n",
            "  inflating: data/train/100053/image/1-081.png  \n",
            "  inflating: data/train/100053/image/1-082.png  \n",
            "  inflating: data/train/100053/image/1-083.png  \n",
            "  inflating: data/train/100053/image/1-084.png  \n",
            "  inflating: data/train/100053/image/1-085.png  \n",
            "  inflating: data/train/100053/image/1-086.png  \n",
            "  inflating: data/train/100053/image/1-087.png  \n",
            "  inflating: data/train/100053/image/1-088.png  \n",
            "  inflating: data/train/100053/image/1-089.png  \n",
            "  inflating: data/train/100053/image/1-090.png  \n",
            "  inflating: data/train/100053/image/1-091.png  \n",
            "  inflating: data/train/100053/image/1-092.png  \n",
            "  inflating: data/train/100053/image/1-093.png  \n",
            "  inflating: data/train/100053/image/1-094.png  \n",
            "  inflating: data/train/100053/image/1-095.png  \n",
            "  inflating: data/train/100053/image/1-096.png  \n",
            "  inflating: data/train/100053/image/1-097.png  \n",
            "  inflating: data/train/100053/image/1-098.png  \n",
            "  inflating: data/train/100053/image/1-099.png  \n",
            "  inflating: data/train/100053/image/1-100.png  \n",
            "  inflating: data/train/100053/image/1-101.png  \n",
            "  inflating: data/train/100053/image/1-102.png  \n",
            "  inflating: data/train/100053/image/1-103.png  \n",
            "  inflating: data/train/100053/image/1-104.png  \n",
            "  inflating: data/train/100053/image/1-105.png  \n",
            "  inflating: data/train/100053/image/1-106.png  \n",
            "  inflating: data/train/100053/image/1-107.png  \n",
            "  inflating: data/train/100053/image/1-108.png  \n",
            "  inflating: data/train/100053/image/1-109.png  \n",
            "  inflating: data/train/100053/image/1-110.png  \n",
            "  inflating: data/train/100053/image/1-111.png  \n",
            "  inflating: data/train/100053/image/1-112.png  \n",
            "  inflating: data/train/100053/mask/1-001.png  \n",
            "  inflating: data/train/100053/mask/1-002.png  \n",
            "  inflating: data/train/100053/mask/1-003.png  \n",
            "  inflating: data/train/100053/mask/1-004.png  \n",
            "  inflating: data/train/100053/mask/1-005.png  \n",
            "  inflating: data/train/100053/mask/1-006.png  \n",
            "  inflating: data/train/100053/mask/1-007.png  \n",
            "  inflating: data/train/100053/mask/1-008.png  \n",
            "  inflating: data/train/100053/mask/1-009.png  \n",
            "  inflating: data/train/100053/mask/1-010.png  \n",
            "  inflating: data/train/100053/mask/1-011.png  \n",
            "  inflating: data/train/100053/mask/1-012.png  \n",
            "  inflating: data/train/100053/mask/1-013.png  \n",
            "  inflating: data/train/100053/mask/1-014.png  \n",
            "  inflating: data/train/100053/mask/1-015.png  \n",
            "  inflating: data/train/100053/mask/1-016.png  \n",
            "  inflating: data/train/100053/mask/1-017.png  \n",
            "  inflating: data/train/100053/mask/1-018.png  \n",
            "  inflating: data/train/100053/mask/1-019.png  \n",
            "  inflating: data/train/100053/mask/1-020.png  \n",
            "  inflating: data/train/100053/mask/1-021.png  \n",
            "  inflating: data/train/100053/mask/1-022.png  \n",
            "  inflating: data/train/100053/mask/1-023.png  \n",
            "  inflating: data/train/100053/mask/1-024.png  \n",
            "  inflating: data/train/100053/mask/1-025.png  \n",
            "  inflating: data/train/100053/mask/1-026.png  \n",
            "  inflating: data/train/100053/mask/1-027.png  \n",
            "  inflating: data/train/100053/mask/1-028.png  \n",
            "  inflating: data/train/100053/mask/1-029.png  \n",
            "  inflating: data/train/100053/mask/1-030.png  \n",
            "  inflating: data/train/100053/mask/1-031.png  \n",
            "  inflating: data/train/100053/mask/1-032.png  \n",
            "  inflating: data/train/100053/mask/1-033.png  \n",
            "  inflating: data/train/100053/mask/1-034.png  \n",
            "  inflating: data/train/100053/mask/1-035.png  \n",
            "  inflating: data/train/100053/mask/1-036.png  \n",
            "  inflating: data/train/100053/mask/1-037.png  \n",
            "  inflating: data/train/100053/mask/1-038.png  \n",
            "  inflating: data/train/100053/mask/1-039.png  \n",
            "  inflating: data/train/100053/mask/1-040.png  \n",
            "  inflating: data/train/100053/mask/1-041.png  \n",
            "  inflating: data/train/100053/mask/1-042.png  \n",
            "  inflating: data/train/100053/mask/1-043.png  \n",
            "  inflating: data/train/100053/mask/1-044.png  \n",
            "  inflating: data/train/100053/mask/1-045.png  \n",
            "  inflating: data/train/100053/mask/1-046.png  \n",
            "  inflating: data/train/100053/mask/1-047.png  \n",
            "  inflating: data/train/100053/mask/1-048.png  \n",
            "  inflating: data/train/100053/mask/1-049.png  \n",
            "  inflating: data/train/100053/mask/1-050.png  \n",
            "  inflating: data/train/100053/mask/1-051.png  \n",
            "  inflating: data/train/100053/mask/1-052.png  \n",
            "  inflating: data/train/100053/mask/1-053.png  \n",
            "  inflating: data/train/100053/mask/1-054.png  \n",
            "  inflating: data/train/100053/mask/1-055.png  \n",
            "  inflating: data/train/100053/mask/1-056.png  \n",
            "  inflating: data/train/100053/mask/1-057.png  \n",
            "  inflating: data/train/100053/mask/1-058.png  \n",
            "  inflating: data/train/100053/mask/1-059.png  \n",
            "  inflating: data/train/100053/mask/1-060.png  \n",
            "  inflating: data/train/100053/mask/1-061.png  \n",
            "  inflating: data/train/100053/mask/1-062.png  \n",
            "  inflating: data/train/100053/mask/1-063.png  \n",
            "  inflating: data/train/100053/mask/1-064.png  \n",
            "  inflating: data/train/100053/mask/1-065.png  \n",
            "  inflating: data/train/100053/mask/1-066.png  \n",
            "  inflating: data/train/100053/mask/1-067.png  \n",
            "  inflating: data/train/100053/mask/1-068.png  \n",
            "  inflating: data/train/100053/mask/1-069.png  \n",
            "  inflating: data/train/100053/mask/1-070.png  \n",
            "  inflating: data/train/100053/mask/1-071.png  \n",
            "  inflating: data/train/100053/mask/1-072.png  \n",
            "  inflating: data/train/100053/mask/1-073.png  \n",
            "  inflating: data/train/100053/mask/1-074.png  \n",
            "  inflating: data/train/100053/mask/1-075.png  \n",
            "  inflating: data/train/100053/mask/1-076.png  \n",
            "  inflating: data/train/100053/mask/1-077.png  \n",
            "  inflating: data/train/100053/mask/1-078.png  \n",
            "  inflating: data/train/100053/mask/1-079.png  \n",
            "  inflating: data/train/100053/mask/1-080.png  \n",
            "  inflating: data/train/100053/mask/1-081.png  \n",
            "  inflating: data/train/100053/mask/1-082.png  \n",
            "  inflating: data/train/100053/mask/1-083.png  \n",
            "  inflating: data/train/100053/mask/1-084.png  \n",
            "  inflating: data/train/100053/mask/1-085.png  \n",
            "  inflating: data/train/100053/mask/1-086.png  \n",
            "  inflating: data/train/100053/mask/1-087.png  \n",
            "  inflating: data/train/100053/mask/1-088.png  \n",
            "  inflating: data/train/100053/mask/1-089.png  \n",
            "  inflating: data/train/100053/mask/1-090.png  \n",
            "  inflating: data/train/100053/mask/1-091.png  \n",
            "  inflating: data/train/100053/mask/1-092.png  \n",
            "  inflating: data/train/100053/mask/1-093.png  \n",
            "  inflating: data/train/100053/mask/1-094.png  \n",
            "  inflating: data/train/100053/mask/1-095.png  \n",
            "  inflating: data/train/100053/mask/1-096.png  \n",
            "  inflating: data/train/100053/mask/1-097.png  \n",
            "  inflating: data/train/100053/mask/1-098.png  \n",
            "  inflating: data/train/100053/mask/1-099.png  \n",
            "  inflating: data/train/100053/mask/1-100.png  \n",
            "  inflating: data/train/100053/mask/1-101.png  \n",
            "  inflating: data/train/100053/mask/1-102.png  \n",
            "  inflating: data/train/100053/mask/1-103.png  \n",
            "  inflating: data/train/100053/mask/1-104.png  \n",
            "  inflating: data/train/100053/mask/1-105.png  \n",
            "  inflating: data/train/100053/mask/1-106.png  \n",
            "  inflating: data/train/100053/mask/1-107.png  \n",
            "  inflating: data/train/100053/mask/1-108.png  \n",
            "  inflating: data/train/100053/mask/1-109.png  \n",
            "  inflating: data/train/100053/mask/1-110.png  \n",
            "  inflating: data/train/100053/mask/1-111.png  \n",
            "  inflating: data/train/100053/mask/1-112.png  \n",
            "  inflating: data/train/100056/image/1-001.png  \n",
            "  inflating: data/train/100056/image/1-002.png  \n",
            "  inflating: data/train/100056/image/1-003.png  \n",
            "  inflating: data/train/100056/image/1-004.png  \n",
            "  inflating: data/train/100056/image/1-005.png  \n",
            "  inflating: data/train/100056/image/1-006.png  \n",
            "  inflating: data/train/100056/image/1-007.png  \n",
            "  inflating: data/train/100056/image/1-008.png  \n",
            "  inflating: data/train/100056/image/1-009.png  \n",
            "  inflating: data/train/100056/image/1-010.png  \n",
            "  inflating: data/train/100056/image/1-011.png  \n",
            "  inflating: data/train/100056/image/1-012.png  \n",
            "  inflating: data/train/100056/image/1-013.png  \n",
            "  inflating: data/train/100056/image/1-014.png  \n",
            "  inflating: data/train/100056/image/1-015.png  \n",
            "  inflating: data/train/100056/image/1-016.png  \n",
            "  inflating: data/train/100056/image/1-017.png  \n",
            "  inflating: data/train/100056/image/1-018.png  \n",
            "  inflating: data/train/100056/image/1-019.png  \n",
            "  inflating: data/train/100056/image/1-020.png  \n",
            "  inflating: data/train/100056/image/1-021.png  \n",
            "  inflating: data/train/100056/image/1-022.png  \n",
            "  inflating: data/train/100056/image/1-023.png  \n",
            "  inflating: data/train/100056/image/1-024.png  \n",
            "  inflating: data/train/100056/image/1-025.png  \n",
            "  inflating: data/train/100056/image/1-026.png  \n",
            "  inflating: data/train/100056/image/1-027.png  \n",
            "  inflating: data/train/100056/image/1-028.png  \n",
            "  inflating: data/train/100056/image/1-029.png  \n",
            "  inflating: data/train/100056/image/1-030.png  \n",
            "  inflating: data/train/100056/image/1-031.png  \n",
            "  inflating: data/train/100056/image/1-032.png  \n",
            "  inflating: data/train/100056/image/1-033.png  \n",
            "  inflating: data/train/100056/image/1-034.png  \n",
            "  inflating: data/train/100056/image/1-035.png  \n",
            "  inflating: data/train/100056/image/1-036.png  \n",
            "  inflating: data/train/100056/image/1-037.png  \n",
            "  inflating: data/train/100056/image/1-038.png  \n",
            "  inflating: data/train/100056/image/1-039.png  \n",
            "  inflating: data/train/100056/image/1-040.png  \n",
            "  inflating: data/train/100056/image/1-041.png  \n",
            "  inflating: data/train/100056/image/1-042.png  \n",
            "  inflating: data/train/100056/image/1-043.png  \n",
            "  inflating: data/train/100056/image/1-044.png  \n",
            "  inflating: data/train/100056/image/1-045.png  \n",
            "  inflating: data/train/100056/image/1-046.png  \n",
            "  inflating: data/train/100056/image/1-047.png  \n",
            "  inflating: data/train/100056/image/1-048.png  \n",
            "  inflating: data/train/100056/image/1-049.png  \n",
            "  inflating: data/train/100056/image/1-050.png  \n",
            "  inflating: data/train/100056/image/1-051.png  \n",
            "  inflating: data/train/100056/image/1-052.png  \n",
            "  inflating: data/train/100056/image/1-053.png  \n",
            "  inflating: data/train/100056/image/1-054.png  \n",
            "  inflating: data/train/100056/image/1-055.png  \n",
            "  inflating: data/train/100056/image/1-056.png  \n",
            "  inflating: data/train/100056/image/1-057.png  \n",
            "  inflating: data/train/100056/image/1-058.png  \n",
            "  inflating: data/train/100056/image/1-059.png  \n",
            "  inflating: data/train/100056/image/1-060.png  \n",
            "  inflating: data/train/100056/image/1-061.png  \n",
            "  inflating: data/train/100056/image/1-062.png  \n",
            "  inflating: data/train/100056/image/1-063.png  \n",
            "  inflating: data/train/100056/image/1-064.png  \n",
            "  inflating: data/train/100056/image/1-065.png  \n",
            "  inflating: data/train/100056/image/1-066.png  \n",
            "  inflating: data/train/100056/image/1-067.png  \n",
            "  inflating: data/train/100056/image/1-068.png  \n",
            "  inflating: data/train/100056/image/1-069.png  \n",
            "  inflating: data/train/100056/image/1-070.png  \n",
            "  inflating: data/train/100056/image/1-071.png  \n",
            "  inflating: data/train/100056/image/1-072.png  \n",
            "  inflating: data/train/100056/image/1-073.png  \n",
            "  inflating: data/train/100056/image/1-074.png  \n",
            "  inflating: data/train/100056/image/1-075.png  \n",
            "  inflating: data/train/100056/image/1-076.png  \n",
            "  inflating: data/train/100056/image/1-077.png  \n",
            "  inflating: data/train/100056/image/1-078.png  \n",
            "  inflating: data/train/100056/image/1-079.png  \n",
            "  inflating: data/train/100056/image/1-080.png  \n",
            "  inflating: data/train/100056/image/1-081.png  \n",
            "  inflating: data/train/100056/image/1-082.png  \n",
            "  inflating: data/train/100056/image/1-083.png  \n",
            "  inflating: data/train/100056/image/1-084.png  \n",
            "  inflating: data/train/100056/image/1-085.png  \n",
            "  inflating: data/train/100056/image/1-086.png  \n",
            "  inflating: data/train/100056/image/1-087.png  \n",
            "  inflating: data/train/100056/image/1-088.png  \n",
            "  inflating: data/train/100056/image/1-089.png  \n",
            "  inflating: data/train/100056/image/1-090.png  \n",
            "  inflating: data/train/100056/image/1-091.png  \n",
            "  inflating: data/train/100056/image/1-092.png  \n",
            "  inflating: data/train/100056/image/1-093.png  \n",
            "  inflating: data/train/100056/image/1-094.png  \n",
            "  inflating: data/train/100056/image/1-095.png  \n",
            "  inflating: data/train/100056/image/1-096.png  \n",
            "  inflating: data/train/100056/image/1-097.png  \n",
            "  inflating: data/train/100056/image/1-098.png  \n",
            "  inflating: data/train/100056/image/1-099.png  \n",
            "  inflating: data/train/100056/image/1-100.png  \n",
            "  inflating: data/train/100056/image/1-101.png  \n",
            "  inflating: data/train/100056/image/1-102.png  \n",
            "  inflating: data/train/100056/image/1-103.png  \n",
            "  inflating: data/train/100056/image/1-104.png  \n",
            "  inflating: data/train/100056/image/1-105.png  \n",
            "  inflating: data/train/100056/image/1-106.png  \n",
            "  inflating: data/train/100056/image/1-107.png  \n",
            "  inflating: data/train/100056/image/1-108.png  \n",
            "  inflating: data/train/100056/image/1-109.png  \n",
            "  inflating: data/train/100056/image/1-110.png  \n",
            "  inflating: data/train/100056/image/1-111.png  \n",
            "  inflating: data/train/100056/image/1-112.png  \n",
            "  inflating: data/train/100056/image/1-113.png  \n",
            "  inflating: data/train/100056/image/1-114.png  \n",
            "  inflating: data/train/100056/image/1-115.png  \n",
            "  inflating: data/train/100056/image/1-116.png  \n",
            "  inflating: data/train/100056/image/1-117.png  \n",
            "  inflating: data/train/100056/image/1-118.png  \n",
            "  inflating: data/train/100056/image/1-119.png  \n",
            "  inflating: data/train/100056/image/1-120.png  \n",
            "  inflating: data/train/100056/image/1-121.png  \n",
            "  inflating: data/train/100056/image/1-122.png  \n",
            "  inflating: data/train/100056/image/1-123.png  \n",
            "  inflating: data/train/100056/image/1-124.png  \n",
            "  inflating: data/train/100056/image/1-125.png  \n",
            "  inflating: data/train/100056/image/1-126.png  \n",
            "  inflating: data/train/100056/image/1-127.png  \n",
            "  inflating: data/train/100056/image/1-128.png  \n",
            "  inflating: data/train/100056/image/1-129.png  \n",
            "  inflating: data/train/100056/image/1-130.png  \n",
            "  inflating: data/train/100056/image/1-131.png  \n",
            "  inflating: data/train/100056/image/1-132.png  \n",
            "  inflating: data/train/100056/mask/1-001.png  \n",
            "  inflating: data/train/100056/mask/1-002.png  \n",
            "  inflating: data/train/100056/mask/1-003.png  \n",
            "  inflating: data/train/100056/mask/1-004.png  \n",
            "  inflating: data/train/100056/mask/1-005.png  \n",
            "  inflating: data/train/100056/mask/1-006.png  \n",
            "  inflating: data/train/100056/mask/1-007.png  \n",
            "  inflating: data/train/100056/mask/1-008.png  \n",
            "  inflating: data/train/100056/mask/1-009.png  \n",
            "  inflating: data/train/100056/mask/1-010.png  \n",
            "  inflating: data/train/100056/mask/1-011.png  \n",
            "  inflating: data/train/100056/mask/1-012.png  \n",
            "  inflating: data/train/100056/mask/1-013.png  \n",
            "  inflating: data/train/100056/mask/1-014.png  \n",
            "  inflating: data/train/100056/mask/1-015.png  \n",
            "  inflating: data/train/100056/mask/1-016.png  \n",
            "  inflating: data/train/100056/mask/1-017.png  \n",
            "  inflating: data/train/100056/mask/1-018.png  \n",
            "  inflating: data/train/100056/mask/1-019.png  \n",
            "  inflating: data/train/100056/mask/1-020.png  \n",
            "  inflating: data/train/100056/mask/1-021.png  \n",
            "  inflating: data/train/100056/mask/1-022.png  \n",
            "  inflating: data/train/100056/mask/1-023.png  \n",
            "  inflating: data/train/100056/mask/1-024.png  \n",
            "  inflating: data/train/100056/mask/1-025.png  \n",
            "  inflating: data/train/100056/mask/1-026.png  \n",
            "  inflating: data/train/100056/mask/1-027.png  \n",
            "  inflating: data/train/100056/mask/1-028.png  \n",
            "  inflating: data/train/100056/mask/1-029.png  \n",
            "  inflating: data/train/100056/mask/1-030.png  \n",
            "  inflating: data/train/100056/mask/1-031.png  \n",
            "  inflating: data/train/100056/mask/1-032.png  \n",
            "  inflating: data/train/100056/mask/1-033.png  \n",
            "  inflating: data/train/100056/mask/1-034.png  \n",
            "  inflating: data/train/100056/mask/1-035.png  \n",
            "  inflating: data/train/100056/mask/1-036.png  \n",
            "  inflating: data/train/100056/mask/1-037.png  \n",
            "  inflating: data/train/100056/mask/1-038.png  \n",
            "  inflating: data/train/100056/mask/1-039.png  \n",
            "  inflating: data/train/100056/mask/1-040.png  \n",
            "  inflating: data/train/100056/mask/1-041.png  \n",
            "  inflating: data/train/100056/mask/1-042.png  \n",
            "  inflating: data/train/100056/mask/1-043.png  \n",
            "  inflating: data/train/100056/mask/1-044.png  \n",
            "  inflating: data/train/100056/mask/1-045.png  \n",
            "  inflating: data/train/100056/mask/1-046.png  \n",
            "  inflating: data/train/100056/mask/1-047.png  \n",
            "  inflating: data/train/100056/mask/1-048.png  \n",
            "  inflating: data/train/100056/mask/1-049.png  \n",
            "  inflating: data/train/100056/mask/1-050.png  \n",
            "  inflating: data/train/100056/mask/1-051.png  \n",
            "  inflating: data/train/100056/mask/1-052.png  \n",
            "  inflating: data/train/100056/mask/1-053.png  \n",
            "  inflating: data/train/100056/mask/1-054.png  \n",
            "  inflating: data/train/100056/mask/1-055.png  \n",
            "  inflating: data/train/100056/mask/1-056.png  \n",
            "  inflating: data/train/100056/mask/1-057.png  \n",
            "  inflating: data/train/100056/mask/1-058.png  \n",
            "  inflating: data/train/100056/mask/1-059.png  \n",
            "  inflating: data/train/100056/mask/1-060.png  \n",
            "  inflating: data/train/100056/mask/1-061.png  \n",
            "  inflating: data/train/100056/mask/1-062.png  \n",
            "  inflating: data/train/100056/mask/1-063.png  \n",
            "  inflating: data/train/100056/mask/1-064.png  \n",
            "  inflating: data/train/100056/mask/1-065.png  \n",
            "  inflating: data/train/100056/mask/1-066.png  \n",
            "  inflating: data/train/100056/mask/1-067.png  \n",
            "  inflating: data/train/100056/mask/1-068.png  \n",
            "  inflating: data/train/100056/mask/1-069.png  \n",
            "  inflating: data/train/100056/mask/1-070.png  \n",
            "  inflating: data/train/100056/mask/1-071.png  \n",
            "  inflating: data/train/100056/mask/1-072.png  \n",
            "  inflating: data/train/100056/mask/1-073.png  \n",
            "  inflating: data/train/100056/mask/1-074.png  \n",
            "  inflating: data/train/100056/mask/1-075.png  \n",
            "  inflating: data/train/100056/mask/1-076.png  \n",
            "  inflating: data/train/100056/mask/1-077.png  \n",
            "  inflating: data/train/100056/mask/1-078.png  \n",
            "  inflating: data/train/100056/mask/1-079.png  \n",
            "  inflating: data/train/100056/mask/1-080.png  \n",
            "  inflating: data/train/100056/mask/1-081.png  \n",
            "  inflating: data/train/100056/mask/1-082.png  \n",
            "  inflating: data/train/100056/mask/1-083.png  \n",
            "  inflating: data/train/100056/mask/1-084.png  \n",
            "  inflating: data/train/100056/mask/1-085.png  \n",
            "  inflating: data/train/100056/mask/1-086.png  \n",
            "  inflating: data/train/100056/mask/1-087.png  \n",
            "  inflating: data/train/100056/mask/1-088.png  \n",
            "  inflating: data/train/100056/mask/1-089.png  \n",
            "  inflating: data/train/100056/mask/1-090.png  \n",
            "  inflating: data/train/100056/mask/1-091.png  \n",
            "  inflating: data/train/100056/mask/1-092.png  \n",
            "  inflating: data/train/100056/mask/1-093.png  \n",
            "  inflating: data/train/100056/mask/1-094.png  \n",
            "  inflating: data/train/100056/mask/1-095.png  \n",
            "  inflating: data/train/100056/mask/1-096.png  \n",
            "  inflating: data/train/100056/mask/1-097.png  \n",
            "  inflating: data/train/100056/mask/1-098.png  \n",
            "  inflating: data/train/100056/mask/1-099.png  \n",
            "  inflating: data/train/100056/mask/1-100.png  \n",
            "  inflating: data/train/100056/mask/1-101.png  \n",
            "  inflating: data/train/100056/mask/1-102.png  \n",
            "  inflating: data/train/100056/mask/1-103.png  \n",
            "  inflating: data/train/100056/mask/1-104.png  \n",
            "  inflating: data/train/100056/mask/1-105.png  \n",
            "  inflating: data/train/100056/mask/1-106.png  \n",
            "  inflating: data/train/100056/mask/1-107.png  \n",
            "  inflating: data/train/100056/mask/1-108.png  \n",
            "  inflating: data/train/100056/mask/1-109.png  \n",
            "  inflating: data/train/100056/mask/1-110.png  \n",
            "  inflating: data/train/100056/mask/1-111.png  \n",
            "  inflating: data/train/100056/mask/1-112.png  \n",
            "  inflating: data/train/100056/mask/1-113.png  \n",
            "  inflating: data/train/100056/mask/1-114.png  \n",
            "  inflating: data/train/100056/mask/1-115.png  \n",
            "  inflating: data/train/100056/mask/1-116.png  \n",
            "  inflating: data/train/100056/mask/1-117.png  \n",
            "  inflating: data/train/100056/mask/1-118.png  \n",
            "  inflating: data/train/100056/mask/1-119.png  \n",
            "  inflating: data/train/100056/mask/1-120.png  \n",
            "  inflating: data/train/100056/mask/1-121.png  \n",
            "  inflating: data/train/100056/mask/1-122.png  \n",
            "  inflating: data/train/100056/mask/1-123.png  \n",
            "  inflating: data/train/100056/mask/1-124.png  \n",
            "  inflating: data/train/100056/mask/1-125.png  \n",
            "  inflating: data/train/100056/mask/1-126.png  \n",
            "  inflating: data/train/100056/mask/1-127.png  \n",
            "  inflating: data/train/100056/mask/1-128.png  \n",
            "  inflating: data/train/100056/mask/1-129.png  \n",
            "  inflating: data/train/100056/mask/1-130.png  \n",
            "  inflating: data/train/100056/mask/1-131.png  \n",
            "  inflating: data/train/100056/mask/1-132.png  \n",
            "  inflating: data/train/100058/image/1-001.png  \n",
            "  inflating: data/train/100058/image/1-002.png  \n",
            "  inflating: data/train/100058/image/1-003.png  \n",
            "  inflating: data/train/100058/image/1-004.png  \n",
            "  inflating: data/train/100058/image/1-005.png  \n",
            "  inflating: data/train/100058/image/1-006.png  \n",
            "  inflating: data/train/100058/image/1-007.png  \n",
            "  inflating: data/train/100058/image/1-008.png  \n",
            "  inflating: data/train/100058/image/1-009.png  \n",
            "  inflating: data/train/100058/image/1-010.png  \n",
            "  inflating: data/train/100058/image/1-011.png  \n",
            "  inflating: data/train/100058/image/1-012.png  \n",
            "  inflating: data/train/100058/image/1-013.png  \n",
            "  inflating: data/train/100058/image/1-014.png  \n",
            "  inflating: data/train/100058/image/1-015.png  \n",
            "  inflating: data/train/100058/image/1-016.png  \n",
            "  inflating: data/train/100058/image/1-017.png  \n",
            "  inflating: data/train/100058/image/1-018.png  \n",
            "  inflating: data/train/100058/image/1-019.png  \n",
            "  inflating: data/train/100058/image/1-020.png  \n",
            "  inflating: data/train/100058/image/1-021.png  \n",
            "  inflating: data/train/100058/image/1-022.png  \n",
            "  inflating: data/train/100058/image/1-023.png  \n",
            "  inflating: data/train/100058/image/1-024.png  \n",
            "  inflating: data/train/100058/image/1-025.png  \n",
            "  inflating: data/train/100058/image/1-026.png  \n",
            "  inflating: data/train/100058/image/1-027.png  \n",
            "  inflating: data/train/100058/image/1-028.png  \n",
            "  inflating: data/train/100058/image/1-029.png  \n",
            "  inflating: data/train/100058/image/1-030.png  \n",
            "  inflating: data/train/100058/image/1-031.png  \n",
            "  inflating: data/train/100058/image/1-032.png  \n",
            "  inflating: data/train/100058/image/1-033.png  \n",
            "  inflating: data/train/100058/image/1-034.png  \n",
            "  inflating: data/train/100058/image/1-035.png  \n",
            "  inflating: data/train/100058/image/1-036.png  \n",
            "  inflating: data/train/100058/image/1-037.png  \n",
            "  inflating: data/train/100058/image/1-038.png  \n",
            "  inflating: data/train/100058/image/1-039.png  \n",
            "  inflating: data/train/100058/image/1-040.png  \n",
            "  inflating: data/train/100058/image/1-041.png  \n",
            "  inflating: data/train/100058/image/1-042.png  \n",
            "  inflating: data/train/100058/image/1-043.png  \n",
            "  inflating: data/train/100058/image/1-044.png  \n",
            "  inflating: data/train/100058/image/1-045.png  \n",
            "  inflating: data/train/100058/image/1-046.png  \n",
            "  inflating: data/train/100058/image/1-047.png  \n",
            "  inflating: data/train/100058/image/1-048.png  \n",
            "  inflating: data/train/100058/image/1-049.png  \n",
            "  inflating: data/train/100058/image/1-050.png  \n",
            "  inflating: data/train/100058/image/1-051.png  \n",
            "  inflating: data/train/100058/image/1-052.png  \n",
            "  inflating: data/train/100058/image/1-053.png  \n",
            "  inflating: data/train/100058/image/1-054.png  \n",
            "  inflating: data/train/100058/image/1-055.png  \n",
            "  inflating: data/train/100058/image/1-056.png  \n",
            "  inflating: data/train/100058/image/1-057.png  \n",
            "  inflating: data/train/100058/image/1-058.png  \n",
            "  inflating: data/train/100058/image/1-059.png  \n",
            "  inflating: data/train/100058/image/1-060.png  \n",
            "  inflating: data/train/100058/image/1-061.png  \n",
            "  inflating: data/train/100058/image/1-062.png  \n",
            "  inflating: data/train/100058/image/1-063.png  \n",
            "  inflating: data/train/100058/image/1-064.png  \n",
            "  inflating: data/train/100058/image/1-065.png  \n",
            "  inflating: data/train/100058/image/1-066.png  \n",
            "  inflating: data/train/100058/image/1-067.png  \n",
            "  inflating: data/train/100058/image/1-068.png  \n",
            "  inflating: data/train/100058/image/1-069.png  \n",
            "  inflating: data/train/100058/image/1-070.png  \n",
            "  inflating: data/train/100058/image/1-071.png  \n",
            "  inflating: data/train/100058/image/1-072.png  \n",
            "  inflating: data/train/100058/image/1-073.png  \n",
            "  inflating: data/train/100058/image/1-074.png  \n",
            "  inflating: data/train/100058/image/1-075.png  \n",
            "  inflating: data/train/100058/image/1-076.png  \n",
            "  inflating: data/train/100058/image/1-077.png  \n",
            "  inflating: data/train/100058/image/1-078.png  \n",
            "  inflating: data/train/100058/image/1-079.png  \n",
            "  inflating: data/train/100058/image/1-080.png  \n",
            "  inflating: data/train/100058/image/1-081.png  \n",
            "  inflating: data/train/100058/image/1-082.png  \n",
            "  inflating: data/train/100058/image/1-083.png  \n",
            "  inflating: data/train/100058/image/1-084.png  \n",
            "  inflating: data/train/100058/image/1-085.png  \n",
            "  inflating: data/train/100058/image/1-086.png  \n",
            "  inflating: data/train/100058/image/1-087.png  \n",
            "  inflating: data/train/100058/image/1-088.png  \n",
            "  inflating: data/train/100058/image/1-089.png  \n",
            "  inflating: data/train/100058/image/1-090.png  \n",
            "  inflating: data/train/100058/image/1-091.png  \n",
            "  inflating: data/train/100058/image/1-092.png  \n",
            "  inflating: data/train/100058/image/1-093.png  \n",
            "  inflating: data/train/100058/image/1-094.png  \n",
            "  inflating: data/train/100058/image/1-095.png  \n",
            "  inflating: data/train/100058/image/1-096.png  \n",
            "  inflating: data/train/100058/image/1-097.png  \n",
            "  inflating: data/train/100058/image/1-098.png  \n",
            "  inflating: data/train/100058/image/1-099.png  \n",
            "  inflating: data/train/100058/image/1-100.png  \n",
            "  inflating: data/train/100058/image/1-101.png  \n",
            "  inflating: data/train/100058/image/1-102.png  \n",
            "  inflating: data/train/100058/image/1-103.png  \n",
            "  inflating: data/train/100058/image/1-104.png  \n",
            "  inflating: data/train/100058/image/1-105.png  \n",
            "  inflating: data/train/100058/image/1-106.png  \n",
            "  inflating: data/train/100058/image/1-107.png  \n",
            "  inflating: data/train/100058/image/1-108.png  \n",
            "  inflating: data/train/100058/image/1-109.png  \n",
            "  inflating: data/train/100058/image/1-110.png  \n",
            "  inflating: data/train/100058/image/1-111.png  \n",
            "  inflating: data/train/100058/image/1-112.png  \n",
            "  inflating: data/train/100058/image/1-113.png  \n",
            "  inflating: data/train/100058/image/1-114.png  \n",
            "  inflating: data/train/100058/image/1-115.png  \n",
            "  inflating: data/train/100058/image/1-116.png  \n",
            "  inflating: data/train/100058/image/1-117.png  \n",
            "  inflating: data/train/100058/image/1-118.png  \n",
            "  inflating: data/train/100058/image/1-119.png  \n",
            "  inflating: data/train/100058/image/1-120.png  \n",
            "  inflating: data/train/100058/image/1-121.png  \n",
            "  inflating: data/train/100058/image/1-122.png  \n",
            "  inflating: data/train/100058/image/1-123.png  \n",
            "  inflating: data/train/100058/image/1-124.png  \n",
            "  inflating: data/train/100058/image/1-125.png  \n",
            "  inflating: data/train/100058/image/1-126.png  \n",
            "  inflating: data/train/100058/image/1-127.png  \n",
            "  inflating: data/train/100058/image/1-128.png  \n",
            "  inflating: data/train/100058/image/1-129.png  \n",
            "  inflating: data/train/100058/image/1-130.png  \n",
            "  inflating: data/train/100058/image/1-131.png  \n",
            "  inflating: data/train/100058/image/1-132.png  \n",
            "  inflating: data/train/100058/image/1-133.png  \n",
            "  inflating: data/train/100058/image/1-134.png  \n",
            "  inflating: data/train/100058/image/1-135.png  \n",
            "  inflating: data/train/100058/image/1-136.png  \n",
            "  inflating: data/train/100058/image/1-137.png  \n",
            "  inflating: data/train/100058/image/1-138.png  \n",
            "  inflating: data/train/100058/image/1-139.png  \n",
            "  inflating: data/train/100058/image/1-140.png  \n",
            "  inflating: data/train/100058/image/1-141.png  \n",
            "  inflating: data/train/100058/image/1-142.png  \n",
            "  inflating: data/train/100058/image/1-143.png  \n",
            "  inflating: data/train/100058/image/1-144.png  \n",
            "  inflating: data/train/100058/image/1-145.png  \n",
            "  inflating: data/train/100058/image/1-146.png  \n",
            "  inflating: data/train/100058/image/1-147.png  \n",
            "  inflating: data/train/100058/image/1-148.png  \n",
            "  inflating: data/train/100058/mask/1-001.png  \n",
            "  inflating: data/train/100058/mask/1-002.png  \n",
            "  inflating: data/train/100058/mask/1-003.png  \n",
            "  inflating: data/train/100058/mask/1-004.png  \n",
            "  inflating: data/train/100058/mask/1-005.png  \n",
            "  inflating: data/train/100058/mask/1-006.png  \n",
            "  inflating: data/train/100058/mask/1-007.png  \n",
            "  inflating: data/train/100058/mask/1-008.png  \n",
            "  inflating: data/train/100058/mask/1-009.png  \n",
            "  inflating: data/train/100058/mask/1-010.png  \n",
            "  inflating: data/train/100058/mask/1-011.png  \n",
            "  inflating: data/train/100058/mask/1-012.png  \n",
            "  inflating: data/train/100058/mask/1-013.png  \n",
            "  inflating: data/train/100058/mask/1-014.png  \n",
            "  inflating: data/train/100058/mask/1-015.png  \n",
            "  inflating: data/train/100058/mask/1-016.png  \n",
            "  inflating: data/train/100058/mask/1-017.png  \n",
            "  inflating: data/train/100058/mask/1-018.png  \n",
            "  inflating: data/train/100058/mask/1-019.png  \n",
            "  inflating: data/train/100058/mask/1-020.png  \n",
            "  inflating: data/train/100058/mask/1-021.png  \n",
            "  inflating: data/train/100058/mask/1-022.png  \n",
            "  inflating: data/train/100058/mask/1-023.png  \n",
            "  inflating: data/train/100058/mask/1-024.png  \n",
            "  inflating: data/train/100058/mask/1-025.png  \n",
            "  inflating: data/train/100058/mask/1-026.png  \n",
            "  inflating: data/train/100058/mask/1-027.png  \n",
            "  inflating: data/train/100058/mask/1-028.png  \n",
            "  inflating: data/train/100058/mask/1-029.png  \n",
            "  inflating: data/train/100058/mask/1-030.png  \n",
            "  inflating: data/train/100058/mask/1-031.png  \n",
            "  inflating: data/train/100058/mask/1-032.png  \n",
            "  inflating: data/train/100058/mask/1-033.png  \n",
            "  inflating: data/train/100058/mask/1-034.png  \n",
            "  inflating: data/train/100058/mask/1-035.png  \n",
            "  inflating: data/train/100058/mask/1-036.png  \n",
            "  inflating: data/train/100058/mask/1-037.png  \n",
            "  inflating: data/train/100058/mask/1-038.png  \n",
            "  inflating: data/train/100058/mask/1-039.png  \n",
            "  inflating: data/train/100058/mask/1-040.png  \n",
            "  inflating: data/train/100058/mask/1-041.png  \n",
            "  inflating: data/train/100058/mask/1-042.png  \n",
            "  inflating: data/train/100058/mask/1-043.png  \n",
            "  inflating: data/train/100058/mask/1-044.png  \n",
            "  inflating: data/train/100058/mask/1-045.png  \n",
            "  inflating: data/train/100058/mask/1-046.png  \n",
            "  inflating: data/train/100058/mask/1-047.png  \n",
            "  inflating: data/train/100058/mask/1-048.png  \n",
            "  inflating: data/train/100058/mask/1-049.png  \n",
            "  inflating: data/train/100058/mask/1-050.png  \n",
            "  inflating: data/train/100058/mask/1-051.png  \n",
            "  inflating: data/train/100058/mask/1-052.png  \n",
            "  inflating: data/train/100058/mask/1-053.png  \n",
            "  inflating: data/train/100058/mask/1-054.png  \n",
            "  inflating: data/train/100058/mask/1-055.png  \n",
            "  inflating: data/train/100058/mask/1-056.png  \n",
            "  inflating: data/train/100058/mask/1-057.png  \n",
            "  inflating: data/train/100058/mask/1-058.png  \n",
            "  inflating: data/train/100058/mask/1-059.png  \n",
            "  inflating: data/train/100058/mask/1-060.png  \n",
            "  inflating: data/train/100058/mask/1-061.png  \n",
            "  inflating: data/train/100058/mask/1-062.png  \n",
            "  inflating: data/train/100058/mask/1-063.png  \n",
            "  inflating: data/train/100058/mask/1-064.png  \n",
            "  inflating: data/train/100058/mask/1-065.png  \n",
            "  inflating: data/train/100058/mask/1-066.png  \n",
            "  inflating: data/train/100058/mask/1-067.png  \n",
            "  inflating: data/train/100058/mask/1-068.png  \n",
            "  inflating: data/train/100058/mask/1-069.png  \n",
            "  inflating: data/train/100058/mask/1-070.png  \n",
            "  inflating: data/train/100058/mask/1-071.png  \n",
            "  inflating: data/train/100058/mask/1-072.png  \n",
            "  inflating: data/train/100058/mask/1-073.png  \n",
            "  inflating: data/train/100058/mask/1-074.png  \n",
            "  inflating: data/train/100058/mask/1-075.png  \n",
            "  inflating: data/train/100058/mask/1-076.png  \n",
            "  inflating: data/train/100058/mask/1-077.png  \n",
            "  inflating: data/train/100058/mask/1-078.png  \n",
            "  inflating: data/train/100058/mask/1-079.png  \n",
            "  inflating: data/train/100058/mask/1-080.png  \n",
            "  inflating: data/train/100058/mask/1-081.png  \n",
            "  inflating: data/train/100058/mask/1-082.png  \n",
            "  inflating: data/train/100058/mask/1-083.png  \n",
            "  inflating: data/train/100058/mask/1-084.png  \n",
            "  inflating: data/train/100058/mask/1-085.png  \n",
            "  inflating: data/train/100058/mask/1-086.png  \n",
            "  inflating: data/train/100058/mask/1-087.png  \n",
            "  inflating: data/train/100058/mask/1-088.png  \n",
            "  inflating: data/train/100058/mask/1-089.png  \n",
            "  inflating: data/train/100058/mask/1-090.png  \n",
            "  inflating: data/train/100058/mask/1-091.png  \n",
            "  inflating: data/train/100058/mask/1-092.png  \n",
            "  inflating: data/train/100058/mask/1-093.png  \n",
            "  inflating: data/train/100058/mask/1-094.png  \n",
            "  inflating: data/train/100058/mask/1-095.png  \n",
            "  inflating: data/train/100058/mask/1-096.png  \n",
            "  inflating: data/train/100058/mask/1-097.png  \n",
            "  inflating: data/train/100058/mask/1-098.png  \n",
            "  inflating: data/train/100058/mask/1-099.png  \n",
            "  inflating: data/train/100058/mask/1-100.png  \n",
            "  inflating: data/train/100058/mask/1-101.png  \n",
            "  inflating: data/train/100058/mask/1-102.png  \n",
            "  inflating: data/train/100058/mask/1-103.png  \n",
            "  inflating: data/train/100058/mask/1-104.png  \n",
            "  inflating: data/train/100058/mask/1-105.png  \n",
            "  inflating: data/train/100058/mask/1-106.png  \n",
            "  inflating: data/train/100058/mask/1-107.png  \n",
            "  inflating: data/train/100058/mask/1-108.png  \n",
            "  inflating: data/train/100058/mask/1-109.png  \n",
            "  inflating: data/train/100058/mask/1-110.png  \n",
            "  inflating: data/train/100058/mask/1-111.png  \n",
            "  inflating: data/train/100058/mask/1-112.png  \n",
            "  inflating: data/train/100058/mask/1-113.png  \n",
            "  inflating: data/train/100058/mask/1-114.png  \n",
            "  inflating: data/train/100058/mask/1-115.png  \n",
            "  inflating: data/train/100058/mask/1-116.png  \n",
            "  inflating: data/train/100058/mask/1-117.png  \n",
            "  inflating: data/train/100058/mask/1-118.png  \n",
            "  inflating: data/train/100058/mask/1-119.png  \n",
            "  inflating: data/train/100058/mask/1-120.png  \n",
            "  inflating: data/train/100058/mask/1-121.png  \n",
            "  inflating: data/train/100058/mask/1-122.png  \n",
            "  inflating: data/train/100058/mask/1-123.png  \n",
            "  inflating: data/train/100058/mask/1-124.png  \n",
            "  inflating: data/train/100058/mask/1-125.png  \n",
            "  inflating: data/train/100058/mask/1-126.png  \n",
            "  inflating: data/train/100058/mask/1-127.png  \n",
            "  inflating: data/train/100058/mask/1-128.png  \n",
            "  inflating: data/train/100058/mask/1-129.png  \n",
            "  inflating: data/train/100058/mask/1-130.png  \n",
            "  inflating: data/train/100058/mask/1-131.png  \n",
            "  inflating: data/train/100058/mask/1-132.png  \n",
            "  inflating: data/train/100058/mask/1-133.png  \n",
            "  inflating: data/train/100058/mask/1-134.png  \n",
            "  inflating: data/train/100058/mask/1-135.png  \n",
            "  inflating: data/train/100058/mask/1-136.png  \n",
            "  inflating: data/train/100058/mask/1-137.png  \n",
            "  inflating: data/train/100058/mask/1-138.png  \n",
            "  inflating: data/train/100058/mask/1-139.png  \n",
            "  inflating: data/train/100058/mask/1-140.png  \n",
            "  inflating: data/train/100058/mask/1-141.png  \n",
            "  inflating: data/train/100058/mask/1-142.png  \n",
            "  inflating: data/train/100058/mask/1-143.png  \n",
            "  inflating: data/train/100058/mask/1-144.png  \n",
            "  inflating: data/train/100058/mask/1-145.png  \n",
            "  inflating: data/train/100058/mask/1-146.png  \n",
            "  inflating: data/train/100058/mask/1-147.png  \n",
            "  inflating: data/train/100058/mask/1-148.png  \n",
            "  inflating: data/train/100065/image/1-001.png  \n",
            "  inflating: data/train/100065/image/1-002.png  \n",
            "  inflating: data/train/100065/image/1-003.png  \n",
            "  inflating: data/train/100065/image/1-004.png  \n",
            "  inflating: data/train/100065/image/1-005.png  \n",
            "  inflating: data/train/100065/image/1-006.png  \n",
            "  inflating: data/train/100065/image/1-007.png  \n",
            "  inflating: data/train/100065/image/1-008.png  \n",
            "  inflating: data/train/100065/image/1-009.png  \n",
            "  inflating: data/train/100065/image/1-010.png  \n",
            "  inflating: data/train/100065/image/1-011.png  \n",
            "  inflating: data/train/100065/image/1-012.png  \n",
            "  inflating: data/train/100065/image/1-013.png  \n",
            "  inflating: data/train/100065/image/1-014.png  \n",
            "  inflating: data/train/100065/image/1-015.png  \n",
            "  inflating: data/train/100065/image/1-016.png  \n",
            "  inflating: data/train/100065/image/1-017.png  \n",
            "  inflating: data/train/100065/image/1-018.png  \n",
            "  inflating: data/train/100065/image/1-019.png  \n",
            "  inflating: data/train/100065/image/1-020.png  \n",
            "  inflating: data/train/100065/image/1-021.png  \n",
            "  inflating: data/train/100065/image/1-022.png  \n",
            "  inflating: data/train/100065/image/1-023.png  \n",
            "  inflating: data/train/100065/image/1-024.png  \n",
            "  inflating: data/train/100065/image/1-025.png  \n",
            "  inflating: data/train/100065/image/1-026.png  \n",
            "  inflating: data/train/100065/image/1-027.png  \n",
            "  inflating: data/train/100065/image/1-028.png  \n",
            "  inflating: data/train/100065/image/1-029.png  \n",
            "  inflating: data/train/100065/image/1-030.png  \n",
            "  inflating: data/train/100065/image/1-031.png  \n",
            "  inflating: data/train/100065/image/1-032.png  \n",
            "  inflating: data/train/100065/image/1-033.png  \n",
            "  inflating: data/train/100065/image/1-034.png  \n",
            "  inflating: data/train/100065/image/1-035.png  \n",
            "  inflating: data/train/100065/image/1-036.png  \n",
            "  inflating: data/train/100065/image/1-037.png  \n",
            "  inflating: data/train/100065/image/1-038.png  \n",
            "  inflating: data/train/100065/image/1-039.png  \n",
            "  inflating: data/train/100065/image/1-040.png  \n",
            "  inflating: data/train/100065/image/1-041.png  \n",
            "  inflating: data/train/100065/image/1-042.png  \n",
            "  inflating: data/train/100065/image/1-043.png  \n",
            "  inflating: data/train/100065/image/1-044.png  \n",
            "  inflating: data/train/100065/image/1-045.png  \n",
            "  inflating: data/train/100065/image/1-046.png  \n",
            "  inflating: data/train/100065/image/1-047.png  \n",
            "  inflating: data/train/100065/image/1-048.png  \n",
            "  inflating: data/train/100065/image/1-049.png  \n",
            "  inflating: data/train/100065/image/1-050.png  \n",
            "  inflating: data/train/100065/image/1-051.png  \n",
            "  inflating: data/train/100065/image/1-052.png  \n",
            "  inflating: data/train/100065/image/1-053.png  \n",
            "  inflating: data/train/100065/image/1-054.png  \n",
            "  inflating: data/train/100065/image/1-055.png  \n",
            "  inflating: data/train/100065/image/1-056.png  \n",
            "  inflating: data/train/100065/image/1-057.png  \n",
            "  inflating: data/train/100065/image/1-058.png  \n",
            "  inflating: data/train/100065/image/1-059.png  \n",
            "  inflating: data/train/100065/image/1-060.png  \n",
            "  inflating: data/train/100065/image/1-061.png  \n",
            "  inflating: data/train/100065/image/1-062.png  \n",
            "  inflating: data/train/100065/image/1-063.png  \n",
            "  inflating: data/train/100065/image/1-064.png  \n",
            "  inflating: data/train/100065/image/1-065.png  \n",
            "  inflating: data/train/100065/image/1-066.png  \n",
            "  inflating: data/train/100065/image/1-067.png  \n",
            "  inflating: data/train/100065/image/1-068.png  \n",
            "  inflating: data/train/100065/image/1-069.png  \n",
            "  inflating: data/train/100065/image/1-070.png  \n",
            "  inflating: data/train/100065/image/1-071.png  \n",
            "  inflating: data/train/100065/image/1-072.png  \n",
            "  inflating: data/train/100065/image/1-073.png  \n",
            "  inflating: data/train/100065/image/1-074.png  \n",
            "  inflating: data/train/100065/image/1-075.png  \n",
            "  inflating: data/train/100065/image/1-076.png  \n",
            "  inflating: data/train/100065/image/1-077.png  \n",
            "  inflating: data/train/100065/image/1-078.png  \n",
            "  inflating: data/train/100065/image/1-079.png  \n",
            "  inflating: data/train/100065/image/1-080.png  \n",
            "  inflating: data/train/100065/image/1-081.png  \n",
            "  inflating: data/train/100065/image/1-082.png  \n",
            "  inflating: data/train/100065/image/1-083.png  \n",
            "  inflating: data/train/100065/image/1-084.png  \n",
            "  inflating: data/train/100065/image/1-085.png  \n",
            "  inflating: data/train/100065/image/1-086.png  \n",
            "  inflating: data/train/100065/image/1-087.png  \n",
            "  inflating: data/train/100065/image/1-088.png  \n",
            "  inflating: data/train/100065/image/1-089.png  \n",
            "  inflating: data/train/100065/image/1-090.png  \n",
            "  inflating: data/train/100065/image/1-091.png  \n",
            "  inflating: data/train/100065/image/1-092.png  \n",
            "  inflating: data/train/100065/image/1-093.png  \n",
            "  inflating: data/train/100065/image/1-094.png  \n",
            "  inflating: data/train/100065/image/1-095.png  \n",
            "  inflating: data/train/100065/image/1-096.png  \n",
            "  inflating: data/train/100065/image/1-097.png  \n",
            "  inflating: data/train/100065/image/1-098.png  \n",
            "  inflating: data/train/100065/image/1-099.png  \n",
            "  inflating: data/train/100065/image/1-100.png  \n",
            "  inflating: data/train/100065/image/1-101.png  \n",
            "  inflating: data/train/100065/image/1-102.png  \n",
            "  inflating: data/train/100065/image/1-103.png  \n",
            "  inflating: data/train/100065/image/1-104.png  \n",
            "  inflating: data/train/100065/image/1-105.png  \n",
            "  inflating: data/train/100065/image/1-106.png  \n",
            "  inflating: data/train/100065/image/1-107.png  \n",
            "  inflating: data/train/100065/image/1-108.png  \n",
            "  inflating: data/train/100065/image/1-109.png  \n",
            "  inflating: data/train/100065/image/1-110.png  \n",
            "  inflating: data/train/100065/image/1-111.png  \n",
            "  inflating: data/train/100065/image/1-112.png  \n",
            "  inflating: data/train/100065/image/1-113.png  \n",
            "  inflating: data/train/100065/image/1-114.png  \n",
            "  inflating: data/train/100065/image/1-115.png  \n",
            "  inflating: data/train/100065/image/1-116.png  \n",
            "  inflating: data/train/100065/image/1-117.png  \n",
            "  inflating: data/train/100065/image/1-118.png  \n",
            "  inflating: data/train/100065/image/1-119.png  \n",
            "  inflating: data/train/100065/image/1-120.png  \n",
            "  inflating: data/train/100065/image/1-121.png  \n",
            "  inflating: data/train/100065/image/1-122.png  \n",
            "  inflating: data/train/100065/mask/1-001.png  \n",
            "  inflating: data/train/100065/mask/1-002.png  \n",
            "  inflating: data/train/100065/mask/1-003.png  \n",
            "  inflating: data/train/100065/mask/1-004.png  \n",
            "  inflating: data/train/100065/mask/1-005.png  \n",
            "  inflating: data/train/100065/mask/1-006.png  \n",
            "  inflating: data/train/100065/mask/1-007.png  \n",
            "  inflating: data/train/100065/mask/1-008.png  \n",
            "  inflating: data/train/100065/mask/1-009.png  \n",
            "  inflating: data/train/100065/mask/1-010.png  \n",
            "  inflating: data/train/100065/mask/1-011.png  \n",
            "  inflating: data/train/100065/mask/1-012.png  \n",
            "  inflating: data/train/100065/mask/1-013.png  \n",
            "  inflating: data/train/100065/mask/1-014.png  \n",
            "  inflating: data/train/100065/mask/1-015.png  \n",
            "  inflating: data/train/100065/mask/1-016.png  \n",
            "  inflating: data/train/100065/mask/1-017.png  \n",
            "  inflating: data/train/100065/mask/1-018.png  \n",
            "  inflating: data/train/100065/mask/1-019.png  \n",
            "  inflating: data/train/100065/mask/1-020.png  \n",
            "  inflating: data/train/100065/mask/1-021.png  \n",
            "  inflating: data/train/100065/mask/1-022.png  \n",
            "  inflating: data/train/100065/mask/1-023.png  \n",
            "  inflating: data/train/100065/mask/1-024.png  \n",
            "  inflating: data/train/100065/mask/1-025.png  \n",
            "  inflating: data/train/100065/mask/1-026.png  \n",
            "  inflating: data/train/100065/mask/1-027.png  \n",
            "  inflating: data/train/100065/mask/1-028.png  \n",
            "  inflating: data/train/100065/mask/1-029.png  \n",
            "  inflating: data/train/100065/mask/1-030.png  \n",
            "  inflating: data/train/100065/mask/1-031.png  \n",
            "  inflating: data/train/100065/mask/1-032.png  \n",
            "  inflating: data/train/100065/mask/1-033.png  \n",
            "  inflating: data/train/100065/mask/1-034.png  \n",
            "  inflating: data/train/100065/mask/1-035.png  \n",
            "  inflating: data/train/100065/mask/1-036.png  \n",
            "  inflating: data/train/100065/mask/1-037.png  \n",
            "  inflating: data/train/100065/mask/1-038.png  \n",
            "  inflating: data/train/100065/mask/1-039.png  \n",
            "  inflating: data/train/100065/mask/1-040.png  \n",
            "  inflating: data/train/100065/mask/1-041.png  \n",
            "  inflating: data/train/100065/mask/1-042.png  \n",
            "  inflating: data/train/100065/mask/1-043.png  \n",
            "  inflating: data/train/100065/mask/1-044.png  \n",
            "  inflating: data/train/100065/mask/1-045.png  \n",
            "  inflating: data/train/100065/mask/1-046.png  \n",
            "  inflating: data/train/100065/mask/1-047.png  \n",
            "  inflating: data/train/100065/mask/1-048.png  \n",
            "  inflating: data/train/100065/mask/1-049.png  \n",
            "  inflating: data/train/100065/mask/1-050.png  \n",
            "  inflating: data/train/100065/mask/1-051.png  \n",
            "  inflating: data/train/100065/mask/1-052.png  \n",
            "  inflating: data/train/100065/mask/1-053.png  \n",
            "  inflating: data/train/100065/mask/1-054.png  \n",
            "  inflating: data/train/100065/mask/1-055.png  \n",
            "  inflating: data/train/100065/mask/1-056.png  \n",
            "  inflating: data/train/100065/mask/1-057.png  \n",
            "  inflating: data/train/100065/mask/1-058.png  \n",
            "  inflating: data/train/100065/mask/1-059.png  \n",
            "  inflating: data/train/100065/mask/1-060.png  \n",
            "  inflating: data/train/100065/mask/1-061.png  \n",
            "  inflating: data/train/100065/mask/1-062.png  \n",
            "  inflating: data/train/100065/mask/1-063.png  \n",
            "  inflating: data/train/100065/mask/1-064.png  \n",
            "  inflating: data/train/100065/mask/1-065.png  \n",
            "  inflating: data/train/100065/mask/1-066.png  \n",
            "  inflating: data/train/100065/mask/1-067.png  \n",
            "  inflating: data/train/100065/mask/1-068.png  \n",
            "  inflating: data/train/100065/mask/1-069.png  \n",
            "  inflating: data/train/100065/mask/1-070.png  \n",
            "  inflating: data/train/100065/mask/1-071.png  \n",
            "  inflating: data/train/100065/mask/1-072.png  \n",
            "  inflating: data/train/100065/mask/1-073.png  \n",
            "  inflating: data/train/100065/mask/1-074.png  \n",
            "  inflating: data/train/100065/mask/1-075.png  \n",
            "  inflating: data/train/100065/mask/1-076.png  \n",
            "  inflating: data/train/100065/mask/1-077.png  \n",
            "  inflating: data/train/100065/mask/1-078.png  \n",
            "  inflating: data/train/100065/mask/1-079.png  \n",
            "  inflating: data/train/100065/mask/1-080.png  \n",
            "  inflating: data/train/100065/mask/1-081.png  \n",
            "  inflating: data/train/100065/mask/1-082.png  \n",
            "  inflating: data/train/100065/mask/1-083.png  \n",
            "  inflating: data/train/100065/mask/1-084.png  \n",
            "  inflating: data/train/100065/mask/1-085.png  \n",
            "  inflating: data/train/100065/mask/1-086.png  \n",
            "  inflating: data/train/100065/mask/1-087.png  \n",
            "  inflating: data/train/100065/mask/1-088.png  \n",
            "  inflating: data/train/100065/mask/1-089.png  \n",
            "  inflating: data/train/100065/mask/1-090.png  \n",
            "  inflating: data/train/100065/mask/1-091.png  \n",
            "  inflating: data/train/100065/mask/1-092.png  \n",
            "  inflating: data/train/100065/mask/1-093.png  \n",
            "  inflating: data/train/100065/mask/1-094.png  \n",
            "  inflating: data/train/100065/mask/1-095.png  \n",
            "  inflating: data/train/100065/mask/1-096.png  \n",
            "  inflating: data/train/100065/mask/1-097.png  \n",
            "  inflating: data/train/100065/mask/1-098.png  \n",
            "  inflating: data/train/100065/mask/1-099.png  \n",
            "  inflating: data/train/100065/mask/1-100.png  \n",
            "  inflating: data/train/100065/mask/1-101.png  \n",
            "  inflating: data/train/100065/mask/1-102.png  \n",
            "  inflating: data/train/100065/mask/1-103.png  \n",
            "  inflating: data/train/100065/mask/1-104.png  \n",
            "  inflating: data/train/100065/mask/1-105.png  \n",
            "  inflating: data/train/100065/mask/1-106.png  \n",
            "  inflating: data/train/100065/mask/1-107.png  \n",
            "  inflating: data/train/100065/mask/1-108.png  \n",
            "  inflating: data/train/100065/mask/1-109.png  \n",
            "  inflating: data/train/100065/mask/1-110.png  \n",
            "  inflating: data/train/100065/mask/1-111.png  \n",
            "  inflating: data/train/100065/mask/1-112.png  \n",
            "  inflating: data/train/100065/mask/1-113.png  \n",
            "  inflating: data/train/100065/mask/1-114.png  \n",
            "  inflating: data/train/100065/mask/1-115.png  \n",
            "  inflating: data/train/100065/mask/1-116.png  \n",
            "  inflating: data/train/100065/mask/1-117.png  \n",
            "  inflating: data/train/100065/mask/1-118.png  \n",
            "  inflating: data/train/100065/mask/1-119.png  \n",
            "  inflating: data/train/100065/mask/1-120.png  \n",
            "  inflating: data/train/100065/mask/1-121.png  \n",
            "  inflating: data/train/100065/mask/1-122.png  \n",
            "  inflating: data/train/100067/image/1-001.png  \n",
            "  inflating: data/train/100067/image/1-002.png  \n",
            "  inflating: data/train/100067/image/1-003.png  \n",
            "  inflating: data/train/100067/image/1-004.png  \n",
            "  inflating: data/train/100067/image/1-005.png  \n",
            "  inflating: data/train/100067/image/1-006.png  \n",
            "  inflating: data/train/100067/image/1-007.png  \n",
            "  inflating: data/train/100067/image/1-008.png  \n",
            "  inflating: data/train/100067/image/1-009.png  \n",
            "  inflating: data/train/100067/image/1-010.png  \n",
            "  inflating: data/train/100067/image/1-011.png  \n",
            "  inflating: data/train/100067/image/1-012.png  \n",
            "  inflating: data/train/100067/image/1-013.png  \n",
            "  inflating: data/train/100067/image/1-014.png  \n",
            "  inflating: data/train/100067/image/1-015.png  \n",
            "  inflating: data/train/100067/image/1-016.png  \n",
            "  inflating: data/train/100067/image/1-017.png  \n",
            "  inflating: data/train/100067/image/1-018.png  \n",
            "  inflating: data/train/100067/image/1-019.png  \n",
            "  inflating: data/train/100067/image/1-020.png  \n",
            "  inflating: data/train/100067/image/1-021.png  \n",
            "  inflating: data/train/100067/image/1-022.png  \n",
            "  inflating: data/train/100067/image/1-023.png  \n",
            "  inflating: data/train/100067/image/1-024.png  \n",
            "  inflating: data/train/100067/image/1-025.png  \n",
            "  inflating: data/train/100067/image/1-026.png  \n",
            "  inflating: data/train/100067/image/1-027.png  \n",
            "  inflating: data/train/100067/image/1-028.png  \n",
            "  inflating: data/train/100067/image/1-029.png  \n",
            "  inflating: data/train/100067/image/1-030.png  \n",
            "  inflating: data/train/100067/image/1-031.png  \n",
            "  inflating: data/train/100067/image/1-032.png  \n",
            "  inflating: data/train/100067/image/1-033.png  \n",
            "  inflating: data/train/100067/image/1-034.png  \n",
            "  inflating: data/train/100067/image/1-035.png  \n",
            "  inflating: data/train/100067/image/1-036.png  \n",
            "  inflating: data/train/100067/image/1-037.png  \n",
            "  inflating: data/train/100067/image/1-038.png  \n",
            "  inflating: data/train/100067/image/1-039.png  \n",
            "  inflating: data/train/100067/image/1-040.png  \n",
            "  inflating: data/train/100067/image/1-041.png  \n",
            "  inflating: data/train/100067/image/1-042.png  \n",
            "  inflating: data/train/100067/image/1-043.png  \n",
            "  inflating: data/train/100067/image/1-044.png  \n",
            "  inflating: data/train/100067/image/1-045.png  \n",
            "  inflating: data/train/100067/image/1-046.png  \n",
            "  inflating: data/train/100067/image/1-047.png  \n",
            "  inflating: data/train/100067/image/1-048.png  \n",
            "  inflating: data/train/100067/image/1-049.png  \n",
            "  inflating: data/train/100067/image/1-050.png  \n",
            "  inflating: data/train/100067/image/1-051.png  \n",
            "  inflating: data/train/100067/image/1-052.png  \n",
            "  inflating: data/train/100067/image/1-053.png  \n",
            "  inflating: data/train/100067/image/1-054.png  \n",
            "  inflating: data/train/100067/image/1-055.png  \n",
            "  inflating: data/train/100067/image/1-056.png  \n",
            "  inflating: data/train/100067/image/1-057.png  \n",
            "  inflating: data/train/100067/image/1-058.png  \n",
            "  inflating: data/train/100067/image/1-059.png  \n",
            "  inflating: data/train/100067/image/1-060.png  \n",
            "  inflating: data/train/100067/image/1-061.png  \n",
            "  inflating: data/train/100067/image/1-062.png  \n",
            "  inflating: data/train/100067/image/1-063.png  \n",
            "  inflating: data/train/100067/image/1-064.png  \n",
            "  inflating: data/train/100067/image/1-065.png  \n",
            "  inflating: data/train/100067/image/1-066.png  \n",
            "  inflating: data/train/100067/image/1-067.png  \n",
            "  inflating: data/train/100067/image/1-068.png  \n",
            "  inflating: data/train/100067/image/1-069.png  \n",
            "  inflating: data/train/100067/image/1-070.png  \n",
            "  inflating: data/train/100067/image/1-071.png  \n",
            "  inflating: data/train/100067/image/1-072.png  \n",
            "  inflating: data/train/100067/image/1-073.png  \n",
            "  inflating: data/train/100067/image/1-074.png  \n",
            "  inflating: data/train/100067/image/1-075.png  \n",
            "  inflating: data/train/100067/image/1-076.png  \n",
            "  inflating: data/train/100067/image/1-077.png  \n",
            "  inflating: data/train/100067/image/1-078.png  \n",
            "  inflating: data/train/100067/image/1-079.png  \n",
            "  inflating: data/train/100067/image/1-080.png  \n",
            "  inflating: data/train/100067/image/1-081.png  \n",
            "  inflating: data/train/100067/image/1-082.png  \n",
            "  inflating: data/train/100067/image/1-083.png  \n",
            "  inflating: data/train/100067/image/1-084.png  \n",
            "  inflating: data/train/100067/image/1-085.png  \n",
            "  inflating: data/train/100067/image/1-086.png  \n",
            "  inflating: data/train/100067/image/1-087.png  \n",
            "  inflating: data/train/100067/image/1-088.png  \n",
            "  inflating: data/train/100067/image/1-089.png  \n",
            "  inflating: data/train/100067/image/1-090.png  \n",
            "  inflating: data/train/100067/image/1-091.png  \n",
            "  inflating: data/train/100067/image/1-092.png  \n",
            "  inflating: data/train/100067/image/1-093.png  \n",
            "  inflating: data/train/100067/image/1-094.png  \n",
            "  inflating: data/train/100067/image/1-095.png  \n",
            "  inflating: data/train/100067/image/1-096.png  \n",
            "  inflating: data/train/100067/image/1-097.png  \n",
            "  inflating: data/train/100067/image/1-098.png  \n",
            "  inflating: data/train/100067/image/1-099.png  \n",
            "  inflating: data/train/100067/image/1-100.png  \n",
            "  inflating: data/train/100067/image/1-101.png  \n",
            "  inflating: data/train/100067/image/1-102.png  \n",
            "  inflating: data/train/100067/image/1-103.png  \n",
            "  inflating: data/train/100067/image/1-104.png  \n",
            "  inflating: data/train/100067/image/1-105.png  \n",
            "  inflating: data/train/100067/image/1-106.png  \n",
            "  inflating: data/train/100067/image/1-107.png  \n",
            "  inflating: data/train/100067/image/1-108.png  \n",
            "  inflating: data/train/100067/image/1-109.png  \n",
            "  inflating: data/train/100067/image/1-110.png  \n",
            "  inflating: data/train/100067/image/1-111.png  \n",
            "  inflating: data/train/100067/image/1-112.png  \n",
            "  inflating: data/train/100067/image/1-113.png  \n",
            "  inflating: data/train/100067/image/1-114.png  \n",
            "  inflating: data/train/100067/image/1-115.png  \n",
            "  inflating: data/train/100067/image/1-116.png  \n",
            "  inflating: data/train/100067/image/1-117.png  \n",
            "  inflating: data/train/100067/image/1-118.png  \n",
            "  inflating: data/train/100067/image/1-119.png  \n",
            "  inflating: data/train/100067/image/1-120.png  \n",
            "  inflating: data/train/100067/image/1-121.png  \n",
            "  inflating: data/train/100067/image/1-122.png  \n",
            "  inflating: data/train/100067/image/1-123.png  \n",
            "  inflating: data/train/100067/image/2-001.png  \n",
            "  inflating: data/train/100067/image/2-002.png  \n",
            "  inflating: data/train/100067/image/2-003.png  \n",
            "  inflating: data/train/100067/image/2-004.png  \n",
            "  inflating: data/train/100067/image/2-005.png  \n",
            "  inflating: data/train/100067/image/2-006.png  \n",
            "  inflating: data/train/100067/image/2-007.png  \n",
            "  inflating: data/train/100067/image/3-001.png  \n",
            "  inflating: data/train/100067/image/3-002.png  \n",
            "  inflating: data/train/100067/image/3-003.png  \n",
            "  inflating: data/train/100067/image/3-004.png  \n",
            "  inflating: data/train/100067/image/3-005.png  \n",
            "  inflating: data/train/100067/image/3-006.png  \n",
            "  inflating: data/train/100067/image/3-007.png  \n",
            "  inflating: data/train/100067/mask/1-001.png  \n",
            "  inflating: data/train/100067/mask/1-002.png  \n",
            "  inflating: data/train/100067/mask/1-003.png  \n",
            "  inflating: data/train/100067/mask/1-004.png  \n",
            "  inflating: data/train/100067/mask/1-005.png  \n",
            "  inflating: data/train/100067/mask/1-006.png  \n",
            "  inflating: data/train/100067/mask/1-007.png  \n",
            "  inflating: data/train/100067/mask/1-008.png  \n",
            "  inflating: data/train/100067/mask/1-009.png  \n",
            "  inflating: data/train/100067/mask/1-010.png  \n",
            "  inflating: data/train/100067/mask/1-011.png  \n",
            "  inflating: data/train/100067/mask/1-012.png  \n",
            "  inflating: data/train/100067/mask/1-013.png  \n",
            "  inflating: data/train/100067/mask/1-014.png  \n",
            "  inflating: data/train/100067/mask/1-015.png  \n",
            "  inflating: data/train/100067/mask/1-016.png  \n",
            "  inflating: data/train/100067/mask/1-017.png  \n",
            "  inflating: data/train/100067/mask/1-018.png  \n",
            "  inflating: data/train/100067/mask/1-019.png  \n",
            "  inflating: data/train/100067/mask/1-020.png  \n",
            "  inflating: data/train/100067/mask/1-021.png  \n",
            "  inflating: data/train/100067/mask/1-022.png  \n",
            "  inflating: data/train/100067/mask/1-023.png  \n",
            "  inflating: data/train/100067/mask/1-024.png  \n",
            "  inflating: data/train/100067/mask/1-025.png  \n",
            "  inflating: data/train/100067/mask/1-026.png  \n",
            "  inflating: data/train/100067/mask/1-027.png  \n",
            "  inflating: data/train/100067/mask/1-028.png  \n",
            "  inflating: data/train/100067/mask/1-029.png  \n",
            "  inflating: data/train/100067/mask/1-030.png  \n",
            "  inflating: data/train/100067/mask/1-031.png  \n",
            "  inflating: data/train/100067/mask/1-032.png  \n",
            "  inflating: data/train/100067/mask/1-033.png  \n",
            "  inflating: data/train/100067/mask/1-034.png  \n",
            "  inflating: data/train/100067/mask/1-035.png  \n",
            "  inflating: data/train/100067/mask/1-036.png  \n",
            "  inflating: data/train/100067/mask/1-037.png  \n",
            "  inflating: data/train/100067/mask/1-038.png  \n",
            "  inflating: data/train/100067/mask/1-039.png  \n",
            "  inflating: data/train/100067/mask/1-040.png  \n",
            "  inflating: data/train/100067/mask/1-041.png  \n",
            "  inflating: data/train/100067/mask/1-042.png  \n",
            "  inflating: data/train/100067/mask/1-043.png  \n",
            "  inflating: data/train/100067/mask/1-044.png  \n",
            "  inflating: data/train/100067/mask/1-045.png  \n",
            "  inflating: data/train/100067/mask/1-046.png  \n",
            "  inflating: data/train/100067/mask/1-047.png  \n",
            "  inflating: data/train/100067/mask/1-048.png  \n",
            "  inflating: data/train/100067/mask/1-049.png  \n",
            "  inflating: data/train/100067/mask/1-050.png  \n",
            "  inflating: data/train/100067/mask/1-051.png  \n",
            "  inflating: data/train/100067/mask/1-052.png  \n",
            "  inflating: data/train/100067/mask/1-053.png  \n",
            "  inflating: data/train/100067/mask/1-054.png  \n",
            "  inflating: data/train/100067/mask/1-055.png  \n",
            "  inflating: data/train/100067/mask/1-056.png  \n",
            "  inflating: data/train/100067/mask/1-057.png  \n",
            "  inflating: data/train/100067/mask/1-058.png  \n",
            "  inflating: data/train/100067/mask/1-059.png  \n",
            "  inflating: data/train/100067/mask/1-060.png  \n",
            "  inflating: data/train/100067/mask/1-061.png  \n",
            "  inflating: data/train/100067/mask/1-062.png  \n",
            "  inflating: data/train/100067/mask/1-063.png  \n",
            "  inflating: data/train/100067/mask/1-064.png  \n",
            "  inflating: data/train/100067/mask/1-065.png  \n",
            "  inflating: data/train/100067/mask/1-066.png  \n",
            "  inflating: data/train/100067/mask/1-067.png  \n",
            "  inflating: data/train/100067/mask/1-068.png  \n",
            "  inflating: data/train/100067/mask/1-069.png  \n",
            "  inflating: data/train/100067/mask/1-070.png  \n",
            "  inflating: data/train/100067/mask/1-071.png  \n",
            "  inflating: data/train/100067/mask/1-072.png  \n",
            "  inflating: data/train/100067/mask/1-073.png  \n",
            "  inflating: data/train/100067/mask/1-074.png  \n",
            "  inflating: data/train/100067/mask/1-075.png  \n",
            "  inflating: data/train/100067/mask/1-076.png  \n",
            "  inflating: data/train/100067/mask/1-077.png  \n",
            "  inflating: data/train/100067/mask/1-078.png  \n",
            "  inflating: data/train/100067/mask/1-079.png  \n",
            "  inflating: data/train/100067/mask/1-080.png  \n",
            "  inflating: data/train/100067/mask/1-081.png  \n",
            "  inflating: data/train/100067/mask/1-082.png  \n",
            "  inflating: data/train/100067/mask/1-083.png  \n",
            "  inflating: data/train/100067/mask/1-084.png  \n",
            "  inflating: data/train/100067/mask/1-085.png  \n",
            "  inflating: data/train/100067/mask/1-086.png  \n",
            "  inflating: data/train/100067/mask/1-087.png  \n",
            "  inflating: data/train/100067/mask/1-088.png  \n",
            "  inflating: data/train/100067/mask/1-089.png  \n",
            "  inflating: data/train/100067/mask/1-090.png  \n",
            "  inflating: data/train/100067/mask/1-091.png  \n",
            "  inflating: data/train/100067/mask/1-092.png  \n",
            "  inflating: data/train/100067/mask/1-093.png  \n",
            "  inflating: data/train/100067/mask/1-094.png  \n",
            "  inflating: data/train/100067/mask/1-095.png  \n",
            "  inflating: data/train/100067/mask/1-096.png  \n",
            "  inflating: data/train/100067/mask/1-097.png  \n",
            "  inflating: data/train/100067/mask/1-098.png  \n",
            "  inflating: data/train/100067/mask/1-099.png  \n",
            "  inflating: data/train/100067/mask/1-100.png  \n",
            "  inflating: data/train/100067/mask/1-101.png  \n",
            "  inflating: data/train/100067/mask/1-102.png  \n",
            "  inflating: data/train/100067/mask/1-103.png  \n",
            "  inflating: data/train/100067/mask/1-104.png  \n",
            "  inflating: data/train/100067/mask/1-105.png  \n",
            "  inflating: data/train/100067/mask/1-106.png  \n",
            "  inflating: data/train/100067/mask/1-107.png  \n",
            "  inflating: data/train/100067/mask/1-108.png  \n",
            "  inflating: data/train/100067/mask/1-109.png  \n",
            "  inflating: data/train/100067/mask/1-110.png  \n",
            "  inflating: data/train/100067/mask/1-111.png  \n",
            "  inflating: data/train/100067/mask/1-112.png  \n",
            "  inflating: data/train/100067/mask/1-113.png  \n",
            "  inflating: data/train/100067/mask/1-114.png  \n",
            "  inflating: data/train/100067/mask/1-115.png  \n",
            "  inflating: data/train/100067/mask/1-116.png  \n",
            "  inflating: data/train/100067/mask/1-117.png  \n",
            "  inflating: data/train/100067/mask/1-118.png  \n",
            "  inflating: data/train/100067/mask/1-119.png  \n",
            "  inflating: data/train/100067/mask/1-120.png  \n",
            "  inflating: data/train/100067/mask/1-121.png  \n",
            "  inflating: data/train/100067/mask/1-122.png  \n",
            "  inflating: data/train/100067/mask/1-123.png  \n",
            "  inflating: data/train/100067/mask/2-001.png  \n",
            "  inflating: data/train/100067/mask/2-002.png  \n",
            "  inflating: data/train/100067/mask/2-003.png  \n",
            "  inflating: data/train/100067/mask/2-004.png  \n",
            "  inflating: data/train/100067/mask/2-005.png  \n",
            "  inflating: data/train/100067/mask/2-006.png  \n",
            "  inflating: data/train/100067/mask/2-007.png  \n",
            "  inflating: data/train/100067/mask/3-001.png  \n",
            "  inflating: data/train/100067/mask/3-002.png  \n",
            "  inflating: data/train/100067/mask/3-003.png  \n",
            "  inflating: data/train/100067/mask/3-004.png  \n",
            "  inflating: data/train/100067/mask/3-005.png  \n",
            "  inflating: data/train/100067/mask/3-006.png  \n",
            "  inflating: data/train/100067/mask/3-007.png  \n",
            "  inflating: data/train/100069/image/1-001.png  \n",
            "  inflating: data/train/100069/image/1-002.png  \n",
            "  inflating: data/train/100069/image/1-003.png  \n",
            "  inflating: data/train/100069/image/1-004.png  \n",
            "  inflating: data/train/100069/image/1-005.png  \n",
            "  inflating: data/train/100069/image/1-006.png  \n",
            "  inflating: data/train/100069/image/1-007.png  \n",
            "  inflating: data/train/100069/image/1-008.png  \n",
            "  inflating: data/train/100069/image/1-009.png  \n",
            "  inflating: data/train/100069/image/1-010.png  \n",
            "  inflating: data/train/100069/image/1-011.png  \n",
            "  inflating: data/train/100069/image/1-012.png  \n",
            "  inflating: data/train/100069/image/1-013.png  \n",
            "  inflating: data/train/100069/image/1-014.png  \n",
            "  inflating: data/train/100069/image/1-015.png  \n",
            "  inflating: data/train/100069/image/1-016.png  \n",
            "  inflating: data/train/100069/image/1-017.png  \n",
            "  inflating: data/train/100069/image/1-018.png  \n",
            "  inflating: data/train/100069/image/1-019.png  \n",
            "  inflating: data/train/100069/image/1-020.png  \n",
            "  inflating: data/train/100069/image/1-021.png  \n",
            "  inflating: data/train/100069/image/1-022.png  \n",
            "  inflating: data/train/100069/image/1-023.png  \n",
            "  inflating: data/train/100069/image/1-024.png  \n",
            "  inflating: data/train/100069/image/1-025.png  \n",
            "  inflating: data/train/100069/image/1-026.png  \n",
            "  inflating: data/train/100069/image/1-027.png  \n",
            "  inflating: data/train/100069/image/1-028.png  \n",
            "  inflating: data/train/100069/image/1-029.png  \n",
            "  inflating: data/train/100069/image/1-030.png  \n",
            "  inflating: data/train/100069/image/1-031.png  \n",
            "  inflating: data/train/100069/image/1-032.png  \n",
            "  inflating: data/train/100069/image/1-033.png  \n",
            "  inflating: data/train/100069/image/1-034.png  \n",
            "  inflating: data/train/100069/image/1-035.png  \n",
            "  inflating: data/train/100069/image/1-036.png  \n",
            "  inflating: data/train/100069/image/1-037.png  \n",
            "  inflating: data/train/100069/image/1-038.png  \n",
            "  inflating: data/train/100069/image/1-039.png  \n",
            "  inflating: data/train/100069/image/1-040.png  \n",
            "  inflating: data/train/100069/image/1-041.png  \n",
            "  inflating: data/train/100069/image/1-042.png  \n",
            "  inflating: data/train/100069/image/1-043.png  \n",
            "  inflating: data/train/100069/image/1-044.png  \n",
            "  inflating: data/train/100069/image/1-045.png  \n",
            "  inflating: data/train/100069/image/1-046.png  \n",
            "  inflating: data/train/100069/image/1-047.png  \n",
            "  inflating: data/train/100069/image/1-048.png  \n",
            "  inflating: data/train/100069/image/1-049.png  \n",
            "  inflating: data/train/100069/image/1-050.png  \n",
            "  inflating: data/train/100069/image/1-051.png  \n",
            "  inflating: data/train/100069/image/1-052.png  \n",
            "  inflating: data/train/100069/image/1-053.png  \n",
            "  inflating: data/train/100069/image/1-054.png  \n",
            "  inflating: data/train/100069/image/1-055.png  \n",
            "  inflating: data/train/100069/image/1-056.png  \n",
            "  inflating: data/train/100069/image/1-057.png  \n",
            "  inflating: data/train/100069/image/1-058.png  \n",
            "  inflating: data/train/100069/image/1-059.png  \n",
            "  inflating: data/train/100069/image/1-060.png  \n",
            "  inflating: data/train/100069/image/1-061.png  \n",
            "  inflating: data/train/100069/image/1-062.png  \n",
            "  inflating: data/train/100069/image/1-063.png  \n",
            "  inflating: data/train/100069/image/1-064.png  \n",
            "  inflating: data/train/100069/image/1-065.png  \n",
            "  inflating: data/train/100069/image/1-066.png  \n",
            "  inflating: data/train/100069/image/1-067.png  \n",
            "  inflating: data/train/100069/image/1-068.png  \n",
            "  inflating: data/train/100069/image/1-069.png  \n",
            "  inflating: data/train/100069/image/1-070.png  \n",
            "  inflating: data/train/100069/image/1-071.png  \n",
            "  inflating: data/train/100069/image/1-072.png  \n",
            "  inflating: data/train/100069/image/1-073.png  \n",
            "  inflating: data/train/100069/image/1-074.png  \n",
            "  inflating: data/train/100069/image/1-075.png  \n",
            "  inflating: data/train/100069/image/1-076.png  \n",
            "  inflating: data/train/100069/image/1-077.png  \n",
            "  inflating: data/train/100069/image/1-078.png  \n",
            "  inflating: data/train/100069/image/1-079.png  \n",
            "  inflating: data/train/100069/image/1-080.png  \n",
            "  inflating: data/train/100069/image/1-081.png  \n",
            "  inflating: data/train/100069/image/1-082.png  \n",
            "  inflating: data/train/100069/image/1-083.png  \n",
            "  inflating: data/train/100069/image/1-084.png  \n",
            "  inflating: data/train/100069/image/1-085.png  \n",
            "  inflating: data/train/100069/image/1-086.png  \n",
            "  inflating: data/train/100069/image/1-087.png  \n",
            "  inflating: data/train/100069/image/1-088.png  \n",
            "  inflating: data/train/100069/image/1-089.png  \n",
            "  inflating: data/train/100069/image/1-090.png  \n",
            "  inflating: data/train/100069/image/1-091.png  \n",
            "  inflating: data/train/100069/image/1-092.png  \n",
            "  inflating: data/train/100069/image/1-093.png  \n",
            "  inflating: data/train/100069/image/1-094.png  \n",
            "  inflating: data/train/100069/image/1-095.png  \n",
            "  inflating: data/train/100069/image/1-096.png  \n",
            "  inflating: data/train/100069/image/1-097.png  \n",
            "  inflating: data/train/100069/image/1-098.png  \n",
            "  inflating: data/train/100069/image/1-099.png  \n",
            "  inflating: data/train/100069/image/1-100.png  \n",
            "  inflating: data/train/100069/image/1-101.png  \n",
            "  inflating: data/train/100069/image/1-102.png  \n",
            "  inflating: data/train/100069/image/1-103.png  \n",
            "  inflating: data/train/100069/image/1-104.png  \n",
            "  inflating: data/train/100069/image/1-105.png  \n",
            "  inflating: data/train/100069/image/1-106.png  \n",
            "  inflating: data/train/100069/image/1-107.png  \n",
            "  inflating: data/train/100069/image/1-108.png  \n",
            "  inflating: data/train/100069/image/1-109.png  \n",
            "  inflating: data/train/100069/image/1-110.png  \n",
            "  inflating: data/train/100069/image/1-111.png  \n",
            "  inflating: data/train/100069/image/1-112.png  \n",
            "  inflating: data/train/100069/image/1-113.png  \n",
            "  inflating: data/train/100069/image/1-114.png  \n",
            "  inflating: data/train/100069/image/1-115.png  \n",
            "  inflating: data/train/100069/image/1-116.png  \n",
            "  inflating: data/train/100069/image/1-117.png  \n",
            "  inflating: data/train/100069/image/1-118.png  \n",
            "  inflating: data/train/100069/image/1-119.png  \n",
            "  inflating: data/train/100069/image/1-120.png  \n",
            "  inflating: data/train/100069/image/1-121.png  \n",
            "  inflating: data/train/100069/image/1-122.png  \n",
            "  inflating: data/train/100069/image/1-123.png  \n",
            "  inflating: data/train/100069/image/1-124.png  \n",
            "  inflating: data/train/100069/image/1-125.png  \n",
            "  inflating: data/train/100069/image/1-126.png  \n",
            "  inflating: data/train/100069/image/1-127.png  \n",
            "  inflating: data/train/100069/image/1-128.png  \n",
            "  inflating: data/train/100069/image/1-129.png  \n",
            "  inflating: data/train/100069/image/1-130.png  \n",
            "  inflating: data/train/100069/image/1-131.png  \n",
            "  inflating: data/train/100069/image/1-132.png  \n",
            "  inflating: data/train/100069/image/1-133.png  \n",
            "  inflating: data/train/100069/image/1-134.png  \n",
            "  inflating: data/train/100069/image/1-135.png  \n",
            "  inflating: data/train/100069/image/1-136.png  \n",
            "  inflating: data/train/100069/image/1-137.png  \n",
            "  inflating: data/train/100069/image/1-138.png  \n",
            "  inflating: data/train/100069/image/1-139.png  \n",
            "  inflating: data/train/100069/image/1-140.png  \n",
            "  inflating: data/train/100069/image/1-141.png  \n",
            "  inflating: data/train/100069/image/1-142.png  \n",
            "  inflating: data/train/100069/mask/1-001.png  \n",
            "  inflating: data/train/100069/mask/1-002.png  \n",
            "  inflating: data/train/100069/mask/1-003.png  \n",
            "  inflating: data/train/100069/mask/1-004.png  \n",
            "  inflating: data/train/100069/mask/1-005.png  \n",
            "  inflating: data/train/100069/mask/1-006.png  \n",
            "  inflating: data/train/100069/mask/1-007.png  \n",
            "  inflating: data/train/100069/mask/1-008.png  \n",
            "  inflating: data/train/100069/mask/1-009.png  \n",
            "  inflating: data/train/100069/mask/1-010.png  \n",
            "  inflating: data/train/100069/mask/1-011.png  \n",
            "  inflating: data/train/100069/mask/1-012.png  \n",
            "  inflating: data/train/100069/mask/1-013.png  \n",
            "  inflating: data/train/100069/mask/1-014.png  \n",
            "  inflating: data/train/100069/mask/1-015.png  \n",
            "  inflating: data/train/100069/mask/1-016.png  \n",
            "  inflating: data/train/100069/mask/1-017.png  \n",
            "  inflating: data/train/100069/mask/1-018.png  \n",
            "  inflating: data/train/100069/mask/1-019.png  \n",
            "  inflating: data/train/100069/mask/1-020.png  \n",
            "  inflating: data/train/100069/mask/1-021.png  \n",
            "  inflating: data/train/100069/mask/1-022.png  \n",
            "  inflating: data/train/100069/mask/1-023.png  \n",
            "  inflating: data/train/100069/mask/1-024.png  \n",
            "  inflating: data/train/100069/mask/1-025.png  \n",
            "  inflating: data/train/100069/mask/1-026.png  \n",
            "  inflating: data/train/100069/mask/1-027.png  \n",
            "  inflating: data/train/100069/mask/1-028.png  \n",
            "  inflating: data/train/100069/mask/1-029.png  \n",
            "  inflating: data/train/100069/mask/1-030.png  \n",
            "  inflating: data/train/100069/mask/1-031.png  \n",
            "  inflating: data/train/100069/mask/1-032.png  \n",
            "  inflating: data/train/100069/mask/1-033.png  \n",
            "  inflating: data/train/100069/mask/1-034.png  \n",
            "  inflating: data/train/100069/mask/1-035.png  \n",
            "  inflating: data/train/100069/mask/1-036.png  \n",
            "  inflating: data/train/100069/mask/1-037.png  \n",
            "  inflating: data/train/100069/mask/1-038.png  \n",
            "  inflating: data/train/100069/mask/1-039.png  \n",
            "  inflating: data/train/100069/mask/1-040.png  \n",
            "  inflating: data/train/100069/mask/1-041.png  \n",
            "  inflating: data/train/100069/mask/1-042.png  \n",
            "  inflating: data/train/100069/mask/1-043.png  \n",
            "  inflating: data/train/100069/mask/1-044.png  \n",
            "  inflating: data/train/100069/mask/1-045.png  \n",
            "  inflating: data/train/100069/mask/1-046.png  \n",
            "  inflating: data/train/100069/mask/1-047.png  \n",
            "  inflating: data/train/100069/mask/1-048.png  \n",
            "  inflating: data/train/100069/mask/1-049.png  \n",
            "  inflating: data/train/100069/mask/1-050.png  \n",
            "  inflating: data/train/100069/mask/1-051.png  \n",
            "  inflating: data/train/100069/mask/1-052.png  \n",
            "  inflating: data/train/100069/mask/1-053.png  \n",
            "  inflating: data/train/100069/mask/1-054.png  \n",
            "  inflating: data/train/100069/mask/1-055.png  \n",
            "  inflating: data/train/100069/mask/1-056.png  \n",
            "  inflating: data/train/100069/mask/1-057.png  \n",
            "  inflating: data/train/100069/mask/1-058.png  \n",
            "  inflating: data/train/100069/mask/1-059.png  \n",
            "  inflating: data/train/100069/mask/1-060.png  \n",
            "  inflating: data/train/100069/mask/1-061.png  \n",
            "  inflating: data/train/100069/mask/1-062.png  \n",
            "  inflating: data/train/100069/mask/1-063.png  \n",
            "  inflating: data/train/100069/mask/1-064.png  \n",
            "  inflating: data/train/100069/mask/1-065.png  \n",
            "  inflating: data/train/100069/mask/1-066.png  \n",
            "  inflating: data/train/100069/mask/1-067.png  \n",
            "  inflating: data/train/100069/mask/1-068.png  \n",
            "  inflating: data/train/100069/mask/1-069.png  \n",
            "  inflating: data/train/100069/mask/1-070.png  \n",
            "  inflating: data/train/100069/mask/1-071.png  \n",
            "  inflating: data/train/100069/mask/1-072.png  \n",
            "  inflating: data/train/100069/mask/1-073.png  \n",
            "  inflating: data/train/100069/mask/1-074.png  \n",
            "  inflating: data/train/100069/mask/1-075.png  \n",
            "  inflating: data/train/100069/mask/1-076.png  \n",
            "  inflating: data/train/100069/mask/1-077.png  \n",
            "  inflating: data/train/100069/mask/1-078.png  \n",
            "  inflating: data/train/100069/mask/1-079.png  \n",
            "  inflating: data/train/100069/mask/1-080.png  \n",
            "  inflating: data/train/100069/mask/1-081.png  \n",
            "  inflating: data/train/100069/mask/1-082.png  \n",
            "  inflating: data/train/100069/mask/1-083.png  \n",
            "  inflating: data/train/100069/mask/1-084.png  \n",
            "  inflating: data/train/100069/mask/1-085.png  \n",
            "  inflating: data/train/100069/mask/1-086.png  \n",
            "  inflating: data/train/100069/mask/1-087.png  \n",
            "  inflating: data/train/100069/mask/1-088.png  \n",
            "  inflating: data/train/100069/mask/1-089.png  \n",
            "  inflating: data/train/100069/mask/1-090.png  \n",
            "  inflating: data/train/100069/mask/1-091.png  \n",
            "  inflating: data/train/100069/mask/1-092.png  \n",
            "  inflating: data/train/100069/mask/1-093.png  \n",
            "  inflating: data/train/100069/mask/1-094.png  \n",
            "  inflating: data/train/100069/mask/1-095.png  \n",
            "  inflating: data/train/100069/mask/1-096.png  \n",
            "  inflating: data/train/100069/mask/1-097.png  \n",
            "  inflating: data/train/100069/mask/1-098.png  \n",
            "  inflating: data/train/100069/mask/1-099.png  \n",
            "  inflating: data/train/100069/mask/1-100.png  \n",
            "  inflating: data/train/100069/mask/1-101.png  \n",
            "  inflating: data/train/100069/mask/1-102.png  \n",
            "  inflating: data/train/100069/mask/1-103.png  \n",
            "  inflating: data/train/100069/mask/1-104.png  \n",
            "  inflating: data/train/100069/mask/1-105.png  \n",
            "  inflating: data/train/100069/mask/1-106.png  \n",
            "  inflating: data/train/100069/mask/1-107.png  \n",
            "  inflating: data/train/100069/mask/1-108.png  \n",
            "  inflating: data/train/100069/mask/1-109.png  \n",
            "  inflating: data/train/100069/mask/1-110.png  \n",
            "  inflating: data/train/100069/mask/1-111.png  \n",
            "  inflating: data/train/100069/mask/1-112.png  \n",
            "  inflating: data/train/100069/mask/1-113.png  \n",
            "  inflating: data/train/100069/mask/1-114.png  \n",
            "  inflating: data/train/100069/mask/1-115.png  \n",
            "  inflating: data/train/100069/mask/1-116.png  \n",
            "  inflating: data/train/100069/mask/1-117.png  \n",
            "  inflating: data/train/100069/mask/1-118.png  \n",
            "  inflating: data/train/100069/mask/1-119.png  \n",
            "  inflating: data/train/100069/mask/1-120.png  \n",
            "  inflating: data/train/100069/mask/1-121.png  \n",
            "  inflating: data/train/100069/mask/1-122.png  \n",
            "  inflating: data/train/100069/mask/1-123.png  \n",
            "  inflating: data/train/100069/mask/1-124.png  \n",
            "  inflating: data/train/100069/mask/1-125.png  \n",
            "  inflating: data/train/100069/mask/1-126.png  \n",
            "  inflating: data/train/100069/mask/1-127.png  \n",
            "  inflating: data/train/100069/mask/1-128.png  \n",
            "  inflating: data/train/100069/mask/1-129.png  \n",
            "  inflating: data/train/100069/mask/1-130.png  \n",
            "  inflating: data/train/100069/mask/1-131.png  \n",
            "  inflating: data/train/100069/mask/1-132.png  \n",
            "  inflating: data/train/100069/mask/1-133.png  \n",
            "  inflating: data/train/100069/mask/1-134.png  \n",
            "  inflating: data/train/100069/mask/1-135.png  \n",
            "  inflating: data/train/100069/mask/1-136.png  \n",
            "  inflating: data/train/100069/mask/1-137.png  \n",
            "  inflating: data/train/100069/mask/1-138.png  \n",
            "  inflating: data/train/100069/mask/1-139.png  \n",
            "  inflating: data/train/100069/mask/1-140.png  \n",
            "  inflating: data/train/100069/mask/1-141.png  \n",
            "  inflating: data/train/100069/mask/1-142.png  \n",
            "  inflating: data/train/100072/image/1-01.png  \n",
            "  inflating: data/train/100072/image/1-02.png  \n",
            "  inflating: data/train/100072/image/1-03.png  \n",
            "  inflating: data/train/100072/image/1-04.png  \n",
            "  inflating: data/train/100072/image/1-05.png  \n",
            "  inflating: data/train/100072/image/1-06.png  \n",
            "  inflating: data/train/100072/image/1-07.png  \n",
            "  inflating: data/train/100072/image/1-08.png  \n",
            "  inflating: data/train/100072/image/1-09.png  \n",
            "  inflating: data/train/100072/image/1-10.png  \n",
            "  inflating: data/train/100072/image/1-11.png  \n",
            "  inflating: data/train/100072/image/1-12.png  \n",
            "  inflating: data/train/100072/image/1-13.png  \n",
            "  inflating: data/train/100072/image/1-14.png  \n",
            "  inflating: data/train/100072/image/1-15.png  \n",
            "  inflating: data/train/100072/image/1-16.png  \n",
            "  inflating: data/train/100072/image/1-17.png  \n",
            "  inflating: data/train/100072/image/1-18.png  \n",
            "  inflating: data/train/100072/image/1-19.png  \n",
            "  inflating: data/train/100072/image/1-20.png  \n",
            "  inflating: data/train/100072/image/1-21.png  \n",
            "  inflating: data/train/100072/image/1-22.png  \n",
            "  inflating: data/train/100072/image/1-23.png  \n",
            "  inflating: data/train/100072/image/1-24.png  \n",
            "  inflating: data/train/100072/image/1-25.png  \n",
            "  inflating: data/train/100072/image/1-26.png  \n",
            "  inflating: data/train/100072/image/1-27.png  \n",
            "  inflating: data/train/100072/image/1-28.png  \n",
            "  inflating: data/train/100072/image/1-29.png  \n",
            "  inflating: data/train/100072/image/1-30.png  \n",
            "  inflating: data/train/100072/image/1-31.png  \n",
            "  inflating: data/train/100072/image/1-32.png  \n",
            "  inflating: data/train/100072/image/1-33.png  \n",
            "  inflating: data/train/100072/image/1-34.png  \n",
            "  inflating: data/train/100072/image/1-35.png  \n",
            "  inflating: data/train/100072/image/1-36.png  \n",
            "  inflating: data/train/100072/image/1-37.png  \n",
            "  inflating: data/train/100072/image/1-38.png  \n",
            "  inflating: data/train/100072/image/1-39.png  \n",
            "  inflating: data/train/100072/image/1-40.png  \n",
            "  inflating: data/train/100072/image/1-41.png  \n",
            "  inflating: data/train/100072/image/1-42.png  \n",
            "  inflating: data/train/100072/image/1-43.png  \n",
            "  inflating: data/train/100072/image/1-44.png  \n",
            "  inflating: data/train/100072/image/1-45.png  \n",
            "  inflating: data/train/100072/image/1-46.png  \n",
            "  inflating: data/train/100072/image/1-47.png  \n",
            "  inflating: data/train/100072/image/1-48.png  \n",
            "  inflating: data/train/100072/image/1-49.png  \n",
            "  inflating: data/train/100072/image/1-50.png  \n",
            "  inflating: data/train/100072/image/1-51.png  \n",
            "  inflating: data/train/100072/image/1-52.png  \n",
            "  inflating: data/train/100072/image/1-53.png  \n",
            "  inflating: data/train/100072/image/1-54.png  \n",
            "  inflating: data/train/100072/image/1-55.png  \n",
            "  inflating: data/train/100072/image/1-56.png  \n",
            "  inflating: data/train/100072/image/1-57.png  \n",
            "  inflating: data/train/100072/image/1-58.png  \n",
            "  inflating: data/train/100072/image/1-59.png  \n",
            "  inflating: data/train/100072/image/1-60.png  \n",
            "  inflating: data/train/100072/image/1-61.png  \n",
            "  inflating: data/train/100072/image/1-62.png  \n",
            "  inflating: data/train/100072/image/1-63.png  \n",
            "  inflating: data/train/100072/mask/1-01.png  \n",
            "  inflating: data/train/100072/mask/1-02.png  \n",
            "  inflating: data/train/100072/mask/1-03.png  \n",
            "  inflating: data/train/100072/mask/1-04.png  \n",
            "  inflating: data/train/100072/mask/1-05.png  \n",
            "  inflating: data/train/100072/mask/1-06.png  \n",
            "  inflating: data/train/100072/mask/1-07.png  \n",
            "  inflating: data/train/100072/mask/1-08.png  \n",
            "  inflating: data/train/100072/mask/1-09.png  \n",
            "  inflating: data/train/100072/mask/1-10.png  \n",
            "  inflating: data/train/100072/mask/1-11.png  \n",
            "  inflating: data/train/100072/mask/1-12.png  \n",
            "  inflating: data/train/100072/mask/1-13.png  \n",
            "  inflating: data/train/100072/mask/1-14.png  \n",
            "  inflating: data/train/100072/mask/1-15.png  \n",
            "  inflating: data/train/100072/mask/1-16.png  \n",
            "  inflating: data/train/100072/mask/1-17.png  \n",
            "  inflating: data/train/100072/mask/1-18.png  \n",
            "  inflating: data/train/100072/mask/1-19.png  \n",
            "  inflating: data/train/100072/mask/1-20.png  \n",
            "  inflating: data/train/100072/mask/1-21.png  \n",
            "  inflating: data/train/100072/mask/1-22.png  \n",
            "  inflating: data/train/100072/mask/1-23.png  \n",
            "  inflating: data/train/100072/mask/1-24.png  \n",
            "  inflating: data/train/100072/mask/1-25.png  \n",
            "  inflating: data/train/100072/mask/1-26.png  \n",
            "  inflating: data/train/100072/mask/1-27.png  \n",
            "  inflating: data/train/100072/mask/1-28.png  \n",
            "  inflating: data/train/100072/mask/1-29.png  \n",
            "  inflating: data/train/100072/mask/1-30.png  \n",
            "  inflating: data/train/100072/mask/1-31.png  \n",
            "  inflating: data/train/100072/mask/1-32.png  \n",
            "  inflating: data/train/100072/mask/1-33.png  \n",
            "  inflating: data/train/100072/mask/1-34.png  \n",
            "  inflating: data/train/100072/mask/1-35.png  \n",
            "  inflating: data/train/100072/mask/1-36.png  \n",
            "  inflating: data/train/100072/mask/1-37.png  \n",
            "  inflating: data/train/100072/mask/1-38.png  \n",
            "  inflating: data/train/100072/mask/1-39.png  \n",
            "  inflating: data/train/100072/mask/1-40.png  \n",
            "  inflating: data/train/100072/mask/1-41.png  \n",
            "  inflating: data/train/100072/mask/1-42.png  \n",
            "  inflating: data/train/100072/mask/1-43.png  \n",
            "  inflating: data/train/100072/mask/1-44.png  \n",
            "  inflating: data/train/100072/mask/1-45.png  \n",
            "  inflating: data/train/100072/mask/1-46.png  \n",
            "  inflating: data/train/100072/mask/1-47.png  \n",
            "  inflating: data/train/100072/mask/1-48.png  \n",
            "  inflating: data/train/100072/mask/1-49.png  \n",
            "  inflating: data/train/100072/mask/1-50.png  \n",
            "  inflating: data/train/100072/mask/1-51.png  \n",
            "  inflating: data/train/100072/mask/1-52.png  \n",
            "  inflating: data/train/100072/mask/1-53.png  \n",
            "  inflating: data/train/100072/mask/1-54.png  \n",
            "  inflating: data/train/100072/mask/1-55.png  \n",
            "  inflating: data/train/100072/mask/1-56.png  \n",
            "  inflating: data/train/100072/mask/1-57.png  \n",
            "  inflating: data/train/100072/mask/1-58.png  \n",
            "  inflating: data/train/100072/mask/1-59.png  \n",
            "  inflating: data/train/100072/mask/1-60.png  \n",
            "  inflating: data/train/100072/mask/1-61.png  \n",
            "  inflating: data/train/100072/mask/1-62.png  \n",
            "  inflating: data/train/100072/mask/1-63.png  \n",
            "  inflating: data/train/100073/image/1-001.png  \n",
            "  inflating: data/train/100073/image/1-002.png  \n",
            "  inflating: data/train/100073/image/1-003.png  \n",
            "  inflating: data/train/100073/image/1-004.png  \n",
            "  inflating: data/train/100073/image/1-005.png  \n",
            "  inflating: data/train/100073/image/1-006.png  \n",
            "  inflating: data/train/100073/image/1-007.png  \n",
            "  inflating: data/train/100073/image/1-008.png  \n",
            "  inflating: data/train/100073/image/1-009.png  \n",
            "  inflating: data/train/100073/image/1-010.png  \n",
            "  inflating: data/train/100073/image/1-011.png  \n",
            "  inflating: data/train/100073/image/1-012.png  \n",
            "  inflating: data/train/100073/image/1-013.png  \n",
            "  inflating: data/train/100073/image/1-014.png  \n",
            "  inflating: data/train/100073/image/1-015.png  \n",
            "  inflating: data/train/100073/image/1-016.png  \n",
            "  inflating: data/train/100073/image/1-017.png  \n",
            "  inflating: data/train/100073/image/1-018.png  \n",
            "  inflating: data/train/100073/image/1-019.png  \n",
            "  inflating: data/train/100073/image/1-020.png  \n",
            "  inflating: data/train/100073/image/1-021.png  \n",
            "  inflating: data/train/100073/image/1-022.png  \n",
            "  inflating: data/train/100073/image/1-023.png  \n",
            "  inflating: data/train/100073/image/1-024.png  \n",
            "  inflating: data/train/100073/image/1-025.png  \n",
            "  inflating: data/train/100073/image/1-026.png  \n",
            "  inflating: data/train/100073/image/1-027.png  \n",
            "  inflating: data/train/100073/image/1-028.png  \n",
            "  inflating: data/train/100073/image/1-029.png  \n",
            "  inflating: data/train/100073/image/1-030.png  \n",
            "  inflating: data/train/100073/image/1-031.png  \n",
            "  inflating: data/train/100073/image/1-032.png  \n",
            "  inflating: data/train/100073/image/1-033.png  \n",
            "  inflating: data/train/100073/image/1-034.png  \n",
            "  inflating: data/train/100073/image/1-035.png  \n",
            "  inflating: data/train/100073/image/1-036.png  \n",
            "  inflating: data/train/100073/image/1-037.png  \n",
            "  inflating: data/train/100073/image/1-038.png  \n",
            "  inflating: data/train/100073/image/1-039.png  \n",
            "  inflating: data/train/100073/image/1-040.png  \n",
            "  inflating: data/train/100073/image/1-041.png  \n",
            "  inflating: data/train/100073/image/1-042.png  \n",
            "  inflating: data/train/100073/image/1-043.png  \n",
            "  inflating: data/train/100073/image/1-044.png  \n",
            "  inflating: data/train/100073/image/1-045.png  \n",
            "  inflating: data/train/100073/image/1-046.png  \n",
            "  inflating: data/train/100073/image/1-047.png  \n",
            "  inflating: data/train/100073/image/1-048.png  \n",
            "  inflating: data/train/100073/image/1-049.png  \n",
            "  inflating: data/train/100073/image/1-050.png  \n",
            "  inflating: data/train/100073/image/1-051.png  \n",
            "  inflating: data/train/100073/image/1-052.png  \n",
            "  inflating: data/train/100073/image/1-053.png  \n",
            "  inflating: data/train/100073/image/1-054.png  \n",
            "  inflating: data/train/100073/image/1-055.png  \n",
            "  inflating: data/train/100073/image/1-056.png  \n",
            "  inflating: data/train/100073/image/1-057.png  \n",
            "  inflating: data/train/100073/image/1-058.png  \n",
            "  inflating: data/train/100073/image/1-059.png  \n",
            "  inflating: data/train/100073/image/1-060.png  \n",
            "  inflating: data/train/100073/image/1-061.png  \n",
            "  inflating: data/train/100073/image/1-062.png  \n",
            "  inflating: data/train/100073/image/1-063.png  \n",
            "  inflating: data/train/100073/image/1-064.png  \n",
            "  inflating: data/train/100073/image/1-065.png  \n",
            "  inflating: data/train/100073/image/1-066.png  \n",
            "  inflating: data/train/100073/image/1-067.png  \n",
            "  inflating: data/train/100073/image/1-068.png  \n",
            "  inflating: data/train/100073/image/1-069.png  \n",
            "  inflating: data/train/100073/image/1-070.png  \n",
            "  inflating: data/train/100073/image/1-071.png  \n",
            "  inflating: data/train/100073/image/1-072.png  \n",
            "  inflating: data/train/100073/image/1-073.png  \n",
            "  inflating: data/train/100073/image/1-074.png  \n",
            "  inflating: data/train/100073/image/1-075.png  \n",
            "  inflating: data/train/100073/image/1-076.png  \n",
            "  inflating: data/train/100073/image/1-077.png  \n",
            "  inflating: data/train/100073/image/1-078.png  \n",
            "  inflating: data/train/100073/image/1-079.png  \n",
            "  inflating: data/train/100073/image/1-080.png  \n",
            "  inflating: data/train/100073/image/1-081.png  \n",
            "  inflating: data/train/100073/image/1-082.png  \n",
            "  inflating: data/train/100073/image/1-083.png  \n",
            "  inflating: data/train/100073/image/1-084.png  \n",
            "  inflating: data/train/100073/image/1-085.png  \n",
            "  inflating: data/train/100073/image/1-086.png  \n",
            "  inflating: data/train/100073/image/1-087.png  \n",
            "  inflating: data/train/100073/image/1-088.png  \n",
            "  inflating: data/train/100073/image/1-089.png  \n",
            "  inflating: data/train/100073/image/1-090.png  \n",
            "  inflating: data/train/100073/image/1-091.png  \n",
            "  inflating: data/train/100073/image/1-092.png  \n",
            "  inflating: data/train/100073/image/1-093.png  \n",
            "  inflating: data/train/100073/image/1-094.png  \n",
            "  inflating: data/train/100073/image/1-095.png  \n",
            "  inflating: data/train/100073/image/1-096.png  \n",
            "  inflating: data/train/100073/image/1-097.png  \n",
            "  inflating: data/train/100073/image/1-098.png  \n",
            "  inflating: data/train/100073/image/1-099.png  \n",
            "  inflating: data/train/100073/image/1-100.png  \n",
            "  inflating: data/train/100073/image/1-101.png  \n",
            "  inflating: data/train/100073/image/1-102.png  \n",
            "  inflating: data/train/100073/image/1-103.png  \n",
            "  inflating: data/train/100073/image/1-104.png  \n",
            "  inflating: data/train/100073/image/1-105.png  \n",
            "  inflating: data/train/100073/image/1-106.png  \n",
            "  inflating: data/train/100073/image/1-107.png  \n",
            "  inflating: data/train/100073/image/1-108.png  \n",
            "  inflating: data/train/100073/image/1-109.png  \n",
            "  inflating: data/train/100073/image/1-110.png  \n",
            "  inflating: data/train/100073/image/1-111.png  \n",
            "  inflating: data/train/100073/image/1-112.png  \n",
            "  inflating: data/train/100073/image/1-113.png  \n",
            "  inflating: data/train/100073/image/1-114.png  \n",
            "  inflating: data/train/100073/image/1-115.png  \n",
            "  inflating: data/train/100073/image/1-116.png  \n",
            "  inflating: data/train/100073/image/1-117.png  \n",
            "  inflating: data/train/100073/image/1-118.png  \n",
            "  inflating: data/train/100073/image/1-119.png  \n",
            "  inflating: data/train/100073/image/1-120.png  \n",
            "  inflating: data/train/100073/image/1-121.png  \n",
            "  inflating: data/train/100073/image/1-122.png  \n",
            "  inflating: data/train/100073/image/1-123.png  \n",
            "  inflating: data/train/100073/image/1-124.png  \n",
            "  inflating: data/train/100073/image/1-125.png  \n",
            "  inflating: data/train/100073/image/1-126.png  \n",
            "  inflating: data/train/100073/image/1-127.png  \n",
            "  inflating: data/train/100073/image/1-128.png  \n",
            "  inflating: data/train/100073/image/1-129.png  \n",
            "  inflating: data/train/100073/image/1-130.png  \n",
            "  inflating: data/train/100073/image/1-131.png  \n",
            "  inflating: data/train/100073/image/1-132.png  \n",
            "  inflating: data/train/100073/image/1-133.png  \n",
            "  inflating: data/train/100073/image/1-134.png  \n",
            "  inflating: data/train/100073/image/1-135.png  \n",
            "  inflating: data/train/100073/image/1-136.png  \n",
            "  inflating: data/train/100073/image/1-137.png  \n",
            "  inflating: data/train/100073/image/1-138.png  \n",
            "  inflating: data/train/100073/image/1-139.png  \n",
            "  inflating: data/train/100073/image/1-140.png  \n",
            "  inflating: data/train/100073/image/1-141.png  \n",
            "  inflating: data/train/100073/image/1-142.png  \n",
            "  inflating: data/train/100073/image/1-143.png  \n",
            "  inflating: data/train/100073/mask/1-001.png  \n",
            "  inflating: data/train/100073/mask/1-002.png  \n",
            "  inflating: data/train/100073/mask/1-003.png  \n",
            "  inflating: data/train/100073/mask/1-004.png  \n",
            "  inflating: data/train/100073/mask/1-005.png  \n",
            "  inflating: data/train/100073/mask/1-006.png  \n",
            "  inflating: data/train/100073/mask/1-007.png  \n",
            "  inflating: data/train/100073/mask/1-008.png  \n",
            "  inflating: data/train/100073/mask/1-009.png  \n",
            "  inflating: data/train/100073/mask/1-010.png  \n",
            "  inflating: data/train/100073/mask/1-011.png  \n",
            "  inflating: data/train/100073/mask/1-012.png  \n",
            "  inflating: data/train/100073/mask/1-013.png  \n",
            "  inflating: data/train/100073/mask/1-014.png  \n",
            "  inflating: data/train/100073/mask/1-015.png  \n",
            "  inflating: data/train/100073/mask/1-016.png  \n",
            "  inflating: data/train/100073/mask/1-017.png  \n",
            "  inflating: data/train/100073/mask/1-018.png  \n",
            "  inflating: data/train/100073/mask/1-019.png  \n",
            "  inflating: data/train/100073/mask/1-020.png  \n",
            "  inflating: data/train/100073/mask/1-021.png  \n",
            "  inflating: data/train/100073/mask/1-022.png  \n",
            "  inflating: data/train/100073/mask/1-023.png  \n",
            "  inflating: data/train/100073/mask/1-024.png  \n",
            "  inflating: data/train/100073/mask/1-025.png  \n",
            "  inflating: data/train/100073/mask/1-026.png  \n",
            "  inflating: data/train/100073/mask/1-027.png  \n",
            "  inflating: data/train/100073/mask/1-028.png  \n",
            "  inflating: data/train/100073/mask/1-029.png  \n",
            "  inflating: data/train/100073/mask/1-030.png  \n",
            "  inflating: data/train/100073/mask/1-031.png  \n",
            "  inflating: data/train/100073/mask/1-032.png  \n",
            "  inflating: data/train/100073/mask/1-033.png  \n",
            "  inflating: data/train/100073/mask/1-034.png  \n",
            "  inflating: data/train/100073/mask/1-035.png  \n",
            "  inflating: data/train/100073/mask/1-036.png  \n",
            "  inflating: data/train/100073/mask/1-037.png  \n",
            "  inflating: data/train/100073/mask/1-038.png  \n",
            "  inflating: data/train/100073/mask/1-039.png  \n",
            "  inflating: data/train/100073/mask/1-040.png  \n",
            "  inflating: data/train/100073/mask/1-041.png  \n",
            "  inflating: data/train/100073/mask/1-042.png  \n",
            "  inflating: data/train/100073/mask/1-043.png  \n",
            "  inflating: data/train/100073/mask/1-044.png  \n",
            "  inflating: data/train/100073/mask/1-045.png  \n",
            "  inflating: data/train/100073/mask/1-046.png  \n",
            "  inflating: data/train/100073/mask/1-047.png  \n",
            "  inflating: data/train/100073/mask/1-048.png  \n",
            "  inflating: data/train/100073/mask/1-049.png  \n",
            "  inflating: data/train/100073/mask/1-050.png  \n",
            "  inflating: data/train/100073/mask/1-051.png  \n",
            "  inflating: data/train/100073/mask/1-052.png  \n",
            "  inflating: data/train/100073/mask/1-053.png  \n",
            "  inflating: data/train/100073/mask/1-054.png  \n",
            "  inflating: data/train/100073/mask/1-055.png  \n",
            "  inflating: data/train/100073/mask/1-056.png  \n",
            "  inflating: data/train/100073/mask/1-057.png  \n",
            "  inflating: data/train/100073/mask/1-058.png  \n",
            "  inflating: data/train/100073/mask/1-059.png  \n",
            "  inflating: data/train/100073/mask/1-060.png  \n",
            "  inflating: data/train/100073/mask/1-061.png  \n",
            "  inflating: data/train/100073/mask/1-062.png  \n",
            "  inflating: data/train/100073/mask/1-063.png  \n",
            "  inflating: data/train/100073/mask/1-064.png  \n",
            "  inflating: data/train/100073/mask/1-065.png  \n",
            "  inflating: data/train/100073/mask/1-066.png  \n",
            "  inflating: data/train/100073/mask/1-067.png  \n",
            "  inflating: data/train/100073/mask/1-068.png  \n",
            "  inflating: data/train/100073/mask/1-069.png  \n",
            "  inflating: data/train/100073/mask/1-070.png  \n",
            "  inflating: data/train/100073/mask/1-071.png  \n",
            "  inflating: data/train/100073/mask/1-072.png  \n",
            "  inflating: data/train/100073/mask/1-073.png  \n",
            "  inflating: data/train/100073/mask/1-074.png  \n",
            "  inflating: data/train/100073/mask/1-075.png  \n",
            "  inflating: data/train/100073/mask/1-076.png  \n",
            "  inflating: data/train/100073/mask/1-077.png  \n",
            "  inflating: data/train/100073/mask/1-078.png  \n",
            "  inflating: data/train/100073/mask/1-079.png  \n",
            "  inflating: data/train/100073/mask/1-080.png  \n",
            "  inflating: data/train/100073/mask/1-081.png  \n",
            "  inflating: data/train/100073/mask/1-082.png  \n",
            "  inflating: data/train/100073/mask/1-083.png  \n",
            "  inflating: data/train/100073/mask/1-084.png  \n",
            "  inflating: data/train/100073/mask/1-085.png  \n",
            "  inflating: data/train/100073/mask/1-086.png  \n",
            "  inflating: data/train/100073/mask/1-087.png  \n",
            "  inflating: data/train/100073/mask/1-088.png  \n",
            "  inflating: data/train/100073/mask/1-089.png  \n",
            "  inflating: data/train/100073/mask/1-090.png  \n",
            "  inflating: data/train/100073/mask/1-091.png  \n",
            "  inflating: data/train/100073/mask/1-092.png  \n",
            "  inflating: data/train/100073/mask/1-093.png  \n",
            "  inflating: data/train/100073/mask/1-094.png  \n",
            "  inflating: data/train/100073/mask/1-095.png  \n",
            "  inflating: data/train/100073/mask/1-096.png  \n",
            "  inflating: data/train/100073/mask/1-097.png  \n",
            "  inflating: data/train/100073/mask/1-098.png  \n",
            "  inflating: data/train/100073/mask/1-099.png  \n",
            "  inflating: data/train/100073/mask/1-100.png  \n",
            "  inflating: data/train/100073/mask/1-101.png  \n",
            "  inflating: data/train/100073/mask/1-102.png  \n",
            "  inflating: data/train/100073/mask/1-103.png  \n",
            "  inflating: data/train/100073/mask/1-104.png  \n",
            "  inflating: data/train/100073/mask/1-105.png  \n",
            "  inflating: data/train/100073/mask/1-106.png  \n",
            "  inflating: data/train/100073/mask/1-107.png  \n",
            "  inflating: data/train/100073/mask/1-108.png  \n",
            "  inflating: data/train/100073/mask/1-109.png  \n",
            "  inflating: data/train/100073/mask/1-110.png  \n",
            "  inflating: data/train/100073/mask/1-111.png  \n",
            "  inflating: data/train/100073/mask/1-112.png  \n",
            "  inflating: data/train/100073/mask/1-113.png  \n",
            "  inflating: data/train/100073/mask/1-114.png  \n",
            "  inflating: data/train/100073/mask/1-115.png  \n",
            "  inflating: data/train/100073/mask/1-116.png  \n",
            "  inflating: data/train/100073/mask/1-117.png  \n",
            "  inflating: data/train/100073/mask/1-118.png  \n",
            "  inflating: data/train/100073/mask/1-119.png  \n",
            "  inflating: data/train/100073/mask/1-120.png  \n",
            "  inflating: data/train/100073/mask/1-121.png  \n",
            "  inflating: data/train/100073/mask/1-122.png  \n",
            "  inflating: data/train/100073/mask/1-123.png  \n",
            "  inflating: data/train/100073/mask/1-124.png  \n",
            "  inflating: data/train/100073/mask/1-125.png  \n",
            "  inflating: data/train/100073/mask/1-126.png  \n",
            "  inflating: data/train/100073/mask/1-127.png  \n",
            "  inflating: data/train/100073/mask/1-128.png  \n",
            "  inflating: data/train/100073/mask/1-129.png  \n",
            "  inflating: data/train/100073/mask/1-130.png  \n",
            "  inflating: data/train/100073/mask/1-131.png  \n",
            "  inflating: data/train/100073/mask/1-132.png  \n",
            "  inflating: data/train/100073/mask/1-133.png  \n",
            "  inflating: data/train/100073/mask/1-134.png  \n",
            "  inflating: data/train/100073/mask/1-135.png  \n",
            "  inflating: data/train/100073/mask/1-136.png  \n",
            "  inflating: data/train/100073/mask/1-137.png  \n",
            "  inflating: data/train/100073/mask/1-138.png  \n",
            "  inflating: data/train/100073/mask/1-139.png  \n",
            "  inflating: data/train/100073/mask/1-140.png  \n",
            "  inflating: data/train/100073/mask/1-141.png  \n",
            "  inflating: data/train/100073/mask/1-142.png  \n",
            "  inflating: data/train/100073/mask/1-143.png  \n",
            "  inflating: data/train/100075/image/1-001.png  \n",
            "  inflating: data/train/100075/image/1-002.png  \n",
            "  inflating: data/train/100075/image/1-003.png  \n",
            "  inflating: data/train/100075/image/1-004.png  \n",
            "  inflating: data/train/100075/image/1-005.png  \n",
            "  inflating: data/train/100075/image/1-006.png  \n",
            "  inflating: data/train/100075/image/1-007.png  \n",
            "  inflating: data/train/100075/image/1-008.png  \n",
            "  inflating: data/train/100075/image/1-009.png  \n",
            "  inflating: data/train/100075/image/1-010.png  \n",
            "  inflating: data/train/100075/image/1-011.png  \n",
            "  inflating: data/train/100075/image/1-012.png  \n",
            "  inflating: data/train/100075/image/1-013.png  \n",
            "  inflating: data/train/100075/image/1-014.png  \n",
            "  inflating: data/train/100075/image/1-015.png  \n",
            "  inflating: data/train/100075/image/1-016.png  \n",
            "  inflating: data/train/100075/image/1-017.png  \n",
            "  inflating: data/train/100075/image/1-018.png  \n",
            "  inflating: data/train/100075/image/1-019.png  \n",
            "  inflating: data/train/100075/image/1-020.png  \n",
            "  inflating: data/train/100075/image/1-021.png  \n",
            "  inflating: data/train/100075/image/1-022.png  \n",
            "  inflating: data/train/100075/image/1-023.png  \n",
            "  inflating: data/train/100075/image/1-024.png  \n",
            "  inflating: data/train/100075/image/1-025.png  \n",
            "  inflating: data/train/100075/image/1-026.png  \n",
            "  inflating: data/train/100075/image/1-027.png  \n",
            "  inflating: data/train/100075/image/1-028.png  \n",
            "  inflating: data/train/100075/image/1-029.png  \n",
            "  inflating: data/train/100075/image/1-030.png  \n",
            "  inflating: data/train/100075/image/1-031.png  \n",
            "  inflating: data/train/100075/image/1-032.png  \n",
            "  inflating: data/train/100075/image/1-033.png  \n",
            "  inflating: data/train/100075/image/1-034.png  \n",
            "  inflating: data/train/100075/image/1-035.png  \n",
            "  inflating: data/train/100075/image/1-036.png  \n",
            "  inflating: data/train/100075/image/1-037.png  \n",
            "  inflating: data/train/100075/image/1-038.png  \n",
            "  inflating: data/train/100075/image/1-039.png  \n",
            "  inflating: data/train/100075/image/1-040.png  \n",
            "  inflating: data/train/100075/image/1-041.png  \n",
            "  inflating: data/train/100075/image/1-042.png  \n",
            "  inflating: data/train/100075/image/1-043.png  \n",
            "  inflating: data/train/100075/image/1-044.png  \n",
            "  inflating: data/train/100075/image/1-045.png  \n",
            "  inflating: data/train/100075/image/1-046.png  \n",
            "  inflating: data/train/100075/image/1-047.png  \n",
            "  inflating: data/train/100075/image/1-048.png  \n",
            "  inflating: data/train/100075/image/1-049.png  \n",
            "  inflating: data/train/100075/image/1-050.png  \n",
            "  inflating: data/train/100075/image/1-051.png  \n",
            "  inflating: data/train/100075/image/1-052.png  \n",
            "  inflating: data/train/100075/image/1-053.png  \n",
            "  inflating: data/train/100075/image/1-054.png  \n",
            "  inflating: data/train/100075/image/1-055.png  \n",
            "  inflating: data/train/100075/image/1-056.png  \n",
            "  inflating: data/train/100075/image/1-057.png  \n",
            "  inflating: data/train/100075/image/1-058.png  \n",
            "  inflating: data/train/100075/image/1-059.png  \n",
            "  inflating: data/train/100075/image/1-060.png  \n",
            "  inflating: data/train/100075/image/1-061.png  \n",
            "  inflating: data/train/100075/image/1-062.png  \n",
            "  inflating: data/train/100075/image/1-063.png  \n",
            "  inflating: data/train/100075/image/1-064.png  \n",
            "  inflating: data/train/100075/image/1-065.png  \n",
            "  inflating: data/train/100075/image/1-066.png  \n",
            "  inflating: data/train/100075/image/1-067.png  \n",
            "  inflating: data/train/100075/image/1-068.png  \n",
            "  inflating: data/train/100075/image/1-069.png  \n",
            "  inflating: data/train/100075/image/1-070.png  \n",
            "  inflating: data/train/100075/image/1-071.png  \n",
            "  inflating: data/train/100075/image/1-072.png  \n",
            "  inflating: data/train/100075/image/1-073.png  \n",
            "  inflating: data/train/100075/image/1-074.png  \n",
            "  inflating: data/train/100075/image/1-075.png  \n",
            "  inflating: data/train/100075/image/1-076.png  \n",
            "  inflating: data/train/100075/image/1-077.png  \n",
            "  inflating: data/train/100075/image/1-078.png  \n",
            "  inflating: data/train/100075/image/1-079.png  \n",
            "  inflating: data/train/100075/image/1-080.png  \n",
            "  inflating: data/train/100075/image/1-081.png  \n",
            "  inflating: data/train/100075/image/1-082.png  \n",
            "  inflating: data/train/100075/image/1-083.png  \n",
            "  inflating: data/train/100075/image/1-084.png  \n",
            "  inflating: data/train/100075/image/1-085.png  \n",
            "  inflating: data/train/100075/image/1-086.png  \n",
            "  inflating: data/train/100075/image/1-087.png  \n",
            "  inflating: data/train/100075/image/1-088.png  \n",
            "  inflating: data/train/100075/image/1-089.png  \n",
            "  inflating: data/train/100075/image/1-090.png  \n",
            "  inflating: data/train/100075/image/1-091.png  \n",
            "  inflating: data/train/100075/image/1-092.png  \n",
            "  inflating: data/train/100075/image/1-093.png  \n",
            "  inflating: data/train/100075/image/1-094.png  \n",
            "  inflating: data/train/100075/image/1-095.png  \n",
            "  inflating: data/train/100075/image/1-096.png  \n",
            "  inflating: data/train/100075/image/1-097.png  \n",
            "  inflating: data/train/100075/image/1-098.png  \n",
            "  inflating: data/train/100075/image/1-099.png  \n",
            "  inflating: data/train/100075/image/1-100.png  \n",
            "  inflating: data/train/100075/image/1-101.png  \n",
            "  inflating: data/train/100075/image/1-102.png  \n",
            "  inflating: data/train/100075/image/1-103.png  \n",
            "  inflating: data/train/100075/image/1-104.png  \n",
            "  inflating: data/train/100075/image/1-105.png  \n",
            "  inflating: data/train/100075/image/1-106.png  \n",
            "  inflating: data/train/100075/image/1-107.png  \n",
            "  inflating: data/train/100075/image/1-108.png  \n",
            "  inflating: data/train/100075/image/1-109.png  \n",
            "  inflating: data/train/100075/image/1-110.png  \n",
            "  inflating: data/train/100075/image/1-111.png  \n",
            "  inflating: data/train/100075/image/1-112.png  \n",
            "  inflating: data/train/100075/image/1-113.png  \n",
            "  inflating: data/train/100075/image/1-114.png  \n",
            "  inflating: data/train/100075/image/1-115.png  \n",
            "  inflating: data/train/100075/image/1-116.png  \n",
            "  inflating: data/train/100075/image/1-117.png  \n",
            "  inflating: data/train/100075/image/1-118.png  \n",
            "  inflating: data/train/100075/image/1-119.png  \n",
            "  inflating: data/train/100075/image/1-120.png  \n",
            "  inflating: data/train/100075/image/1-121.png  \n",
            "  inflating: data/train/100075/image/1-122.png  \n",
            "  inflating: data/train/100075/image/1-123.png  \n",
            "  inflating: data/train/100075/image/1-124.png  \n",
            "  inflating: data/train/100075/image/1-125.png  \n",
            "  inflating: data/train/100075/image/1-126.png  \n",
            "  inflating: data/train/100075/image/1-127.png  \n",
            "  inflating: data/train/100075/image/1-128.png  \n",
            "  inflating: data/train/100075/image/1-129.png  \n",
            "  inflating: data/train/100075/image/1-130.png  \n",
            "  inflating: data/train/100075/image/1-131.png  \n",
            "  inflating: data/train/100075/image/1-132.png  \n",
            "  inflating: data/train/100075/image/1-133.png  \n",
            "  inflating: data/train/100075/image/1-134.png  \n",
            "  inflating: data/train/100075/image/1-135.png  \n",
            "  inflating: data/train/100075/image/1-136.png  \n",
            "  inflating: data/train/100075/image/1-137.png  \n",
            "  inflating: data/train/100075/image/1-138.png  \n",
            "  inflating: data/train/100075/image/1-139.png  \n",
            "  inflating: data/train/100075/image/1-140.png  \n",
            "  inflating: data/train/100075/image/1-141.png  \n",
            "  inflating: data/train/100075/image/1-142.png  \n",
            "  inflating: data/train/100075/image/1-143.png  \n",
            "  inflating: data/train/100075/image/1-144.png  \n",
            "  inflating: data/train/100075/image/1-145.png  \n",
            "  inflating: data/train/100075/image/1-146.png  \n",
            "  inflating: data/train/100075/image/1-147.png  \n",
            "  inflating: data/train/100075/image/1-148.png  \n",
            "  inflating: data/train/100075/image/1-149.png  \n",
            "  inflating: data/train/100075/image/1-150.png  \n",
            "  inflating: data/train/100075/image/1-151.png  \n",
            "  inflating: data/train/100075/image/1-152.png  \n",
            "  inflating: data/train/100075/mask/1-001.png  \n",
            "  inflating: data/train/100075/mask/1-002.png  \n",
            "  inflating: data/train/100075/mask/1-003.png  \n",
            "  inflating: data/train/100075/mask/1-004.png  \n",
            "  inflating: data/train/100075/mask/1-005.png  \n",
            "  inflating: data/train/100075/mask/1-006.png  \n",
            "  inflating: data/train/100075/mask/1-007.png  \n",
            "  inflating: data/train/100075/mask/1-008.png  \n",
            "  inflating: data/train/100075/mask/1-009.png  \n",
            "  inflating: data/train/100075/mask/1-010.png  \n",
            "  inflating: data/train/100075/mask/1-011.png  \n",
            "  inflating: data/train/100075/mask/1-012.png  \n",
            "  inflating: data/train/100075/mask/1-013.png  \n",
            "  inflating: data/train/100075/mask/1-014.png  \n",
            "  inflating: data/train/100075/mask/1-015.png  \n",
            "  inflating: data/train/100075/mask/1-016.png  \n",
            "  inflating: data/train/100075/mask/1-017.png  \n",
            "  inflating: data/train/100075/mask/1-018.png  \n",
            "  inflating: data/train/100075/mask/1-019.png  \n",
            "  inflating: data/train/100075/mask/1-020.png  \n",
            "  inflating: data/train/100075/mask/1-021.png  \n",
            "  inflating: data/train/100075/mask/1-022.png  \n",
            "  inflating: data/train/100075/mask/1-023.png  \n",
            "  inflating: data/train/100075/mask/1-024.png  \n",
            "  inflating: data/train/100075/mask/1-025.png  \n",
            "  inflating: data/train/100075/mask/1-026.png  \n",
            "  inflating: data/train/100075/mask/1-027.png  \n",
            "  inflating: data/train/100075/mask/1-028.png  \n",
            "  inflating: data/train/100075/mask/1-029.png  \n",
            "  inflating: data/train/100075/mask/1-030.png  \n",
            "  inflating: data/train/100075/mask/1-031.png  \n",
            "  inflating: data/train/100075/mask/1-032.png  \n",
            "  inflating: data/train/100075/mask/1-033.png  \n",
            "  inflating: data/train/100075/mask/1-034.png  \n",
            "  inflating: data/train/100075/mask/1-035.png  \n",
            "  inflating: data/train/100075/mask/1-036.png  \n",
            "  inflating: data/train/100075/mask/1-037.png  \n",
            "  inflating: data/train/100075/mask/1-038.png  \n",
            "  inflating: data/train/100075/mask/1-039.png  \n",
            "  inflating: data/train/100075/mask/1-040.png  \n",
            "  inflating: data/train/100075/mask/1-041.png  \n",
            "  inflating: data/train/100075/mask/1-042.png  \n",
            "  inflating: data/train/100075/mask/1-043.png  \n",
            "  inflating: data/train/100075/mask/1-044.png  \n",
            "  inflating: data/train/100075/mask/1-045.png  \n",
            "  inflating: data/train/100075/mask/1-046.png  \n",
            "  inflating: data/train/100075/mask/1-047.png  \n",
            "  inflating: data/train/100075/mask/1-048.png  \n",
            "  inflating: data/train/100075/mask/1-049.png  \n",
            "  inflating: data/train/100075/mask/1-050.png  \n",
            "  inflating: data/train/100075/mask/1-051.png  \n",
            "  inflating: data/train/100075/mask/1-052.png  \n",
            "  inflating: data/train/100075/mask/1-053.png  \n",
            "  inflating: data/train/100075/mask/1-054.png  \n",
            "  inflating: data/train/100075/mask/1-055.png  \n",
            "  inflating: data/train/100075/mask/1-056.png  \n",
            "  inflating: data/train/100075/mask/1-057.png  \n",
            "  inflating: data/train/100075/mask/1-058.png  \n",
            "  inflating: data/train/100075/mask/1-059.png  \n",
            "  inflating: data/train/100075/mask/1-060.png  \n",
            "  inflating: data/train/100075/mask/1-061.png  \n",
            "  inflating: data/train/100075/mask/1-062.png  \n",
            "  inflating: data/train/100075/mask/1-063.png  \n",
            "  inflating: data/train/100075/mask/1-064.png  \n",
            "  inflating: data/train/100075/mask/1-065.png  \n",
            "  inflating: data/train/100075/mask/1-066.png  \n",
            "  inflating: data/train/100075/mask/1-067.png  \n",
            "  inflating: data/train/100075/mask/1-068.png  \n",
            "  inflating: data/train/100075/mask/1-069.png  \n",
            "  inflating: data/train/100075/mask/1-070.png  \n",
            "  inflating: data/train/100075/mask/1-071.png  \n",
            "  inflating: data/train/100075/mask/1-072.png  \n",
            "  inflating: data/train/100075/mask/1-073.png  \n",
            "  inflating: data/train/100075/mask/1-074.png  \n",
            "  inflating: data/train/100075/mask/1-075.png  \n",
            "  inflating: data/train/100075/mask/1-076.png  \n",
            "  inflating: data/train/100075/mask/1-077.png  \n",
            "  inflating: data/train/100075/mask/1-078.png  \n",
            "  inflating: data/train/100075/mask/1-079.png  \n",
            "  inflating: data/train/100075/mask/1-080.png  \n",
            "  inflating: data/train/100075/mask/1-081.png  \n",
            "  inflating: data/train/100075/mask/1-082.png  \n",
            "  inflating: data/train/100075/mask/1-083.png  \n",
            "  inflating: data/train/100075/mask/1-084.png  \n",
            "  inflating: data/train/100075/mask/1-085.png  \n",
            "  inflating: data/train/100075/mask/1-086.png  \n",
            "  inflating: data/train/100075/mask/1-087.png  \n",
            "  inflating: data/train/100075/mask/1-088.png  \n",
            "  inflating: data/train/100075/mask/1-089.png  \n",
            "  inflating: data/train/100075/mask/1-090.png  \n",
            "  inflating: data/train/100075/mask/1-091.png  \n",
            "  inflating: data/train/100075/mask/1-092.png  \n",
            "  inflating: data/train/100075/mask/1-093.png  \n",
            "  inflating: data/train/100075/mask/1-094.png  \n",
            "  inflating: data/train/100075/mask/1-095.png  \n",
            "  inflating: data/train/100075/mask/1-096.png  \n",
            "  inflating: data/train/100075/mask/1-097.png  \n",
            "  inflating: data/train/100075/mask/1-098.png  \n",
            "  inflating: data/train/100075/mask/1-099.png  \n",
            "  inflating: data/train/100075/mask/1-100.png  \n",
            "  inflating: data/train/100075/mask/1-101.png  \n",
            "  inflating: data/train/100075/mask/1-102.png  \n",
            "  inflating: data/train/100075/mask/1-103.png  \n",
            "  inflating: data/train/100075/mask/1-104.png  \n",
            "  inflating: data/train/100075/mask/1-105.png  \n",
            "  inflating: data/train/100075/mask/1-106.png  \n",
            "  inflating: data/train/100075/mask/1-107.png  \n",
            "  inflating: data/train/100075/mask/1-108.png  \n",
            "  inflating: data/train/100075/mask/1-109.png  \n",
            "  inflating: data/train/100075/mask/1-110.png  \n",
            "  inflating: data/train/100075/mask/1-111.png  \n",
            "  inflating: data/train/100075/mask/1-112.png  \n",
            "  inflating: data/train/100075/mask/1-113.png  \n",
            "  inflating: data/train/100075/mask/1-114.png  \n",
            "  inflating: data/train/100075/mask/1-115.png  \n",
            "  inflating: data/train/100075/mask/1-116.png  \n",
            "  inflating: data/train/100075/mask/1-117.png  \n",
            "  inflating: data/train/100075/mask/1-118.png  \n",
            "  inflating: data/train/100075/mask/1-119.png  \n",
            "  inflating: data/train/100075/mask/1-120.png  \n",
            "  inflating: data/train/100075/mask/1-121.png  \n",
            "  inflating: data/train/100075/mask/1-122.png  \n",
            "  inflating: data/train/100075/mask/1-123.png  \n",
            "  inflating: data/train/100075/mask/1-124.png  \n",
            "  inflating: data/train/100075/mask/1-125.png  \n",
            "  inflating: data/train/100075/mask/1-126.png  \n",
            "  inflating: data/train/100075/mask/1-127.png  \n",
            "  inflating: data/train/100075/mask/1-128.png  \n",
            "  inflating: data/train/100075/mask/1-129.png  \n",
            "  inflating: data/train/100075/mask/1-130.png  \n",
            "  inflating: data/train/100075/mask/1-131.png  \n",
            "  inflating: data/train/100075/mask/1-132.png  \n",
            "  inflating: data/train/100075/mask/1-133.png  \n",
            "  inflating: data/train/100075/mask/1-134.png  \n",
            "  inflating: data/train/100075/mask/1-135.png  \n",
            "  inflating: data/train/100075/mask/1-136.png  \n",
            "  inflating: data/train/100075/mask/1-137.png  \n",
            "  inflating: data/train/100075/mask/1-138.png  \n",
            "  inflating: data/train/100075/mask/1-139.png  \n",
            "  inflating: data/train/100075/mask/1-140.png  \n",
            "  inflating: data/train/100075/mask/1-141.png  \n",
            "  inflating: data/train/100075/mask/1-142.png  \n",
            "  inflating: data/train/100075/mask/1-143.png  \n",
            "  inflating: data/train/100075/mask/1-144.png  \n",
            "  inflating: data/train/100075/mask/1-145.png  \n",
            "  inflating: data/train/100075/mask/1-146.png  \n",
            "  inflating: data/train/100075/mask/1-147.png  \n",
            "  inflating: data/train/100075/mask/1-148.png  \n",
            "  inflating: data/train/100075/mask/1-149.png  \n",
            "  inflating: data/train/100075/mask/1-150.png  \n",
            "  inflating: data/train/100075/mask/1-151.png  \n",
            "  inflating: data/train/100075/mask/1-152.png  \n",
            "  inflating: data/train/100079/image/1-01.png  \n",
            "  inflating: data/train/100079/image/1-02.png  \n",
            "  inflating: data/train/100079/image/1-03.png  \n",
            "  inflating: data/train/100079/image/1-04.png  \n",
            "  inflating: data/train/100079/image/1-05.png  \n",
            "  inflating: data/train/100079/image/1-06.png  \n",
            "  inflating: data/train/100079/image/1-07.png  \n",
            "  inflating: data/train/100079/image/1-08.png  \n",
            "  inflating: data/train/100079/image/1-09.png  \n",
            "  inflating: data/train/100079/image/1-10.png  \n",
            "  inflating: data/train/100079/image/1-11.png  \n",
            "  inflating: data/train/100079/image/1-12.png  \n",
            "  inflating: data/train/100079/image/1-13.png  \n",
            "  inflating: data/train/100079/image/1-14.png  \n",
            "  inflating: data/train/100079/image/1-15.png  \n",
            "  inflating: data/train/100079/image/1-16.png  \n",
            "  inflating: data/train/100079/image/1-17.png  \n",
            "  inflating: data/train/100079/image/1-18.png  \n",
            "  inflating: data/train/100079/image/1-19.png  \n",
            "  inflating: data/train/100079/image/1-20.png  \n",
            "  inflating: data/train/100079/image/1-21.png  \n",
            "  inflating: data/train/100079/image/1-22.png  \n",
            "  inflating: data/train/100079/image/1-23.png  \n",
            "  inflating: data/train/100079/image/1-24.png  \n",
            "  inflating: data/train/100079/image/1-25.png  \n",
            "  inflating: data/train/100079/image/1-26.png  \n",
            "  inflating: data/train/100079/image/1-27.png  \n",
            "  inflating: data/train/100079/image/1-28.png  \n",
            "  inflating: data/train/100079/image/1-29.png  \n",
            "  inflating: data/train/100079/image/1-30.png  \n",
            "  inflating: data/train/100079/image/1-31.png  \n",
            "  inflating: data/train/100079/image/1-32.png  \n",
            "  inflating: data/train/100079/image/1-33.png  \n",
            "  inflating: data/train/100079/image/1-34.png  \n",
            "  inflating: data/train/100079/image/1-35.png  \n",
            "  inflating: data/train/100079/image/1-36.png  \n",
            "  inflating: data/train/100079/image/1-37.png  \n",
            "  inflating: data/train/100079/image/1-38.png  \n",
            "  inflating: data/train/100079/image/1-39.png  \n",
            "  inflating: data/train/100079/image/1-40.png  \n",
            "  inflating: data/train/100079/image/1-41.png  \n",
            "  inflating: data/train/100079/image/1-42.png  \n",
            "  inflating: data/train/100079/image/1-43.png  \n",
            "  inflating: data/train/100079/image/1-44.png  \n",
            "  inflating: data/train/100079/image/1-45.png  \n",
            "  inflating: data/train/100079/image/1-46.png  \n",
            "  inflating: data/train/100079/image/1-47.png  \n",
            "  inflating: data/train/100079/image/1-48.png  \n",
            "  inflating: data/train/100079/image/1-49.png  \n",
            "  inflating: data/train/100079/image/1-50.png  \n",
            "  inflating: data/train/100079/image/1-51.png  \n",
            "  inflating: data/train/100079/image/1-52.png  \n",
            "  inflating: data/train/100079/image/1-53.png  \n",
            "  inflating: data/train/100079/image/1-54.png  \n",
            "  inflating: data/train/100079/image/1-55.png  \n",
            "  inflating: data/train/100079/image/1-56.png  \n",
            "  inflating: data/train/100079/image/1-57.png  \n",
            "  inflating: data/train/100079/image/1-58.png  \n",
            "  inflating: data/train/100079/image/1-59.png  \n",
            "  inflating: data/train/100079/image/1-60.png  \n",
            "  inflating: data/train/100079/image/1-61.png  \n",
            "  inflating: data/train/100079/image/1-62.png  \n",
            "  inflating: data/train/100079/image/1-63.png  \n",
            "  inflating: data/train/100079/image/1-64.png  \n",
            "  inflating: data/train/100079/image/1-65.png  \n",
            "  inflating: data/train/100079/image/1-66.png  \n",
            "  inflating: data/train/100079/mask/1-01.png  \n",
            "  inflating: data/train/100079/mask/1-02.png  \n",
            "  inflating: data/train/100079/mask/1-03.png  \n",
            "  inflating: data/train/100079/mask/1-04.png  \n",
            "  inflating: data/train/100079/mask/1-05.png  \n",
            "  inflating: data/train/100079/mask/1-06.png  \n",
            "  inflating: data/train/100079/mask/1-07.png  \n",
            "  inflating: data/train/100079/mask/1-08.png  \n",
            "  inflating: data/train/100079/mask/1-09.png  \n",
            "  inflating: data/train/100079/mask/1-10.png  \n",
            "  inflating: data/train/100079/mask/1-11.png  \n",
            "  inflating: data/train/100079/mask/1-12.png  \n",
            "  inflating: data/train/100079/mask/1-13.png  \n",
            "  inflating: data/train/100079/mask/1-14.png  \n",
            "  inflating: data/train/100079/mask/1-15.png  \n",
            "  inflating: data/train/100079/mask/1-16.png  \n",
            "  inflating: data/train/100079/mask/1-17.png  \n",
            "  inflating: data/train/100079/mask/1-18.png  \n",
            "  inflating: data/train/100079/mask/1-19.png  \n",
            "  inflating: data/train/100079/mask/1-20.png  \n",
            "  inflating: data/train/100079/mask/1-21.png  \n",
            "  inflating: data/train/100079/mask/1-22.png  \n",
            "  inflating: data/train/100079/mask/1-23.png  \n",
            "  inflating: data/train/100079/mask/1-24.png  \n",
            "  inflating: data/train/100079/mask/1-25.png  \n",
            "  inflating: data/train/100079/mask/1-26.png  \n",
            "  inflating: data/train/100079/mask/1-27.png  \n",
            "  inflating: data/train/100079/mask/1-28.png  \n",
            "  inflating: data/train/100079/mask/1-29.png  \n",
            "  inflating: data/train/100079/mask/1-30.png  \n",
            "  inflating: data/train/100079/mask/1-31.png  \n",
            "  inflating: data/train/100079/mask/1-32.png  \n",
            "  inflating: data/train/100079/mask/1-33.png  \n",
            "  inflating: data/train/100079/mask/1-34.png  \n",
            "  inflating: data/train/100079/mask/1-35.png  \n",
            "  inflating: data/train/100079/mask/1-36.png  \n",
            "  inflating: data/train/100079/mask/1-37.png  \n",
            "  inflating: data/train/100079/mask/1-38.png  \n",
            "  inflating: data/train/100079/mask/1-39.png  \n",
            "  inflating: data/train/100079/mask/1-40.png  \n",
            "  inflating: data/train/100079/mask/1-41.png  \n",
            "  inflating: data/train/100079/mask/1-42.png  \n",
            "  inflating: data/train/100079/mask/1-43.png  \n",
            "  inflating: data/train/100079/mask/1-44.png  \n",
            "  inflating: data/train/100079/mask/1-45.png  \n",
            "  inflating: data/train/100079/mask/1-46.png  \n",
            "  inflating: data/train/100079/mask/1-47.png  \n",
            "  inflating: data/train/100079/mask/1-48.png  \n",
            "  inflating: data/train/100079/mask/1-49.png  \n",
            "  inflating: data/train/100079/mask/1-50.png  \n",
            "  inflating: data/train/100079/mask/1-51.png  \n",
            "  inflating: data/train/100079/mask/1-52.png  \n",
            "  inflating: data/train/100079/mask/1-53.png  \n",
            "  inflating: data/train/100079/mask/1-54.png  \n",
            "  inflating: data/train/100079/mask/1-55.png  \n",
            "  inflating: data/train/100079/mask/1-56.png  \n",
            "  inflating: data/train/100079/mask/1-57.png  \n",
            "  inflating: data/train/100079/mask/1-58.png  \n",
            "  inflating: data/train/100079/mask/1-59.png  \n",
            "  inflating: data/train/100079/mask/1-60.png  \n",
            "  inflating: data/train/100079/mask/1-61.png  \n",
            "  inflating: data/train/100079/mask/1-62.png  \n",
            "  inflating: data/train/100079/mask/1-63.png  \n",
            "  inflating: data/train/100079/mask/1-64.png  \n",
            "  inflating: data/train/100079/mask/1-65.png  \n",
            "  inflating: data/train/100079/mask/1-66.png  \n",
            "  inflating: data/train/100080/image/1-001.png  \n",
            "  inflating: data/train/100080/image/1-002.png  \n",
            "  inflating: data/train/100080/image/1-003.png  \n",
            "  inflating: data/train/100080/image/1-004.png  \n",
            "  inflating: data/train/100080/image/1-005.png  \n",
            "  inflating: data/train/100080/image/1-006.png  \n",
            "  inflating: data/train/100080/image/1-007.png  \n",
            "  inflating: data/train/100080/image/1-008.png  \n",
            "  inflating: data/train/100080/image/1-009.png  \n",
            "  inflating: data/train/100080/image/1-010.png  \n",
            "  inflating: data/train/100080/image/1-011.png  \n",
            "  inflating: data/train/100080/image/1-012.png  \n",
            "  inflating: data/train/100080/image/1-013.png  \n",
            "  inflating: data/train/100080/image/1-014.png  \n",
            "  inflating: data/train/100080/image/1-015.png  \n",
            "  inflating: data/train/100080/image/1-016.png  \n",
            "  inflating: data/train/100080/image/1-017.png  \n",
            "  inflating: data/train/100080/image/1-018.png  \n",
            "  inflating: data/train/100080/image/1-019.png  \n",
            "  inflating: data/train/100080/image/1-020.png  \n",
            "  inflating: data/train/100080/image/1-021.png  \n",
            "  inflating: data/train/100080/image/1-022.png  \n",
            "  inflating: data/train/100080/image/1-023.png  \n",
            "  inflating: data/train/100080/image/1-024.png  \n",
            "  inflating: data/train/100080/image/1-025.png  \n",
            "  inflating: data/train/100080/image/1-026.png  \n",
            "  inflating: data/train/100080/image/1-027.png  \n",
            "  inflating: data/train/100080/image/1-028.png  \n",
            "  inflating: data/train/100080/image/1-029.png  \n",
            "  inflating: data/train/100080/image/1-030.png  \n",
            "  inflating: data/train/100080/image/1-031.png  \n",
            "  inflating: data/train/100080/image/1-032.png  \n",
            "  inflating: data/train/100080/image/1-033.png  \n",
            "  inflating: data/train/100080/image/1-034.png  \n",
            "  inflating: data/train/100080/image/1-035.png  \n",
            "  inflating: data/train/100080/image/1-036.png  \n",
            "  inflating: data/train/100080/image/1-037.png  \n",
            "  inflating: data/train/100080/image/1-038.png  \n",
            "  inflating: data/train/100080/image/1-039.png  \n",
            "  inflating: data/train/100080/image/1-040.png  \n",
            "  inflating: data/train/100080/image/1-041.png  \n",
            "  inflating: data/train/100080/image/1-042.png  \n",
            "  inflating: data/train/100080/image/1-043.png  \n",
            "  inflating: data/train/100080/image/1-044.png  \n",
            "  inflating: data/train/100080/image/1-045.png  \n",
            "  inflating: data/train/100080/image/1-046.png  \n",
            "  inflating: data/train/100080/image/1-047.png  \n",
            "  inflating: data/train/100080/image/1-048.png  \n",
            "  inflating: data/train/100080/image/1-049.png  \n",
            "  inflating: data/train/100080/image/1-050.png  \n",
            "  inflating: data/train/100080/image/1-051.png  \n",
            "  inflating: data/train/100080/image/1-052.png  \n",
            "  inflating: data/train/100080/image/1-053.png  \n",
            "  inflating: data/train/100080/image/1-054.png  \n",
            "  inflating: data/train/100080/image/1-055.png  \n",
            "  inflating: data/train/100080/image/1-056.png  \n",
            "  inflating: data/train/100080/image/1-057.png  \n",
            "  inflating: data/train/100080/image/1-058.png  \n",
            "  inflating: data/train/100080/image/1-059.png  \n",
            "  inflating: data/train/100080/image/1-060.png  \n",
            "  inflating: data/train/100080/image/1-061.png  \n",
            "  inflating: data/train/100080/image/1-062.png  \n",
            "  inflating: data/train/100080/image/1-063.png  \n",
            "  inflating: data/train/100080/image/1-064.png  \n",
            "  inflating: data/train/100080/image/1-065.png  \n",
            "  inflating: data/train/100080/image/1-066.png  \n",
            "  inflating: data/train/100080/image/1-067.png  \n",
            "  inflating: data/train/100080/image/1-068.png  \n",
            "  inflating: data/train/100080/image/1-069.png  \n",
            "  inflating: data/train/100080/image/1-070.png  \n",
            "  inflating: data/train/100080/image/1-071.png  \n",
            "  inflating: data/train/100080/image/1-072.png  \n",
            "  inflating: data/train/100080/image/1-073.png  \n",
            "  inflating: data/train/100080/image/1-074.png  \n",
            "  inflating: data/train/100080/image/1-075.png  \n",
            "  inflating: data/train/100080/image/1-076.png  \n",
            "  inflating: data/train/100080/image/1-077.png  \n",
            "  inflating: data/train/100080/image/1-078.png  \n",
            "  inflating: data/train/100080/image/1-079.png  \n",
            "  inflating: data/train/100080/image/1-080.png  \n",
            "  inflating: data/train/100080/image/1-081.png  \n",
            "  inflating: data/train/100080/image/1-082.png  \n",
            "  inflating: data/train/100080/image/1-083.png  \n",
            "  inflating: data/train/100080/image/1-084.png  \n",
            "  inflating: data/train/100080/image/1-085.png  \n",
            "  inflating: data/train/100080/image/1-086.png  \n",
            "  inflating: data/train/100080/image/1-087.png  \n",
            "  inflating: data/train/100080/image/1-088.png  \n",
            "  inflating: data/train/100080/image/1-089.png  \n",
            "  inflating: data/train/100080/image/1-090.png  \n",
            "  inflating: data/train/100080/image/1-091.png  \n",
            "  inflating: data/train/100080/image/1-092.png  \n",
            "  inflating: data/train/100080/image/1-093.png  \n",
            "  inflating: data/train/100080/image/1-094.png  \n",
            "  inflating: data/train/100080/image/1-095.png  \n",
            "  inflating: data/train/100080/image/1-096.png  \n",
            "  inflating: data/train/100080/image/1-097.png  \n",
            "  inflating: data/train/100080/image/1-098.png  \n",
            "  inflating: data/train/100080/image/1-099.png  \n",
            "  inflating: data/train/100080/image/1-100.png  \n",
            "  inflating: data/train/100080/image/1-101.png  \n",
            "  inflating: data/train/100080/image/1-102.png  \n",
            "  inflating: data/train/100080/image/1-103.png  \n",
            "  inflating: data/train/100080/image/1-104.png  \n",
            "  inflating: data/train/100080/image/1-105.png  \n",
            "  inflating: data/train/100080/image/1-106.png  \n",
            "  inflating: data/train/100080/image/1-107.png  \n",
            "  inflating: data/train/100080/image/1-108.png  \n",
            "  inflating: data/train/100080/image/1-109.png  \n",
            "  inflating: data/train/100080/image/1-110.png  \n",
            "  inflating: data/train/100080/image/1-111.png  \n",
            "  inflating: data/train/100080/image/1-112.png  \n",
            "  inflating: data/train/100080/image/1-113.png  \n",
            "  inflating: data/train/100080/image/1-114.png  \n",
            "  inflating: data/train/100080/image/1-115.png  \n",
            "  inflating: data/train/100080/image/1-116.png  \n",
            "  inflating: data/train/100080/image/1-117.png  \n",
            "  inflating: data/train/100080/image/1-118.png  \n",
            "  inflating: data/train/100080/image/1-119.png  \n",
            "  inflating: data/train/100080/image/1-120.png  \n",
            "  inflating: data/train/100080/image/1-121.png  \n",
            "  inflating: data/train/100080/image/1-122.png  \n",
            "  inflating: data/train/100080/image/1-123.png  \n",
            "  inflating: data/train/100080/image/1-124.png  \n",
            "  inflating: data/train/100080/image/1-125.png  \n",
            "  inflating: data/train/100080/image/1-126.png  \n",
            "  inflating: data/train/100080/image/1-127.png  \n",
            "  inflating: data/train/100080/image/1-128.png  \n",
            "  inflating: data/train/100080/image/1-129.png  \n",
            "  inflating: data/train/100080/image/1-130.png  \n",
            "  inflating: data/train/100080/image/1-131.png  \n",
            "  inflating: data/train/100080/image/1-132.png  \n",
            "  inflating: data/train/100080/image/1-133.png  \n",
            "  inflating: data/train/100080/image/1-134.png  \n",
            "  inflating: data/train/100080/image/1-135.png  \n",
            "  inflating: data/train/100080/image/1-136.png  \n",
            "  inflating: data/train/100080/image/1-137.png  \n",
            "  inflating: data/train/100080/image/1-138.png  \n",
            "  inflating: data/train/100080/image/1-139.png  \n",
            "  inflating: data/train/100080/image/1-140.png  \n",
            "  inflating: data/train/100080/image/1-141.png  \n",
            "  inflating: data/train/100080/image/1-142.png  \n",
            "  inflating: data/train/100080/mask/1-001.png  \n",
            "  inflating: data/train/100080/mask/1-002.png  \n",
            "  inflating: data/train/100080/mask/1-003.png  \n",
            "  inflating: data/train/100080/mask/1-004.png  \n",
            "  inflating: data/train/100080/mask/1-005.png  \n",
            "  inflating: data/train/100080/mask/1-006.png  \n",
            "  inflating: data/train/100080/mask/1-007.png  \n",
            "  inflating: data/train/100080/mask/1-008.png  \n",
            "  inflating: data/train/100080/mask/1-009.png  \n",
            "  inflating: data/train/100080/mask/1-010.png  \n",
            "  inflating: data/train/100080/mask/1-011.png  \n",
            "  inflating: data/train/100080/mask/1-012.png  \n",
            "  inflating: data/train/100080/mask/1-013.png  \n",
            "  inflating: data/train/100080/mask/1-014.png  \n",
            "  inflating: data/train/100080/mask/1-015.png  \n",
            "  inflating: data/train/100080/mask/1-016.png  \n",
            "  inflating: data/train/100080/mask/1-017.png  \n",
            "  inflating: data/train/100080/mask/1-018.png  \n",
            "  inflating: data/train/100080/mask/1-019.png  \n",
            "  inflating: data/train/100080/mask/1-020.png  \n",
            "  inflating: data/train/100080/mask/1-021.png  \n",
            "  inflating: data/train/100080/mask/1-022.png  \n",
            "  inflating: data/train/100080/mask/1-023.png  \n",
            "  inflating: data/train/100080/mask/1-024.png  \n",
            "  inflating: data/train/100080/mask/1-025.png  \n",
            "  inflating: data/train/100080/mask/1-026.png  \n",
            "  inflating: data/train/100080/mask/1-027.png  \n",
            "  inflating: data/train/100080/mask/1-028.png  \n",
            "  inflating: data/train/100080/mask/1-029.png  \n",
            "  inflating: data/train/100080/mask/1-030.png  \n",
            "  inflating: data/train/100080/mask/1-031.png  \n",
            "  inflating: data/train/100080/mask/1-032.png  \n",
            "  inflating: data/train/100080/mask/1-033.png  \n",
            "  inflating: data/train/100080/mask/1-034.png  \n",
            "  inflating: data/train/100080/mask/1-035.png  \n",
            "  inflating: data/train/100080/mask/1-036.png  \n",
            "  inflating: data/train/100080/mask/1-037.png  \n",
            "  inflating: data/train/100080/mask/1-038.png  \n",
            "  inflating: data/train/100080/mask/1-039.png  \n",
            "  inflating: data/train/100080/mask/1-040.png  \n",
            "  inflating: data/train/100080/mask/1-041.png  \n",
            "  inflating: data/train/100080/mask/1-042.png  \n",
            "  inflating: data/train/100080/mask/1-043.png  \n",
            "  inflating: data/train/100080/mask/1-044.png  \n",
            "  inflating: data/train/100080/mask/1-045.png  \n",
            "  inflating: data/train/100080/mask/1-046.png  \n",
            "  inflating: data/train/100080/mask/1-047.png  \n",
            "  inflating: data/train/100080/mask/1-048.png  \n",
            "  inflating: data/train/100080/mask/1-049.png  \n",
            "  inflating: data/train/100080/mask/1-050.png  \n",
            "  inflating: data/train/100080/mask/1-051.png  \n",
            "  inflating: data/train/100080/mask/1-052.png  \n",
            "  inflating: data/train/100080/mask/1-053.png  \n",
            "  inflating: data/train/100080/mask/1-054.png  \n",
            "  inflating: data/train/100080/mask/1-055.png  \n",
            "  inflating: data/train/100080/mask/1-056.png  \n",
            "  inflating: data/train/100080/mask/1-057.png  \n",
            "  inflating: data/train/100080/mask/1-058.png  \n",
            "  inflating: data/train/100080/mask/1-059.png  \n",
            "  inflating: data/train/100080/mask/1-060.png  \n",
            "  inflating: data/train/100080/mask/1-061.png  \n",
            "  inflating: data/train/100080/mask/1-062.png  \n",
            "  inflating: data/train/100080/mask/1-063.png  \n",
            "  inflating: data/train/100080/mask/1-064.png  \n",
            "  inflating: data/train/100080/mask/1-065.png  \n",
            "  inflating: data/train/100080/mask/1-066.png  \n",
            "  inflating: data/train/100080/mask/1-067.png  \n",
            "  inflating: data/train/100080/mask/1-068.png  \n",
            "  inflating: data/train/100080/mask/1-069.png  \n",
            "  inflating: data/train/100080/mask/1-070.png  \n",
            "  inflating: data/train/100080/mask/1-071.png  \n",
            "  inflating: data/train/100080/mask/1-072.png  \n",
            "  inflating: data/train/100080/mask/1-073.png  \n",
            "  inflating: data/train/100080/mask/1-074.png  \n",
            "  inflating: data/train/100080/mask/1-075.png  \n",
            "  inflating: data/train/100080/mask/1-076.png  \n",
            "  inflating: data/train/100080/mask/1-077.png  \n",
            "  inflating: data/train/100080/mask/1-078.png  \n",
            "  inflating: data/train/100080/mask/1-079.png  \n",
            "  inflating: data/train/100080/mask/1-080.png  \n",
            "  inflating: data/train/100080/mask/1-081.png  \n",
            "  inflating: data/train/100080/mask/1-082.png  \n",
            "  inflating: data/train/100080/mask/1-083.png  \n",
            "  inflating: data/train/100080/mask/1-084.png  \n",
            "  inflating: data/train/100080/mask/1-085.png  \n",
            "  inflating: data/train/100080/mask/1-086.png  \n",
            "  inflating: data/train/100080/mask/1-087.png  \n",
            "  inflating: data/train/100080/mask/1-088.png  \n",
            "  inflating: data/train/100080/mask/1-089.png  \n",
            "  inflating: data/train/100080/mask/1-090.png  \n",
            "  inflating: data/train/100080/mask/1-091.png  \n",
            "  inflating: data/train/100080/mask/1-092.png  \n",
            "  inflating: data/train/100080/mask/1-093.png  \n",
            "  inflating: data/train/100080/mask/1-094.png  \n",
            "  inflating: data/train/100080/mask/1-095.png  \n",
            "  inflating: data/train/100080/mask/1-096.png  \n",
            "  inflating: data/train/100080/mask/1-097.png  \n",
            "  inflating: data/train/100080/mask/1-098.png  \n",
            "  inflating: data/train/100080/mask/1-099.png  \n",
            "  inflating: data/train/100080/mask/1-100.png  \n",
            "  inflating: data/train/100080/mask/1-101.png  \n",
            "  inflating: data/train/100080/mask/1-102.png  \n",
            "  inflating: data/train/100080/mask/1-103.png  \n",
            "  inflating: data/train/100080/mask/1-104.png  \n",
            "  inflating: data/train/100080/mask/1-105.png  \n",
            "  inflating: data/train/100080/mask/1-106.png  \n",
            "  inflating: data/train/100080/mask/1-107.png  \n",
            "  inflating: data/train/100080/mask/1-108.png  \n",
            "  inflating: data/train/100080/mask/1-109.png  \n",
            "  inflating: data/train/100080/mask/1-110.png  \n",
            "  inflating: data/train/100080/mask/1-111.png  \n",
            "  inflating: data/train/100080/mask/1-112.png  \n",
            "  inflating: data/train/100080/mask/1-113.png  \n",
            "  inflating: data/train/100080/mask/1-114.png  \n",
            "  inflating: data/train/100080/mask/1-115.png  \n",
            "  inflating: data/train/100080/mask/1-116.png  \n",
            "  inflating: data/train/100080/mask/1-117.png  \n",
            "  inflating: data/train/100080/mask/1-118.png  \n",
            "  inflating: data/train/100080/mask/1-119.png  \n",
            "  inflating: data/train/100080/mask/1-120.png  \n",
            "  inflating: data/train/100080/mask/1-121.png  \n",
            "  inflating: data/train/100080/mask/1-122.png  \n",
            "  inflating: data/train/100080/mask/1-123.png  \n",
            "  inflating: data/train/100080/mask/1-124.png  \n",
            "  inflating: data/train/100080/mask/1-125.png  \n",
            "  inflating: data/train/100080/mask/1-126.png  \n",
            "  inflating: data/train/100080/mask/1-127.png  \n",
            "  inflating: data/train/100080/mask/1-128.png  \n",
            "  inflating: data/train/100080/mask/1-129.png  \n",
            "  inflating: data/train/100080/mask/1-130.png  \n",
            "  inflating: data/train/100080/mask/1-131.png  \n",
            "  inflating: data/train/100080/mask/1-132.png  \n",
            "  inflating: data/train/100080/mask/1-133.png  \n",
            "  inflating: data/train/100080/mask/1-134.png  \n",
            "  inflating: data/train/100080/mask/1-135.png  \n",
            "  inflating: data/train/100080/mask/1-136.png  \n",
            "  inflating: data/train/100080/mask/1-137.png  \n",
            "  inflating: data/train/100080/mask/1-138.png  \n",
            "  inflating: data/train/100080/mask/1-139.png  \n",
            "  inflating: data/train/100080/mask/1-140.png  \n",
            "  inflating: data/train/100080/mask/1-141.png  \n",
            "  inflating: data/train/100080/mask/1-142.png  \n",
            "  inflating: data/train/100082/image/1-001.png  \n",
            "  inflating: data/train/100082/image/1-002.png  \n",
            "  inflating: data/train/100082/image/1-003.png  \n",
            "  inflating: data/train/100082/image/1-004.png  \n",
            "  inflating: data/train/100082/image/1-005.png  \n",
            "  inflating: data/train/100082/image/1-006.png  \n",
            "  inflating: data/train/100082/image/1-007.png  \n",
            "  inflating: data/train/100082/image/1-008.png  \n",
            "  inflating: data/train/100082/image/1-009.png  \n",
            "  inflating: data/train/100082/image/1-010.png  \n",
            "  inflating: data/train/100082/image/1-011.png  \n",
            "  inflating: data/train/100082/image/1-012.png  \n",
            "  inflating: data/train/100082/image/1-013.png  \n",
            "  inflating: data/train/100082/image/1-014.png  \n",
            "  inflating: data/train/100082/image/1-015.png  \n",
            "  inflating: data/train/100082/image/1-016.png  \n",
            "  inflating: data/train/100082/image/1-017.png  \n",
            "  inflating: data/train/100082/image/1-018.png  \n",
            "  inflating: data/train/100082/image/1-019.png  \n",
            "  inflating: data/train/100082/image/1-020.png  \n",
            "  inflating: data/train/100082/image/1-021.png  \n",
            "  inflating: data/train/100082/image/1-022.png  \n",
            "  inflating: data/train/100082/image/1-023.png  \n",
            "  inflating: data/train/100082/image/1-024.png  \n",
            "  inflating: data/train/100082/image/1-025.png  \n",
            "  inflating: data/train/100082/image/1-026.png  \n",
            "  inflating: data/train/100082/image/1-027.png  \n",
            "  inflating: data/train/100082/image/1-028.png  \n",
            "  inflating: data/train/100082/image/1-029.png  \n",
            "  inflating: data/train/100082/image/1-030.png  \n",
            "  inflating: data/train/100082/image/1-031.png  \n",
            "  inflating: data/train/100082/image/1-032.png  \n",
            "  inflating: data/train/100082/image/1-033.png  \n",
            "  inflating: data/train/100082/image/1-034.png  \n",
            "  inflating: data/train/100082/image/1-035.png  \n",
            "  inflating: data/train/100082/image/1-036.png  \n",
            "  inflating: data/train/100082/image/1-037.png  \n",
            "  inflating: data/train/100082/image/1-038.png  \n",
            "  inflating: data/train/100082/image/1-039.png  \n",
            "  inflating: data/train/100082/image/1-040.png  \n",
            "  inflating: data/train/100082/image/1-041.png  \n",
            "  inflating: data/train/100082/image/1-042.png  \n",
            "  inflating: data/train/100082/image/1-043.png  \n",
            "  inflating: data/train/100082/image/1-044.png  \n",
            "  inflating: data/train/100082/image/1-045.png  \n",
            "  inflating: data/train/100082/image/1-046.png  \n",
            "  inflating: data/train/100082/image/1-047.png  \n",
            "  inflating: data/train/100082/image/1-048.png  \n",
            "  inflating: data/train/100082/image/1-049.png  \n",
            "  inflating: data/train/100082/image/1-050.png  \n",
            "  inflating: data/train/100082/image/1-051.png  \n",
            "  inflating: data/train/100082/image/1-052.png  \n",
            "  inflating: data/train/100082/image/1-053.png  \n",
            "  inflating: data/train/100082/image/1-054.png  \n",
            "  inflating: data/train/100082/image/1-055.png  \n",
            "  inflating: data/train/100082/image/1-056.png  \n",
            "  inflating: data/train/100082/image/1-057.png  \n",
            "  inflating: data/train/100082/image/1-058.png  \n",
            "  inflating: data/train/100082/image/1-059.png  \n",
            "  inflating: data/train/100082/image/1-060.png  \n",
            "  inflating: data/train/100082/image/1-061.png  \n",
            "  inflating: data/train/100082/image/1-062.png  \n",
            "  inflating: data/train/100082/image/1-063.png  \n",
            "  inflating: data/train/100082/image/1-064.png  \n",
            "  inflating: data/train/100082/image/1-065.png  \n",
            "  inflating: data/train/100082/image/1-066.png  \n",
            "  inflating: data/train/100082/image/1-067.png  \n",
            "  inflating: data/train/100082/image/1-068.png  \n",
            "  inflating: data/train/100082/image/1-069.png  \n",
            "  inflating: data/train/100082/image/1-070.png  \n",
            "  inflating: data/train/100082/image/1-071.png  \n",
            "  inflating: data/train/100082/image/1-072.png  \n",
            "  inflating: data/train/100082/image/1-073.png  \n",
            "  inflating: data/train/100082/image/1-074.png  \n",
            "  inflating: data/train/100082/image/1-075.png  \n",
            "  inflating: data/train/100082/image/1-076.png  \n",
            "  inflating: data/train/100082/image/1-077.png  \n",
            "  inflating: data/train/100082/image/1-078.png  \n",
            "  inflating: data/train/100082/image/1-079.png  \n",
            "  inflating: data/train/100082/image/1-080.png  \n",
            "  inflating: data/train/100082/image/1-081.png  \n",
            "  inflating: data/train/100082/image/1-082.png  \n",
            "  inflating: data/train/100082/image/1-083.png  \n",
            "  inflating: data/train/100082/image/1-084.png  \n",
            "  inflating: data/train/100082/image/1-085.png  \n",
            "  inflating: data/train/100082/image/1-086.png  \n",
            "  inflating: data/train/100082/image/1-087.png  \n",
            "  inflating: data/train/100082/image/1-088.png  \n",
            "  inflating: data/train/100082/image/1-089.png  \n",
            "  inflating: data/train/100082/image/1-090.png  \n",
            "  inflating: data/train/100082/image/1-091.png  \n",
            "  inflating: data/train/100082/image/1-092.png  \n",
            "  inflating: data/train/100082/image/1-093.png  \n",
            "  inflating: data/train/100082/image/1-094.png  \n",
            "  inflating: data/train/100082/image/1-095.png  \n",
            "  inflating: data/train/100082/image/1-096.png  \n",
            "  inflating: data/train/100082/image/1-097.png  \n",
            "  inflating: data/train/100082/image/1-098.png  \n",
            "  inflating: data/train/100082/image/1-099.png  \n",
            "  inflating: data/train/100082/image/1-100.png  \n",
            "  inflating: data/train/100082/image/1-101.png  \n",
            "  inflating: data/train/100082/image/1-102.png  \n",
            "  inflating: data/train/100082/image/1-103.png  \n",
            "  inflating: data/train/100082/image/1-104.png  \n",
            "  inflating: data/train/100082/image/1-105.png  \n",
            "  inflating: data/train/100082/image/1-106.png  \n",
            "  inflating: data/train/100082/image/1-107.png  \n",
            "  inflating: data/train/100082/image/1-108.png  \n",
            "  inflating: data/train/100082/image/1-109.png  \n",
            "  inflating: data/train/100082/image/1-110.png  \n",
            "  inflating: data/train/100082/image/1-111.png  \n",
            "  inflating: data/train/100082/image/1-112.png  \n",
            "  inflating: data/train/100082/image/1-113.png  \n",
            "  inflating: data/train/100082/image/1-114.png  \n",
            "  inflating: data/train/100082/image/1-115.png  \n",
            "  inflating: data/train/100082/image/1-116.png  \n",
            "  inflating: data/train/100082/image/1-117.png  \n",
            "  inflating: data/train/100082/image/1-118.png  \n",
            "  inflating: data/train/100082/image/1-119.png  \n",
            "  inflating: data/train/100082/image/1-120.png  \n",
            "  inflating: data/train/100082/image/1-121.png  \n",
            "  inflating: data/train/100082/image/1-122.png  \n",
            "  inflating: data/train/100082/image/1-123.png  \n",
            "  inflating: data/train/100082/image/1-124.png  \n",
            "  inflating: data/train/100082/mask/1-001.png  \n",
            "  inflating: data/train/100082/mask/1-002.png  \n",
            "  inflating: data/train/100082/mask/1-003.png  \n",
            "  inflating: data/train/100082/mask/1-004.png  \n",
            "  inflating: data/train/100082/mask/1-005.png  \n",
            "  inflating: data/train/100082/mask/1-006.png  \n",
            "  inflating: data/train/100082/mask/1-007.png  \n",
            "  inflating: data/train/100082/mask/1-008.png  \n",
            "  inflating: data/train/100082/mask/1-009.png  \n",
            "  inflating: data/train/100082/mask/1-010.png  \n",
            "  inflating: data/train/100082/mask/1-011.png  \n",
            "  inflating: data/train/100082/mask/1-012.png  \n",
            "  inflating: data/train/100082/mask/1-013.png  \n",
            "  inflating: data/train/100082/mask/1-014.png  \n",
            "  inflating: data/train/100082/mask/1-015.png  \n",
            "  inflating: data/train/100082/mask/1-016.png  \n",
            "  inflating: data/train/100082/mask/1-017.png  \n",
            "  inflating: data/train/100082/mask/1-018.png  \n",
            "  inflating: data/train/100082/mask/1-019.png  \n",
            "  inflating: data/train/100082/mask/1-020.png  \n",
            "  inflating: data/train/100082/mask/1-021.png  \n",
            "  inflating: data/train/100082/mask/1-022.png  \n",
            "  inflating: data/train/100082/mask/1-023.png  \n",
            "  inflating: data/train/100082/mask/1-024.png  \n",
            "  inflating: data/train/100082/mask/1-025.png  \n",
            "  inflating: data/train/100082/mask/1-026.png  \n",
            "  inflating: data/train/100082/mask/1-027.png  \n",
            "  inflating: data/train/100082/mask/1-028.png  \n",
            "  inflating: data/train/100082/mask/1-029.png  \n",
            "  inflating: data/train/100082/mask/1-030.png  \n",
            "  inflating: data/train/100082/mask/1-031.png  \n",
            "  inflating: data/train/100082/mask/1-032.png  \n",
            "  inflating: data/train/100082/mask/1-033.png  \n",
            "  inflating: data/train/100082/mask/1-034.png  \n",
            "  inflating: data/train/100082/mask/1-035.png  \n",
            "  inflating: data/train/100082/mask/1-036.png  \n",
            "  inflating: data/train/100082/mask/1-037.png  \n",
            "  inflating: data/train/100082/mask/1-038.png  \n",
            "  inflating: data/train/100082/mask/1-039.png  \n",
            "  inflating: data/train/100082/mask/1-040.png  \n",
            "  inflating: data/train/100082/mask/1-041.png  \n",
            "  inflating: data/train/100082/mask/1-042.png  \n",
            "  inflating: data/train/100082/mask/1-043.png  \n",
            "  inflating: data/train/100082/mask/1-044.png  \n",
            "  inflating: data/train/100082/mask/1-045.png  \n",
            "  inflating: data/train/100082/mask/1-046.png  \n",
            "  inflating: data/train/100082/mask/1-047.png  \n",
            "  inflating: data/train/100082/mask/1-048.png  \n",
            "  inflating: data/train/100082/mask/1-049.png  \n",
            "  inflating: data/train/100082/mask/1-050.png  \n",
            "  inflating: data/train/100082/mask/1-051.png  \n",
            "  inflating: data/train/100082/mask/1-052.png  \n",
            "  inflating: data/train/100082/mask/1-053.png  \n",
            "  inflating: data/train/100082/mask/1-054.png  \n",
            "  inflating: data/train/100082/mask/1-055.png  \n",
            "  inflating: data/train/100082/mask/1-056.png  \n",
            "  inflating: data/train/100082/mask/1-057.png  \n",
            "  inflating: data/train/100082/mask/1-058.png  \n",
            "  inflating: data/train/100082/mask/1-059.png  \n",
            "  inflating: data/train/100082/mask/1-060.png  \n",
            "  inflating: data/train/100082/mask/1-061.png  \n",
            "  inflating: data/train/100082/mask/1-062.png  \n",
            "  inflating: data/train/100082/mask/1-063.png  \n",
            "  inflating: data/train/100082/mask/1-064.png  \n",
            "  inflating: data/train/100082/mask/1-065.png  \n",
            "  inflating: data/train/100082/mask/1-066.png  \n",
            "  inflating: data/train/100082/mask/1-067.png  \n",
            "  inflating: data/train/100082/mask/1-068.png  \n",
            "  inflating: data/train/100082/mask/1-069.png  \n",
            "  inflating: data/train/100082/mask/1-070.png  \n",
            "  inflating: data/train/100082/mask/1-071.png  \n",
            "  inflating: data/train/100082/mask/1-072.png  \n",
            "  inflating: data/train/100082/mask/1-073.png  \n",
            "  inflating: data/train/100082/mask/1-074.png  \n",
            "  inflating: data/train/100082/mask/1-075.png  \n",
            "  inflating: data/train/100082/mask/1-076.png  \n",
            "  inflating: data/train/100082/mask/1-077.png  \n",
            "  inflating: data/train/100082/mask/1-078.png  \n",
            "  inflating: data/train/100082/mask/1-079.png  \n",
            "  inflating: data/train/100082/mask/1-080.png  \n",
            "  inflating: data/train/100082/mask/1-081.png  \n",
            "  inflating: data/train/100082/mask/1-082.png  \n",
            "  inflating: data/train/100082/mask/1-083.png  \n",
            "  inflating: data/train/100082/mask/1-084.png  \n",
            "  inflating: data/train/100082/mask/1-085.png  \n",
            "  inflating: data/train/100082/mask/1-086.png  \n",
            "  inflating: data/train/100082/mask/1-087.png  \n",
            "  inflating: data/train/100082/mask/1-088.png  \n",
            "  inflating: data/train/100082/mask/1-089.png  \n",
            "  inflating: data/train/100082/mask/1-090.png  \n",
            "  inflating: data/train/100082/mask/1-091.png  \n",
            "  inflating: data/train/100082/mask/1-092.png  \n",
            "  inflating: data/train/100082/mask/1-093.png  \n",
            "  inflating: data/train/100082/mask/1-094.png  \n",
            "  inflating: data/train/100082/mask/1-095.png  \n",
            "  inflating: data/train/100082/mask/1-096.png  \n",
            "  inflating: data/train/100082/mask/1-097.png  \n",
            "  inflating: data/train/100082/mask/1-098.png  \n",
            "  inflating: data/train/100082/mask/1-099.png  \n",
            "  inflating: data/train/100082/mask/1-100.png  \n",
            "  inflating: data/train/100082/mask/1-101.png  \n",
            "  inflating: data/train/100082/mask/1-102.png  \n",
            "  inflating: data/train/100082/mask/1-103.png  \n",
            "  inflating: data/train/100082/mask/1-104.png  \n",
            "  inflating: data/train/100082/mask/1-105.png  \n",
            "  inflating: data/train/100082/mask/1-106.png  \n",
            "  inflating: data/train/100082/mask/1-107.png  \n",
            "  inflating: data/train/100082/mask/1-108.png  \n",
            "  inflating: data/train/100082/mask/1-109.png  \n",
            "  inflating: data/train/100082/mask/1-110.png  \n",
            "  inflating: data/train/100082/mask/1-111.png  \n",
            "  inflating: data/train/100082/mask/1-112.png  \n",
            "  inflating: data/train/100082/mask/1-113.png  \n",
            "  inflating: data/train/100082/mask/1-114.png  \n",
            "  inflating: data/train/100082/mask/1-115.png  \n",
            "  inflating: data/train/100082/mask/1-116.png  \n",
            "  inflating: data/train/100082/mask/1-117.png  \n",
            "  inflating: data/train/100082/mask/1-118.png  \n",
            "  inflating: data/train/100082/mask/1-119.png  \n",
            "  inflating: data/train/100082/mask/1-120.png  \n",
            "  inflating: data/train/100082/mask/1-121.png  \n",
            "  inflating: data/train/100082/mask/1-122.png  \n",
            "  inflating: data/train/100082/mask/1-123.png  \n",
            "  inflating: data/train/100082/mask/1-124.png  \n",
            "  inflating: data/train/100089/image/1-001.png  \n",
            "  inflating: data/train/100089/image/1-002.png  \n",
            "  inflating: data/train/100089/image/1-003.png  \n",
            "  inflating: data/train/100089/image/1-004.png  \n",
            "  inflating: data/train/100089/image/1-005.png  \n",
            "  inflating: data/train/100089/image/1-006.png  \n",
            "  inflating: data/train/100089/image/1-007.png  \n",
            "  inflating: data/train/100089/image/1-008.png  \n",
            "  inflating: data/train/100089/image/1-009.png  \n",
            "  inflating: data/train/100089/image/1-010.png  \n",
            "  inflating: data/train/100089/image/1-011.png  \n",
            "  inflating: data/train/100089/image/1-012.png  \n",
            "  inflating: data/train/100089/image/1-013.png  \n",
            "  inflating: data/train/100089/image/1-014.png  \n",
            "  inflating: data/train/100089/image/1-015.png  \n",
            "  inflating: data/train/100089/image/1-016.png  \n",
            "  inflating: data/train/100089/image/1-017.png  \n",
            "  inflating: data/train/100089/image/1-018.png  \n",
            "  inflating: data/train/100089/image/1-019.png  \n",
            "  inflating: data/train/100089/image/1-020.png  \n",
            "  inflating: data/train/100089/image/1-021.png  \n",
            "  inflating: data/train/100089/image/1-022.png  \n",
            "  inflating: data/train/100089/image/1-023.png  \n",
            "  inflating: data/train/100089/image/1-024.png  \n",
            "  inflating: data/train/100089/image/1-025.png  \n",
            "  inflating: data/train/100089/image/1-026.png  \n",
            "  inflating: data/train/100089/image/1-027.png  \n",
            "  inflating: data/train/100089/image/1-028.png  \n",
            "  inflating: data/train/100089/image/1-029.png  \n",
            "  inflating: data/train/100089/image/1-030.png  \n",
            "  inflating: data/train/100089/image/1-031.png  \n",
            "  inflating: data/train/100089/image/1-032.png  \n",
            "  inflating: data/train/100089/image/1-033.png  \n",
            "  inflating: data/train/100089/image/1-034.png  \n",
            "  inflating: data/train/100089/image/1-035.png  \n",
            "  inflating: data/train/100089/image/1-036.png  \n",
            "  inflating: data/train/100089/image/1-037.png  \n",
            "  inflating: data/train/100089/image/1-038.png  \n",
            "  inflating: data/train/100089/image/1-039.png  \n",
            "  inflating: data/train/100089/image/1-040.png  \n",
            "  inflating: data/train/100089/image/1-041.png  \n",
            "  inflating: data/train/100089/image/1-042.png  \n",
            "  inflating: data/train/100089/image/1-043.png  \n",
            "  inflating: data/train/100089/image/1-044.png  \n",
            "  inflating: data/train/100089/image/1-045.png  \n",
            "  inflating: data/train/100089/image/1-046.png  \n",
            "  inflating: data/train/100089/image/1-047.png  \n",
            "  inflating: data/train/100089/image/1-048.png  \n",
            "  inflating: data/train/100089/image/1-049.png  \n",
            "  inflating: data/train/100089/image/1-050.png  \n",
            "  inflating: data/train/100089/image/1-051.png  \n",
            "  inflating: data/train/100089/image/1-052.png  \n",
            "  inflating: data/train/100089/image/1-053.png  \n",
            "  inflating: data/train/100089/image/1-054.png  \n",
            "  inflating: data/train/100089/image/1-055.png  \n",
            "  inflating: data/train/100089/image/1-056.png  \n",
            "  inflating: data/train/100089/image/1-057.png  \n",
            "  inflating: data/train/100089/image/1-058.png  \n",
            "  inflating: data/train/100089/image/1-059.png  \n",
            "  inflating: data/train/100089/image/1-060.png  \n",
            "  inflating: data/train/100089/image/1-061.png  \n",
            "  inflating: data/train/100089/image/1-062.png  \n",
            "  inflating: data/train/100089/image/1-063.png  \n",
            "  inflating: data/train/100089/image/1-064.png  \n",
            "  inflating: data/train/100089/image/1-065.png  \n",
            "  inflating: data/train/100089/image/1-066.png  \n",
            "  inflating: data/train/100089/image/1-067.png  \n",
            "  inflating: data/train/100089/image/1-068.png  \n",
            "  inflating: data/train/100089/image/1-069.png  \n",
            "  inflating: data/train/100089/image/1-070.png  \n",
            "  inflating: data/train/100089/image/1-071.png  \n",
            "  inflating: data/train/100089/image/1-072.png  \n",
            "  inflating: data/train/100089/image/1-073.png  \n",
            "  inflating: data/train/100089/image/1-074.png  \n",
            "  inflating: data/train/100089/image/1-075.png  \n",
            "  inflating: data/train/100089/image/1-076.png  \n",
            "  inflating: data/train/100089/image/1-077.png  \n",
            "  inflating: data/train/100089/image/1-078.png  \n",
            "  inflating: data/train/100089/image/1-079.png  \n",
            "  inflating: data/train/100089/image/1-080.png  \n",
            "  inflating: data/train/100089/image/1-081.png  \n",
            "  inflating: data/train/100089/image/1-082.png  \n",
            "  inflating: data/train/100089/image/1-083.png  \n",
            "  inflating: data/train/100089/image/1-084.png  \n",
            "  inflating: data/train/100089/image/1-085.png  \n",
            "  inflating: data/train/100089/image/1-086.png  \n",
            "  inflating: data/train/100089/image/1-087.png  \n",
            "  inflating: data/train/100089/image/1-088.png  \n",
            "  inflating: data/train/100089/image/1-089.png  \n",
            "  inflating: data/train/100089/image/1-090.png  \n",
            "  inflating: data/train/100089/image/1-091.png  \n",
            "  inflating: data/train/100089/image/1-092.png  \n",
            "  inflating: data/train/100089/image/1-093.png  \n",
            "  inflating: data/train/100089/image/1-094.png  \n",
            "  inflating: data/train/100089/image/1-095.png  \n",
            "  inflating: data/train/100089/image/1-096.png  \n",
            "  inflating: data/train/100089/image/1-097.png  \n",
            "  inflating: data/train/100089/image/1-098.png  \n",
            "  inflating: data/train/100089/image/1-099.png  \n",
            "  inflating: data/train/100089/image/1-100.png  \n",
            "  inflating: data/train/100089/image/1-101.png  \n",
            "  inflating: data/train/100089/image/1-102.png  \n",
            "  inflating: data/train/100089/image/1-103.png  \n",
            "  inflating: data/train/100089/image/1-104.png  \n",
            "  inflating: data/train/100089/image/1-105.png  \n",
            "  inflating: data/train/100089/image/1-106.png  \n",
            "  inflating: data/train/100089/image/1-107.png  \n",
            "  inflating: data/train/100089/image/1-108.png  \n",
            "  inflating: data/train/100089/image/1-109.png  \n",
            "  inflating: data/train/100089/image/1-110.png  \n",
            "  inflating: data/train/100089/image/1-111.png  \n",
            "  inflating: data/train/100089/image/1-112.png  \n",
            "  inflating: data/train/100089/image/1-113.png  \n",
            "  inflating: data/train/100089/image/1-114.png  \n",
            "  inflating: data/train/100089/image/1-115.png  \n",
            "  inflating: data/train/100089/image/1-116.png  \n",
            "  inflating: data/train/100089/image/1-117.png  \n",
            "  inflating: data/train/100089/image/1-118.png  \n",
            "  inflating: data/train/100089/image/1-119.png  \n",
            "  inflating: data/train/100089/image/1-120.png  \n",
            "  inflating: data/train/100089/image/1-121.png  \n",
            "  inflating: data/train/100089/image/1-122.png  \n",
            "  inflating: data/train/100089/image/1-123.png  \n",
            "  inflating: data/train/100089/image/1-124.png  \n",
            "  inflating: data/train/100089/image/1-125.png  \n",
            "  inflating: data/train/100089/image/1-126.png  \n",
            "  inflating: data/train/100089/image/1-127.png  \n",
            "  inflating: data/train/100089/image/1-128.png  \n",
            "  inflating: data/train/100089/image/1-129.png  \n",
            "  inflating: data/train/100089/image/1-130.png  \n",
            "  inflating: data/train/100089/image/1-131.png  \n",
            "  inflating: data/train/100089/image/1-132.png  \n",
            "  inflating: data/train/100089/image/1-133.png  \n",
            "  inflating: data/train/100089/image/1-134.png  \n",
            "  inflating: data/train/100089/image/1-135.png  \n",
            "  inflating: data/train/100089/image/1-136.png  \n",
            "  inflating: data/train/100089/image/1-137.png  \n",
            "  inflating: data/train/100089/image/1-138.png  \n",
            "  inflating: data/train/100089/image/1-139.png  \n",
            "  inflating: data/train/100089/image/1-140.png  \n",
            "  inflating: data/train/100089/image/1-141.png  \n",
            "  inflating: data/train/100089/image/1-142.png  \n",
            "  inflating: data/train/100089/image/1-143.png  \n",
            "  inflating: data/train/100089/image/1-144.png  \n",
            "  inflating: data/train/100089/image/1-145.png  \n",
            "  inflating: data/train/100089/image/1-146.png  \n",
            "  inflating: data/train/100089/image/1-147.png  \n",
            "  inflating: data/train/100089/image/1-148.png  \n",
            "  inflating: data/train/100089/image/1-149.png  \n",
            "  inflating: data/train/100089/image/1-150.png  \n",
            "  inflating: data/train/100089/image/1-151.png  \n",
            "  inflating: data/train/100089/image/1-152.png  \n",
            "  inflating: data/train/100089/image/1-153.png  \n",
            "  inflating: data/train/100089/image/1-154.png  \n",
            "  inflating: data/train/100089/image/1-155.png  \n",
            "  inflating: data/train/100089/image/1-156.png  \n",
            "  inflating: data/train/100089/image/1-157.png  \n",
            "  inflating: data/train/100089/image/1-158.png  \n",
            "  inflating: data/train/100089/image/1-159.png  \n",
            "  inflating: data/train/100089/image/1-160.png  \n",
            "  inflating: data/train/100089/image/1-161.png  \n",
            "  inflating: data/train/100089/image/1-162.png  \n",
            "  inflating: data/train/100089/image/1-163.png  \n",
            "  inflating: data/train/100089/image/1-164.png  \n",
            "  inflating: data/train/100089/image/1-165.png  \n",
            "  inflating: data/train/100089/image/1-166.png  \n",
            "  inflating: data/train/100089/image/1-167.png  \n",
            "  inflating: data/train/100089/image/1-168.png  \n",
            "  inflating: data/train/100089/image/1-169.png  \n",
            "  inflating: data/train/100089/image/1-170.png  \n",
            "  inflating: data/train/100089/image/1-171.png  \n",
            "  inflating: data/train/100089/image/1-172.png  \n",
            "  inflating: data/train/100089/image/1-173.png  \n",
            "  inflating: data/train/100089/image/1-174.png  \n",
            "  inflating: data/train/100089/mask/1-001.png  \n",
            "  inflating: data/train/100089/mask/1-002.png  \n",
            "  inflating: data/train/100089/mask/1-003.png  \n",
            "  inflating: data/train/100089/mask/1-004.png  \n",
            "  inflating: data/train/100089/mask/1-005.png  \n",
            "  inflating: data/train/100089/mask/1-006.png  \n",
            "  inflating: data/train/100089/mask/1-007.png  \n",
            "  inflating: data/train/100089/mask/1-008.png  \n",
            "  inflating: data/train/100089/mask/1-009.png  \n",
            "  inflating: data/train/100089/mask/1-010.png  \n",
            "  inflating: data/train/100089/mask/1-011.png  \n",
            "  inflating: data/train/100089/mask/1-012.png  \n",
            "  inflating: data/train/100089/mask/1-013.png  \n",
            "  inflating: data/train/100089/mask/1-014.png  \n",
            "  inflating: data/train/100089/mask/1-015.png  \n",
            "  inflating: data/train/100089/mask/1-016.png  \n",
            "  inflating: data/train/100089/mask/1-017.png  \n",
            "  inflating: data/train/100089/mask/1-018.png  \n",
            "  inflating: data/train/100089/mask/1-019.png  \n",
            "  inflating: data/train/100089/mask/1-020.png  \n",
            "  inflating: data/train/100089/mask/1-021.png  \n",
            "  inflating: data/train/100089/mask/1-022.png  \n",
            "  inflating: data/train/100089/mask/1-023.png  \n",
            "  inflating: data/train/100089/mask/1-024.png  \n",
            "  inflating: data/train/100089/mask/1-025.png  \n",
            "  inflating: data/train/100089/mask/1-026.png  \n",
            "  inflating: data/train/100089/mask/1-027.png  \n",
            "  inflating: data/train/100089/mask/1-028.png  \n",
            "  inflating: data/train/100089/mask/1-029.png  \n",
            "  inflating: data/train/100089/mask/1-030.png  \n",
            "  inflating: data/train/100089/mask/1-031.png  \n",
            "  inflating: data/train/100089/mask/1-032.png  \n",
            "  inflating: data/train/100089/mask/1-033.png  \n",
            "  inflating: data/train/100089/mask/1-034.png  \n",
            "  inflating: data/train/100089/mask/1-035.png  \n",
            "  inflating: data/train/100089/mask/1-036.png  \n",
            "  inflating: data/train/100089/mask/1-037.png  \n",
            "  inflating: data/train/100089/mask/1-038.png  \n",
            "  inflating: data/train/100089/mask/1-039.png  \n",
            "  inflating: data/train/100089/mask/1-040.png  \n",
            "  inflating: data/train/100089/mask/1-041.png  \n",
            "  inflating: data/train/100089/mask/1-042.png  \n",
            "  inflating: data/train/100089/mask/1-043.png  \n",
            "  inflating: data/train/100089/mask/1-044.png  \n",
            "  inflating: data/train/100089/mask/1-045.png  \n",
            "  inflating: data/train/100089/mask/1-046.png  \n",
            "  inflating: data/train/100089/mask/1-047.png  \n",
            "  inflating: data/train/100089/mask/1-048.png  \n",
            "  inflating: data/train/100089/mask/1-049.png  \n",
            "  inflating: data/train/100089/mask/1-050.png  \n",
            "  inflating: data/train/100089/mask/1-051.png  \n",
            "  inflating: data/train/100089/mask/1-052.png  \n",
            "  inflating: data/train/100089/mask/1-053.png  \n",
            "  inflating: data/train/100089/mask/1-054.png  \n",
            "  inflating: data/train/100089/mask/1-055.png  \n",
            "  inflating: data/train/100089/mask/1-056.png  \n",
            "  inflating: data/train/100089/mask/1-057.png  \n",
            "  inflating: data/train/100089/mask/1-058.png  \n",
            "  inflating: data/train/100089/mask/1-059.png  \n",
            "  inflating: data/train/100089/mask/1-060.png  \n",
            "  inflating: data/train/100089/mask/1-061.png  \n",
            "  inflating: data/train/100089/mask/1-062.png  \n",
            "  inflating: data/train/100089/mask/1-063.png  \n",
            "  inflating: data/train/100089/mask/1-064.png  \n",
            "  inflating: data/train/100089/mask/1-065.png  \n",
            "  inflating: data/train/100089/mask/1-066.png  \n",
            "  inflating: data/train/100089/mask/1-067.png  \n",
            "  inflating: data/train/100089/mask/1-068.png  \n",
            "  inflating: data/train/100089/mask/1-069.png  \n",
            "  inflating: data/train/100089/mask/1-070.png  \n",
            "  inflating: data/train/100089/mask/1-071.png  \n",
            "  inflating: data/train/100089/mask/1-072.png  \n",
            "  inflating: data/train/100089/mask/1-073.png  \n",
            "  inflating: data/train/100089/mask/1-074.png  \n",
            "  inflating: data/train/100089/mask/1-075.png  \n",
            "  inflating: data/train/100089/mask/1-076.png  \n",
            "  inflating: data/train/100089/mask/1-077.png  \n",
            "  inflating: data/train/100089/mask/1-078.png  \n",
            "  inflating: data/train/100089/mask/1-079.png  \n",
            "  inflating: data/train/100089/mask/1-080.png  \n",
            "  inflating: data/train/100089/mask/1-081.png  \n",
            "  inflating: data/train/100089/mask/1-082.png  \n",
            "  inflating: data/train/100089/mask/1-083.png  \n",
            "  inflating: data/train/100089/mask/1-084.png  \n",
            "  inflating: data/train/100089/mask/1-085.png  \n",
            "  inflating: data/train/100089/mask/1-086.png  \n",
            "  inflating: data/train/100089/mask/1-087.png  \n",
            "  inflating: data/train/100089/mask/1-088.png  \n",
            "  inflating: data/train/100089/mask/1-089.png  \n",
            "  inflating: data/train/100089/mask/1-090.png  \n",
            "  inflating: data/train/100089/mask/1-091.png  \n",
            "  inflating: data/train/100089/mask/1-092.png  \n",
            "  inflating: data/train/100089/mask/1-093.png  \n",
            "  inflating: data/train/100089/mask/1-094.png  \n",
            "  inflating: data/train/100089/mask/1-095.png  \n",
            "  inflating: data/train/100089/mask/1-096.png  \n",
            "  inflating: data/train/100089/mask/1-097.png  \n",
            "  inflating: data/train/100089/mask/1-098.png  \n",
            "  inflating: data/train/100089/mask/1-099.png  \n",
            "  inflating: data/train/100089/mask/1-100.png  \n",
            "  inflating: data/train/100089/mask/1-101.png  \n",
            "  inflating: data/train/100089/mask/1-102.png  \n",
            "  inflating: data/train/100089/mask/1-103.png  \n",
            "  inflating: data/train/100089/mask/1-104.png  \n",
            "  inflating: data/train/100089/mask/1-105.png  \n",
            "  inflating: data/train/100089/mask/1-106.png  \n",
            "  inflating: data/train/100089/mask/1-107.png  \n",
            "  inflating: data/train/100089/mask/1-108.png  \n",
            "  inflating: data/train/100089/mask/1-109.png  \n",
            "  inflating: data/train/100089/mask/1-110.png  \n",
            "  inflating: data/train/100089/mask/1-111.png  \n",
            "  inflating: data/train/100089/mask/1-112.png  \n",
            "  inflating: data/train/100089/mask/1-113.png  \n",
            "  inflating: data/train/100089/mask/1-114.png  \n",
            "  inflating: data/train/100089/mask/1-115.png  \n",
            "  inflating: data/train/100089/mask/1-116.png  \n",
            "  inflating: data/train/100089/mask/1-117.png  \n",
            "  inflating: data/train/100089/mask/1-118.png  \n",
            "  inflating: data/train/100089/mask/1-119.png  \n",
            "  inflating: data/train/100089/mask/1-120.png  \n",
            "  inflating: data/train/100089/mask/1-121.png  \n",
            "  inflating: data/train/100089/mask/1-122.png  \n",
            "  inflating: data/train/100089/mask/1-123.png  \n",
            "  inflating: data/train/100089/mask/1-124.png  \n",
            "  inflating: data/train/100089/mask/1-125.png  \n",
            "  inflating: data/train/100089/mask/1-126.png  \n",
            "  inflating: data/train/100089/mask/1-127.png  \n",
            "  inflating: data/train/100089/mask/1-128.png  \n",
            "  inflating: data/train/100089/mask/1-129.png  \n",
            "  inflating: data/train/100089/mask/1-130.png  \n",
            "  inflating: data/train/100089/mask/1-131.png  \n",
            "  inflating: data/train/100089/mask/1-132.png  \n",
            "  inflating: data/train/100089/mask/1-133.png  \n",
            "  inflating: data/train/100089/mask/1-134.png  \n",
            "  inflating: data/train/100089/mask/1-135.png  \n",
            "  inflating: data/train/100089/mask/1-136.png  \n",
            "  inflating: data/train/100089/mask/1-137.png  \n",
            "  inflating: data/train/100089/mask/1-138.png  \n",
            "  inflating: data/train/100089/mask/1-139.png  \n",
            "  inflating: data/train/100089/mask/1-140.png  \n",
            "  inflating: data/train/100089/mask/1-141.png  \n",
            "  inflating: data/train/100089/mask/1-142.png  \n",
            "  inflating: data/train/100089/mask/1-143.png  \n",
            "  inflating: data/train/100089/mask/1-144.png  \n",
            "  inflating: data/train/100089/mask/1-145.png  \n",
            "  inflating: data/train/100089/mask/1-146.png  \n",
            "  inflating: data/train/100089/mask/1-147.png  \n",
            "  inflating: data/train/100089/mask/1-148.png  \n",
            "  inflating: data/train/100089/mask/1-149.png  \n",
            "  inflating: data/train/100089/mask/1-150.png  \n",
            "  inflating: data/train/100089/mask/1-151.png  \n",
            "  inflating: data/train/100089/mask/1-152.png  \n",
            "  inflating: data/train/100089/mask/1-153.png  \n",
            "  inflating: data/train/100089/mask/1-154.png  \n",
            "  inflating: data/train/100089/mask/1-155.png  \n",
            "  inflating: data/train/100089/mask/1-156.png  \n",
            "  inflating: data/train/100089/mask/1-157.png  \n",
            "  inflating: data/train/100089/mask/1-158.png  \n",
            "  inflating: data/train/100089/mask/1-159.png  \n",
            "  inflating: data/train/100089/mask/1-160.png  \n",
            "  inflating: data/train/100089/mask/1-161.png  \n",
            "  inflating: data/train/100089/mask/1-162.png  \n",
            "  inflating: data/train/100089/mask/1-163.png  \n",
            "  inflating: data/train/100089/mask/1-164.png  \n",
            "  inflating: data/train/100089/mask/1-165.png  \n",
            "  inflating: data/train/100089/mask/1-166.png  \n",
            "  inflating: data/train/100089/mask/1-167.png  \n",
            "  inflating: data/train/100089/mask/1-168.png  \n",
            "  inflating: data/train/100089/mask/1-169.png  \n",
            "  inflating: data/train/100089/mask/1-170.png  \n",
            "  inflating: data/train/100089/mask/1-171.png  \n",
            "  inflating: data/train/100089/mask/1-172.png  \n",
            "  inflating: data/train/100089/mask/1-173.png  \n",
            "  inflating: data/train/100089/mask/1-174.png  \n",
            "  inflating: data/train/100091/image/1-001.png  \n",
            "  inflating: data/train/100091/image/1-002.png  \n",
            "  inflating: data/train/100091/image/1-003.png  \n",
            "  inflating: data/train/100091/image/1-004.png  \n",
            "  inflating: data/train/100091/image/1-005.png  \n",
            "  inflating: data/train/100091/image/1-006.png  \n",
            "  inflating: data/train/100091/image/1-007.png  \n",
            "  inflating: data/train/100091/image/1-008.png  \n",
            "  inflating: data/train/100091/image/1-009.png  \n",
            "  inflating: data/train/100091/image/1-010.png  \n",
            "  inflating: data/train/100091/image/1-011.png  \n",
            "  inflating: data/train/100091/image/1-012.png  \n",
            "  inflating: data/train/100091/image/1-013.png  \n",
            "  inflating: data/train/100091/image/1-014.png  \n",
            "  inflating: data/train/100091/image/1-015.png  \n",
            "  inflating: data/train/100091/image/1-016.png  \n",
            "  inflating: data/train/100091/image/1-017.png  \n",
            "  inflating: data/train/100091/image/1-018.png  \n",
            "  inflating: data/train/100091/image/1-019.png  \n",
            "  inflating: data/train/100091/image/1-020.png  \n",
            "  inflating: data/train/100091/image/1-021.png  \n",
            "  inflating: data/train/100091/image/1-022.png  \n",
            "  inflating: data/train/100091/image/1-023.png  \n",
            "  inflating: data/train/100091/image/1-024.png  \n",
            "  inflating: data/train/100091/image/1-025.png  \n",
            "  inflating: data/train/100091/image/1-026.png  \n",
            "  inflating: data/train/100091/image/1-027.png  \n",
            "  inflating: data/train/100091/image/1-028.png  \n",
            "  inflating: data/train/100091/image/1-029.png  \n",
            "  inflating: data/train/100091/image/1-030.png  \n",
            "  inflating: data/train/100091/image/1-031.png  \n",
            "  inflating: data/train/100091/image/1-032.png  \n",
            "  inflating: data/train/100091/image/1-033.png  \n",
            "  inflating: data/train/100091/image/1-034.png  \n",
            "  inflating: data/train/100091/image/1-035.png  \n",
            "  inflating: data/train/100091/image/1-036.png  \n",
            "  inflating: data/train/100091/image/1-037.png  \n",
            "  inflating: data/train/100091/image/1-038.png  \n",
            "  inflating: data/train/100091/image/1-039.png  \n",
            "  inflating: data/train/100091/image/1-040.png  \n",
            "  inflating: data/train/100091/image/1-041.png  \n",
            "  inflating: data/train/100091/image/1-042.png  \n",
            "  inflating: data/train/100091/image/1-043.png  \n",
            "  inflating: data/train/100091/image/1-044.png  \n",
            "  inflating: data/train/100091/image/1-045.png  \n",
            "  inflating: data/train/100091/image/1-046.png  \n",
            "  inflating: data/train/100091/image/1-047.png  \n",
            "  inflating: data/train/100091/image/1-048.png  \n",
            "  inflating: data/train/100091/image/1-049.png  \n",
            "  inflating: data/train/100091/image/1-050.png  \n",
            "  inflating: data/train/100091/image/1-051.png  \n",
            "  inflating: data/train/100091/image/1-052.png  \n",
            "  inflating: data/train/100091/image/1-053.png  \n",
            "  inflating: data/train/100091/image/1-054.png  \n",
            "  inflating: data/train/100091/image/1-055.png  \n",
            "  inflating: data/train/100091/image/1-056.png  \n",
            "  inflating: data/train/100091/image/1-057.png  \n",
            "  inflating: data/train/100091/image/1-058.png  \n",
            "  inflating: data/train/100091/image/1-059.png  \n",
            "  inflating: data/train/100091/image/1-060.png  \n",
            "  inflating: data/train/100091/image/1-061.png  \n",
            "  inflating: data/train/100091/image/1-062.png  \n",
            "  inflating: data/train/100091/image/1-063.png  \n",
            "  inflating: data/train/100091/image/1-064.png  \n",
            "  inflating: data/train/100091/image/1-065.png  \n",
            "  inflating: data/train/100091/image/1-066.png  \n",
            "  inflating: data/train/100091/image/1-067.png  \n",
            "  inflating: data/train/100091/image/1-068.png  \n",
            "  inflating: data/train/100091/image/1-069.png  \n",
            "  inflating: data/train/100091/image/1-070.png  \n",
            "  inflating: data/train/100091/image/1-071.png  \n",
            "  inflating: data/train/100091/image/1-072.png  \n",
            "  inflating: data/train/100091/image/1-073.png  \n",
            "  inflating: data/train/100091/image/1-074.png  \n",
            "  inflating: data/train/100091/image/1-075.png  \n",
            "  inflating: data/train/100091/image/1-076.png  \n",
            "  inflating: data/train/100091/image/1-077.png  \n",
            "  inflating: data/train/100091/image/1-078.png  \n",
            "  inflating: data/train/100091/image/1-079.png  \n",
            "  inflating: data/train/100091/image/1-080.png  \n",
            "  inflating: data/train/100091/image/1-081.png  \n",
            "  inflating: data/train/100091/image/1-082.png  \n",
            "  inflating: data/train/100091/image/1-083.png  \n",
            "  inflating: data/train/100091/image/1-084.png  \n",
            "  inflating: data/train/100091/image/1-085.png  \n",
            "  inflating: data/train/100091/image/1-086.png  \n",
            "  inflating: data/train/100091/image/1-087.png  \n",
            "  inflating: data/train/100091/image/1-088.png  \n",
            "  inflating: data/train/100091/image/1-089.png  \n",
            "  inflating: data/train/100091/image/1-090.png  \n",
            "  inflating: data/train/100091/image/1-091.png  \n",
            "  inflating: data/train/100091/image/1-092.png  \n",
            "  inflating: data/train/100091/image/1-093.png  \n",
            "  inflating: data/train/100091/image/1-094.png  \n",
            "  inflating: data/train/100091/image/1-095.png  \n",
            "  inflating: data/train/100091/image/1-096.png  \n",
            "  inflating: data/train/100091/image/1-097.png  \n",
            "  inflating: data/train/100091/image/1-098.png  \n",
            "  inflating: data/train/100091/image/1-099.png  \n",
            "  inflating: data/train/100091/image/1-100.png  \n",
            "  inflating: data/train/100091/image/1-101.png  \n",
            "  inflating: data/train/100091/image/1-102.png  \n",
            "  inflating: data/train/100091/image/1-103.png  \n",
            "  inflating: data/train/100091/image/1-104.png  \n",
            "  inflating: data/train/100091/image/1-105.png  \n",
            "  inflating: data/train/100091/image/1-106.png  \n",
            "  inflating: data/train/100091/image/1-107.png  \n",
            "  inflating: data/train/100091/image/1-108.png  \n",
            "  inflating: data/train/100091/image/1-109.png  \n",
            "  inflating: data/train/100091/image/1-110.png  \n",
            "  inflating: data/train/100091/image/1-111.png  \n",
            "  inflating: data/train/100091/image/1-112.png  \n",
            "  inflating: data/train/100091/image/1-113.png  \n",
            "  inflating: data/train/100091/image/1-114.png  \n",
            "  inflating: data/train/100091/image/1-115.png  \n",
            "  inflating: data/train/100091/image/1-116.png  \n",
            "  inflating: data/train/100091/image/1-117.png  \n",
            "  inflating: data/train/100091/image/1-118.png  \n",
            "  inflating: data/train/100091/image/1-119.png  \n",
            "  inflating: data/train/100091/image/1-120.png  \n",
            "  inflating: data/train/100091/image/1-121.png  \n",
            "  inflating: data/train/100091/image/1-122.png  \n",
            "  inflating: data/train/100091/image/1-123.png  \n",
            "  inflating: data/train/100091/image/1-124.png  \n",
            "  inflating: data/train/100091/image/1-125.png  \n",
            "  inflating: data/train/100091/image/1-126.png  \n",
            "  inflating: data/train/100091/image/1-127.png  \n",
            "  inflating: data/train/100091/image/1-128.png  \n",
            "  inflating: data/train/100091/image/1-129.png  \n",
            "  inflating: data/train/100091/image/1-130.png  \n",
            "  inflating: data/train/100091/image/1-131.png  \n",
            "  inflating: data/train/100091/mask/1-001.png  \n",
            "  inflating: data/train/100091/mask/1-002.png  \n",
            "  inflating: data/train/100091/mask/1-003.png  \n",
            "  inflating: data/train/100091/mask/1-004.png  \n",
            "  inflating: data/train/100091/mask/1-005.png  \n",
            "  inflating: data/train/100091/mask/1-006.png  \n",
            "  inflating: data/train/100091/mask/1-007.png  \n",
            "  inflating: data/train/100091/mask/1-008.png  \n",
            "  inflating: data/train/100091/mask/1-009.png  \n",
            "  inflating: data/train/100091/mask/1-010.png  \n",
            "  inflating: data/train/100091/mask/1-011.png  \n",
            "  inflating: data/train/100091/mask/1-012.png  \n",
            "  inflating: data/train/100091/mask/1-013.png  \n",
            "  inflating: data/train/100091/mask/1-014.png  \n",
            "  inflating: data/train/100091/mask/1-015.png  \n",
            "  inflating: data/train/100091/mask/1-016.png  \n",
            "  inflating: data/train/100091/mask/1-017.png  \n",
            "  inflating: data/train/100091/mask/1-018.png  \n",
            "  inflating: data/train/100091/mask/1-019.png  \n",
            "  inflating: data/train/100091/mask/1-020.png  \n",
            "  inflating: data/train/100091/mask/1-021.png  \n",
            "  inflating: data/train/100091/mask/1-022.png  \n",
            "  inflating: data/train/100091/mask/1-023.png  \n",
            "  inflating: data/train/100091/mask/1-024.png  \n",
            "  inflating: data/train/100091/mask/1-025.png  \n",
            "  inflating: data/train/100091/mask/1-026.png  \n",
            "  inflating: data/train/100091/mask/1-027.png  \n",
            "  inflating: data/train/100091/mask/1-028.png  \n",
            "  inflating: data/train/100091/mask/1-029.png  \n",
            "  inflating: data/train/100091/mask/1-030.png  \n",
            "  inflating: data/train/100091/mask/1-031.png  \n",
            "  inflating: data/train/100091/mask/1-032.png  \n",
            "  inflating: data/train/100091/mask/1-033.png  \n",
            "  inflating: data/train/100091/mask/1-034.png  \n",
            "  inflating: data/train/100091/mask/1-035.png  \n",
            "  inflating: data/train/100091/mask/1-036.png  \n",
            "  inflating: data/train/100091/mask/1-037.png  \n",
            "  inflating: data/train/100091/mask/1-038.png  \n",
            "  inflating: data/train/100091/mask/1-039.png  \n",
            "  inflating: data/train/100091/mask/1-040.png  \n",
            "  inflating: data/train/100091/mask/1-041.png  \n",
            "  inflating: data/train/100091/mask/1-042.png  \n",
            "  inflating: data/train/100091/mask/1-043.png  \n",
            "  inflating: data/train/100091/mask/1-044.png  \n",
            "  inflating: data/train/100091/mask/1-045.png  \n",
            "  inflating: data/train/100091/mask/1-046.png  \n",
            "  inflating: data/train/100091/mask/1-047.png  \n",
            "  inflating: data/train/100091/mask/1-048.png  \n",
            "  inflating: data/train/100091/mask/1-049.png  \n",
            "  inflating: data/train/100091/mask/1-050.png  \n",
            "  inflating: data/train/100091/mask/1-051.png  \n",
            "  inflating: data/train/100091/mask/1-052.png  \n",
            "  inflating: data/train/100091/mask/1-053.png  \n",
            "  inflating: data/train/100091/mask/1-054.png  \n",
            "  inflating: data/train/100091/mask/1-055.png  \n",
            "  inflating: data/train/100091/mask/1-056.png  \n",
            "  inflating: data/train/100091/mask/1-057.png  \n",
            "  inflating: data/train/100091/mask/1-058.png  \n",
            "  inflating: data/train/100091/mask/1-059.png  \n",
            "  inflating: data/train/100091/mask/1-060.png  \n",
            "  inflating: data/train/100091/mask/1-061.png  \n",
            "  inflating: data/train/100091/mask/1-062.png  \n",
            "  inflating: data/train/100091/mask/1-063.png  \n",
            "  inflating: data/train/100091/mask/1-064.png  \n",
            "  inflating: data/train/100091/mask/1-065.png  \n",
            "  inflating: data/train/100091/mask/1-066.png  \n",
            "  inflating: data/train/100091/mask/1-067.png  \n",
            "  inflating: data/train/100091/mask/1-068.png  \n",
            "  inflating: data/train/100091/mask/1-069.png  \n",
            "  inflating: data/train/100091/mask/1-070.png  \n",
            "  inflating: data/train/100091/mask/1-071.png  \n",
            "  inflating: data/train/100091/mask/1-072.png  \n",
            "  inflating: data/train/100091/mask/1-073.png  \n",
            "  inflating: data/train/100091/mask/1-074.png  \n",
            "  inflating: data/train/100091/mask/1-075.png  \n",
            "  inflating: data/train/100091/mask/1-076.png  \n",
            "  inflating: data/train/100091/mask/1-077.png  \n",
            "  inflating: data/train/100091/mask/1-078.png  \n",
            "  inflating: data/train/100091/mask/1-079.png  \n",
            "  inflating: data/train/100091/mask/1-080.png  \n",
            "  inflating: data/train/100091/mask/1-081.png  \n",
            "  inflating: data/train/100091/mask/1-082.png  \n",
            "  inflating: data/train/100091/mask/1-083.png  \n",
            "  inflating: data/train/100091/mask/1-084.png  \n",
            "  inflating: data/train/100091/mask/1-085.png  \n",
            "  inflating: data/train/100091/mask/1-086.png  \n",
            "  inflating: data/train/100091/mask/1-087.png  \n",
            "  inflating: data/train/100091/mask/1-088.png  \n",
            "  inflating: data/train/100091/mask/1-089.png  \n",
            "  inflating: data/train/100091/mask/1-090.png  \n",
            "  inflating: data/train/100091/mask/1-091.png  \n",
            "  inflating: data/train/100091/mask/1-092.png  \n",
            "  inflating: data/train/100091/mask/1-093.png  \n",
            "  inflating: data/train/100091/mask/1-094.png  \n",
            "  inflating: data/train/100091/mask/1-095.png  \n",
            "  inflating: data/train/100091/mask/1-096.png  \n",
            "  inflating: data/train/100091/mask/1-097.png  \n",
            "  inflating: data/train/100091/mask/1-098.png  \n",
            "  inflating: data/train/100091/mask/1-099.png  \n",
            "  inflating: data/train/100091/mask/1-100.png  \n",
            "  inflating: data/train/100091/mask/1-101.png  \n",
            "  inflating: data/train/100091/mask/1-102.png  \n",
            "  inflating: data/train/100091/mask/1-103.png  \n",
            "  inflating: data/train/100091/mask/1-104.png  \n",
            "  inflating: data/train/100091/mask/1-105.png  \n",
            "  inflating: data/train/100091/mask/1-106.png  \n",
            "  inflating: data/train/100091/mask/1-107.png  \n",
            "  inflating: data/train/100091/mask/1-108.png  \n",
            "  inflating: data/train/100091/mask/1-109.png  \n",
            "  inflating: data/train/100091/mask/1-110.png  \n",
            "  inflating: data/train/100091/mask/1-111.png  \n",
            "  inflating: data/train/100091/mask/1-112.png  \n",
            "  inflating: data/train/100091/mask/1-113.png  \n",
            "  inflating: data/train/100091/mask/1-114.png  \n",
            "  inflating: data/train/100091/mask/1-115.png  \n",
            "  inflating: data/train/100091/mask/1-116.png  \n",
            "  inflating: data/train/100091/mask/1-117.png  \n",
            "  inflating: data/train/100091/mask/1-118.png  \n",
            "  inflating: data/train/100091/mask/1-119.png  \n",
            "  inflating: data/train/100091/mask/1-120.png  \n",
            "  inflating: data/train/100091/mask/1-121.png  \n",
            "  inflating: data/train/100091/mask/1-122.png  \n",
            "  inflating: data/train/100091/mask/1-123.png  \n",
            "  inflating: data/train/100091/mask/1-124.png  \n",
            "  inflating: data/train/100091/mask/1-125.png  \n",
            "  inflating: data/train/100091/mask/1-126.png  \n",
            "  inflating: data/train/100091/mask/1-127.png  \n",
            "  inflating: data/train/100091/mask/1-128.png  \n",
            "  inflating: data/train/100091/mask/1-129.png  \n",
            "  inflating: data/train/100091/mask/1-130.png  \n",
            "  inflating: data/train/100091/mask/1-131.png  \n",
            "  inflating: data/train/100092/image/1-001.png  \n",
            "  inflating: data/train/100092/image/1-002.png  \n",
            "  inflating: data/train/100092/image/1-003.png  \n",
            "  inflating: data/train/100092/image/1-004.png  \n",
            "  inflating: data/train/100092/image/1-005.png  \n",
            "  inflating: data/train/100092/image/1-006.png  \n",
            "  inflating: data/train/100092/image/1-007.png  \n",
            "  inflating: data/train/100092/image/1-008.png  \n",
            "  inflating: data/train/100092/image/1-009.png  \n",
            "  inflating: data/train/100092/image/1-010.png  \n",
            "  inflating: data/train/100092/image/1-011.png  \n",
            "  inflating: data/train/100092/image/1-012.png  \n",
            "  inflating: data/train/100092/image/1-013.png  \n",
            "  inflating: data/train/100092/image/1-014.png  \n",
            "  inflating: data/train/100092/image/1-015.png  \n",
            "  inflating: data/train/100092/image/1-016.png  \n",
            "  inflating: data/train/100092/image/1-017.png  \n",
            "  inflating: data/train/100092/image/1-018.png  \n",
            "  inflating: data/train/100092/image/1-019.png  \n",
            "  inflating: data/train/100092/image/1-020.png  \n",
            "  inflating: data/train/100092/image/1-021.png  \n",
            "  inflating: data/train/100092/image/1-022.png  \n",
            "  inflating: data/train/100092/image/1-023.png  \n",
            "  inflating: data/train/100092/image/1-024.png  \n",
            "  inflating: data/train/100092/image/1-025.png  \n",
            "  inflating: data/train/100092/image/1-026.png  \n",
            "  inflating: data/train/100092/image/1-027.png  \n",
            "  inflating: data/train/100092/image/1-028.png  \n",
            "  inflating: data/train/100092/image/1-029.png  \n",
            "  inflating: data/train/100092/image/1-030.png  \n",
            "  inflating: data/train/100092/image/1-031.png  \n",
            "  inflating: data/train/100092/image/1-032.png  \n",
            "  inflating: data/train/100092/image/1-033.png  \n",
            "  inflating: data/train/100092/image/1-034.png  \n",
            "  inflating: data/train/100092/image/1-035.png  \n",
            "  inflating: data/train/100092/image/1-036.png  \n",
            "  inflating: data/train/100092/image/1-037.png  \n",
            "  inflating: data/train/100092/image/1-038.png  \n",
            "  inflating: data/train/100092/image/1-039.png  \n",
            "  inflating: data/train/100092/image/1-040.png  \n",
            "  inflating: data/train/100092/image/1-041.png  \n",
            "  inflating: data/train/100092/image/1-042.png  \n",
            "  inflating: data/train/100092/image/1-043.png  \n",
            "  inflating: data/train/100092/image/1-044.png  \n",
            "  inflating: data/train/100092/image/1-045.png  \n",
            "  inflating: data/train/100092/image/1-046.png  \n",
            "  inflating: data/train/100092/image/1-047.png  \n",
            "  inflating: data/train/100092/image/1-048.png  \n",
            "  inflating: data/train/100092/image/1-049.png  \n",
            "  inflating: data/train/100092/image/1-050.png  \n",
            "  inflating: data/train/100092/image/1-051.png  \n",
            "  inflating: data/train/100092/image/1-052.png  \n",
            "  inflating: data/train/100092/image/1-053.png  \n",
            "  inflating: data/train/100092/image/1-054.png  \n",
            "  inflating: data/train/100092/image/1-055.png  \n",
            "  inflating: data/train/100092/image/1-056.png  \n",
            "  inflating: data/train/100092/image/1-057.png  \n",
            "  inflating: data/train/100092/image/1-058.png  \n",
            "  inflating: data/train/100092/image/1-059.png  \n",
            "  inflating: data/train/100092/image/1-060.png  \n",
            "  inflating: data/train/100092/image/1-061.png  \n",
            "  inflating: data/train/100092/image/1-062.png  \n",
            "  inflating: data/train/100092/image/1-063.png  \n",
            "  inflating: data/train/100092/image/1-064.png  \n",
            "  inflating: data/train/100092/image/1-065.png  \n",
            "  inflating: data/train/100092/image/1-066.png  \n",
            "  inflating: data/train/100092/image/1-067.png  \n",
            "  inflating: data/train/100092/image/1-068.png  \n",
            "  inflating: data/train/100092/image/1-069.png  \n",
            "  inflating: data/train/100092/image/1-070.png  \n",
            "  inflating: data/train/100092/image/1-071.png  \n",
            "  inflating: data/train/100092/image/1-072.png  \n",
            "  inflating: data/train/100092/image/1-073.png  \n",
            "  inflating: data/train/100092/image/1-074.png  \n",
            "  inflating: data/train/100092/image/1-075.png  \n",
            "  inflating: data/train/100092/image/1-076.png  \n",
            "  inflating: data/train/100092/image/1-077.png  \n",
            "  inflating: data/train/100092/image/1-078.png  \n",
            "  inflating: data/train/100092/image/1-079.png  \n",
            "  inflating: data/train/100092/image/1-080.png  \n",
            "  inflating: data/train/100092/image/1-081.png  \n",
            "  inflating: data/train/100092/image/1-082.png  \n",
            "  inflating: data/train/100092/image/1-083.png  \n",
            "  inflating: data/train/100092/image/1-084.png  \n",
            "  inflating: data/train/100092/image/1-085.png  \n",
            "  inflating: data/train/100092/image/1-086.png  \n",
            "  inflating: data/train/100092/image/1-087.png  \n",
            "  inflating: data/train/100092/image/1-088.png  \n",
            "  inflating: data/train/100092/image/1-089.png  \n",
            "  inflating: data/train/100092/image/1-090.png  \n",
            "  inflating: data/train/100092/image/1-091.png  \n",
            "  inflating: data/train/100092/image/1-092.png  \n",
            "  inflating: data/train/100092/image/1-093.png  \n",
            "  inflating: data/train/100092/image/1-094.png  \n",
            "  inflating: data/train/100092/image/1-095.png  \n",
            "  inflating: data/train/100092/image/1-096.png  \n",
            "  inflating: data/train/100092/image/1-097.png  \n",
            "  inflating: data/train/100092/image/1-098.png  \n",
            "  inflating: data/train/100092/image/1-099.png  \n",
            "  inflating: data/train/100092/image/1-100.png  \n",
            "  inflating: data/train/100092/image/1-101.png  \n",
            "  inflating: data/train/100092/image/1-102.png  \n",
            "  inflating: data/train/100092/image/1-103.png  \n",
            "  inflating: data/train/100092/image/1-104.png  \n",
            "  inflating: data/train/100092/image/1-105.png  \n",
            "  inflating: data/train/100092/image/1-106.png  \n",
            "  inflating: data/train/100092/image/1-107.png  \n",
            "  inflating: data/train/100092/image/1-108.png  \n",
            "  inflating: data/train/100092/image/1-109.png  \n",
            "  inflating: data/train/100092/image/1-110.png  \n",
            "  inflating: data/train/100092/image/1-111.png  \n",
            "  inflating: data/train/100092/image/1-112.png  \n",
            "  inflating: data/train/100092/image/1-113.png  \n",
            "  inflating: data/train/100092/image/1-114.png  \n",
            "  inflating: data/train/100092/image/1-115.png  \n",
            "  inflating: data/train/100092/image/1-116.png  \n",
            "  inflating: data/train/100092/image/1-117.png  \n",
            "  inflating: data/train/100092/image/1-118.png  \n",
            "  inflating: data/train/100092/image/1-119.png  \n",
            "  inflating: data/train/100092/image/1-120.png  \n",
            "  inflating: data/train/100092/image/1-121.png  \n",
            "  inflating: data/train/100092/image/1-122.png  \n",
            "  inflating: data/train/100092/image/1-123.png  \n",
            "  inflating: data/train/100092/image/1-124.png  \n",
            "  inflating: data/train/100092/image/1-125.png  \n",
            "  inflating: data/train/100092/image/1-126.png  \n",
            "  inflating: data/train/100092/image/1-127.png  \n",
            "  inflating: data/train/100092/image/1-128.png  \n",
            "  inflating: data/train/100092/image/1-129.png  \n",
            "  inflating: data/train/100092/image/1-130.png  \n",
            "  inflating: data/train/100092/image/1-131.png  \n",
            "  inflating: data/train/100092/image/1-132.png  \n",
            "  inflating: data/train/100092/image/1-133.png  \n",
            "  inflating: data/train/100092/mask/1-001.png  \n",
            "  inflating: data/train/100092/mask/1-002.png  \n",
            "  inflating: data/train/100092/mask/1-003.png  \n",
            "  inflating: data/train/100092/mask/1-004.png  \n",
            "  inflating: data/train/100092/mask/1-005.png  \n",
            "  inflating: data/train/100092/mask/1-006.png  \n",
            "  inflating: data/train/100092/mask/1-007.png  \n",
            "  inflating: data/train/100092/mask/1-008.png  \n",
            "  inflating: data/train/100092/mask/1-009.png  \n",
            "  inflating: data/train/100092/mask/1-010.png  \n",
            "  inflating: data/train/100092/mask/1-011.png  \n",
            "  inflating: data/train/100092/mask/1-012.png  \n",
            "  inflating: data/train/100092/mask/1-013.png  \n",
            "  inflating: data/train/100092/mask/1-014.png  \n",
            "  inflating: data/train/100092/mask/1-015.png  \n",
            "  inflating: data/train/100092/mask/1-016.png  \n",
            "  inflating: data/train/100092/mask/1-017.png  \n",
            "  inflating: data/train/100092/mask/1-018.png  \n",
            "  inflating: data/train/100092/mask/1-019.png  \n",
            "  inflating: data/train/100092/mask/1-020.png  \n",
            "  inflating: data/train/100092/mask/1-021.png  \n",
            "  inflating: data/train/100092/mask/1-022.png  \n",
            "  inflating: data/train/100092/mask/1-023.png  \n",
            "  inflating: data/train/100092/mask/1-024.png  \n",
            "  inflating: data/train/100092/mask/1-025.png  \n",
            "  inflating: data/train/100092/mask/1-026.png  \n",
            "  inflating: data/train/100092/mask/1-027.png  \n",
            "  inflating: data/train/100092/mask/1-028.png  \n",
            "  inflating: data/train/100092/mask/1-029.png  \n",
            "  inflating: data/train/100092/mask/1-030.png  \n",
            "  inflating: data/train/100092/mask/1-031.png  \n",
            "  inflating: data/train/100092/mask/1-032.png  \n",
            "  inflating: data/train/100092/mask/1-033.png  \n",
            "  inflating: data/train/100092/mask/1-034.png  \n",
            "  inflating: data/train/100092/mask/1-035.png  \n",
            "  inflating: data/train/100092/mask/1-036.png  \n",
            "  inflating: data/train/100092/mask/1-037.png  \n",
            "  inflating: data/train/100092/mask/1-038.png  \n",
            "  inflating: data/train/100092/mask/1-039.png  \n",
            "  inflating: data/train/100092/mask/1-040.png  \n",
            "  inflating: data/train/100092/mask/1-041.png  \n",
            "  inflating: data/train/100092/mask/1-042.png  \n",
            "  inflating: data/train/100092/mask/1-043.png  \n",
            "  inflating: data/train/100092/mask/1-044.png  \n",
            "  inflating: data/train/100092/mask/1-045.png  \n",
            "  inflating: data/train/100092/mask/1-046.png  \n",
            "  inflating: data/train/100092/mask/1-047.png  \n",
            "  inflating: data/train/100092/mask/1-048.png  \n",
            "  inflating: data/train/100092/mask/1-049.png  \n",
            "  inflating: data/train/100092/mask/1-050.png  \n",
            "  inflating: data/train/100092/mask/1-051.png  \n",
            "  inflating: data/train/100092/mask/1-052.png  \n",
            "  inflating: data/train/100092/mask/1-053.png  \n",
            "  inflating: data/train/100092/mask/1-054.png  \n",
            "  inflating: data/train/100092/mask/1-055.png  \n",
            "  inflating: data/train/100092/mask/1-056.png  \n",
            "  inflating: data/train/100092/mask/1-057.png  \n",
            "  inflating: data/train/100092/mask/1-058.png  \n",
            "  inflating: data/train/100092/mask/1-059.png  \n",
            "  inflating: data/train/100092/mask/1-060.png  \n",
            "  inflating: data/train/100092/mask/1-061.png  \n",
            "  inflating: data/train/100092/mask/1-062.png  \n",
            "  inflating: data/train/100092/mask/1-063.png  \n",
            "  inflating: data/train/100092/mask/1-064.png  \n",
            "  inflating: data/train/100092/mask/1-065.png  \n",
            "  inflating: data/train/100092/mask/1-066.png  \n",
            "  inflating: data/train/100092/mask/1-067.png  \n",
            "  inflating: data/train/100092/mask/1-068.png  \n",
            "  inflating: data/train/100092/mask/1-069.png  \n",
            "  inflating: data/train/100092/mask/1-070.png  \n",
            "  inflating: data/train/100092/mask/1-071.png  \n",
            "  inflating: data/train/100092/mask/1-072.png  \n",
            "  inflating: data/train/100092/mask/1-073.png  \n",
            "  inflating: data/train/100092/mask/1-074.png  \n",
            "  inflating: data/train/100092/mask/1-075.png  \n",
            "  inflating: data/train/100092/mask/1-076.png  \n",
            "  inflating: data/train/100092/mask/1-077.png  \n",
            "  inflating: data/train/100092/mask/1-078.png  \n",
            "  inflating: data/train/100092/mask/1-079.png  \n",
            "  inflating: data/train/100092/mask/1-080.png  \n",
            "  inflating: data/train/100092/mask/1-081.png  \n",
            "  inflating: data/train/100092/mask/1-082.png  \n",
            "  inflating: data/train/100092/mask/1-083.png  \n",
            "  inflating: data/train/100092/mask/1-084.png  \n",
            "  inflating: data/train/100092/mask/1-085.png  \n",
            "  inflating: data/train/100092/mask/1-086.png  \n",
            "  inflating: data/train/100092/mask/1-087.png  \n",
            "  inflating: data/train/100092/mask/1-088.png  \n",
            "  inflating: data/train/100092/mask/1-089.png  \n",
            "  inflating: data/train/100092/mask/1-090.png  \n",
            "  inflating: data/train/100092/mask/1-091.png  \n",
            "  inflating: data/train/100092/mask/1-092.png  \n",
            "  inflating: data/train/100092/mask/1-093.png  \n",
            "  inflating: data/train/100092/mask/1-094.png  \n",
            "  inflating: data/train/100092/mask/1-095.png  \n",
            "  inflating: data/train/100092/mask/1-096.png  \n",
            "  inflating: data/train/100092/mask/1-097.png  \n",
            "  inflating: data/train/100092/mask/1-098.png  \n",
            "  inflating: data/train/100092/mask/1-099.png  \n",
            "  inflating: data/train/100092/mask/1-100.png  \n",
            "  inflating: data/train/100092/mask/1-101.png  \n",
            "  inflating: data/train/100092/mask/1-102.png  \n",
            "  inflating: data/train/100092/mask/1-103.png  \n",
            "  inflating: data/train/100092/mask/1-104.png  \n",
            "  inflating: data/train/100092/mask/1-105.png  \n",
            "  inflating: data/train/100092/mask/1-106.png  \n",
            "  inflating: data/train/100092/mask/1-107.png  \n",
            "  inflating: data/train/100092/mask/1-108.png  \n",
            "  inflating: data/train/100092/mask/1-109.png  \n",
            "  inflating: data/train/100092/mask/1-110.png  \n",
            "  inflating: data/train/100092/mask/1-111.png  \n",
            "  inflating: data/train/100092/mask/1-112.png  \n",
            "  inflating: data/train/100092/mask/1-113.png  \n",
            "  inflating: data/train/100092/mask/1-114.png  \n",
            "  inflating: data/train/100092/mask/1-115.png  \n",
            "  inflating: data/train/100092/mask/1-116.png  \n",
            "  inflating: data/train/100092/mask/1-117.png  \n",
            "  inflating: data/train/100092/mask/1-118.png  \n",
            "  inflating: data/train/100092/mask/1-119.png  \n",
            "  inflating: data/train/100092/mask/1-120.png  \n",
            "  inflating: data/train/100092/mask/1-121.png  \n",
            "  inflating: data/train/100092/mask/1-122.png  \n",
            "  inflating: data/train/100092/mask/1-123.png  \n",
            "  inflating: data/train/100092/mask/1-124.png  \n",
            "  inflating: data/train/100092/mask/1-125.png  \n",
            "  inflating: data/train/100092/mask/1-126.png  \n",
            "  inflating: data/train/100092/mask/1-127.png  \n",
            "  inflating: data/train/100092/mask/1-128.png  \n",
            "  inflating: data/train/100092/mask/1-129.png  \n",
            "  inflating: data/train/100092/mask/1-130.png  \n",
            "  inflating: data/train/100092/mask/1-131.png  \n",
            "  inflating: data/train/100092/mask/1-132.png  \n",
            "  inflating: data/train/100092/mask/1-133.png  \n",
            "  inflating: data/train/100093/image/1-001.png  \n",
            "  inflating: data/train/100093/image/1-002.png  \n",
            "  inflating: data/train/100093/image/1-003.png  \n",
            "  inflating: data/train/100093/image/1-004.png  \n",
            "  inflating: data/train/100093/image/1-005.png  \n",
            "  inflating: data/train/100093/image/1-006.png  \n",
            "  inflating: data/train/100093/image/1-007.png  \n",
            "  inflating: data/train/100093/image/1-008.png  \n",
            "  inflating: data/train/100093/image/1-009.png  \n",
            "  inflating: data/train/100093/image/1-010.png  \n",
            "  inflating: data/train/100093/image/1-011.png  \n",
            "  inflating: data/train/100093/image/1-012.png  \n",
            "  inflating: data/train/100093/image/1-013.png  \n",
            "  inflating: data/train/100093/image/1-014.png  \n",
            "  inflating: data/train/100093/image/1-015.png  \n",
            "  inflating: data/train/100093/image/1-016.png  \n",
            "  inflating: data/train/100093/image/1-017.png  \n",
            "  inflating: data/train/100093/image/1-018.png  \n",
            "  inflating: data/train/100093/image/1-019.png  \n",
            "  inflating: data/train/100093/image/1-020.png  \n",
            "  inflating: data/train/100093/image/1-021.png  \n",
            "  inflating: data/train/100093/image/1-022.png  \n",
            "  inflating: data/train/100093/image/1-023.png  \n",
            "  inflating: data/train/100093/image/1-024.png  \n",
            "  inflating: data/train/100093/image/1-025.png  \n",
            "  inflating: data/train/100093/image/1-026.png  \n",
            "  inflating: data/train/100093/image/1-027.png  \n",
            "  inflating: data/train/100093/image/1-028.png  \n",
            "  inflating: data/train/100093/image/1-029.png  \n",
            "  inflating: data/train/100093/image/1-030.png  \n",
            "  inflating: data/train/100093/image/1-031.png  \n",
            "  inflating: data/train/100093/image/1-032.png  \n",
            "  inflating: data/train/100093/image/1-033.png  \n",
            "  inflating: data/train/100093/image/1-034.png  \n",
            "  inflating: data/train/100093/image/1-035.png  \n",
            "  inflating: data/train/100093/image/1-036.png  \n",
            "  inflating: data/train/100093/image/1-037.png  \n",
            "  inflating: data/train/100093/image/1-038.png  \n",
            "  inflating: data/train/100093/image/1-039.png  \n",
            "  inflating: data/train/100093/image/1-040.png  \n",
            "  inflating: data/train/100093/image/1-041.png  \n",
            "  inflating: data/train/100093/image/1-042.png  \n",
            "  inflating: data/train/100093/image/1-043.png  \n",
            "  inflating: data/train/100093/image/1-044.png  \n",
            "  inflating: data/train/100093/image/1-045.png  \n",
            "  inflating: data/train/100093/image/1-046.png  \n",
            "  inflating: data/train/100093/image/1-047.png  \n",
            "  inflating: data/train/100093/image/1-048.png  \n",
            "  inflating: data/train/100093/image/1-049.png  \n",
            "  inflating: data/train/100093/image/1-050.png  \n",
            "  inflating: data/train/100093/image/1-051.png  \n",
            "  inflating: data/train/100093/image/1-052.png  \n",
            "  inflating: data/train/100093/image/1-053.png  \n",
            "  inflating: data/train/100093/image/1-054.png  \n",
            "  inflating: data/train/100093/image/1-055.png  \n",
            "  inflating: data/train/100093/image/1-056.png  \n",
            "  inflating: data/train/100093/image/1-057.png  \n",
            "  inflating: data/train/100093/image/1-058.png  \n",
            "  inflating: data/train/100093/image/1-059.png  \n",
            "  inflating: data/train/100093/image/1-060.png  \n",
            "  inflating: data/train/100093/image/1-061.png  \n",
            "  inflating: data/train/100093/image/1-062.png  \n",
            "  inflating: data/train/100093/image/1-063.png  \n",
            "  inflating: data/train/100093/image/1-064.png  \n",
            "  inflating: data/train/100093/image/1-065.png  \n",
            "  inflating: data/train/100093/image/1-066.png  \n",
            "  inflating: data/train/100093/image/1-067.png  \n",
            "  inflating: data/train/100093/image/1-068.png  \n",
            "  inflating: data/train/100093/image/1-069.png  \n",
            "  inflating: data/train/100093/image/1-070.png  \n",
            "  inflating: data/train/100093/image/1-071.png  \n",
            "  inflating: data/train/100093/image/1-072.png  \n",
            "  inflating: data/train/100093/image/1-073.png  \n",
            "  inflating: data/train/100093/image/1-074.png  \n",
            "  inflating: data/train/100093/image/1-075.png  \n",
            "  inflating: data/train/100093/image/1-076.png  \n",
            "  inflating: data/train/100093/image/1-077.png  \n",
            "  inflating: data/train/100093/image/1-078.png  \n",
            "  inflating: data/train/100093/image/1-079.png  \n",
            "  inflating: data/train/100093/image/1-080.png  \n",
            "  inflating: data/train/100093/image/1-081.png  \n",
            "  inflating: data/train/100093/image/1-082.png  \n",
            "  inflating: data/train/100093/image/1-083.png  \n",
            "  inflating: data/train/100093/image/1-084.png  \n",
            "  inflating: data/train/100093/image/1-085.png  \n",
            "  inflating: data/train/100093/image/1-086.png  \n",
            "  inflating: data/train/100093/image/1-087.png  \n",
            "  inflating: data/train/100093/image/1-088.png  \n",
            "  inflating: data/train/100093/image/1-089.png  \n",
            "  inflating: data/train/100093/image/1-090.png  \n",
            "  inflating: data/train/100093/image/1-091.png  \n",
            "  inflating: data/train/100093/image/1-092.png  \n",
            "  inflating: data/train/100093/image/1-093.png  \n",
            "  inflating: data/train/100093/image/1-094.png  \n",
            "  inflating: data/train/100093/image/1-095.png  \n",
            "  inflating: data/train/100093/image/1-096.png  \n",
            "  inflating: data/train/100093/image/1-097.png  \n",
            "  inflating: data/train/100093/image/1-098.png  \n",
            "  inflating: data/train/100093/image/1-099.png  \n",
            "  inflating: data/train/100093/image/1-100.png  \n",
            "  inflating: data/train/100093/image/1-101.png  \n",
            "  inflating: data/train/100093/image/1-102.png  \n",
            "  inflating: data/train/100093/image/1-103.png  \n",
            "  inflating: data/train/100093/image/1-104.png  \n",
            "  inflating: data/train/100093/image/1-105.png  \n",
            "  inflating: data/train/100093/image/1-106.png  \n",
            "  inflating: data/train/100093/image/1-107.png  \n",
            "  inflating: data/train/100093/image/1-108.png  \n",
            "  inflating: data/train/100093/image/1-109.png  \n",
            "  inflating: data/train/100093/image/1-110.png  \n",
            "  inflating: data/train/100093/image/1-111.png  \n",
            "  inflating: data/train/100093/image/1-112.png  \n",
            "  inflating: data/train/100093/image/1-113.png  \n",
            "  inflating: data/train/100093/image/1-114.png  \n",
            "  inflating: data/train/100093/image/1-115.png  \n",
            "  inflating: data/train/100093/image/1-116.png  \n",
            "  inflating: data/train/100093/image/1-117.png  \n",
            "  inflating: data/train/100093/image/1-118.png  \n",
            "  inflating: data/train/100093/image/1-119.png  \n",
            "  inflating: data/train/100093/image/1-120.png  \n",
            "  inflating: data/train/100093/image/1-121.png  \n",
            "  inflating: data/train/100093/image/1-122.png  \n",
            "  inflating: data/train/100093/image/1-123.png  \n",
            "  inflating: data/train/100093/image/1-124.png  \n",
            "  inflating: data/train/100093/image/1-125.png  \n",
            "  inflating: data/train/100093/image/1-126.png  \n",
            "  inflating: data/train/100093/image/1-127.png  \n",
            "  inflating: data/train/100093/image/1-128.png  \n",
            "  inflating: data/train/100093/image/1-129.png  \n",
            "  inflating: data/train/100093/image/1-130.png  \n",
            "  inflating: data/train/100093/image/1-131.png  \n",
            "  inflating: data/train/100093/image/1-132.png  \n",
            "  inflating: data/train/100093/image/1-133.png  \n",
            "  inflating: data/train/100093/image/1-134.png  \n",
            "  inflating: data/train/100093/image/1-135.png  \n",
            "  inflating: data/train/100093/image/1-136.png  \n",
            "  inflating: data/train/100093/image/1-137.png  \n",
            "  inflating: data/train/100093/image/1-138.png  \n",
            "  inflating: data/train/100093/image/1-139.png  \n",
            "  inflating: data/train/100093/image/1-140.png  \n",
            "  inflating: data/train/100093/image/1-141.png  \n",
            "  inflating: data/train/100093/image/1-142.png  \n",
            "  inflating: data/train/100093/image/1-143.png  \n",
            "  inflating: data/train/100093/image/1-144.png  \n",
            "  inflating: data/train/100093/image/1-145.png  \n",
            "  inflating: data/train/100093/image/1-146.png  \n",
            "  inflating: data/train/100093/image/1-147.png  \n",
            "  inflating: data/train/100093/image/1-148.png  \n",
            "  inflating: data/train/100093/image/1-149.png  \n",
            "  inflating: data/train/100093/image/1-150.png  \n",
            "  inflating: data/train/100093/image/1-151.png  \n",
            "  inflating: data/train/100093/image/1-152.png  \n",
            "  inflating: data/train/100093/image/1-153.png  \n",
            "  inflating: data/train/100093/image/1-154.png  \n",
            "  inflating: data/train/100093/image/1-155.png  \n",
            "  inflating: data/train/100093/image/1-156.png  \n",
            "  inflating: data/train/100093/image/1-157.png  \n",
            "  inflating: data/train/100093/image/1-158.png  \n",
            "  inflating: data/train/100093/image/1-159.png  \n",
            "  inflating: data/train/100093/image/1-160.png  \n",
            "  inflating: data/train/100093/image/1-161.png  \n",
            "  inflating: data/train/100093/image/1-162.png  \n",
            "  inflating: data/train/100093/image/1-163.png  \n",
            "  inflating: data/train/100093/image/1-164.png  \n",
            "  inflating: data/train/100093/image/1-165.png  \n",
            "  inflating: data/train/100093/image/1-166.png  \n",
            "  inflating: data/train/100093/image/1-167.png  \n",
            "  inflating: data/train/100093/image/1-168.png  \n",
            "  inflating: data/train/100093/mask/1-001.png  \n",
            "  inflating: data/train/100093/mask/1-002.png  \n",
            "  inflating: data/train/100093/mask/1-003.png  \n",
            "  inflating: data/train/100093/mask/1-004.png  \n",
            "  inflating: data/train/100093/mask/1-005.png  \n",
            "  inflating: data/train/100093/mask/1-006.png  \n",
            "  inflating: data/train/100093/mask/1-007.png  \n",
            "  inflating: data/train/100093/mask/1-008.png  \n",
            "  inflating: data/train/100093/mask/1-009.png  \n",
            "  inflating: data/train/100093/mask/1-010.png  \n",
            "  inflating: data/train/100093/mask/1-011.png  \n",
            "  inflating: data/train/100093/mask/1-012.png  \n",
            "  inflating: data/train/100093/mask/1-013.png  \n",
            "  inflating: data/train/100093/mask/1-014.png  \n",
            "  inflating: data/train/100093/mask/1-015.png  \n",
            "  inflating: data/train/100093/mask/1-016.png  \n",
            "  inflating: data/train/100093/mask/1-017.png  \n",
            "  inflating: data/train/100093/mask/1-018.png  \n",
            "  inflating: data/train/100093/mask/1-019.png  \n",
            "  inflating: data/train/100093/mask/1-020.png  \n",
            "  inflating: data/train/100093/mask/1-021.png  \n",
            "  inflating: data/train/100093/mask/1-022.png  \n",
            "  inflating: data/train/100093/mask/1-023.png  \n",
            "  inflating: data/train/100093/mask/1-024.png  \n",
            "  inflating: data/train/100093/mask/1-025.png  \n",
            "  inflating: data/train/100093/mask/1-026.png  \n",
            "  inflating: data/train/100093/mask/1-027.png  \n",
            "  inflating: data/train/100093/mask/1-028.png  \n",
            "  inflating: data/train/100093/mask/1-029.png  \n",
            "  inflating: data/train/100093/mask/1-030.png  \n",
            "  inflating: data/train/100093/mask/1-031.png  \n",
            "  inflating: data/train/100093/mask/1-032.png  \n",
            "  inflating: data/train/100093/mask/1-033.png  \n",
            "  inflating: data/train/100093/mask/1-034.png  \n",
            "  inflating: data/train/100093/mask/1-035.png  \n",
            "  inflating: data/train/100093/mask/1-036.png  \n",
            "  inflating: data/train/100093/mask/1-037.png  \n",
            "  inflating: data/train/100093/mask/1-038.png  \n",
            "  inflating: data/train/100093/mask/1-039.png  \n",
            "  inflating: data/train/100093/mask/1-040.png  \n",
            "  inflating: data/train/100093/mask/1-041.png  \n",
            "  inflating: data/train/100093/mask/1-042.png  \n",
            "  inflating: data/train/100093/mask/1-043.png  \n",
            "  inflating: data/train/100093/mask/1-044.png  \n",
            "  inflating: data/train/100093/mask/1-045.png  \n",
            "  inflating: data/train/100093/mask/1-046.png  \n",
            "  inflating: data/train/100093/mask/1-047.png  \n",
            "  inflating: data/train/100093/mask/1-048.png  \n",
            "  inflating: data/train/100093/mask/1-049.png  \n",
            "  inflating: data/train/100093/mask/1-050.png  \n",
            "  inflating: data/train/100093/mask/1-051.png  \n",
            "  inflating: data/train/100093/mask/1-052.png  \n",
            "  inflating: data/train/100093/mask/1-053.png  \n",
            "  inflating: data/train/100093/mask/1-054.png  \n",
            "  inflating: data/train/100093/mask/1-055.png  \n",
            "  inflating: data/train/100093/mask/1-056.png  \n",
            "  inflating: data/train/100093/mask/1-057.png  \n",
            "  inflating: data/train/100093/mask/1-058.png  \n",
            "  inflating: data/train/100093/mask/1-059.png  \n",
            "  inflating: data/train/100093/mask/1-060.png  \n",
            "  inflating: data/train/100093/mask/1-061.png  \n",
            "  inflating: data/train/100093/mask/1-062.png  \n",
            "  inflating: data/train/100093/mask/1-063.png  \n",
            "  inflating: data/train/100093/mask/1-064.png  \n",
            "  inflating: data/train/100093/mask/1-065.png  \n",
            "  inflating: data/train/100093/mask/1-066.png  \n",
            "  inflating: data/train/100093/mask/1-067.png  \n",
            "  inflating: data/train/100093/mask/1-068.png  \n",
            "  inflating: data/train/100093/mask/1-069.png  \n",
            "  inflating: data/train/100093/mask/1-070.png  \n",
            "  inflating: data/train/100093/mask/1-071.png  \n",
            "  inflating: data/train/100093/mask/1-072.png  \n",
            "  inflating: data/train/100093/mask/1-073.png  \n",
            "  inflating: data/train/100093/mask/1-074.png  \n",
            "  inflating: data/train/100093/mask/1-075.png  \n",
            "  inflating: data/train/100093/mask/1-076.png  \n",
            "  inflating: data/train/100093/mask/1-077.png  \n",
            "  inflating: data/train/100093/mask/1-078.png  \n",
            "  inflating: data/train/100093/mask/1-079.png  \n",
            "  inflating: data/train/100093/mask/1-080.png  \n",
            "  inflating: data/train/100093/mask/1-081.png  \n",
            "  inflating: data/train/100093/mask/1-082.png  \n",
            "  inflating: data/train/100093/mask/1-083.png  \n",
            "  inflating: data/train/100093/mask/1-084.png  \n",
            "  inflating: data/train/100093/mask/1-085.png  \n",
            "  inflating: data/train/100093/mask/1-086.png  \n",
            "  inflating: data/train/100093/mask/1-087.png  \n",
            "  inflating: data/train/100093/mask/1-088.png  \n",
            "  inflating: data/train/100093/mask/1-089.png  \n",
            "  inflating: data/train/100093/mask/1-090.png  \n",
            "  inflating: data/train/100093/mask/1-091.png  \n",
            "  inflating: data/train/100093/mask/1-092.png  \n",
            "  inflating: data/train/100093/mask/1-093.png  \n",
            "  inflating: data/train/100093/mask/1-094.png  \n",
            "  inflating: data/train/100093/mask/1-095.png  \n",
            "  inflating: data/train/100093/mask/1-096.png  \n",
            "  inflating: data/train/100093/mask/1-097.png  \n",
            "  inflating: data/train/100093/mask/1-098.png  \n",
            "  inflating: data/train/100093/mask/1-099.png  \n",
            "  inflating: data/train/100093/mask/1-100.png  \n",
            "  inflating: data/train/100093/mask/1-101.png  \n",
            "  inflating: data/train/100093/mask/1-102.png  \n",
            "  inflating: data/train/100093/mask/1-103.png  \n",
            "  inflating: data/train/100093/mask/1-104.png  \n",
            "  inflating: data/train/100093/mask/1-105.png  \n",
            "  inflating: data/train/100093/mask/1-106.png  \n",
            "  inflating: data/train/100093/mask/1-107.png  \n",
            "  inflating: data/train/100093/mask/1-108.png  \n",
            "  inflating: data/train/100093/mask/1-109.png  \n",
            "  inflating: data/train/100093/mask/1-110.png  \n",
            "  inflating: data/train/100093/mask/1-111.png  \n",
            "  inflating: data/train/100093/mask/1-112.png  \n",
            "  inflating: data/train/100093/mask/1-113.png  \n",
            "  inflating: data/train/100093/mask/1-114.png  \n",
            "  inflating: data/train/100093/mask/1-115.png  \n",
            "  inflating: data/train/100093/mask/1-116.png  \n",
            "  inflating: data/train/100093/mask/1-117.png  \n",
            "  inflating: data/train/100093/mask/1-118.png  \n",
            "  inflating: data/train/100093/mask/1-119.png  \n",
            "  inflating: data/train/100093/mask/1-120.png  \n",
            "  inflating: data/train/100093/mask/1-121.png  \n",
            "  inflating: data/train/100093/mask/1-122.png  \n",
            "  inflating: data/train/100093/mask/1-123.png  \n",
            "  inflating: data/train/100093/mask/1-124.png  \n",
            "  inflating: data/train/100093/mask/1-125.png  \n",
            "  inflating: data/train/100093/mask/1-126.png  \n",
            "  inflating: data/train/100093/mask/1-127.png  \n",
            "  inflating: data/train/100093/mask/1-128.png  \n",
            "  inflating: data/train/100093/mask/1-129.png  \n",
            "  inflating: data/train/100093/mask/1-130.png  \n",
            "  inflating: data/train/100093/mask/1-131.png  \n",
            "  inflating: data/train/100093/mask/1-132.png  \n",
            "  inflating: data/train/100093/mask/1-133.png  \n",
            "  inflating: data/train/100093/mask/1-134.png  \n",
            "  inflating: data/train/100093/mask/1-135.png  \n",
            "  inflating: data/train/100093/mask/1-136.png  \n",
            "  inflating: data/train/100093/mask/1-137.png  \n",
            "  inflating: data/train/100093/mask/1-138.png  \n",
            "  inflating: data/train/100093/mask/1-139.png  \n",
            "  inflating: data/train/100093/mask/1-140.png  \n",
            "  inflating: data/train/100093/mask/1-141.png  \n",
            "  inflating: data/train/100093/mask/1-142.png  \n",
            "  inflating: data/train/100093/mask/1-143.png  \n",
            "  inflating: data/train/100093/mask/1-144.png  \n",
            "  inflating: data/train/100093/mask/1-145.png  \n",
            "  inflating: data/train/100093/mask/1-146.png  \n",
            "  inflating: data/train/100093/mask/1-147.png  \n",
            "  inflating: data/train/100093/mask/1-148.png  \n",
            "  inflating: data/train/100093/mask/1-149.png  \n",
            "  inflating: data/train/100093/mask/1-150.png  \n",
            "  inflating: data/train/100093/mask/1-151.png  \n",
            "  inflating: data/train/100093/mask/1-152.png  \n",
            "  inflating: data/train/100093/mask/1-153.png  \n",
            "  inflating: data/train/100093/mask/1-154.png  \n",
            "  inflating: data/train/100093/mask/1-155.png  \n",
            "  inflating: data/train/100093/mask/1-156.png  \n",
            "  inflating: data/train/100093/mask/1-157.png  \n",
            "  inflating: data/train/100093/mask/1-158.png  \n",
            "  inflating: data/train/100093/mask/1-159.png  \n",
            "  inflating: data/train/100093/mask/1-160.png  \n",
            "  inflating: data/train/100093/mask/1-161.png  \n",
            "  inflating: data/train/100093/mask/1-162.png  \n",
            "  inflating: data/train/100093/mask/1-163.png  \n",
            "  inflating: data/train/100093/mask/1-164.png  \n",
            "  inflating: data/train/100093/mask/1-165.png  \n",
            "  inflating: data/train/100093/mask/1-166.png  \n",
            "  inflating: data/train/100093/mask/1-167.png  \n",
            "  inflating: data/train/100093/mask/1-168.png  \n",
            "  inflating: data/train/100094/image/1-001.png  \n",
            "  inflating: data/train/100094/image/1-002.png  \n",
            "  inflating: data/train/100094/image/1-003.png  \n",
            "  inflating: data/train/100094/image/1-004.png  \n",
            "  inflating: data/train/100094/image/1-005.png  \n",
            "  inflating: data/train/100094/image/1-006.png  \n",
            "  inflating: data/train/100094/image/1-007.png  \n",
            "  inflating: data/train/100094/image/1-008.png  \n",
            "  inflating: data/train/100094/image/1-009.png  \n",
            "  inflating: data/train/100094/image/1-010.png  \n",
            "  inflating: data/train/100094/image/1-011.png  \n",
            "  inflating: data/train/100094/image/1-012.png  \n",
            "  inflating: data/train/100094/image/1-013.png  \n",
            "  inflating: data/train/100094/image/1-014.png  \n",
            "  inflating: data/train/100094/image/1-015.png  \n",
            "  inflating: data/train/100094/image/1-016.png  \n",
            "  inflating: data/train/100094/image/1-017.png  \n",
            "  inflating: data/train/100094/image/1-018.png  \n",
            "  inflating: data/train/100094/image/1-019.png  \n",
            "  inflating: data/train/100094/image/1-020.png  \n",
            "  inflating: data/train/100094/image/1-021.png  \n",
            "  inflating: data/train/100094/image/1-022.png  \n",
            "  inflating: data/train/100094/image/1-023.png  \n",
            "  inflating: data/train/100094/image/1-024.png  \n",
            "  inflating: data/train/100094/image/1-025.png  \n",
            "  inflating: data/train/100094/image/1-026.png  \n",
            "  inflating: data/train/100094/image/1-027.png  \n",
            "  inflating: data/train/100094/image/1-028.png  \n",
            "  inflating: data/train/100094/image/1-029.png  \n",
            "  inflating: data/train/100094/image/1-030.png  \n",
            "  inflating: data/train/100094/image/1-031.png  \n",
            "  inflating: data/train/100094/image/1-032.png  \n",
            "  inflating: data/train/100094/image/1-033.png  \n",
            "  inflating: data/train/100094/image/1-034.png  \n",
            "  inflating: data/train/100094/image/1-035.png  \n",
            "  inflating: data/train/100094/image/1-036.png  \n",
            "  inflating: data/train/100094/image/1-037.png  \n",
            "  inflating: data/train/100094/image/1-038.png  \n",
            "  inflating: data/train/100094/image/1-039.png  \n",
            "  inflating: data/train/100094/image/1-040.png  \n",
            "  inflating: data/train/100094/image/1-041.png  \n",
            "  inflating: data/train/100094/image/1-042.png  \n",
            "  inflating: data/train/100094/image/1-043.png  \n",
            "  inflating: data/train/100094/image/1-044.png  \n",
            "  inflating: data/train/100094/image/1-045.png  \n",
            "  inflating: data/train/100094/image/1-046.png  \n",
            "  inflating: data/train/100094/image/1-047.png  \n",
            "  inflating: data/train/100094/image/1-048.png  \n",
            "  inflating: data/train/100094/image/1-049.png  \n",
            "  inflating: data/train/100094/image/1-050.png  \n",
            "  inflating: data/train/100094/image/1-051.png  \n",
            "  inflating: data/train/100094/image/1-052.png  \n",
            "  inflating: data/train/100094/image/1-053.png  \n",
            "  inflating: data/train/100094/image/1-054.png  \n",
            "  inflating: data/train/100094/image/1-055.png  \n",
            "  inflating: data/train/100094/image/1-056.png  \n",
            "  inflating: data/train/100094/image/1-057.png  \n",
            "  inflating: data/train/100094/image/1-058.png  \n",
            "  inflating: data/train/100094/image/1-059.png  \n",
            "  inflating: data/train/100094/image/1-060.png  \n",
            "  inflating: data/train/100094/image/1-061.png  \n",
            "  inflating: data/train/100094/image/1-062.png  \n",
            "  inflating: data/train/100094/image/1-063.png  \n",
            "  inflating: data/train/100094/image/1-064.png  \n",
            "  inflating: data/train/100094/image/1-065.png  \n",
            "  inflating: data/train/100094/image/1-066.png  \n",
            "  inflating: data/train/100094/image/1-067.png  \n",
            "  inflating: data/train/100094/image/1-068.png  \n",
            "  inflating: data/train/100094/image/1-069.png  \n",
            "  inflating: data/train/100094/image/1-070.png  \n",
            "  inflating: data/train/100094/image/1-071.png  \n",
            "  inflating: data/train/100094/image/1-072.png  \n",
            "  inflating: data/train/100094/image/1-073.png  \n",
            "  inflating: data/train/100094/image/1-074.png  \n",
            "  inflating: data/train/100094/image/1-075.png  \n",
            "  inflating: data/train/100094/image/1-076.png  \n",
            "  inflating: data/train/100094/image/1-077.png  \n",
            "  inflating: data/train/100094/image/1-078.png  \n",
            "  inflating: data/train/100094/image/1-079.png  \n",
            "  inflating: data/train/100094/image/1-080.png  \n",
            "  inflating: data/train/100094/image/1-081.png  \n",
            "  inflating: data/train/100094/image/1-082.png  \n",
            "  inflating: data/train/100094/image/1-083.png  \n",
            "  inflating: data/train/100094/image/1-084.png  \n",
            "  inflating: data/train/100094/image/1-085.png  \n",
            "  inflating: data/train/100094/image/1-086.png  \n",
            "  inflating: data/train/100094/image/1-087.png  \n",
            "  inflating: data/train/100094/image/1-088.png  \n",
            "  inflating: data/train/100094/image/1-089.png  \n",
            "  inflating: data/train/100094/image/1-090.png  \n",
            "  inflating: data/train/100094/image/1-091.png  \n",
            "  inflating: data/train/100094/image/1-092.png  \n",
            "  inflating: data/train/100094/image/1-093.png  \n",
            "  inflating: data/train/100094/image/1-094.png  \n",
            "  inflating: data/train/100094/image/1-095.png  \n",
            "  inflating: data/train/100094/image/1-096.png  \n",
            "  inflating: data/train/100094/image/1-097.png  \n",
            "  inflating: data/train/100094/image/1-098.png  \n",
            "  inflating: data/train/100094/image/1-099.png  \n",
            "  inflating: data/train/100094/image/1-100.png  \n",
            "  inflating: data/train/100094/image/1-101.png  \n",
            "  inflating: data/train/100094/image/1-102.png  \n",
            "  inflating: data/train/100094/image/1-103.png  \n",
            "  inflating: data/train/100094/image/1-104.png  \n",
            "  inflating: data/train/100094/image/1-105.png  \n",
            "  inflating: data/train/100094/image/1-106.png  \n",
            "  inflating: data/train/100094/image/1-107.png  \n",
            "  inflating: data/train/100094/image/1-108.png  \n",
            "  inflating: data/train/100094/image/1-109.png  \n",
            "  inflating: data/train/100094/image/1-110.png  \n",
            "  inflating: data/train/100094/image/1-111.png  \n",
            "  inflating: data/train/100094/image/1-112.png  \n",
            "  inflating: data/train/100094/image/1-113.png  \n",
            "  inflating: data/train/100094/image/1-114.png  \n",
            "  inflating: data/train/100094/image/1-115.png  \n",
            "  inflating: data/train/100094/image/1-116.png  \n",
            "  inflating: data/train/100094/image/1-117.png  \n",
            "  inflating: data/train/100094/image/1-118.png  \n",
            "  inflating: data/train/100094/image/1-119.png  \n",
            "  inflating: data/train/100094/image/1-120.png  \n",
            "  inflating: data/train/100094/image/1-121.png  \n",
            "  inflating: data/train/100094/image/1-122.png  \n",
            "  inflating: data/train/100094/image/1-123.png  \n",
            "  inflating: data/train/100094/image/1-124.png  \n",
            "  inflating: data/train/100094/image/1-125.png  \n",
            "  inflating: data/train/100094/image/1-126.png  \n",
            "  inflating: data/train/100094/image/1-127.png  \n",
            "  inflating: data/train/100094/image/1-128.png  \n",
            "  inflating: data/train/100094/image/1-129.png  \n",
            "  inflating: data/train/100094/image/1-130.png  \n",
            "  inflating: data/train/100094/image/1-131.png  \n",
            "  inflating: data/train/100094/image/1-132.png  \n",
            "  inflating: data/train/100094/image/1-133.png  \n",
            "  inflating: data/train/100094/image/1-134.png  \n",
            "  inflating: data/train/100094/image/1-135.png  \n",
            "  inflating: data/train/100094/image/1-136.png  \n",
            "  inflating: data/train/100094/image/1-137.png  \n",
            "  inflating: data/train/100094/image/1-138.png  \n",
            "  inflating: data/train/100094/image/1-139.png  \n",
            "  inflating: data/train/100094/image/1-140.png  \n",
            "  inflating: data/train/100094/image/1-141.png  \n",
            "  inflating: data/train/100094/image/1-142.png  \n",
            "  inflating: data/train/100094/image/1-143.png  \n",
            "  inflating: data/train/100094/image/1-144.png  \n",
            "  inflating: data/train/100094/image/1-145.png  \n",
            "  inflating: data/train/100094/image/1-146.png  \n",
            "  inflating: data/train/100094/image/1-147.png  \n",
            "  inflating: data/train/100094/image/1-148.png  \n",
            "  inflating: data/train/100094/image/1-149.png  \n",
            "  inflating: data/train/100094/image/1-150.png  \n",
            "  inflating: data/train/100094/image/1-151.png  \n",
            "  inflating: data/train/100094/image/1-152.png  \n",
            "  inflating: data/train/100094/image/1-153.png  \n",
            "  inflating: data/train/100094/image/1-154.png  \n",
            "  inflating: data/train/100094/image/1-155.png  \n",
            "  inflating: data/train/100094/image/1-156.png  \n",
            "  inflating: data/train/100094/image/1-157.png  \n",
            "  inflating: data/train/100094/image/1-158.png  \n",
            "  inflating: data/train/100094/image/1-159.png  \n",
            "  inflating: data/train/100094/image/1-160.png  \n",
            "  inflating: data/train/100094/image/1-161.png  \n",
            "  inflating: data/train/100094/image/1-162.png  \n",
            "  inflating: data/train/100094/image/1-163.png  \n",
            "  inflating: data/train/100094/image/1-164.png  \n",
            "  inflating: data/train/100094/image/1-165.png  \n",
            "  inflating: data/train/100094/image/1-166.png  \n",
            "  inflating: data/train/100094/image/1-167.png  \n",
            "  inflating: data/train/100094/image/1-168.png  \n",
            "  inflating: data/train/100094/mask/1-001.png  \n",
            "  inflating: data/train/100094/mask/1-002.png  \n",
            "  inflating: data/train/100094/mask/1-003.png  \n",
            "  inflating: data/train/100094/mask/1-004.png  \n",
            "  inflating: data/train/100094/mask/1-005.png  \n",
            "  inflating: data/train/100094/mask/1-006.png  \n",
            "  inflating: data/train/100094/mask/1-007.png  \n",
            "  inflating: data/train/100094/mask/1-008.png  \n",
            "  inflating: data/train/100094/mask/1-009.png  \n",
            "  inflating: data/train/100094/mask/1-010.png  \n",
            "  inflating: data/train/100094/mask/1-011.png  \n",
            "  inflating: data/train/100094/mask/1-012.png  \n",
            "  inflating: data/train/100094/mask/1-013.png  \n",
            "  inflating: data/train/100094/mask/1-014.png  \n",
            "  inflating: data/train/100094/mask/1-015.png  \n",
            "  inflating: data/train/100094/mask/1-016.png  \n",
            "  inflating: data/train/100094/mask/1-017.png  \n",
            "  inflating: data/train/100094/mask/1-018.png  \n",
            "  inflating: data/train/100094/mask/1-019.png  \n",
            "  inflating: data/train/100094/mask/1-020.png  \n",
            "  inflating: data/train/100094/mask/1-021.png  \n",
            "  inflating: data/train/100094/mask/1-022.png  \n",
            "  inflating: data/train/100094/mask/1-023.png  \n",
            "  inflating: data/train/100094/mask/1-024.png  \n",
            "  inflating: data/train/100094/mask/1-025.png  \n",
            "  inflating: data/train/100094/mask/1-026.png  \n",
            "  inflating: data/train/100094/mask/1-027.png  \n",
            "  inflating: data/train/100094/mask/1-028.png  \n",
            "  inflating: data/train/100094/mask/1-029.png  \n",
            "  inflating: data/train/100094/mask/1-030.png  \n",
            "  inflating: data/train/100094/mask/1-031.png  \n",
            "  inflating: data/train/100094/mask/1-032.png  \n",
            "  inflating: data/train/100094/mask/1-033.png  \n",
            "  inflating: data/train/100094/mask/1-034.png  \n",
            "  inflating: data/train/100094/mask/1-035.png  \n",
            "  inflating: data/train/100094/mask/1-036.png  \n",
            "  inflating: data/train/100094/mask/1-037.png  \n",
            "  inflating: data/train/100094/mask/1-038.png  \n",
            "  inflating: data/train/100094/mask/1-039.png  \n",
            "  inflating: data/train/100094/mask/1-040.png  \n",
            "  inflating: data/train/100094/mask/1-041.png  \n",
            "  inflating: data/train/100094/mask/1-042.png  \n",
            "  inflating: data/train/100094/mask/1-043.png  \n",
            "  inflating: data/train/100094/mask/1-044.png  \n",
            "  inflating: data/train/100094/mask/1-045.png  \n",
            "  inflating: data/train/100094/mask/1-046.png  \n",
            "  inflating: data/train/100094/mask/1-047.png  \n",
            "  inflating: data/train/100094/mask/1-048.png  \n",
            "  inflating: data/train/100094/mask/1-049.png  \n",
            "  inflating: data/train/100094/mask/1-050.png  \n",
            "  inflating: data/train/100094/mask/1-051.png  \n",
            "  inflating: data/train/100094/mask/1-052.png  \n",
            "  inflating: data/train/100094/mask/1-053.png  \n",
            "  inflating: data/train/100094/mask/1-054.png  \n",
            "  inflating: data/train/100094/mask/1-055.png  \n",
            "  inflating: data/train/100094/mask/1-056.png  \n",
            "  inflating: data/train/100094/mask/1-057.png  \n",
            "  inflating: data/train/100094/mask/1-058.png  \n",
            "  inflating: data/train/100094/mask/1-059.png  \n",
            "  inflating: data/train/100094/mask/1-060.png  \n",
            "  inflating: data/train/100094/mask/1-061.png  \n",
            "  inflating: data/train/100094/mask/1-062.png  \n",
            "  inflating: data/train/100094/mask/1-063.png  \n",
            "  inflating: data/train/100094/mask/1-064.png  \n",
            "  inflating: data/train/100094/mask/1-065.png  \n",
            "  inflating: data/train/100094/mask/1-066.png  \n",
            "  inflating: data/train/100094/mask/1-067.png  \n",
            "  inflating: data/train/100094/mask/1-068.png  \n",
            "  inflating: data/train/100094/mask/1-069.png  \n",
            "  inflating: data/train/100094/mask/1-070.png  \n",
            "  inflating: data/train/100094/mask/1-071.png  \n",
            "  inflating: data/train/100094/mask/1-072.png  \n",
            "  inflating: data/train/100094/mask/1-073.png  \n",
            "  inflating: data/train/100094/mask/1-074.png  \n",
            "  inflating: data/train/100094/mask/1-075.png  \n",
            "  inflating: data/train/100094/mask/1-076.png  \n",
            "  inflating: data/train/100094/mask/1-077.png  \n",
            "  inflating: data/train/100094/mask/1-078.png  \n",
            "  inflating: data/train/100094/mask/1-079.png  \n",
            "  inflating: data/train/100094/mask/1-080.png  \n",
            "  inflating: data/train/100094/mask/1-081.png  \n",
            "  inflating: data/train/100094/mask/1-082.png  \n",
            "  inflating: data/train/100094/mask/1-083.png  \n",
            "  inflating: data/train/100094/mask/1-084.png  \n",
            "  inflating: data/train/100094/mask/1-085.png  \n",
            "  inflating: data/train/100094/mask/1-086.png  \n",
            "  inflating: data/train/100094/mask/1-087.png  \n",
            "  inflating: data/train/100094/mask/1-088.png  \n",
            "  inflating: data/train/100094/mask/1-089.png  \n",
            "  inflating: data/train/100094/mask/1-090.png  \n",
            "  inflating: data/train/100094/mask/1-091.png  \n",
            "  inflating: data/train/100094/mask/1-092.png  \n",
            "  inflating: data/train/100094/mask/1-093.png  \n",
            "  inflating: data/train/100094/mask/1-094.png  \n",
            "  inflating: data/train/100094/mask/1-095.png  \n",
            "  inflating: data/train/100094/mask/1-096.png  \n",
            "  inflating: data/train/100094/mask/1-097.png  \n",
            "  inflating: data/train/100094/mask/1-098.png  \n",
            "  inflating: data/train/100094/mask/1-099.png  \n",
            "  inflating: data/train/100094/mask/1-100.png  \n",
            "  inflating: data/train/100094/mask/1-101.png  \n",
            "  inflating: data/train/100094/mask/1-102.png  \n",
            "  inflating: data/train/100094/mask/1-103.png  \n",
            "  inflating: data/train/100094/mask/1-104.png  \n",
            "  inflating: data/train/100094/mask/1-105.png  \n",
            "  inflating: data/train/100094/mask/1-106.png  \n",
            "  inflating: data/train/100094/mask/1-107.png  \n",
            "  inflating: data/train/100094/mask/1-108.png  \n",
            "  inflating: data/train/100094/mask/1-109.png  \n",
            "  inflating: data/train/100094/mask/1-110.png  \n",
            "  inflating: data/train/100094/mask/1-111.png  \n",
            "  inflating: data/train/100094/mask/1-112.png  \n",
            "  inflating: data/train/100094/mask/1-113.png  \n",
            "  inflating: data/train/100094/mask/1-114.png  \n",
            "  inflating: data/train/100094/mask/1-115.png  \n",
            "  inflating: data/train/100094/mask/1-116.png  \n",
            "  inflating: data/train/100094/mask/1-117.png  \n",
            "  inflating: data/train/100094/mask/1-118.png  \n",
            "  inflating: data/train/100094/mask/1-119.png  \n",
            "  inflating: data/train/100094/mask/1-120.png  \n",
            "  inflating: data/train/100094/mask/1-121.png  \n",
            "  inflating: data/train/100094/mask/1-122.png  \n",
            "  inflating: data/train/100094/mask/1-123.png  \n",
            "  inflating: data/train/100094/mask/1-124.png  \n",
            "  inflating: data/train/100094/mask/1-125.png  \n",
            "  inflating: data/train/100094/mask/1-126.png  \n",
            "  inflating: data/train/100094/mask/1-127.png  \n",
            "  inflating: data/train/100094/mask/1-128.png  \n",
            "  inflating: data/train/100094/mask/1-129.png  \n",
            "  inflating: data/train/100094/mask/1-130.png  \n",
            "  inflating: data/train/100094/mask/1-131.png  \n",
            "  inflating: data/train/100094/mask/1-132.png  \n",
            "  inflating: data/train/100094/mask/1-133.png  \n",
            "  inflating: data/train/100094/mask/1-134.png  \n",
            "  inflating: data/train/100094/mask/1-135.png  \n",
            "  inflating: data/train/100094/mask/1-136.png  \n",
            "  inflating: data/train/100094/mask/1-137.png  \n",
            "  inflating: data/train/100094/mask/1-138.png  \n",
            "  inflating: data/train/100094/mask/1-139.png  \n",
            "  inflating: data/train/100094/mask/1-140.png  \n",
            "  inflating: data/train/100094/mask/1-141.png  \n",
            "  inflating: data/train/100094/mask/1-142.png  \n",
            "  inflating: data/train/100094/mask/1-143.png  \n",
            "  inflating: data/train/100094/mask/1-144.png  \n",
            "  inflating: data/train/100094/mask/1-145.png  \n",
            "  inflating: data/train/100094/mask/1-146.png  \n",
            "  inflating: data/train/100094/mask/1-147.png  \n",
            "  inflating: data/train/100094/mask/1-148.png  \n",
            "  inflating: data/train/100094/mask/1-149.png  \n",
            "  inflating: data/train/100094/mask/1-150.png  \n",
            "  inflating: data/train/100094/mask/1-151.png  \n",
            "  inflating: data/train/100094/mask/1-152.png  \n",
            "  inflating: data/train/100094/mask/1-153.png  \n",
            "  inflating: data/train/100094/mask/1-154.png  \n",
            "  inflating: data/train/100094/mask/1-155.png  \n",
            "  inflating: data/train/100094/mask/1-156.png  \n",
            "  inflating: data/train/100094/mask/1-157.png  \n",
            "  inflating: data/train/100094/mask/1-158.png  \n",
            "  inflating: data/train/100094/mask/1-159.png  \n",
            "  inflating: data/train/100094/mask/1-160.png  \n",
            "  inflating: data/train/100094/mask/1-161.png  \n",
            "  inflating: data/train/100094/mask/1-162.png  \n",
            "  inflating: data/train/100094/mask/1-163.png  \n",
            "  inflating: data/train/100094/mask/1-164.png  \n",
            "  inflating: data/train/100094/mask/1-165.png  \n",
            "  inflating: data/train/100094/mask/1-166.png  \n",
            "  inflating: data/train/100094/mask/1-167.png  \n",
            "  inflating: data/train/100094/mask/1-168.png  \n",
            "  inflating: data/train/100095/image/1-001.png  \n",
            "  inflating: data/train/100095/image/1-002.png  \n",
            "  inflating: data/train/100095/image/1-003.png  \n",
            "  inflating: data/train/100095/image/1-004.png  \n",
            "  inflating: data/train/100095/image/1-005.png  \n",
            "  inflating: data/train/100095/image/1-006.png  \n",
            "  inflating: data/train/100095/image/1-007.png  \n",
            "  inflating: data/train/100095/image/1-008.png  \n",
            "  inflating: data/train/100095/image/1-009.png  \n",
            "  inflating: data/train/100095/image/1-010.png  \n",
            "  inflating: data/train/100095/image/1-011.png  \n",
            "  inflating: data/train/100095/image/1-012.png  \n",
            "  inflating: data/train/100095/image/1-013.png  \n",
            "  inflating: data/train/100095/image/1-014.png  \n",
            "  inflating: data/train/100095/image/1-015.png  \n",
            "  inflating: data/train/100095/image/1-016.png  \n",
            "  inflating: data/train/100095/image/1-017.png  \n",
            "  inflating: data/train/100095/image/1-018.png  \n",
            "  inflating: data/train/100095/image/1-019.png  \n",
            "  inflating: data/train/100095/image/1-020.png  \n",
            "  inflating: data/train/100095/image/1-021.png  \n",
            "  inflating: data/train/100095/image/1-022.png  \n",
            "  inflating: data/train/100095/image/1-023.png  \n",
            "  inflating: data/train/100095/image/1-024.png  \n",
            "  inflating: data/train/100095/image/1-025.png  \n",
            "  inflating: data/train/100095/image/1-026.png  \n",
            "  inflating: data/train/100095/image/1-027.png  \n",
            "  inflating: data/train/100095/image/1-028.png  \n",
            "  inflating: data/train/100095/image/1-029.png  \n",
            "  inflating: data/train/100095/image/1-030.png  \n",
            "  inflating: data/train/100095/image/1-031.png  \n",
            "  inflating: data/train/100095/image/1-032.png  \n",
            "  inflating: data/train/100095/image/1-033.png  \n",
            "  inflating: data/train/100095/image/1-034.png  \n",
            "  inflating: data/train/100095/image/1-035.png  \n",
            "  inflating: data/train/100095/image/1-036.png  \n",
            "  inflating: data/train/100095/image/1-037.png  \n",
            "  inflating: data/train/100095/image/1-038.png  \n",
            "  inflating: data/train/100095/image/1-039.png  \n",
            "  inflating: data/train/100095/image/1-040.png  \n",
            "  inflating: data/train/100095/image/1-041.png  \n",
            "  inflating: data/train/100095/image/1-042.png  \n",
            "  inflating: data/train/100095/image/1-043.png  \n",
            "  inflating: data/train/100095/image/1-044.png  \n",
            "  inflating: data/train/100095/image/1-045.png  \n",
            "  inflating: data/train/100095/image/1-046.png  \n",
            "  inflating: data/train/100095/image/1-047.png  \n",
            "  inflating: data/train/100095/image/1-048.png  \n",
            "  inflating: data/train/100095/image/1-049.png  \n",
            "  inflating: data/train/100095/image/1-050.png  \n",
            "  inflating: data/train/100095/image/1-051.png  \n",
            "  inflating: data/train/100095/image/1-052.png  \n",
            "  inflating: data/train/100095/image/1-053.png  \n",
            "  inflating: data/train/100095/image/1-054.png  \n",
            "  inflating: data/train/100095/image/1-055.png  \n",
            "  inflating: data/train/100095/image/1-056.png  \n",
            "  inflating: data/train/100095/image/1-057.png  \n",
            "  inflating: data/train/100095/image/1-058.png  \n",
            "  inflating: data/train/100095/image/1-059.png  \n",
            "  inflating: data/train/100095/image/1-060.png  \n",
            "  inflating: data/train/100095/image/1-061.png  \n",
            "  inflating: data/train/100095/image/1-062.png  \n",
            "  inflating: data/train/100095/image/1-063.png  \n",
            "  inflating: data/train/100095/image/1-064.png  \n",
            "  inflating: data/train/100095/image/1-065.png  \n",
            "  inflating: data/train/100095/image/1-066.png  \n",
            "  inflating: data/train/100095/image/1-067.png  \n",
            "  inflating: data/train/100095/image/1-068.png  \n",
            "  inflating: data/train/100095/image/1-069.png  \n",
            "  inflating: data/train/100095/image/1-070.png  \n",
            "  inflating: data/train/100095/image/1-071.png  \n",
            "  inflating: data/train/100095/image/1-072.png  \n",
            "  inflating: data/train/100095/image/1-073.png  \n",
            "  inflating: data/train/100095/image/1-074.png  \n",
            "  inflating: data/train/100095/image/1-075.png  \n",
            "  inflating: data/train/100095/image/1-076.png  \n",
            "  inflating: data/train/100095/image/1-077.png  \n",
            "  inflating: data/train/100095/image/1-078.png  \n",
            "  inflating: data/train/100095/image/1-079.png  \n",
            "  inflating: data/train/100095/image/1-080.png  \n",
            "  inflating: data/train/100095/image/1-081.png  \n",
            "  inflating: data/train/100095/image/1-082.png  \n",
            "  inflating: data/train/100095/image/1-083.png  \n",
            "  inflating: data/train/100095/image/1-084.png  \n",
            "  inflating: data/train/100095/image/1-085.png  \n",
            "  inflating: data/train/100095/image/1-086.png  \n",
            "  inflating: data/train/100095/image/1-087.png  \n",
            "  inflating: data/train/100095/image/1-088.png  \n",
            "  inflating: data/train/100095/image/1-089.png  \n",
            "  inflating: data/train/100095/image/1-090.png  \n",
            "  inflating: data/train/100095/image/1-091.png  \n",
            "  inflating: data/train/100095/image/1-092.png  \n",
            "  inflating: data/train/100095/image/1-093.png  \n",
            "  inflating: data/train/100095/image/1-094.png  \n",
            "  inflating: data/train/100095/image/1-095.png  \n",
            "  inflating: data/train/100095/image/1-096.png  \n",
            "  inflating: data/train/100095/image/1-097.png  \n",
            "  inflating: data/train/100095/image/1-098.png  \n",
            "  inflating: data/train/100095/image/1-099.png  \n",
            "  inflating: data/train/100095/image/1-100.png  \n",
            "  inflating: data/train/100095/image/1-101.png  \n",
            "  inflating: data/train/100095/image/1-102.png  \n",
            "  inflating: data/train/100095/image/1-103.png  \n",
            "  inflating: data/train/100095/image/1-104.png  \n",
            "  inflating: data/train/100095/image/1-105.png  \n",
            "  inflating: data/train/100095/image/1-106.png  \n",
            "  inflating: data/train/100095/image/1-107.png  \n",
            "  inflating: data/train/100095/image/1-108.png  \n",
            "  inflating: data/train/100095/image/1-109.png  \n",
            "  inflating: data/train/100095/image/1-110.png  \n",
            "  inflating: data/train/100095/image/1-111.png  \n",
            "  inflating: data/train/100095/image/1-112.png  \n",
            "  inflating: data/train/100095/image/1-113.png  \n",
            "  inflating: data/train/100095/image/1-114.png  \n",
            "  inflating: data/train/100095/image/1-115.png  \n",
            "  inflating: data/train/100095/image/1-116.png  \n",
            "  inflating: data/train/100095/image/1-117.png  \n",
            "  inflating: data/train/100095/image/1-118.png  \n",
            "  inflating: data/train/100095/image/1-119.png  \n",
            "  inflating: data/train/100095/image/1-120.png  \n",
            "  inflating: data/train/100095/image/1-121.png  \n",
            "  inflating: data/train/100095/image/1-122.png  \n",
            "  inflating: data/train/100095/image/1-123.png  \n",
            "  inflating: data/train/100095/image/1-124.png  \n",
            "  inflating: data/train/100095/image/1-125.png  \n",
            "  inflating: data/train/100095/image/1-126.png  \n",
            "  inflating: data/train/100095/image/1-127.png  \n",
            "  inflating: data/train/100095/image/1-128.png  \n",
            "  inflating: data/train/100095/image/1-129.png  \n",
            "  inflating: data/train/100095/image/1-130.png  \n",
            "  inflating: data/train/100095/image/1-131.png  \n",
            "  inflating: data/train/100095/image/1-132.png  \n",
            "  inflating: data/train/100095/image/1-133.png  \n",
            "  inflating: data/train/100095/image/1-134.png  \n",
            "  inflating: data/train/100095/image/1-135.png  \n",
            "  inflating: data/train/100095/image/1-136.png  \n",
            "  inflating: data/train/100095/image/1-137.png  \n",
            "  inflating: data/train/100095/image/1-138.png  \n",
            "  inflating: data/train/100095/image/1-139.png  \n",
            "  inflating: data/train/100095/image/1-140.png  \n",
            "  inflating: data/train/100095/image/1-141.png  \n",
            "  inflating: data/train/100095/image/1-142.png  \n",
            "  inflating: data/train/100095/image/1-143.png  \n",
            "  inflating: data/train/100095/image/1-144.png  \n",
            "  inflating: data/train/100095/mask/1-001.png  \n",
            "  inflating: data/train/100095/mask/1-002.png  \n",
            "  inflating: data/train/100095/mask/1-003.png  \n",
            "  inflating: data/train/100095/mask/1-004.png  \n",
            "  inflating: data/train/100095/mask/1-005.png  \n",
            "  inflating: data/train/100095/mask/1-006.png  \n",
            "  inflating: data/train/100095/mask/1-007.png  \n",
            "  inflating: data/train/100095/mask/1-008.png  \n",
            "  inflating: data/train/100095/mask/1-009.png  \n",
            "  inflating: data/train/100095/mask/1-010.png  \n",
            "  inflating: data/train/100095/mask/1-011.png  \n",
            "  inflating: data/train/100095/mask/1-012.png  \n",
            "  inflating: data/train/100095/mask/1-013.png  \n",
            "  inflating: data/train/100095/mask/1-014.png  \n",
            "  inflating: data/train/100095/mask/1-015.png  \n",
            "  inflating: data/train/100095/mask/1-016.png  \n",
            "  inflating: data/train/100095/mask/1-017.png  \n",
            "  inflating: data/train/100095/mask/1-018.png  \n",
            "  inflating: data/train/100095/mask/1-019.png  \n",
            "  inflating: data/train/100095/mask/1-020.png  \n",
            "  inflating: data/train/100095/mask/1-021.png  \n",
            "  inflating: data/train/100095/mask/1-022.png  \n",
            "  inflating: data/train/100095/mask/1-023.png  \n",
            "  inflating: data/train/100095/mask/1-024.png  \n",
            "  inflating: data/train/100095/mask/1-025.png  \n",
            "  inflating: data/train/100095/mask/1-026.png  \n",
            "  inflating: data/train/100095/mask/1-027.png  \n",
            "  inflating: data/train/100095/mask/1-028.png  \n",
            "  inflating: data/train/100095/mask/1-029.png  \n",
            "  inflating: data/train/100095/mask/1-030.png  \n",
            "  inflating: data/train/100095/mask/1-031.png  \n",
            "  inflating: data/train/100095/mask/1-032.png  \n",
            "  inflating: data/train/100095/mask/1-033.png  \n",
            "  inflating: data/train/100095/mask/1-034.png  \n",
            "  inflating: data/train/100095/mask/1-035.png  \n",
            "  inflating: data/train/100095/mask/1-036.png  \n",
            "  inflating: data/train/100095/mask/1-037.png  \n",
            "  inflating: data/train/100095/mask/1-038.png  \n",
            "  inflating: data/train/100095/mask/1-039.png  \n",
            "  inflating: data/train/100095/mask/1-040.png  \n",
            "  inflating: data/train/100095/mask/1-041.png  \n",
            "  inflating: data/train/100095/mask/1-042.png  \n",
            "  inflating: data/train/100095/mask/1-043.png  \n",
            "  inflating: data/train/100095/mask/1-044.png  \n",
            "  inflating: data/train/100095/mask/1-045.png  \n",
            "  inflating: data/train/100095/mask/1-046.png  \n",
            "  inflating: data/train/100095/mask/1-047.png  \n",
            "  inflating: data/train/100095/mask/1-048.png  \n",
            "  inflating: data/train/100095/mask/1-049.png  \n",
            "  inflating: data/train/100095/mask/1-050.png  \n",
            "  inflating: data/train/100095/mask/1-051.png  \n",
            "  inflating: data/train/100095/mask/1-052.png  \n",
            "  inflating: data/train/100095/mask/1-053.png  \n",
            "  inflating: data/train/100095/mask/1-054.png  \n",
            "  inflating: data/train/100095/mask/1-055.png  \n",
            "  inflating: data/train/100095/mask/1-056.png  \n",
            "  inflating: data/train/100095/mask/1-057.png  \n",
            "  inflating: data/train/100095/mask/1-058.png  \n",
            "  inflating: data/train/100095/mask/1-059.png  \n",
            "  inflating: data/train/100095/mask/1-060.png  \n",
            "  inflating: data/train/100095/mask/1-061.png  \n",
            "  inflating: data/train/100095/mask/1-062.png  \n",
            "  inflating: data/train/100095/mask/1-063.png  \n",
            "  inflating: data/train/100095/mask/1-064.png  \n",
            "  inflating: data/train/100095/mask/1-065.png  \n",
            "  inflating: data/train/100095/mask/1-066.png  \n",
            "  inflating: data/train/100095/mask/1-067.png  \n",
            "  inflating: data/train/100095/mask/1-068.png  \n",
            "  inflating: data/train/100095/mask/1-069.png  \n",
            "  inflating: data/train/100095/mask/1-070.png  \n",
            "  inflating: data/train/100095/mask/1-071.png  \n",
            "  inflating: data/train/100095/mask/1-072.png  \n",
            "  inflating: data/train/100095/mask/1-073.png  \n",
            "  inflating: data/train/100095/mask/1-074.png  \n",
            "  inflating: data/train/100095/mask/1-075.png  \n",
            "  inflating: data/train/100095/mask/1-076.png  \n",
            "  inflating: data/train/100095/mask/1-077.png  \n",
            "  inflating: data/train/100095/mask/1-078.png  \n",
            "  inflating: data/train/100095/mask/1-079.png  \n",
            "  inflating: data/train/100095/mask/1-080.png  \n",
            "  inflating: data/train/100095/mask/1-081.png  \n",
            "  inflating: data/train/100095/mask/1-082.png  \n",
            "  inflating: data/train/100095/mask/1-083.png  \n",
            "  inflating: data/train/100095/mask/1-084.png  \n",
            "  inflating: data/train/100095/mask/1-085.png  \n",
            "  inflating: data/train/100095/mask/1-086.png  \n",
            "  inflating: data/train/100095/mask/1-087.png  \n",
            "  inflating: data/train/100095/mask/1-088.png  \n",
            "  inflating: data/train/100095/mask/1-089.png  \n",
            "  inflating: data/train/100095/mask/1-090.png  \n",
            "  inflating: data/train/100095/mask/1-091.png  \n",
            "  inflating: data/train/100095/mask/1-092.png  \n",
            "  inflating: data/train/100095/mask/1-093.png  \n",
            "  inflating: data/train/100095/mask/1-094.png  \n",
            "  inflating: data/train/100095/mask/1-095.png  \n",
            "  inflating: data/train/100095/mask/1-096.png  \n",
            "  inflating: data/train/100095/mask/1-097.png  \n",
            "  inflating: data/train/100095/mask/1-098.png  \n",
            "  inflating: data/train/100095/mask/1-099.png  \n",
            "  inflating: data/train/100095/mask/1-100.png  \n",
            "  inflating: data/train/100095/mask/1-101.png  \n",
            "  inflating: data/train/100095/mask/1-102.png  \n",
            "  inflating: data/train/100095/mask/1-103.png  \n",
            "  inflating: data/train/100095/mask/1-104.png  \n",
            "  inflating: data/train/100095/mask/1-105.png  \n",
            "  inflating: data/train/100095/mask/1-106.png  \n",
            "  inflating: data/train/100095/mask/1-107.png  \n",
            "  inflating: data/train/100095/mask/1-108.png  \n",
            "  inflating: data/train/100095/mask/1-109.png  \n",
            "  inflating: data/train/100095/mask/1-110.png  \n",
            "  inflating: data/train/100095/mask/1-111.png  \n",
            "  inflating: data/train/100095/mask/1-112.png  \n",
            "  inflating: data/train/100095/mask/1-113.png  \n",
            "  inflating: data/train/100095/mask/1-114.png  \n",
            "  inflating: data/train/100095/mask/1-115.png  \n",
            "  inflating: data/train/100095/mask/1-116.png  \n",
            "  inflating: data/train/100095/mask/1-117.png  \n",
            "  inflating: data/train/100095/mask/1-118.png  \n",
            "  inflating: data/train/100095/mask/1-119.png  \n",
            "  inflating: data/train/100095/mask/1-120.png  \n",
            "  inflating: data/train/100095/mask/1-121.png  \n",
            "  inflating: data/train/100095/mask/1-122.png  \n",
            "  inflating: data/train/100095/mask/1-123.png  \n",
            "  inflating: data/train/100095/mask/1-124.png  \n",
            "  inflating: data/train/100095/mask/1-125.png  \n",
            "  inflating: data/train/100095/mask/1-126.png  \n",
            "  inflating: data/train/100095/mask/1-127.png  \n",
            "  inflating: data/train/100095/mask/1-128.png  \n",
            "  inflating: data/train/100095/mask/1-129.png  \n",
            "  inflating: data/train/100095/mask/1-130.png  \n",
            "  inflating: data/train/100095/mask/1-131.png  \n",
            "  inflating: data/train/100095/mask/1-132.png  \n",
            "  inflating: data/train/100095/mask/1-133.png  \n",
            "  inflating: data/train/100095/mask/1-134.png  \n",
            "  inflating: data/train/100095/mask/1-135.png  \n",
            "  inflating: data/train/100095/mask/1-136.png  \n",
            "  inflating: data/train/100095/mask/1-137.png  \n",
            "  inflating: data/train/100095/mask/1-138.png  \n",
            "  inflating: data/train/100095/mask/1-139.png  \n",
            "  inflating: data/train/100095/mask/1-140.png  \n",
            "  inflating: data/train/100095/mask/1-141.png  \n",
            "  inflating: data/train/100095/mask/1-142.png  \n",
            "  inflating: data/train/100095/mask/1-143.png  \n",
            "  inflating: data/train/100095/mask/1-144.png  \n"
          ]
        }
      ]
    },
    {
      "cell_type": "code",
      "source": [
        "import os\n",
        "import numpy as np\n",
        "import cv2\n",
        "from glob import glob\n",
        "from tqdm import tqdm\n",
        "from sklearn.model_selection import train_test_split\n",
        "from albumentations import HorizontalFlip, VerticalFlip, Rotate\n",
        "#os.chdir(r\"E:\\UNET CT\")\n",
        "\n",
        "def create_dir(path):\n",
        "    \"\"\" Create a directory. \"\"\"\n",
        "    if not os.path.exists(path):\n",
        "        os.makedirs(path)\n",
        "\n",
        "def load_data(path, split=0.2):\n",
        "    \"\"\" Load the images and masks \"\"\"\n",
        "    images = sorted(glob(f\"{path}/*/image/*.png\"))\n",
        "    masks = sorted(glob(f\"{path}/*/mask/*.png\"))\n",
        "\n",
        "    \"\"\" Split the data \"\"\"\n",
        "    split_size = int(len(images) * split)\n",
        "    train_x, valid_x = train_test_split(images, test_size=split_size, random_state=42)\n",
        "    train_y, valid_y = train_test_split(masks, test_size=split_size, random_state=42)\n",
        "\n",
        "    return (train_x, train_y), (valid_x, valid_y)\n",
        "\n",
        "def augment_data(images, masks, save_path, augment=True):\n",
        "    \"\"\" Performing data augmentation. \"\"\"\n",
        "    H = 512\n",
        "    W = 512\n",
        "\n",
        "    for idx, (x, y) in tqdm(enumerate(zip(images, masks)), total=len(images)):\n",
        "        \"\"\" Extracting the dir name and image name \"\"\"\n",
        "        dir_name = x.split(\"/\")[-3]\n",
        "        name = dir_name + \"_\" + x.split(\"/\")[-1].split(\".\")[0]\n",
        "\n",
        "        \"\"\" Read the image and mask \"\"\"\n",
        "        x = cv2.imread(x, cv2.IMREAD_COLOR)\n",
        "        y = cv2.imread(y, cv2.IMREAD_COLOR)\n",
        "\n",
        "        if augment == True:\n",
        "            aug = HorizontalFlip(p=1.0)\n",
        "            augmented = aug(image=x, mask=y)\n",
        "            x1 = augmented[\"image\"]\n",
        "            y1 = augmented[\"mask\"]\n",
        "\n",
        "            aug = VerticalFlip(p=1)\n",
        "            augmented = aug(image=x, mask=y)\n",
        "            x2 = augmented['image']\n",
        "            y2 = augmented['mask']\n",
        "\n",
        "            aug = Rotate(limit=45, p=1.0)\n",
        "            augmented = aug(image=x, mask=y)\n",
        "            x3 = augmented[\"image\"]\n",
        "            y3 = augmented[\"mask\"]\n",
        "\n",
        "            X = [x, x1, x2, x3]\n",
        "            Y = [y, y1, y2, y3]\n",
        "\n",
        "        else:\n",
        "            X = [x]\n",
        "            #print(len(X))\n",
        "            Y =[y]\n",
        "\n",
        "        idx = 0\n",
        "        for i, m in zip(X, Y):\n",
        "            i = cv2.resize(i, (W, H))\n",
        "            m = cv2.resize(m, (W, H))\n",
        "            m = m/255.0\n",
        "            m = (m > 0.5) * 255\n",
        "\n",
        "            if len(X) == 1:  # each loop it will take one image \n",
        "                tmp_image_name = f\"{name}.jpg\"\n",
        "                tmp_mask_name  = f\"{name}.jpg\"\n",
        "            else:\n",
        "                tmp_image_name = f\"{name}_{idx}.jpg\"\n",
        "                tmp_mask_name  = f\"{name}_{idx}.jpg\"\n",
        "\n",
        "            image_path = os.path.join(save_path, \"image/\", tmp_image_name)\n",
        "            mask_path  = os.path.join(save_path, \"mask/\", tmp_mask_name)\n",
        "\n",
        "            cv2.imwrite(image_path, i)\n",
        "            cv2.imwrite(mask_path, m)\n",
        "\n",
        "            idx += 1\n",
        "        \n",
        "\n",
        "\n",
        "if __name__ == \"__main__\":\n",
        "    \"\"\" Load the dataset \"\"\"\n",
        "    dataset_path = os.path.join(\"data\", \"train\")\n",
        "    (train_x, train_y), (valid_x, valid_y) = load_data(dataset_path, split=0.2)\n",
        "\n",
        "    print(\"Train: \", len(train_x))\n",
        "    print(\"Valid: \", len(valid_x))\n",
        "\n",
        "    create_dir(\"new_data/train/image/\")\n",
        "    create_dir(\"new_data/train/mask/\")\n",
        "    create_dir(\"new_data/valid/image/\")\n",
        "    create_dir(\"new_data/valid/mask/\")\n",
        "\n",
        "    augment_data(train_x, train_y, \"new_data/train/\", augment=True)\n",
        "    augment_data(valid_x, valid_y, \"new_data/valid/\", augment=False)"
      ],
      "metadata": {
        "colab": {
          "base_uri": "https://localhost:8080/"
        },
        "id": "TinDb3O0_dVe",
        "outputId": "4c5d002a-764d-43f0-dfef-8392840dcb4b"
      },
      "execution_count": null,
      "outputs": [
        {
          "output_type": "stream",
          "name": "stdout",
          "text": [
            "Train:  2026\n",
            "Valid:  506\n"
          ]
        },
        {
          "output_type": "stream",
          "name": "stderr",
          "text": [
            "100%|██████████| 2026/2026 [02:11<00:00, 15.35it/s]\n",
            "100%|██████████| 506/506 [00:08<00:00, 59.47it/s]\n"
          ]
        }
      ]
    },
    {
      "cell_type": "code",
      "source": [
        "\n",
        "from tensorflow.keras.layers import Conv2D, BatchNormalization, Activation, MaxPool2D, Conv2DTranspose, Concatenate, Input\n",
        "from tensorflow.keras.models import Model\n",
        "\n",
        "def conv_block(input, num_filters):\n",
        "    x = Conv2D(num_filters, 3, padding=\"same\")(input)\n",
        "    x = BatchNormalization()(x)\n",
        "    x = Activation(\"relu\")(x)\n",
        "\n",
        "    x = Conv2D(num_filters, 3, padding=\"same\")(x)\n",
        "    x = BatchNormalization()(x)\n",
        "    x = Activation(\"relu\")(x)\n",
        "\n",
        "    return x\n",
        "\n",
        "\n",
        "def encoder_block(input, num_filters):\n",
        "    x = conv_block(input, num_filters)\n",
        "    p = MaxPool2D((2, 2))(x)\n",
        "    return x, p\n",
        "\n",
        "\n",
        "def decoder_block(input, skip_features, num_filters):\n",
        "    x = Conv2DTranspose(num_filters, (2, 2), strides=2, padding=\"same\")(input)\n",
        "    x = Concatenate()([x, skip_features])\n",
        "    x = conv_block(x, num_filters)\n",
        "    return x\n",
        "\n",
        "def build_unet(input_shape):\n",
        "    inputs = Input(input_shape)\n",
        "\n",
        "    s1, p1 = encoder_block(inputs, 64)\n",
        "    s2, p2 = encoder_block(p1, 128)\n",
        "    s3, p3 = encoder_block(p2, 256)\n",
        "    s4, p4 = encoder_block(p3, 512)\n",
        "\n",
        "    b1 = conv_block(p4, 1024)\n",
        "\n",
        "    d1 = decoder_block(b1, s4, 512)\n",
        "    d2 = decoder_block(d1, s3, 256)\n",
        "    d3 = decoder_block(d2, s2, 128)\n",
        "    d4 = decoder_block(d3, s1, 64)\n",
        "\n",
        "    outputs = Conv2D(1, 1, padding=\"same\", activation=\"sigmoid\")(d4)\n",
        "\n",
        "    model = Model(inputs, outputs, name=\"U-Net\")\n",
        "    return model\n",
        "\n",
        "\n",
        "if __name__ == \"__main__\":\n",
        "    input_shape = (512, 512, 3)\n",
        "    model = build_unet(input_shape)\n",
        "    model.summary()"
      ],
      "metadata": {
        "colab": {
          "base_uri": "https://localhost:8080/"
        },
        "id": "Ncn0sUWCR3Kf",
        "outputId": "4c16a01a-f230-48e8-f167-929704055f4a"
      },
      "execution_count": null,
      "outputs": [
        {
          "output_type": "stream",
          "name": "stdout",
          "text": [
            "Model: \"U-Net\"\n",
            "__________________________________________________________________________________________________\n",
            " Layer (type)                   Output Shape         Param #     Connected to                     \n",
            "==================================================================================================\n",
            " input_10 (InputLayer)          [(None, 512, 512, 3  0           []                               \n",
            "                                )]                                                                \n",
            "                                                                                                  \n",
            " conv2d_171 (Conv2D)            (None, 512, 512, 64  1792        ['input_10[0][0]']               \n",
            "                                )                                                                 \n",
            "                                                                                                  \n",
            " batch_normalization (BatchNorm  (None, 512, 512, 64  256        ['conv2d_171[0][0]']             \n",
            " alization)                     )                                                                 \n",
            "                                                                                                  \n",
            " activation (Activation)        (None, 512, 512, 64  0           ['batch_normalization[0][0]']    \n",
            "                                )                                                                 \n",
            "                                                                                                  \n",
            " conv2d_172 (Conv2D)            (None, 512, 512, 64  36928       ['activation[0][0]']             \n",
            "                                )                                                                 \n",
            "                                                                                                  \n",
            " batch_normalization_1 (BatchNo  (None, 512, 512, 64  256        ['conv2d_172[0][0]']             \n",
            " rmalization)                   )                                                                 \n",
            "                                                                                                  \n",
            " activation_1 (Activation)      (None, 512, 512, 64  0           ['batch_normalization_1[0][0]']  \n",
            "                                )                                                                 \n",
            "                                                                                                  \n",
            " max_pooling2d_36 (MaxPooling2D  (None, 256, 256, 64  0          ['activation_1[0][0]']           \n",
            " )                              )                                                                 \n",
            "                                                                                                  \n",
            " conv2d_173 (Conv2D)            (None, 256, 256, 12  73856       ['max_pooling2d_36[0][0]']       \n",
            "                                8)                                                                \n",
            "                                                                                                  \n",
            " batch_normalization_2 (BatchNo  (None, 256, 256, 12  512        ['conv2d_173[0][0]']             \n",
            " rmalization)                   8)                                                                \n",
            "                                                                                                  \n",
            " activation_2 (Activation)      (None, 256, 256, 12  0           ['batch_normalization_2[0][0]']  \n",
            "                                8)                                                                \n",
            "                                                                                                  \n",
            " conv2d_174 (Conv2D)            (None, 256, 256, 12  147584      ['activation_2[0][0]']           \n",
            "                                8)                                                                \n",
            "                                                                                                  \n",
            " batch_normalization_3 (BatchNo  (None, 256, 256, 12  512        ['conv2d_174[0][0]']             \n",
            " rmalization)                   8)                                                                \n",
            "                                                                                                  \n",
            " activation_3 (Activation)      (None, 256, 256, 12  0           ['batch_normalization_3[0][0]']  \n",
            "                                8)                                                                \n",
            "                                                                                                  \n",
            " max_pooling2d_37 (MaxPooling2D  (None, 128, 128, 12  0          ['activation_3[0][0]']           \n",
            " )                              8)                                                                \n",
            "                                                                                                  \n",
            " conv2d_175 (Conv2D)            (None, 128, 128, 25  295168      ['max_pooling2d_37[0][0]']       \n",
            "                                6)                                                                \n",
            "                                                                                                  \n",
            " batch_normalization_4 (BatchNo  (None, 128, 128, 25  1024       ['conv2d_175[0][0]']             \n",
            " rmalization)                   6)                                                                \n",
            "                                                                                                  \n",
            " activation_4 (Activation)      (None, 128, 128, 25  0           ['batch_normalization_4[0][0]']  \n",
            "                                6)                                                                \n",
            "                                                                                                  \n",
            " conv2d_176 (Conv2D)            (None, 128, 128, 25  590080      ['activation_4[0][0]']           \n",
            "                                6)                                                                \n",
            "                                                                                                  \n",
            " batch_normalization_5 (BatchNo  (None, 128, 128, 25  1024       ['conv2d_176[0][0]']             \n",
            " rmalization)                   6)                                                                \n",
            "                                                                                                  \n",
            " activation_5 (Activation)      (None, 128, 128, 25  0           ['batch_normalization_5[0][0]']  \n",
            "                                6)                                                                \n",
            "                                                                                                  \n",
            " max_pooling2d_38 (MaxPooling2D  (None, 64, 64, 256)  0          ['activation_5[0][0]']           \n",
            " )                                                                                                \n",
            "                                                                                                  \n",
            " conv2d_177 (Conv2D)            (None, 64, 64, 512)  1180160     ['max_pooling2d_38[0][0]']       \n",
            "                                                                                                  \n",
            " batch_normalization_6 (BatchNo  (None, 64, 64, 512)  2048       ['conv2d_177[0][0]']             \n",
            " rmalization)                                                                                     \n",
            "                                                                                                  \n",
            " activation_6 (Activation)      (None, 64, 64, 512)  0           ['batch_normalization_6[0][0]']  \n",
            "                                                                                                  \n",
            " conv2d_178 (Conv2D)            (None, 64, 64, 512)  2359808     ['activation_6[0][0]']           \n",
            "                                                                                                  \n",
            " batch_normalization_7 (BatchNo  (None, 64, 64, 512)  2048       ['conv2d_178[0][0]']             \n",
            " rmalization)                                                                                     \n",
            "                                                                                                  \n",
            " activation_7 (Activation)      (None, 64, 64, 512)  0           ['batch_normalization_7[0][0]']  \n",
            "                                                                                                  \n",
            " max_pooling2d_39 (MaxPooling2D  (None, 32, 32, 512)  0          ['activation_7[0][0]']           \n",
            " )                                                                                                \n",
            "                                                                                                  \n",
            " conv2d_179 (Conv2D)            (None, 32, 32, 1024  4719616     ['max_pooling2d_39[0][0]']       \n",
            "                                )                                                                 \n",
            "                                                                                                  \n",
            " batch_normalization_8 (BatchNo  (None, 32, 32, 1024  4096       ['conv2d_179[0][0]']             \n",
            " rmalization)                   )                                                                 \n",
            "                                                                                                  \n",
            " activation_8 (Activation)      (None, 32, 32, 1024  0           ['batch_normalization_8[0][0]']  \n",
            "                                )                                                                 \n",
            "                                                                                                  \n",
            " conv2d_180 (Conv2D)            (None, 32, 32, 1024  9438208     ['activation_8[0][0]']           \n",
            "                                )                                                                 \n",
            "                                                                                                  \n",
            " batch_normalization_9 (BatchNo  (None, 32, 32, 1024  4096       ['conv2d_180[0][0]']             \n",
            " rmalization)                   )                                                                 \n",
            "                                                                                                  \n",
            " activation_9 (Activation)      (None, 32, 32, 1024  0           ['batch_normalization_9[0][0]']  \n",
            "                                )                                                                 \n",
            "                                                                                                  \n",
            " conv2d_transpose_36 (Conv2DTra  (None, 64, 64, 512)  2097664    ['activation_9[0][0]']           \n",
            " nspose)                                                                                          \n",
            "                                                                                                  \n",
            " concatenate_36 (Concatenate)   (None, 64, 64, 1024  0           ['conv2d_transpose_36[0][0]',    \n",
            "                                )                                 'activation_7[0][0]']           \n",
            "                                                                                                  \n",
            " conv2d_181 (Conv2D)            (None, 64, 64, 512)  4719104     ['concatenate_36[0][0]']         \n",
            "                                                                                                  \n",
            " batch_normalization_10 (BatchN  (None, 64, 64, 512)  2048       ['conv2d_181[0][0]']             \n",
            " ormalization)                                                                                    \n",
            "                                                                                                  \n",
            " activation_10 (Activation)     (None, 64, 64, 512)  0           ['batch_normalization_10[0][0]'] \n",
            "                                                                                                  \n",
            " conv2d_182 (Conv2D)            (None, 64, 64, 512)  2359808     ['activation_10[0][0]']          \n",
            "                                                                                                  \n",
            " batch_normalization_11 (BatchN  (None, 64, 64, 512)  2048       ['conv2d_182[0][0]']             \n",
            " ormalization)                                                                                    \n",
            "                                                                                                  \n",
            " activation_11 (Activation)     (None, 64, 64, 512)  0           ['batch_normalization_11[0][0]'] \n",
            "                                                                                                  \n",
            " conv2d_transpose_37 (Conv2DTra  (None, 128, 128, 25  524544     ['activation_11[0][0]']          \n",
            " nspose)                        6)                                                                \n",
            "                                                                                                  \n",
            " concatenate_37 (Concatenate)   (None, 128, 128, 51  0           ['conv2d_transpose_37[0][0]',    \n",
            "                                2)                                'activation_5[0][0]']           \n",
            "                                                                                                  \n",
            " conv2d_183 (Conv2D)            (None, 128, 128, 25  1179904     ['concatenate_37[0][0]']         \n",
            "                                6)                                                                \n",
            "                                                                                                  \n",
            " batch_normalization_12 (BatchN  (None, 128, 128, 25  1024       ['conv2d_183[0][0]']             \n",
            " ormalization)                  6)                                                                \n",
            "                                                                                                  \n",
            " activation_12 (Activation)     (None, 128, 128, 25  0           ['batch_normalization_12[0][0]'] \n",
            "                                6)                                                                \n",
            "                                                                                                  \n",
            " conv2d_184 (Conv2D)            (None, 128, 128, 25  590080      ['activation_12[0][0]']          \n",
            "                                6)                                                                \n",
            "                                                                                                  \n",
            " batch_normalization_13 (BatchN  (None, 128, 128, 25  1024       ['conv2d_184[0][0]']             \n",
            " ormalization)                  6)                                                                \n",
            "                                                                                                  \n",
            " activation_13 (Activation)     (None, 128, 128, 25  0           ['batch_normalization_13[0][0]'] \n",
            "                                6)                                                                \n",
            "                                                                                                  \n",
            " conv2d_transpose_38 (Conv2DTra  (None, 256, 256, 12  131200     ['activation_13[0][0]']          \n",
            " nspose)                        8)                                                                \n",
            "                                                                                                  \n",
            " concatenate_38 (Concatenate)   (None, 256, 256, 25  0           ['conv2d_transpose_38[0][0]',    \n",
            "                                6)                                'activation_3[0][0]']           \n",
            "                                                                                                  \n",
            " conv2d_185 (Conv2D)            (None, 256, 256, 12  295040      ['concatenate_38[0][0]']         \n",
            "                                8)                                                                \n",
            "                                                                                                  \n",
            " batch_normalization_14 (BatchN  (None, 256, 256, 12  512        ['conv2d_185[0][0]']             \n",
            " ormalization)                  8)                                                                \n",
            "                                                                                                  \n",
            " activation_14 (Activation)     (None, 256, 256, 12  0           ['batch_normalization_14[0][0]'] \n",
            "                                8)                                                                \n",
            "                                                                                                  \n",
            " conv2d_186 (Conv2D)            (None, 256, 256, 12  147584      ['activation_14[0][0]']          \n",
            "                                8)                                                                \n",
            "                                                                                                  \n",
            " batch_normalization_15 (BatchN  (None, 256, 256, 12  512        ['conv2d_186[0][0]']             \n",
            " ormalization)                  8)                                                                \n",
            "                                                                                                  \n",
            " activation_15 (Activation)     (None, 256, 256, 12  0           ['batch_normalization_15[0][0]'] \n",
            "                                8)                                                                \n",
            "                                                                                                  \n",
            " conv2d_transpose_39 (Conv2DTra  (None, 512, 512, 64  32832      ['activation_15[0][0]']          \n",
            " nspose)                        )                                                                 \n",
            "                                                                                                  \n",
            " concatenate_39 (Concatenate)   (None, 512, 512, 12  0           ['conv2d_transpose_39[0][0]',    \n",
            "                                8)                                'activation_1[0][0]']           \n",
            "                                                                                                  \n",
            " conv2d_187 (Conv2D)            (None, 512, 512, 64  73792       ['concatenate_39[0][0]']         \n",
            "                                )                                                                 \n",
            "                                                                                                  \n",
            " batch_normalization_16 (BatchN  (None, 512, 512, 64  256        ['conv2d_187[0][0]']             \n",
            " ormalization)                  )                                                                 \n",
            "                                                                                                  \n",
            " activation_16 (Activation)     (None, 512, 512, 64  0           ['batch_normalization_16[0][0]'] \n",
            "                                )                                                                 \n",
            "                                                                                                  \n",
            " conv2d_188 (Conv2D)            (None, 512, 512, 64  36928       ['activation_16[0][0]']          \n",
            "                                )                                                                 \n",
            "                                                                                                  \n",
            " batch_normalization_17 (BatchN  (None, 512, 512, 64  256        ['conv2d_188[0][0]']             \n",
            " ormalization)                  )                                                                 \n",
            "                                                                                                  \n",
            " activation_17 (Activation)     (None, 512, 512, 64  0           ['batch_normalization_17[0][0]'] \n",
            "                                )                                                                 \n",
            "                                                                                                  \n",
            " conv2d_189 (Conv2D)            (None, 512, 512, 1)  65          ['activation_17[0][0]']          \n",
            "                                                                                                  \n",
            "==================================================================================================\n",
            "Total params: 31,055,297\n",
            "Trainable params: 31,043,521\n",
            "Non-trainable params: 11,776\n",
            "__________________________________________________________________________________________________\n"
          ]
        }
      ]
    },
    {
      "cell_type": "code",
      "source": [
        "import os\n",
        "os.environ[\"TF_CPP_MIN_LOG_LEVEL\"] = \"2\"\n",
        "import numpy as np\n",
        "import cv2\n",
        "from glob import glob\n",
        "from sklearn.utils import shuffle\n",
        "import tensorflow as tf\n",
        "from tensorflow.keras.callbacks import ModelCheckpoint, CSVLogger, ReduceLROnPlateau, EarlyStopping, TensorBoard\n",
        "from tensorflow.keras.optimizers import Adam\n",
        "from tensorflow.keras.metrics import Recall, Precision\n",
        "from modelll import build_unet\n",
        "from metrics import dice_loss, dice_coef, iou\n",
        "\n",
        "H = 512\n",
        "W = 512\n",
        "\n",
        "def create_dir(path):\n",
        "    \"\"\" Create a directory. \"\"\"\n",
        "    if not os.path.exists(path):\n",
        "        os.makedirs(path)\n",
        "\n",
        "def shuffling(x, y):\n",
        "    x, y = shuffle(x, y, random_state=42)\n",
        "    return x, y\n",
        "\n",
        "def load_data(path):\n",
        "    x = sorted(glob(os.path.join(path, \"image\", \"*.jpg\")))\n",
        "    y = sorted(glob(os.path.join(path, \"mask\", \"*.jpg\")))\n",
        "    return x, y\n",
        "\n",
        "def read_image(path):\n",
        "    path = path.decode()\n",
        "    x = cv2.imread(path, cv2.IMREAD_COLOR)\n",
        "    x = x/255.0\n",
        "    x = x.astype(np.float32)\n",
        "    return x\n",
        "\n",
        "def read_mask(path):\n",
        "    path = path.decode()\n",
        "    x = cv2.imread(path, cv2.IMREAD_GRAYSCALE)\n",
        "    x = x/255.0\n",
        "    x = x > 0.5\n",
        "    x = x.astype(np.float32)\n",
        "    x = np.expand_dims(x, axis=-1)\n",
        "    return x\n",
        "\n",
        "def tf_parse(x, y):\n",
        "    def _parse(x, y):\n",
        "        x = read_image(x)\n",
        "        y = read_mask(y)\n",
        "        return x, y\n",
        "\n",
        "    x, y = tf.numpy_function(_parse, [x, y], [tf.float32, tf.float32])\n",
        "    x.set_shape([H, W, 3])\n",
        "    y.set_shape([H, W, 1])\n",
        "    return x, y\n",
        "\n",
        "def tf_dataset(x, y, batch=8):\n",
        "    dataset = tf.data.Dataset.from_tensor_slices((x, y))\n",
        "    dataset = dataset.map(tf_parse)\n",
        "    dataset = dataset.batch(batch)\n",
        "    dataset = dataset.prefetch(10)\n",
        "    return dataset\n",
        "\n",
        "\n",
        "if __name__ == \"__main__\":\n",
        "    \"\"\" Seeding \"\"\"\n",
        "    np.random.seed(42)\n",
        "    tf.random.set_seed(42)\n",
        "\n",
        "    \"\"\" Directory for storing files \"\"\"\n",
        "    create_dir(\"files\")\n",
        "\n",
        "    \"\"\" Hyperparameters \"\"\"\n",
        "    batch_size = 2\n",
        "    lr = 1e-4\n",
        "    num_epochs = 3\n",
        "    model_path = os.path.join(\"files\", \"model.h5\")\n",
        "    csv_path = os.path.join(\"files\", \"data.csv\")\n",
        "\n",
        "    \"\"\" Dataset \"\"\"\n",
        "    dataset_path = os.path.join(\"new_data\")\n",
        "    train_path = os.path.join(dataset_path, \"train\")\n",
        "    valid_path = os.path.join(dataset_path, \"valid\")\n",
        "\n",
        "    train_x, train_y = load_data(train_path)\n",
        "    train_x, train_y = shuffling(train_x, train_y)\n",
        "    valid_x, valid_y = load_data(valid_path)\n",
        "\n",
        "    print(f\"Train: {len(train_x)} - {len(train_y)}\")\n",
        "    print(f\"Valid: {len(valid_x)} - {len(valid_y)}\")\n",
        "\n",
        "    train_dataset = tf_dataset(train_x, train_y, batch=batch_size)\n",
        "    valid_dataset = tf_dataset(valid_x, valid_y, batch=batch_size)\n",
        "\n",
        "    \"\"\" Model \"\"\"\n",
        "    model = build_unet((H, W, 3))\n",
        "    metrics = [dice_coef, iou, Recall(), Precision()]\n",
        "    model.compile(loss=dice_loss, optimizer=Adam(lr), metrics=metrics)\n",
        "\n",
        "    callbacks = [\n",
        "        ModelCheckpoint(model_path, verbose=1, save_best_only=True),\n",
        "        ReduceLROnPlateau(monitor='val_loss', factor=0.1, patience=10, min_lr=1e-7, verbose=1),\n",
        "        CSVLogger(csv_path),\n",
        "        TensorBoard(),\n",
        "        EarlyStopping(monitor='val_loss', patience=50, restore_best_weights=False),\n",
        "    ]\n",
        "\n",
        "    model.fit(\n",
        "        train_dataset,\n",
        "        epochs=num_epochs,\n",
        "        validation_data=valid_dataset,\n",
        "        callbacks=callbacks,\n",
        "        shuffle=False\n",
        "    )\n"
      ],
      "metadata": {
        "colab": {
          "base_uri": "https://localhost:8080/"
        },
        "id": "j4uHxbZLJudW",
        "outputId": "9cb15586-5a14-4c27-d658-f404e4f259a4"
      },
      "execution_count": null,
      "outputs": [
        {
          "output_type": "stream",
          "name": "stdout",
          "text": [
            "Train: 8104 - 8104\n",
            "Valid: 506 - 506\n",
            "Epoch 1/3\n",
            "4052/4052 [==============================] - ETA: 0s - loss: 0.6033 - dice_coef: 0.3967 - iou: 0.3194 - recall_13: 0.8327 - precision_13: 0.3397\n",
            "Epoch 1: val_loss improved from inf to 0.67175, saving model to files/model.h5\n",
            "4052/4052 [==============================] - 2121s 520ms/step - loss: 0.6033 - dice_coef: 0.3967 - iou: 0.3194 - recall_13: 0.8327 - precision_13: 0.3397 - val_loss: 0.6717 - val_dice_coef: 0.3283 - val_iou: 0.2766 - val_recall_13: 0.9453 - val_precision_13: 0.5139 - lr: 1.0000e-04\n",
            "Epoch 2/3\n",
            "4052/4052 [==============================] - ETA: 0s - loss: 0.4858 - dice_coef: 0.5142 - iou: 0.4579 - recall_13: 0.8641 - precision_13: 0.5390\n",
            "Epoch 2: val_loss improved from 0.67175 to 0.64257, saving model to files/model.h5\n",
            "4052/4052 [==============================] - 2069s 511ms/step - loss: 0.4858 - dice_coef: 0.5142 - iou: 0.4579 - recall_13: 0.8641 - precision_13: 0.5390 - val_loss: 0.6426 - val_dice_coef: 0.3574 - val_iou: 0.3163 - val_recall_13: 0.9580 - val_precision_13: 0.5958 - lr: 1.0000e-04\n",
            "Epoch 3/3\n",
            "4052/4052 [==============================] - ETA: 0s - loss: 0.4714 - dice_coef: 0.5286 - iou: 0.4783 - recall_13: 0.8834 - precision_13: 0.5590\n",
            "Epoch 3: val_loss did not improve from 0.64257\n",
            "4052/4052 [==============================] - 2068s 510ms/step - loss: 0.4714 - dice_coef: 0.5286 - iou: 0.4783 - recall_13: 0.8834 - precision_13: 0.5590 - val_loss: 0.6518 - val_dice_coef: 0.3482 - val_iou: 0.3019 - val_recall_13: 0.9512 - val_precision_13: 0.6493 - lr: 1.0000e-04\n"
          ]
        }
      ]
    },
    {
      "cell_type": "code",
      "source": [
        "import os\n",
        "os.environ[\"TF_CPP_MIN_LOG_LEVEL\"] = \"2\"\n",
        "\n",
        "import numpy as np\n",
        "import cv2\n",
        "import pandas as pd\n",
        "from glob import glob\n",
        "from tqdm import tqdm\n",
        "import tensorflow as tf\n",
        "from tensorflow.keras.utils import CustomObjectScope\n",
        "from sklearn.metrics import accuracy_score, f1_score, jaccard_score, precision_score, recall_score\n",
        "from metrics import dice_loss, dice_coef, iou\n",
        "from train import load_data\n",
        "\n",
        "H = 512\n",
        "W = 512\n",
        "\n",
        "\"\"\" Creating a directory \"\"\"\n",
        "def create_dir(path):\n",
        "    if not os.path.exists(path):\n",
        "        os.makedirs(path)\n",
        "\n",
        "def save_results(image, mask, y_pred, save_image_path):\n",
        "    ## i - m - y\n",
        "    line = np.ones((H, 10, 3)) * 128\n",
        "\n",
        "    \"\"\" Mask \"\"\"\n",
        "    mask = np.expand_dims(mask, axis=-1)    ## (512, 512, 1)\n",
        "    mask = np.concatenate([mask, mask, mask], axis=-1)  ## (512, 512, 3)\n",
        "\n",
        "    \"\"\" Predicted Mask \"\"\"\n",
        "    y_pred = np.expand_dims(y_pred, axis=-1)    ## (512, 512, 1)\n",
        "    y_pred = np.concatenate([y_pred, y_pred, y_pred], axis=-1)  ## (512, 512, 3)\n",
        "    y_pred = y_pred * 255\n",
        "\n",
        "    cat_images = np.concatenate([image, line, mask, line, y_pred], axis=1)\n",
        "    cv2.imwrite(save_image_path, cat_images)\n",
        "\n",
        "if __name__ == \"__main__\":\n",
        "    \"\"\" Seeding \"\"\"\n",
        "    np.random.seed(42)\n",
        "    tf.random.set_seed(42)\n",
        "\n",
        "    \"\"\" Directory for storing files \"\"\"\n",
        "    create_dir(\"results\")\n",
        "\n",
        "    \"\"\" Loading model \"\"\"\n",
        "    with CustomObjectScope({'iou': iou, 'dice_coef': dice_coef, 'dice_loss': dice_loss}):\n",
        "        model = tf.keras.models.load_model(\"files/model.h5\")\n",
        "\n",
        "    \"\"\" Load the dataset \"\"\"\n",
        "    test_x = sorted(glob(os.path.join(\"new_data\", \"valid\", \"image\", \"*\")))\n",
        "    test_y = sorted(glob(os.path.join(\"new_data\", \"valid\", \"mask\", \"*\")))\n",
        "    print(f\"Test: {len(test_x)} - {len(test_y)}\")\n",
        "\n",
        "    \"\"\" Evaluation and Prediction \"\"\"\n",
        "    SCORE = []\n",
        "    for x, y in tqdm(zip(test_x, test_y), total=len(test_x)):\n",
        "        \"\"\" Extract the name \"\"\"\n",
        "        name = x.split(\"/\")[-1].split(\".\")[0]\n",
        "\n",
        "        \"\"\" Reading the image \"\"\"\n",
        "        image = cv2.imread(x, cv2.IMREAD_COLOR)\n",
        "        x = image/255.0\n",
        "        x = np.expand_dims(x, axis=0)\n",
        "\n",
        "        \"\"\" Reading the mask \"\"\"\n",
        "        mask = cv2.imread(y, cv2.IMREAD_GRAYSCALE)\n",
        "        y = mask/255.0\n",
        "        y = y > 0.5\n",
        "        y = y.astype(np.int32)\n",
        "\n",
        "        \"\"\" Prediction \"\"\"\n",
        "        y_pred = model.predict(x)[0]\n",
        "        y_pred = np.squeeze(y_pred, axis=-1)\n",
        "        y_pred = y_pred > 0.5\n",
        "        y_pred = y_pred.astype(np.int32)\n",
        "\n",
        "        \"\"\" Saving the prediction \"\"\"\n",
        "        save_image_path = f\"results/{name}.png\"\n",
        "        save_results(image, mask, y_pred, save_image_path)\n",
        "\n",
        "        \"\"\" Flatten the array \"\"\"\n",
        "        y = y.flatten()\n",
        "        y_pred = y_pred.flatten()\n",
        "\n",
        "        \"\"\" Calculating the metrics values \"\"\"\n",
        "        acc_value = accuracy_score(y, y_pred)\n",
        "        f1_value = f1_score(y, y_pred, labels=[0, 1], average=\"binary\", zero_division=1)\n",
        "        jac_value = jaccard_score(y, y_pred, labels=[0, 1], average=\"binary\", zero_division=1)\n",
        "        recall_value = recall_score(y, y_pred, labels=[0, 1], average=\"binary\", zero_division=1)\n",
        "        precision_value = precision_score(y, y_pred, labels=[0, 1], average=\"binary\", zero_division=1)\n",
        "        SCORE.append([name, acc_value, f1_value, jac_value, recall_value, precision_value])\n",
        "\n",
        "    \"\"\" Metrics values \"\"\"\n",
        "    score = [s[1:]for s in SCORE]\n",
        "    score = np.mean(score, axis=0)\n",
        "    print(f\"Accuracy: {score[0]:0.5f}\")\n",
        "    print(f\"F1: {score[1]:0.5f}\")\n",
        "    print(f\"Jaccard: {score[2]:0.5f}\")\n",
        "    print(f\"Recall: {score[3]:0.5f}\")\n",
        "    print(f\"Precision: {score[4]:0.5f}\")\n",
        "\n",
        "    df = pd.DataFrame(SCORE, columns=[\"Image\", \"Accuracy\", \"F1\", \"Jaccard\", \"Recall\", \"Precision\"])\n",
        "    df.to_csv(\"files/score.csv\")"
      ],
      "metadata": {
        "colab": {
          "base_uri": "https://localhost:8080/"
        },
        "id": "-ilRt501OQal",
        "outputId": "045e17d0-bfec-4946-812e-63df4eaa2d12"
      },
      "execution_count": null,
      "outputs": [
        {
          "output_type": "stream",
          "name": "stdout",
          "text": [
            "Test: 506 - 506\n"
          ]
        },
        {
          "output_type": "stream",
          "name": "stderr",
          "text": [
            "\r  0%|          | 0/506 [00:00<?, ?it/s]"
          ]
        },
        {
          "output_type": "stream",
          "name": "stdout",
          "text": [
            "1/1 [==============================] - 4s 4s/step\n"
          ]
        },
        {
          "output_type": "stream",
          "name": "stderr",
          "text": [
            "\r  0%|          | 1/506 [00:05<48:42,  5.79s/it]"
          ]
        },
        {
          "output_type": "stream",
          "name": "stdout",
          "text": [
            "1/1 [==============================] - 0s 25ms/step\n"
          ]
        },
        {
          "output_type": "stream",
          "name": "stderr",
          "text": [
            "\r  0%|          | 2/506 [00:06<22:07,  2.63s/it]"
          ]
        },
        {
          "output_type": "stream",
          "name": "stdout",
          "text": [
            "1/1 [==============================] - 0s 23ms/step\n"
          ]
        },
        {
          "output_type": "stream",
          "name": "stderr",
          "text": [
            "\r  1%|          | 3/506 [00:06<13:26,  1.60s/it]"
          ]
        },
        {
          "output_type": "stream",
          "name": "stdout",
          "text": [
            "1/1 [==============================] - 0s 24ms/step\n"
          ]
        },
        {
          "output_type": "stream",
          "name": "stderr",
          "text": [
            "\r  1%|          | 4/506 [00:07<09:31,  1.14s/it]"
          ]
        },
        {
          "output_type": "stream",
          "name": "stdout",
          "text": [
            "1/1 [==============================] - 0s 22ms/step\n"
          ]
        },
        {
          "output_type": "stream",
          "name": "stderr",
          "text": [
            "\r  1%|          | 5/506 [00:07<07:10,  1.16it/s]"
          ]
        },
        {
          "output_type": "stream",
          "name": "stdout",
          "text": [
            "1/1 [==============================] - 0s 23ms/step\n"
          ]
        },
        {
          "output_type": "stream",
          "name": "stderr",
          "text": [
            "\r  1%|          | 6/506 [00:07<05:55,  1.41it/s]"
          ]
        },
        {
          "output_type": "stream",
          "name": "stdout",
          "text": [
            "1/1 [==============================] - 0s 22ms/step\n"
          ]
        },
        {
          "output_type": "stream",
          "name": "stderr",
          "text": [
            "\r  1%|▏         | 7/506 [00:08<04:56,  1.68it/s]"
          ]
        },
        {
          "output_type": "stream",
          "name": "stdout",
          "text": [
            "1/1 [==============================] - 0s 23ms/step\n"
          ]
        },
        {
          "output_type": "stream",
          "name": "stderr",
          "text": [
            "\r  2%|▏         | 8/506 [00:08<04:18,  1.93it/s]"
          ]
        },
        {
          "output_type": "stream",
          "name": "stdout",
          "text": [
            "1/1 [==============================] - 0s 24ms/step\n"
          ]
        },
        {
          "output_type": "stream",
          "name": "stderr",
          "text": [
            "\r  2%|▏         | 9/506 [00:08<03:54,  2.12it/s]"
          ]
        },
        {
          "output_type": "stream",
          "name": "stdout",
          "text": [
            "1/1 [==============================] - 0s 23ms/step\n"
          ]
        },
        {
          "output_type": "stream",
          "name": "stderr",
          "text": [
            "\r  2%|▏         | 10/506 [00:09<03:39,  2.26it/s]"
          ]
        },
        {
          "output_type": "stream",
          "name": "stdout",
          "text": [
            "1/1 [==============================] - 0s 22ms/step\n"
          ]
        },
        {
          "output_type": "stream",
          "name": "stderr",
          "text": [
            "\r  2%|▏         | 11/506 [00:09<03:26,  2.40it/s]"
          ]
        },
        {
          "output_type": "stream",
          "name": "stdout",
          "text": [
            "1/1 [==============================] - 0s 28ms/step\n"
          ]
        },
        {
          "output_type": "stream",
          "name": "stderr",
          "text": [
            "\r  2%|▏         | 12/506 [00:31<58:24,  7.09s/it]"
          ]
        },
        {
          "output_type": "stream",
          "name": "stdout",
          "text": [
            "1/1 [==============================] - 0s 28ms/step\n"
          ]
        },
        {
          "output_type": "stream",
          "name": "stderr",
          "text": [
            "\r  3%|▎         | 13/506 [00:32<41:41,  5.07s/it]"
          ]
        },
        {
          "output_type": "stream",
          "name": "stdout",
          "text": [
            "1/1 [==============================] - 0s 25ms/step\n"
          ]
        },
        {
          "output_type": "stream",
          "name": "stderr",
          "text": [
            "\r  3%|▎         | 14/506 [00:32<30:05,  3.67s/it]"
          ]
        },
        {
          "output_type": "stream",
          "name": "stdout",
          "text": [
            "1/1 [==============================] - 0s 25ms/step\n"
          ]
        },
        {
          "output_type": "stream",
          "name": "stderr",
          "text": [
            "\r  3%|▎         | 15/506 [00:33<21:57,  2.68s/it]"
          ]
        },
        {
          "output_type": "stream",
          "name": "stdout",
          "text": [
            "1/1 [==============================] - 0s 26ms/step\n"
          ]
        },
        {
          "output_type": "stream",
          "name": "stderr",
          "text": [
            "\r  3%|▎         | 16/506 [00:33<16:21,  2.00s/it]"
          ]
        },
        {
          "output_type": "stream",
          "name": "stdout",
          "text": [
            "1/1 [==============================] - 0s 24ms/step\n"
          ]
        },
        {
          "output_type": "stream",
          "name": "stderr",
          "text": [
            "\r  3%|▎         | 17/506 [00:34<12:21,  1.52s/it]"
          ]
        },
        {
          "output_type": "stream",
          "name": "stdout",
          "text": [
            "1/1 [==============================] - 0s 24ms/step\n"
          ]
        },
        {
          "output_type": "stream",
          "name": "stderr",
          "text": [
            "\r  4%|▎         | 18/506 [00:34<10:01,  1.23s/it]"
          ]
        },
        {
          "output_type": "stream",
          "name": "stdout",
          "text": [
            "1/1 [==============================] - 0s 45ms/step\n"
          ]
        },
        {
          "output_type": "stream",
          "name": "stderr",
          "text": [
            "\r  4%|▍         | 19/506 [00:35<08:24,  1.03s/it]"
          ]
        },
        {
          "output_type": "stream",
          "name": "stdout",
          "text": [
            "1/1 [==============================] - 0s 36ms/step\n"
          ]
        },
        {
          "output_type": "stream",
          "name": "stderr",
          "text": [
            "\r  4%|▍         | 20/506 [00:35<07:20,  1.10it/s]"
          ]
        },
        {
          "output_type": "stream",
          "name": "stdout",
          "text": [
            "1/1 [==============================] - 0s 34ms/step\n"
          ]
        },
        {
          "output_type": "stream",
          "name": "stderr",
          "text": [
            "\r  4%|▍         | 21/506 [00:36<06:35,  1.23it/s]"
          ]
        },
        {
          "output_type": "stream",
          "name": "stdout",
          "text": [
            "1/1 [==============================] - 0s 35ms/step\n"
          ]
        },
        {
          "output_type": "stream",
          "name": "stderr",
          "text": [
            "\r  4%|▍         | 22/506 [00:37<06:05,  1.33it/s]"
          ]
        },
        {
          "output_type": "stream",
          "name": "stdout",
          "text": [
            "1/1 [==============================] - 0s 37ms/step\n"
          ]
        },
        {
          "output_type": "stream",
          "name": "stderr",
          "text": [
            "\r  5%|▍         | 23/506 [00:37<05:34,  1.44it/s]"
          ]
        },
        {
          "output_type": "stream",
          "name": "stdout",
          "text": [
            "1/1 [==============================] - 0s 24ms/step\n"
          ]
        },
        {
          "output_type": "stream",
          "name": "stderr",
          "text": [
            "\r  5%|▍         | 24/506 [00:37<04:54,  1.64it/s]"
          ]
        },
        {
          "output_type": "stream",
          "name": "stdout",
          "text": [
            "1/1 [==============================] - 0s 25ms/step\n"
          ]
        },
        {
          "output_type": "stream",
          "name": "stderr",
          "text": [
            "\r  5%|▍         | 25/506 [00:38<04:19,  1.86it/s]"
          ]
        },
        {
          "output_type": "stream",
          "name": "stdout",
          "text": [
            "1/1 [==============================] - 0s 24ms/step\n"
          ]
        },
        {
          "output_type": "stream",
          "name": "stderr",
          "text": [
            "\r  5%|▌         | 26/506 [00:38<04:01,  1.99it/s]"
          ]
        },
        {
          "output_type": "stream",
          "name": "stdout",
          "text": [
            "1/1 [==============================] - 0s 24ms/step\n"
          ]
        },
        {
          "output_type": "stream",
          "name": "stderr",
          "text": [
            "\r  5%|▌         | 27/506 [00:39<03:49,  2.09it/s]"
          ]
        },
        {
          "output_type": "stream",
          "name": "stdout",
          "text": [
            "1/1 [==============================] - 0s 26ms/step\n"
          ]
        },
        {
          "output_type": "stream",
          "name": "stderr",
          "text": [
            "\r  6%|▌         | 28/506 [00:39<03:41,  2.15it/s]"
          ]
        },
        {
          "output_type": "stream",
          "name": "stdout",
          "text": [
            "1/1 [==============================] - 0s 24ms/step\n"
          ]
        },
        {
          "output_type": "stream",
          "name": "stderr",
          "text": [
            "\r  6%|▌         | 29/506 [00:39<03:26,  2.31it/s]"
          ]
        },
        {
          "output_type": "stream",
          "name": "stdout",
          "text": [
            "1/1 [==============================] - 0s 25ms/step\n"
          ]
        },
        {
          "output_type": "stream",
          "name": "stderr",
          "text": [
            "\r  6%|▌         | 30/506 [00:40<03:17,  2.42it/s]"
          ]
        },
        {
          "output_type": "stream",
          "name": "stdout",
          "text": [
            "1/1 [==============================] - 0s 24ms/step\n"
          ]
        },
        {
          "output_type": "stream",
          "name": "stderr",
          "text": [
            "\r  6%|▌         | 31/506 [00:40<03:09,  2.51it/s]"
          ]
        },
        {
          "output_type": "stream",
          "name": "stdout",
          "text": [
            "1/1 [==============================] - 0s 26ms/step\n"
          ]
        },
        {
          "output_type": "stream",
          "name": "stderr",
          "text": [
            "\r  6%|▋         | 32/506 [00:41<03:04,  2.57it/s]"
          ]
        },
        {
          "output_type": "stream",
          "name": "stdout",
          "text": [
            "1/1 [==============================] - 0s 24ms/step\n"
          ]
        },
        {
          "output_type": "stream",
          "name": "stderr",
          "text": [
            "\r  7%|▋         | 33/506 [00:41<03:07,  2.52it/s]"
          ]
        },
        {
          "output_type": "stream",
          "name": "stdout",
          "text": [
            "1/1 [==============================] - 0s 23ms/step\n"
          ]
        },
        {
          "output_type": "stream",
          "name": "stderr",
          "text": [
            "\r  7%|▋         | 34/506 [00:41<03:03,  2.57it/s]"
          ]
        },
        {
          "output_type": "stream",
          "name": "stdout",
          "text": [
            "1/1 [==============================] - 0s 28ms/step\n"
          ]
        },
        {
          "output_type": "stream",
          "name": "stderr",
          "text": [
            "\r  7%|▋         | 35/506 [00:42<03:11,  2.46it/s]"
          ]
        },
        {
          "output_type": "stream",
          "name": "stdout",
          "text": [
            "1/1 [==============================] - 0s 24ms/step\n"
          ]
        },
        {
          "output_type": "stream",
          "name": "stderr",
          "text": [
            "\r  7%|▋         | 36/506 [00:42<03:05,  2.54it/s]"
          ]
        },
        {
          "output_type": "stream",
          "name": "stdout",
          "text": [
            "1/1 [==============================] - 0s 25ms/step\n"
          ]
        },
        {
          "output_type": "stream",
          "name": "stderr",
          "text": [
            "\r  7%|▋         | 37/506 [00:43<03:02,  2.57it/s]"
          ]
        },
        {
          "output_type": "stream",
          "name": "stdout",
          "text": [
            "1/1 [==============================] - 0s 24ms/step\n"
          ]
        },
        {
          "output_type": "stream",
          "name": "stderr",
          "text": [
            "\r  8%|▊         | 38/506 [00:43<02:59,  2.60it/s]"
          ]
        },
        {
          "output_type": "stream",
          "name": "stdout",
          "text": [
            "1/1 [==============================] - 0s 25ms/step\n"
          ]
        },
        {
          "output_type": "stream",
          "name": "stderr",
          "text": [
            "\r  8%|▊         | 39/506 [00:43<02:58,  2.62it/s]"
          ]
        },
        {
          "output_type": "stream",
          "name": "stdout",
          "text": [
            "1/1 [==============================] - 0s 25ms/step\n"
          ]
        },
        {
          "output_type": "stream",
          "name": "stderr",
          "text": [
            "\r  8%|▊         | 40/506 [00:44<02:57,  2.62it/s]"
          ]
        },
        {
          "output_type": "stream",
          "name": "stdout",
          "text": [
            "1/1 [==============================] - 0s 23ms/step\n"
          ]
        },
        {
          "output_type": "stream",
          "name": "stderr",
          "text": [
            "\r  8%|▊         | 41/506 [00:44<02:55,  2.65it/s]"
          ]
        },
        {
          "output_type": "stream",
          "name": "stdout",
          "text": [
            "1/1 [==============================] - 0s 24ms/step\n"
          ]
        },
        {
          "output_type": "stream",
          "name": "stderr",
          "text": [
            "\r  8%|▊         | 42/506 [00:44<02:52,  2.69it/s]"
          ]
        },
        {
          "output_type": "stream",
          "name": "stdout",
          "text": [
            "1/1 [==============================] - 0s 23ms/step\n"
          ]
        },
        {
          "output_type": "stream",
          "name": "stderr",
          "text": [
            "\r  8%|▊         | 43/506 [00:45<02:50,  2.72it/s]"
          ]
        },
        {
          "output_type": "stream",
          "name": "stdout",
          "text": [
            "1/1 [==============================] - 0s 30ms/step\n"
          ]
        },
        {
          "output_type": "stream",
          "name": "stderr",
          "text": [
            "\r  9%|▊         | 44/506 [00:45<02:49,  2.73it/s]"
          ]
        },
        {
          "output_type": "stream",
          "name": "stdout",
          "text": [
            "1/1 [==============================] - 0s 25ms/step\n"
          ]
        },
        {
          "output_type": "stream",
          "name": "stderr",
          "text": [
            "\r  9%|▉         | 45/506 [00:45<02:48,  2.73it/s]"
          ]
        },
        {
          "output_type": "stream",
          "name": "stdout",
          "text": [
            "1/1 [==============================] - 0s 28ms/step\n"
          ]
        },
        {
          "output_type": "stream",
          "name": "stderr",
          "text": [
            "\r  9%|▉         | 46/506 [00:46<02:49,  2.72it/s]"
          ]
        },
        {
          "output_type": "stream",
          "name": "stdout",
          "text": [
            "1/1 [==============================] - 0s 24ms/step\n"
          ]
        },
        {
          "output_type": "stream",
          "name": "stderr",
          "text": [
            "\r  9%|▉         | 47/506 [00:46<02:47,  2.73it/s]"
          ]
        },
        {
          "output_type": "stream",
          "name": "stdout",
          "text": [
            "1/1 [==============================] - 0s 24ms/step\n"
          ]
        },
        {
          "output_type": "stream",
          "name": "stderr",
          "text": [
            "\r  9%|▉         | 48/506 [00:47<02:57,  2.58it/s]"
          ]
        },
        {
          "output_type": "stream",
          "name": "stdout",
          "text": [
            "1/1 [==============================] - 0s 23ms/step\n"
          ]
        },
        {
          "output_type": "stream",
          "name": "stderr",
          "text": [
            "\r 10%|▉         | 49/506 [00:47<03:06,  2.45it/s]"
          ]
        },
        {
          "output_type": "stream",
          "name": "stdout",
          "text": [
            "1/1 [==============================] - 0s 37ms/step\n"
          ]
        },
        {
          "output_type": "stream",
          "name": "stderr",
          "text": [
            "\r 10%|▉         | 50/506 [00:48<03:32,  2.14it/s]"
          ]
        },
        {
          "output_type": "stream",
          "name": "stdout",
          "text": [
            "1/1 [==============================] - 0s 33ms/step\n"
          ]
        },
        {
          "output_type": "stream",
          "name": "stderr",
          "text": [
            "\r 10%|█         | 51/506 [00:48<03:50,  1.98it/s]"
          ]
        },
        {
          "output_type": "stream",
          "name": "stdout",
          "text": [
            "1/1 [==============================] - 0s 34ms/step\n"
          ]
        },
        {
          "output_type": "stream",
          "name": "stderr",
          "text": [
            "\r 10%|█         | 52/506 [00:49<04:03,  1.86it/s]"
          ]
        },
        {
          "output_type": "stream",
          "name": "stdout",
          "text": [
            "1/1 [==============================] - 0s 33ms/step\n"
          ]
        },
        {
          "output_type": "stream",
          "name": "stderr",
          "text": [
            "\r 10%|█         | 53/506 [00:50<04:11,  1.80it/s]"
          ]
        },
        {
          "output_type": "stream",
          "name": "stdout",
          "text": [
            "1/1 [==============================] - 0s 33ms/step\n"
          ]
        },
        {
          "output_type": "stream",
          "name": "stderr",
          "text": [
            "\r 11%|█         | 54/506 [00:50<04:17,  1.76it/s]"
          ]
        },
        {
          "output_type": "stream",
          "name": "stdout",
          "text": [
            "1/1 [==============================] - 0s 39ms/step\n"
          ]
        },
        {
          "output_type": "stream",
          "name": "stderr",
          "text": [
            "\r 11%|█         | 55/506 [00:51<03:59,  1.88it/s]"
          ]
        },
        {
          "output_type": "stream",
          "name": "stdout",
          "text": [
            "1/1 [==============================] - 0s 23ms/step\n"
          ]
        },
        {
          "output_type": "stream",
          "name": "stderr",
          "text": [
            "\r 11%|█         | 56/506 [00:51<03:40,  2.04it/s]"
          ]
        },
        {
          "output_type": "stream",
          "name": "stdout",
          "text": [
            "1/1 [==============================] - 0s 23ms/step\n"
          ]
        },
        {
          "output_type": "stream",
          "name": "stderr",
          "text": [
            "\r 11%|█▏        | 57/506 [00:51<03:31,  2.13it/s]"
          ]
        },
        {
          "output_type": "stream",
          "name": "stdout",
          "text": [
            "1/1 [==============================] - 0s 24ms/step\n"
          ]
        },
        {
          "output_type": "stream",
          "name": "stderr",
          "text": [
            "\r 11%|█▏        | 58/506 [00:52<03:20,  2.23it/s]"
          ]
        },
        {
          "output_type": "stream",
          "name": "stdout",
          "text": [
            "1/1 [==============================] - 0s 23ms/step\n"
          ]
        },
        {
          "output_type": "stream",
          "name": "stderr",
          "text": [
            "\r 12%|█▏        | 59/506 [00:52<03:17,  2.26it/s]"
          ]
        },
        {
          "output_type": "stream",
          "name": "stdout",
          "text": [
            "1/1 [==============================] - 0s 23ms/step\n"
          ]
        },
        {
          "output_type": "stream",
          "name": "stderr",
          "text": [
            "\r 12%|█▏        | 60/506 [00:53<03:13,  2.30it/s]"
          ]
        },
        {
          "output_type": "stream",
          "name": "stdout",
          "text": [
            "1/1 [==============================] - 0s 23ms/step\n"
          ]
        },
        {
          "output_type": "stream",
          "name": "stderr",
          "text": [
            "\r 12%|█▏        | 61/506 [00:53<03:12,  2.32it/s]"
          ]
        },
        {
          "output_type": "stream",
          "name": "stdout",
          "text": [
            "1/1 [==============================] - 0s 28ms/step\n"
          ]
        },
        {
          "output_type": "stream",
          "name": "stderr",
          "text": [
            "\r 12%|█▏        | 62/506 [00:53<03:03,  2.42it/s]"
          ]
        },
        {
          "output_type": "stream",
          "name": "stdout",
          "text": [
            "1/1 [==============================] - 0s 24ms/step\n"
          ]
        },
        {
          "output_type": "stream",
          "name": "stderr",
          "text": [
            "\r 12%|█▏        | 63/506 [00:54<02:57,  2.50it/s]"
          ]
        },
        {
          "output_type": "stream",
          "name": "stdout",
          "text": [
            "1/1 [==============================] - 0s 23ms/step\n"
          ]
        },
        {
          "output_type": "stream",
          "name": "stderr",
          "text": [
            "\r 13%|█▎        | 64/506 [00:54<03:00,  2.45it/s]"
          ]
        },
        {
          "output_type": "stream",
          "name": "stdout",
          "text": [
            "1/1 [==============================] - 0s 23ms/step\n"
          ]
        },
        {
          "output_type": "stream",
          "name": "stderr",
          "text": [
            "\r 13%|█▎        | 65/506 [00:55<03:03,  2.40it/s]"
          ]
        },
        {
          "output_type": "stream",
          "name": "stdout",
          "text": [
            "1/1 [==============================] - 0s 24ms/step\n"
          ]
        },
        {
          "output_type": "stream",
          "name": "stderr",
          "text": [
            "\r 13%|█▎        | 66/506 [00:55<02:55,  2.50it/s]"
          ]
        },
        {
          "output_type": "stream",
          "name": "stdout",
          "text": [
            "1/1 [==============================] - 0s 23ms/step\n"
          ]
        },
        {
          "output_type": "stream",
          "name": "stderr",
          "text": [
            "\r 13%|█▎        | 67/506 [00:55<02:51,  2.56it/s]"
          ]
        },
        {
          "output_type": "stream",
          "name": "stdout",
          "text": [
            "1/1 [==============================] - 0s 33ms/step\n"
          ]
        },
        {
          "output_type": "stream",
          "name": "stderr",
          "text": [
            "\r 13%|█▎        | 68/506 [00:56<03:30,  2.08it/s]"
          ]
        },
        {
          "output_type": "stream",
          "name": "stdout",
          "text": [
            "1/1 [==============================] - 0s 24ms/step\n"
          ]
        },
        {
          "output_type": "stream",
          "name": "stderr",
          "text": [
            "\r 14%|█▎        | 69/506 [00:56<03:19,  2.20it/s]"
          ]
        },
        {
          "output_type": "stream",
          "name": "stdout",
          "text": [
            "1/1 [==============================] - 0s 24ms/step\n"
          ]
        },
        {
          "output_type": "stream",
          "name": "stderr",
          "text": [
            "\r 14%|█▍        | 70/506 [00:57<03:06,  2.34it/s]"
          ]
        },
        {
          "output_type": "stream",
          "name": "stdout",
          "text": [
            "1/1 [==============================] - 0s 25ms/step\n"
          ]
        },
        {
          "output_type": "stream",
          "name": "stderr",
          "text": [
            "\r 14%|█▍        | 71/506 [00:57<02:59,  2.42it/s]"
          ]
        },
        {
          "output_type": "stream",
          "name": "stdout",
          "text": [
            "1/1 [==============================] - 0s 24ms/step\n"
          ]
        },
        {
          "output_type": "stream",
          "name": "stderr",
          "text": [
            "\r 14%|█▍        | 72/506 [00:58<02:52,  2.51it/s]"
          ]
        },
        {
          "output_type": "stream",
          "name": "stdout",
          "text": [
            "1/1 [==============================] - 0s 23ms/step\n"
          ]
        },
        {
          "output_type": "stream",
          "name": "stderr",
          "text": [
            "\r 14%|█▍        | 73/506 [00:58<02:54,  2.48it/s]"
          ]
        },
        {
          "output_type": "stream",
          "name": "stdout",
          "text": [
            "1/1 [==============================] - 0s 27ms/step\n"
          ]
        },
        {
          "output_type": "stream",
          "name": "stderr",
          "text": [
            "\r 15%|█▍        | 74/506 [00:58<02:56,  2.45it/s]"
          ]
        },
        {
          "output_type": "stream",
          "name": "stdout",
          "text": [
            "1/1 [==============================] - 0s 25ms/step\n"
          ]
        },
        {
          "output_type": "stream",
          "name": "stderr",
          "text": [
            "\r 15%|█▍        | 75/506 [00:59<02:51,  2.51it/s]"
          ]
        },
        {
          "output_type": "stream",
          "name": "stdout",
          "text": [
            "1/1 [==============================] - 0s 24ms/step\n"
          ]
        },
        {
          "output_type": "stream",
          "name": "stderr",
          "text": [
            "\r 15%|█▌        | 76/506 [00:59<02:54,  2.47it/s]"
          ]
        },
        {
          "output_type": "stream",
          "name": "stdout",
          "text": [
            "1/1 [==============================] - 0s 23ms/step\n"
          ]
        },
        {
          "output_type": "stream",
          "name": "stderr",
          "text": [
            "\r 15%|█▌        | 77/506 [01:00<02:55,  2.44it/s]"
          ]
        },
        {
          "output_type": "stream",
          "name": "stdout",
          "text": [
            "1/1 [==============================] - 0s 23ms/step\n"
          ]
        },
        {
          "output_type": "stream",
          "name": "stderr",
          "text": [
            "\r 15%|█▌        | 78/506 [01:00<02:55,  2.43it/s]"
          ]
        },
        {
          "output_type": "stream",
          "name": "stdout",
          "text": [
            "1/1 [==============================] - 0s 24ms/step\n"
          ]
        },
        {
          "output_type": "stream",
          "name": "stderr",
          "text": [
            "\r 16%|█▌        | 79/506 [01:00<02:59,  2.38it/s]"
          ]
        },
        {
          "output_type": "stream",
          "name": "stdout",
          "text": [
            "1/1 [==============================] - 0s 41ms/step\n"
          ]
        },
        {
          "output_type": "stream",
          "name": "stderr",
          "text": [
            "\r 16%|█▌        | 80/506 [01:01<03:19,  2.13it/s]"
          ]
        },
        {
          "output_type": "stream",
          "name": "stdout",
          "text": [
            "1/1 [==============================] - 0s 46ms/step\n"
          ]
        },
        {
          "output_type": "stream",
          "name": "stderr",
          "text": [
            "\r 16%|█▌        | 81/506 [01:02<03:30,  2.02it/s]"
          ]
        },
        {
          "output_type": "stream",
          "name": "stdout",
          "text": [
            "1/1 [==============================] - 0s 34ms/step\n"
          ]
        },
        {
          "output_type": "stream",
          "name": "stderr",
          "text": [
            "\r 16%|█▌        | 82/506 [01:02<03:35,  1.97it/s]"
          ]
        },
        {
          "output_type": "stream",
          "name": "stdout",
          "text": [
            "1/1 [==============================] - 0s 41ms/step\n"
          ]
        },
        {
          "output_type": "stream",
          "name": "stderr",
          "text": [
            "\r 16%|█▋        | 83/506 [01:03<03:39,  1.93it/s]"
          ]
        },
        {
          "output_type": "stream",
          "name": "stdout",
          "text": [
            "1/1 [==============================] - 0s 34ms/step\n"
          ]
        },
        {
          "output_type": "stream",
          "name": "stderr",
          "text": [
            "\r 17%|█▋        | 84/506 [01:03<03:49,  1.84it/s]"
          ]
        },
        {
          "output_type": "stream",
          "name": "stdout",
          "text": [
            "1/1 [==============================] - 0s 34ms/step\n"
          ]
        },
        {
          "output_type": "stream",
          "name": "stderr",
          "text": [
            "\r 17%|█▋        | 85/506 [01:04<03:43,  1.88it/s]"
          ]
        },
        {
          "output_type": "stream",
          "name": "stdout",
          "text": [
            "1/1 [==============================] - 0s 23ms/step\n"
          ]
        },
        {
          "output_type": "stream",
          "name": "stderr",
          "text": [
            "\r 17%|█▋        | 86/506 [01:04<03:21,  2.08it/s]"
          ]
        },
        {
          "output_type": "stream",
          "name": "stdout",
          "text": [
            "1/1 [==============================] - 0s 28ms/step\n"
          ]
        },
        {
          "output_type": "stream",
          "name": "stderr",
          "text": [
            "\r 17%|█▋        | 87/506 [01:05<03:14,  2.16it/s]"
          ]
        },
        {
          "output_type": "stream",
          "name": "stdout",
          "text": [
            "1/1 [==============================] - 0s 104ms/step\n"
          ]
        },
        {
          "output_type": "stream",
          "name": "stderr",
          "text": [
            "\r 17%|█▋        | 88/506 [01:05<03:37,  1.92it/s]"
          ]
        },
        {
          "output_type": "stream",
          "name": "stdout",
          "text": [
            "1/1 [==============================] - 0s 25ms/step\n"
          ]
        },
        {
          "output_type": "stream",
          "name": "stderr",
          "text": [
            "\r 18%|█▊        | 89/506 [01:06<03:25,  2.03it/s]"
          ]
        },
        {
          "output_type": "stream",
          "name": "stdout",
          "text": [
            "1/1 [==============================] - 0s 25ms/step\n"
          ]
        },
        {
          "output_type": "stream",
          "name": "stderr",
          "text": [
            "\r 18%|█▊        | 90/506 [01:06<03:08,  2.21it/s]"
          ]
        },
        {
          "output_type": "stream",
          "name": "stdout",
          "text": [
            "1/1 [==============================] - 0s 24ms/step\n"
          ]
        },
        {
          "output_type": "stream",
          "name": "stderr",
          "text": [
            "\r 18%|█▊        | 91/506 [01:06<02:59,  2.32it/s]"
          ]
        },
        {
          "output_type": "stream",
          "name": "stdout",
          "text": [
            "1/1 [==============================] - 0s 23ms/step\n"
          ]
        },
        {
          "output_type": "stream",
          "name": "stderr",
          "text": [
            "\r 18%|█▊        | 92/506 [01:07<02:58,  2.32it/s]"
          ]
        },
        {
          "output_type": "stream",
          "name": "stdout",
          "text": [
            "1/1 [==============================] - 0s 25ms/step\n"
          ]
        },
        {
          "output_type": "stream",
          "name": "stderr",
          "text": [
            "\r 18%|█▊        | 93/506 [01:07<02:57,  2.33it/s]"
          ]
        },
        {
          "output_type": "stream",
          "name": "stdout",
          "text": [
            "1/1 [==============================] - 0s 30ms/step\n"
          ]
        },
        {
          "output_type": "stream",
          "name": "stderr",
          "text": [
            "\r 19%|█▊        | 94/506 [01:08<02:56,  2.34it/s]"
          ]
        },
        {
          "output_type": "stream",
          "name": "stdout",
          "text": [
            "1/1 [==============================] - 0s 24ms/step\n"
          ]
        },
        {
          "output_type": "stream",
          "name": "stderr",
          "text": [
            "\r 19%|█▉        | 95/506 [01:08<02:54,  2.35it/s]"
          ]
        },
        {
          "output_type": "stream",
          "name": "stdout",
          "text": [
            "1/1 [==============================] - 0s 23ms/step\n"
          ]
        },
        {
          "output_type": "stream",
          "name": "stderr",
          "text": [
            "\r 19%|█▉        | 96/506 [01:08<02:47,  2.45it/s]"
          ]
        },
        {
          "output_type": "stream",
          "name": "stdout",
          "text": [
            "1/1 [==============================] - 0s 24ms/step\n"
          ]
        },
        {
          "output_type": "stream",
          "name": "stderr",
          "text": [
            "\r 19%|█▉        | 97/506 [01:09<02:48,  2.42it/s]"
          ]
        },
        {
          "output_type": "stream",
          "name": "stdout",
          "text": [
            "1/1 [==============================] - 0s 24ms/step\n"
          ]
        },
        {
          "output_type": "stream",
          "name": "stderr",
          "text": [
            "\r 19%|█▉        | 98/506 [01:09<02:49,  2.40it/s]"
          ]
        },
        {
          "output_type": "stream",
          "name": "stdout",
          "text": [
            "1/1 [==============================] - 0s 23ms/step\n"
          ]
        },
        {
          "output_type": "stream",
          "name": "stderr",
          "text": [
            "\r 20%|█▉        | 99/506 [01:10<02:50,  2.39it/s]"
          ]
        },
        {
          "output_type": "stream",
          "name": "stdout",
          "text": [
            "1/1 [==============================] - 0s 23ms/step\n"
          ]
        },
        {
          "output_type": "stream",
          "name": "stderr",
          "text": [
            "\r 20%|█▉        | 100/506 [01:10<02:42,  2.50it/s]"
          ]
        },
        {
          "output_type": "stream",
          "name": "stdout",
          "text": [
            "1/1 [==============================] - 0s 23ms/step\n"
          ]
        },
        {
          "output_type": "stream",
          "name": "stderr",
          "text": [
            "\r 20%|█▉        | 101/506 [01:10<02:37,  2.57it/s]"
          ]
        },
        {
          "output_type": "stream",
          "name": "stdout",
          "text": [
            "1/1 [==============================] - 0s 24ms/step\n"
          ]
        },
        {
          "output_type": "stream",
          "name": "stderr",
          "text": [
            "\r 20%|██        | 102/506 [01:11<02:33,  2.64it/s]"
          ]
        },
        {
          "output_type": "stream",
          "name": "stdout",
          "text": [
            "1/1 [==============================] - 0s 23ms/step\n"
          ]
        },
        {
          "output_type": "stream",
          "name": "stderr",
          "text": [
            "\r 20%|██        | 103/506 [01:11<02:37,  2.56it/s]"
          ]
        },
        {
          "output_type": "stream",
          "name": "stdout",
          "text": [
            "1/1 [==============================] - 0s 23ms/step\n"
          ]
        },
        {
          "output_type": "stream",
          "name": "stderr",
          "text": [
            "\r 21%|██        | 104/506 [01:12<02:41,  2.49it/s]"
          ]
        },
        {
          "output_type": "stream",
          "name": "stdout",
          "text": [
            "1/1 [==============================] - 0s 23ms/step\n"
          ]
        },
        {
          "output_type": "stream",
          "name": "stderr",
          "text": [
            "\r 21%|██        | 105/506 [01:12<02:42,  2.46it/s]"
          ]
        },
        {
          "output_type": "stream",
          "name": "stdout",
          "text": [
            "1/1 [==============================] - 0s 24ms/step\n"
          ]
        },
        {
          "output_type": "stream",
          "name": "stderr",
          "text": [
            "\r 21%|██        | 106/506 [01:13<02:45,  2.42it/s]"
          ]
        },
        {
          "output_type": "stream",
          "name": "stdout",
          "text": [
            "1/1 [==============================] - 0s 24ms/step\n"
          ]
        },
        {
          "output_type": "stream",
          "name": "stderr",
          "text": [
            "\r 21%|██        | 107/506 [01:13<02:45,  2.41it/s]"
          ]
        },
        {
          "output_type": "stream",
          "name": "stdout",
          "text": [
            "1/1 [==============================] - 0s 24ms/step\n"
          ]
        },
        {
          "output_type": "stream",
          "name": "stderr",
          "text": [
            "\r 21%|██▏       | 108/506 [01:13<02:45,  2.41it/s]"
          ]
        },
        {
          "output_type": "stream",
          "name": "stdout",
          "text": [
            "1/1 [==============================] - 0s 24ms/step\n"
          ]
        },
        {
          "output_type": "stream",
          "name": "stderr",
          "text": [
            "\r 22%|██▏       | 109/506 [01:14<02:40,  2.48it/s]"
          ]
        },
        {
          "output_type": "stream",
          "name": "stdout",
          "text": [
            "1/1 [==============================] - 0s 35ms/step\n"
          ]
        },
        {
          "output_type": "stream",
          "name": "stderr",
          "text": [
            "\r 22%|██▏       | 110/506 [01:14<03:03,  2.16it/s]"
          ]
        },
        {
          "output_type": "stream",
          "name": "stdout",
          "text": [
            "1/1 [==============================] - 0s 32ms/step\n"
          ]
        },
        {
          "output_type": "stream",
          "name": "stderr",
          "text": [
            "\r 22%|██▏       | 111/506 [01:15<03:18,  1.99it/s]"
          ]
        },
        {
          "output_type": "stream",
          "name": "stdout",
          "text": [
            "1/1 [==============================] - 0s 35ms/step\n"
          ]
        },
        {
          "output_type": "stream",
          "name": "stderr",
          "text": [
            "\r 22%|██▏       | 112/506 [01:16<03:30,  1.87it/s]"
          ]
        },
        {
          "output_type": "stream",
          "name": "stdout",
          "text": [
            "1/1 [==============================] - 0s 35ms/step\n"
          ]
        },
        {
          "output_type": "stream",
          "name": "stderr",
          "text": [
            "\r 22%|██▏       | 113/506 [01:16<03:38,  1.80it/s]"
          ]
        },
        {
          "output_type": "stream",
          "name": "stdout",
          "text": [
            "1/1 [==============================] - 0s 32ms/step\n"
          ]
        },
        {
          "output_type": "stream",
          "name": "stderr",
          "text": [
            "\r 23%|██▎       | 114/506 [01:17<03:37,  1.80it/s]"
          ]
        },
        {
          "output_type": "stream",
          "name": "stdout",
          "text": [
            "1/1 [==============================] - 0s 33ms/step\n"
          ]
        },
        {
          "output_type": "stream",
          "name": "stderr",
          "text": [
            "\r 23%|██▎       | 115/506 [01:17<03:28,  1.88it/s]"
          ]
        },
        {
          "output_type": "stream",
          "name": "stdout",
          "text": [
            "1/1 [==============================] - 0s 24ms/step\n"
          ]
        },
        {
          "output_type": "stream",
          "name": "stderr",
          "text": [
            "\r 23%|██▎       | 116/506 [01:18<03:15,  1.99it/s]"
          ]
        },
        {
          "output_type": "stream",
          "name": "stdout",
          "text": [
            "1/1 [==============================] - 0s 24ms/step\n"
          ]
        },
        {
          "output_type": "stream",
          "name": "stderr",
          "text": [
            "\r 23%|██▎       | 117/506 [01:18<03:05,  2.10it/s]"
          ]
        },
        {
          "output_type": "stream",
          "name": "stdout",
          "text": [
            "1/1 [==============================] - 0s 25ms/step\n"
          ]
        },
        {
          "output_type": "stream",
          "name": "stderr",
          "text": [
            "\r 23%|██▎       | 118/506 [01:18<02:59,  2.16it/s]"
          ]
        },
        {
          "output_type": "stream",
          "name": "stdout",
          "text": [
            "1/1 [==============================] - 0s 27ms/step\n"
          ]
        },
        {
          "output_type": "stream",
          "name": "stderr",
          "text": [
            "\r 24%|██▎       | 119/506 [01:19<02:50,  2.27it/s]"
          ]
        },
        {
          "output_type": "stream",
          "name": "stdout",
          "text": [
            "1/1 [==============================] - 0s 23ms/step\n"
          ]
        },
        {
          "output_type": "stream",
          "name": "stderr",
          "text": [
            "\r 24%|██▎       | 120/506 [01:19<02:47,  2.30it/s]"
          ]
        },
        {
          "output_type": "stream",
          "name": "stdout",
          "text": [
            "1/1 [==============================] - 0s 23ms/step\n"
          ]
        },
        {
          "output_type": "stream",
          "name": "stderr",
          "text": [
            "\r 24%|██▍       | 121/506 [01:20<02:47,  2.30it/s]"
          ]
        },
        {
          "output_type": "stream",
          "name": "stdout",
          "text": [
            "1/1 [==============================] - 0s 23ms/step\n"
          ]
        },
        {
          "output_type": "stream",
          "name": "stderr",
          "text": [
            "\r 24%|██▍       | 122/506 [01:20<02:46,  2.31it/s]"
          ]
        },
        {
          "output_type": "stream",
          "name": "stdout",
          "text": [
            "1/1 [==============================] - 0s 24ms/step\n"
          ]
        },
        {
          "output_type": "stream",
          "name": "stderr",
          "text": [
            "\r 24%|██▍       | 123/506 [01:21<02:41,  2.37it/s]"
          ]
        },
        {
          "output_type": "stream",
          "name": "stdout",
          "text": [
            "1/1 [==============================] - 0s 24ms/step\n"
          ]
        },
        {
          "output_type": "stream",
          "name": "stderr",
          "text": [
            "\r 25%|██▍       | 124/506 [01:21<02:41,  2.36it/s]"
          ]
        },
        {
          "output_type": "stream",
          "name": "stdout",
          "text": [
            "1/1 [==============================] - 0s 27ms/step\n"
          ]
        },
        {
          "output_type": "stream",
          "name": "stderr",
          "text": [
            "\r 25%|██▍       | 125/506 [01:21<02:35,  2.45it/s]"
          ]
        },
        {
          "output_type": "stream",
          "name": "stdout",
          "text": [
            "1/1 [==============================] - 0s 23ms/step\n"
          ]
        },
        {
          "output_type": "stream",
          "name": "stderr",
          "text": [
            "\r 25%|██▍       | 126/506 [01:22<02:31,  2.51it/s]"
          ]
        },
        {
          "output_type": "stream",
          "name": "stdout",
          "text": [
            "1/1 [==============================] - 0s 23ms/step\n"
          ]
        },
        {
          "output_type": "stream",
          "name": "stderr",
          "text": [
            "\r 25%|██▌       | 127/506 [01:22<02:33,  2.47it/s]"
          ]
        },
        {
          "output_type": "stream",
          "name": "stdout",
          "text": [
            "1/1 [==============================] - 0s 24ms/step\n"
          ]
        },
        {
          "output_type": "stream",
          "name": "stderr",
          "text": [
            "\r 25%|██▌       | 128/506 [01:22<02:28,  2.54it/s]"
          ]
        },
        {
          "output_type": "stream",
          "name": "stdout",
          "text": [
            "1/1 [==============================] - 0s 24ms/step\n"
          ]
        },
        {
          "output_type": "stream",
          "name": "stderr",
          "text": [
            "\r 25%|██▌       | 129/506 [01:23<02:31,  2.48it/s]"
          ]
        },
        {
          "output_type": "stream",
          "name": "stdout",
          "text": [
            "1/1 [==============================] - 0s 28ms/step\n"
          ]
        },
        {
          "output_type": "stream",
          "name": "stderr",
          "text": [
            "\r 26%|██▌       | 130/506 [01:23<02:33,  2.45it/s]"
          ]
        },
        {
          "output_type": "stream",
          "name": "stdout",
          "text": [
            "1/1 [==============================] - 0s 23ms/step\n"
          ]
        },
        {
          "output_type": "stream",
          "name": "stderr",
          "text": [
            "\r 26%|██▌       | 131/506 [01:24<02:32,  2.46it/s]"
          ]
        },
        {
          "output_type": "stream",
          "name": "stdout",
          "text": [
            "1/1 [==============================] - 0s 24ms/step\n"
          ]
        },
        {
          "output_type": "stream",
          "name": "stderr",
          "text": [
            "\r 26%|██▌       | 132/506 [01:24<02:35,  2.41it/s]"
          ]
        },
        {
          "output_type": "stream",
          "name": "stdout",
          "text": [
            "1/1 [==============================] - 0s 24ms/step\n"
          ]
        },
        {
          "output_type": "stream",
          "name": "stderr",
          "text": [
            "\r 26%|██▋       | 133/506 [01:25<02:30,  2.47it/s]"
          ]
        },
        {
          "output_type": "stream",
          "name": "stdout",
          "text": [
            "1/1 [==============================] - 0s 24ms/step\n"
          ]
        },
        {
          "output_type": "stream",
          "name": "stderr",
          "text": [
            "\r 26%|██▋       | 134/506 [01:25<02:33,  2.42it/s]"
          ]
        },
        {
          "output_type": "stream",
          "name": "stdout",
          "text": [
            "1/1 [==============================] - 0s 23ms/step\n"
          ]
        },
        {
          "output_type": "stream",
          "name": "stderr",
          "text": [
            "\r 27%|██▋       | 135/506 [01:25<02:28,  2.50it/s]"
          ]
        },
        {
          "output_type": "stream",
          "name": "stdout",
          "text": [
            "1/1 [==============================] - 0s 23ms/step\n"
          ]
        },
        {
          "output_type": "stream",
          "name": "stderr",
          "text": [
            "\r 27%|██▋       | 136/506 [01:26<02:23,  2.58it/s]"
          ]
        },
        {
          "output_type": "stream",
          "name": "stdout",
          "text": [
            "1/1 [==============================] - 0s 23ms/step\n"
          ]
        },
        {
          "output_type": "stream",
          "name": "stderr",
          "text": [
            "\r 27%|██▋       | 137/506 [01:26<02:27,  2.50it/s]"
          ]
        },
        {
          "output_type": "stream",
          "name": "stdout",
          "text": [
            "1/1 [==============================] - 0s 24ms/step\n"
          ]
        },
        {
          "output_type": "stream",
          "name": "stderr",
          "text": [
            "\r 27%|██▋       | 138/506 [01:27<02:31,  2.43it/s]"
          ]
        },
        {
          "output_type": "stream",
          "name": "stdout",
          "text": [
            "1/1 [==============================] - 0s 23ms/step\n"
          ]
        },
        {
          "output_type": "stream",
          "name": "stderr",
          "text": [
            "\r 27%|██▋       | 139/506 [01:27<02:26,  2.50it/s]"
          ]
        },
        {
          "output_type": "stream",
          "name": "stdout",
          "text": [
            "1/1 [==============================] - 0s 40ms/step\n"
          ]
        },
        {
          "output_type": "stream",
          "name": "stderr",
          "text": [
            "\r 28%|██▊       | 140/506 [01:28<02:47,  2.18it/s]"
          ]
        },
        {
          "output_type": "stream",
          "name": "stdout",
          "text": [
            "1/1 [==============================] - 0s 36ms/step\n"
          ]
        },
        {
          "output_type": "stream",
          "name": "stderr",
          "text": [
            "\r 28%|██▊       | 141/506 [01:28<03:03,  1.99it/s]"
          ]
        },
        {
          "output_type": "stream",
          "name": "stdout",
          "text": [
            "1/1 [==============================] - 0s 33ms/step\n"
          ]
        },
        {
          "output_type": "stream",
          "name": "stderr",
          "text": [
            "\r 28%|██▊       | 142/506 [01:29<03:13,  1.88it/s]"
          ]
        },
        {
          "output_type": "stream",
          "name": "stdout",
          "text": [
            "1/1 [==============================] - 0s 33ms/step\n"
          ]
        },
        {
          "output_type": "stream",
          "name": "stderr",
          "text": [
            "\r 28%|██▊       | 143/506 [01:29<03:20,  1.81it/s]"
          ]
        },
        {
          "output_type": "stream",
          "name": "stdout",
          "text": [
            "1/1 [==============================] - 0s 32ms/step\n"
          ]
        },
        {
          "output_type": "stream",
          "name": "stderr",
          "text": [
            "\r 28%|██▊       | 144/506 [01:30<03:24,  1.77it/s]"
          ]
        },
        {
          "output_type": "stream",
          "name": "stdout",
          "text": [
            "1/1 [==============================] - 0s 37ms/step\n"
          ]
        },
        {
          "output_type": "stream",
          "name": "stderr",
          "text": [
            "\r 29%|██▊       | 145/506 [01:30<03:14,  1.85it/s]"
          ]
        },
        {
          "output_type": "stream",
          "name": "stdout",
          "text": [
            "1/1 [==============================] - 0s 23ms/step\n"
          ]
        },
        {
          "output_type": "stream",
          "name": "stderr",
          "text": [
            "\r 29%|██▉       | 146/506 [01:31<03:01,  1.98it/s]"
          ]
        },
        {
          "output_type": "stream",
          "name": "stdout",
          "text": [
            "1/1 [==============================] - 0s 22ms/step\n"
          ]
        },
        {
          "output_type": "stream",
          "name": "stderr",
          "text": [
            "\r 29%|██▉       | 147/506 [01:31<02:52,  2.08it/s]"
          ]
        },
        {
          "output_type": "stream",
          "name": "stdout",
          "text": [
            "1/1 [==============================] - 0s 24ms/step\n"
          ]
        },
        {
          "output_type": "stream",
          "name": "stderr",
          "text": [
            "\r 29%|██▉       | 148/506 [01:32<02:39,  2.25it/s]"
          ]
        },
        {
          "output_type": "stream",
          "name": "stdout",
          "text": [
            "1/1 [==============================] - 0s 27ms/step\n"
          ]
        },
        {
          "output_type": "stream",
          "name": "stderr",
          "text": [
            "\r 29%|██▉       | 149/506 [01:32<02:31,  2.36it/s]"
          ]
        },
        {
          "output_type": "stream",
          "name": "stdout",
          "text": [
            "1/1 [==============================] - 0s 23ms/step\n"
          ]
        },
        {
          "output_type": "stream",
          "name": "stderr",
          "text": [
            "\r 30%|██▉       | 150/506 [01:32<02:30,  2.37it/s]"
          ]
        },
        {
          "output_type": "stream",
          "name": "stdout",
          "text": [
            "1/1 [==============================] - 0s 23ms/step\n"
          ]
        },
        {
          "output_type": "stream",
          "name": "stderr",
          "text": [
            "\r 30%|██▉       | 151/506 [01:33<02:29,  2.37it/s]"
          ]
        },
        {
          "output_type": "stream",
          "name": "stdout",
          "text": [
            "1/1 [==============================] - 0s 30ms/step\n"
          ]
        },
        {
          "output_type": "stream",
          "name": "stderr",
          "text": [
            "\r 30%|███       | 152/506 [01:33<02:29,  2.37it/s]"
          ]
        },
        {
          "output_type": "stream",
          "name": "stdout",
          "text": [
            "1/1 [==============================] - 0s 23ms/step\n"
          ]
        },
        {
          "output_type": "stream",
          "name": "stderr",
          "text": [
            "\r 30%|███       | 153/506 [01:34<02:22,  2.47it/s]"
          ]
        },
        {
          "output_type": "stream",
          "name": "stdout",
          "text": [
            "1/1 [==============================] - 0s 22ms/step\n"
          ]
        },
        {
          "output_type": "stream",
          "name": "stderr",
          "text": [
            "\r 30%|███       | 154/506 [01:34<02:18,  2.55it/s]"
          ]
        },
        {
          "output_type": "stream",
          "name": "stdout",
          "text": [
            "1/1 [==============================] - 0s 23ms/step\n"
          ]
        },
        {
          "output_type": "stream",
          "name": "stderr",
          "text": [
            "\r 31%|███       | 155/506 [01:34<02:20,  2.49it/s]"
          ]
        },
        {
          "output_type": "stream",
          "name": "stdout",
          "text": [
            "1/1 [==============================] - 0s 23ms/step\n"
          ]
        },
        {
          "output_type": "stream",
          "name": "stderr",
          "text": [
            "\r 31%|███       | 156/506 [01:35<02:21,  2.47it/s]"
          ]
        },
        {
          "output_type": "stream",
          "name": "stdout",
          "text": [
            "1/1 [==============================] - 0s 24ms/step\n"
          ]
        },
        {
          "output_type": "stream",
          "name": "stderr",
          "text": [
            "\r 31%|███       | 157/506 [01:35<02:22,  2.44it/s]"
          ]
        },
        {
          "output_type": "stream",
          "name": "stdout",
          "text": [
            "1/1 [==============================] - 0s 24ms/step\n"
          ]
        },
        {
          "output_type": "stream",
          "name": "stderr",
          "text": [
            "\r 31%|███       | 158/506 [01:36<02:18,  2.52it/s]"
          ]
        },
        {
          "output_type": "stream",
          "name": "stdout",
          "text": [
            "1/1 [==============================] - 0s 23ms/step\n"
          ]
        },
        {
          "output_type": "stream",
          "name": "stderr",
          "text": [
            "\r 31%|███▏      | 159/506 [01:36<02:14,  2.58it/s]"
          ]
        },
        {
          "output_type": "stream",
          "name": "stdout",
          "text": [
            "1/1 [==============================] - 0s 23ms/step\n"
          ]
        },
        {
          "output_type": "stream",
          "name": "stderr",
          "text": [
            "\r 32%|███▏      | 160/506 [01:36<02:11,  2.64it/s]"
          ]
        },
        {
          "output_type": "stream",
          "name": "stdout",
          "text": [
            "1/1 [==============================] - 0s 23ms/step\n"
          ]
        },
        {
          "output_type": "stream",
          "name": "stderr",
          "text": [
            "\r 32%|███▏      | 161/506 [01:37<02:14,  2.56it/s]"
          ]
        },
        {
          "output_type": "stream",
          "name": "stdout",
          "text": [
            "1/1 [==============================] - 0s 23ms/step\n"
          ]
        },
        {
          "output_type": "stream",
          "name": "stderr",
          "text": [
            "\r 32%|███▏      | 162/506 [01:37<02:11,  2.61it/s]"
          ]
        },
        {
          "output_type": "stream",
          "name": "stdout",
          "text": [
            "1/1 [==============================] - 0s 24ms/step\n"
          ]
        },
        {
          "output_type": "stream",
          "name": "stderr",
          "text": [
            "\r 32%|███▏      | 163/506 [01:37<02:08,  2.67it/s]"
          ]
        },
        {
          "output_type": "stream",
          "name": "stdout",
          "text": [
            "1/1 [==============================] - 0s 24ms/step\n"
          ]
        },
        {
          "output_type": "stream",
          "name": "stderr",
          "text": [
            "\r 32%|███▏      | 164/506 [01:38<02:12,  2.59it/s]"
          ]
        },
        {
          "output_type": "stream",
          "name": "stdout",
          "text": [
            "1/1 [==============================] - 0s 23ms/step\n"
          ]
        },
        {
          "output_type": "stream",
          "name": "stderr",
          "text": [
            "\r 33%|███▎      | 165/506 [01:38<02:08,  2.65it/s]"
          ]
        },
        {
          "output_type": "stream",
          "name": "stdout",
          "text": [
            "1/1 [==============================] - 0s 24ms/step\n"
          ]
        },
        {
          "output_type": "stream",
          "name": "stderr",
          "text": [
            "\r 33%|███▎      | 166/506 [01:39<02:13,  2.55it/s]"
          ]
        },
        {
          "output_type": "stream",
          "name": "stdout",
          "text": [
            "1/1 [==============================] - 0s 23ms/step\n"
          ]
        },
        {
          "output_type": "stream",
          "name": "stderr",
          "text": [
            "\r 33%|███▎      | 167/506 [01:39<02:09,  2.61it/s]"
          ]
        },
        {
          "output_type": "stream",
          "name": "stdout",
          "text": [
            "1/1 [==============================] - 0s 24ms/step\n"
          ]
        },
        {
          "output_type": "stream",
          "name": "stderr",
          "text": [
            "\r 33%|███▎      | 168/506 [01:39<02:12,  2.55it/s]"
          ]
        },
        {
          "output_type": "stream",
          "name": "stdout",
          "text": [
            "1/1 [==============================] - 0s 23ms/step\n"
          ]
        },
        {
          "output_type": "stream",
          "name": "stderr",
          "text": [
            "\r 33%|███▎      | 169/506 [01:40<02:08,  2.61it/s]"
          ]
        },
        {
          "output_type": "stream",
          "name": "stdout",
          "text": [
            "1/1 [==============================] - 0s 23ms/step\n"
          ]
        },
        {
          "output_type": "stream",
          "name": "stderr",
          "text": [
            "\r 34%|███▎      | 170/506 [01:40<02:12,  2.54it/s]"
          ]
        },
        {
          "output_type": "stream",
          "name": "stdout",
          "text": [
            "1/1 [==============================] - 0s 35ms/step\n"
          ]
        },
        {
          "output_type": "stream",
          "name": "stderr",
          "text": [
            "\r 34%|███▍      | 171/506 [01:41<02:32,  2.20it/s]"
          ]
        },
        {
          "output_type": "stream",
          "name": "stdout",
          "text": [
            "1/1 [==============================] - 0s 32ms/step\n"
          ]
        },
        {
          "output_type": "stream",
          "name": "stderr",
          "text": [
            "\r 34%|███▍      | 172/506 [01:41<02:47,  1.99it/s]"
          ]
        },
        {
          "output_type": "stream",
          "name": "stdout",
          "text": [
            "1/1 [==============================] - 0s 44ms/step\n"
          ]
        },
        {
          "output_type": "stream",
          "name": "stderr",
          "text": [
            "\r 34%|███▍      | 173/506 [01:42<02:53,  1.92it/s]"
          ]
        },
        {
          "output_type": "stream",
          "name": "stdout",
          "text": [
            "1/1 [==============================] - 0s 45ms/step\n"
          ]
        },
        {
          "output_type": "stream",
          "name": "stderr",
          "text": [
            "\r 34%|███▍      | 174/506 [01:43<03:02,  1.82it/s]"
          ]
        },
        {
          "output_type": "stream",
          "name": "stdout",
          "text": [
            "1/1 [==============================] - 0s 32ms/step\n"
          ]
        },
        {
          "output_type": "stream",
          "name": "stderr",
          "text": [
            "\r 35%|███▍      | 175/506 [01:43<03:07,  1.76it/s]"
          ]
        },
        {
          "output_type": "stream",
          "name": "stdout",
          "text": [
            "1/1 [==============================] - 0s 35ms/step\n"
          ]
        },
        {
          "output_type": "stream",
          "name": "stderr",
          "text": [
            "\r 35%|███▍      | 176/506 [01:44<02:55,  1.88it/s]"
          ]
        },
        {
          "output_type": "stream",
          "name": "stdout",
          "text": [
            "1/1 [==============================] - 0s 23ms/step\n"
          ]
        },
        {
          "output_type": "stream",
          "name": "stderr",
          "text": [
            "\r 35%|███▍      | 177/506 [01:44<02:44,  2.01it/s]"
          ]
        },
        {
          "output_type": "stream",
          "name": "stdout",
          "text": [
            "1/1 [==============================] - 0s 22ms/step\n"
          ]
        },
        {
          "output_type": "stream",
          "name": "stderr",
          "text": [
            "\r 35%|███▌      | 178/506 [01:44<02:30,  2.18it/s]"
          ]
        },
        {
          "output_type": "stream",
          "name": "stdout",
          "text": [
            "1/1 [==============================] - 0s 23ms/step\n"
          ]
        },
        {
          "output_type": "stream",
          "name": "stderr",
          "text": [
            "\r 35%|███▌      | 179/506 [01:45<02:26,  2.24it/s]"
          ]
        },
        {
          "output_type": "stream",
          "name": "stdout",
          "text": [
            "1/1 [==============================] - 0s 23ms/step\n"
          ]
        },
        {
          "output_type": "stream",
          "name": "stderr",
          "text": [
            "\r 36%|███▌      | 180/506 [01:45<02:17,  2.37it/s]"
          ]
        },
        {
          "output_type": "stream",
          "name": "stdout",
          "text": [
            "1/1 [==============================] - 0s 26ms/step\n"
          ]
        },
        {
          "output_type": "stream",
          "name": "stderr",
          "text": [
            "\r 36%|███▌      | 181/506 [01:46<02:11,  2.47it/s]"
          ]
        },
        {
          "output_type": "stream",
          "name": "stdout",
          "text": [
            "1/1 [==============================] - 0s 23ms/step\n"
          ]
        },
        {
          "output_type": "stream",
          "name": "stderr",
          "text": [
            "\r 36%|███▌      | 182/506 [01:46<02:13,  2.43it/s]"
          ]
        },
        {
          "output_type": "stream",
          "name": "stdout",
          "text": [
            "1/1 [==============================] - 0s 23ms/step\n"
          ]
        },
        {
          "output_type": "stream",
          "name": "stderr",
          "text": [
            "\r 36%|███▌      | 183/506 [01:46<02:08,  2.52it/s]"
          ]
        },
        {
          "output_type": "stream",
          "name": "stdout",
          "text": [
            "1/1 [==============================] - 0s 23ms/step\n"
          ]
        },
        {
          "output_type": "stream",
          "name": "stderr",
          "text": [
            "\r 36%|███▋      | 184/506 [01:47<02:06,  2.55it/s]"
          ]
        },
        {
          "output_type": "stream",
          "name": "stdout",
          "text": [
            "1/1 [==============================] - 0s 26ms/step\n"
          ]
        },
        {
          "output_type": "stream",
          "name": "stderr",
          "text": [
            "\r 37%|███▋      | 185/506 [01:47<02:09,  2.47it/s]"
          ]
        },
        {
          "output_type": "stream",
          "name": "stdout",
          "text": [
            "1/1 [==============================] - 0s 25ms/step\n"
          ]
        },
        {
          "output_type": "stream",
          "name": "stderr",
          "text": [
            "\r 37%|███▋      | 186/506 [01:48<02:05,  2.56it/s]"
          ]
        },
        {
          "output_type": "stream",
          "name": "stdout",
          "text": [
            "1/1 [==============================] - 0s 23ms/step\n"
          ]
        },
        {
          "output_type": "stream",
          "name": "stderr",
          "text": [
            "\r 37%|███▋      | 187/506 [01:48<02:02,  2.60it/s]"
          ]
        },
        {
          "output_type": "stream",
          "name": "stdout",
          "text": [
            "1/1 [==============================] - 0s 22ms/step\n"
          ]
        },
        {
          "output_type": "stream",
          "name": "stderr",
          "text": [
            "\r 37%|███▋      | 188/506 [01:48<02:05,  2.52it/s]"
          ]
        },
        {
          "output_type": "stream",
          "name": "stdout",
          "text": [
            "1/1 [==============================] - 0s 26ms/step\n"
          ]
        },
        {
          "output_type": "stream",
          "name": "stderr",
          "text": [
            "\r 37%|███▋      | 189/506 [01:49<02:08,  2.47it/s]"
          ]
        },
        {
          "output_type": "stream",
          "name": "stdout",
          "text": [
            "1/1 [==============================] - 0s 24ms/step\n"
          ]
        },
        {
          "output_type": "stream",
          "name": "stderr",
          "text": [
            "\r 38%|███▊      | 190/506 [01:49<02:09,  2.44it/s]"
          ]
        },
        {
          "output_type": "stream",
          "name": "stdout",
          "text": [
            "1/1 [==============================] - 0s 25ms/step\n"
          ]
        },
        {
          "output_type": "stream",
          "name": "stderr",
          "text": [
            "\r 38%|███▊      | 191/506 [01:50<02:05,  2.51it/s]"
          ]
        },
        {
          "output_type": "stream",
          "name": "stdout",
          "text": [
            "1/1 [==============================] - 0s 24ms/step\n"
          ]
        },
        {
          "output_type": "stream",
          "name": "stderr",
          "text": [
            "\r 38%|███▊      | 192/506 [01:50<02:02,  2.57it/s]"
          ]
        },
        {
          "output_type": "stream",
          "name": "stdout",
          "text": [
            "1/1 [==============================] - 0s 23ms/step\n"
          ]
        },
        {
          "output_type": "stream",
          "name": "stderr",
          "text": [
            "\r 38%|███▊      | 193/506 [01:50<02:05,  2.50it/s]"
          ]
        },
        {
          "output_type": "stream",
          "name": "stdout",
          "text": [
            "1/1 [==============================] - 0s 23ms/step\n"
          ]
        },
        {
          "output_type": "stream",
          "name": "stderr",
          "text": [
            "\r 38%|███▊      | 194/506 [01:51<02:07,  2.45it/s]"
          ]
        },
        {
          "output_type": "stream",
          "name": "stdout",
          "text": [
            "1/1 [==============================] - 0s 23ms/step\n"
          ]
        },
        {
          "output_type": "stream",
          "name": "stderr",
          "text": [
            "\r 39%|███▊      | 195/506 [01:51<02:03,  2.52it/s]"
          ]
        },
        {
          "output_type": "stream",
          "name": "stdout",
          "text": [
            "1/1 [==============================] - 0s 31ms/step\n"
          ]
        },
        {
          "output_type": "stream",
          "name": "stderr",
          "text": [
            "\r 39%|███▊      | 196/506 [01:52<02:00,  2.58it/s]"
          ]
        },
        {
          "output_type": "stream",
          "name": "stdout",
          "text": [
            "1/1 [==============================] - 0s 23ms/step\n"
          ]
        },
        {
          "output_type": "stream",
          "name": "stderr",
          "text": [
            "\r 39%|███▉      | 197/506 [01:52<02:02,  2.52it/s]"
          ]
        },
        {
          "output_type": "stream",
          "name": "stdout",
          "text": [
            "1/1 [==============================] - 0s 23ms/step\n"
          ]
        },
        {
          "output_type": "stream",
          "name": "stderr",
          "text": [
            "\r 39%|███▉      | 198/506 [01:52<02:05,  2.46it/s]"
          ]
        },
        {
          "output_type": "stream",
          "name": "stdout",
          "text": [
            "1/1 [==============================] - 0s 31ms/step\n"
          ]
        },
        {
          "output_type": "stream",
          "name": "stderr",
          "text": [
            "\r 39%|███▉      | 199/506 [01:53<02:00,  2.54it/s]"
          ]
        },
        {
          "output_type": "stream",
          "name": "stdout",
          "text": [
            "1/1 [==============================] - 0s 22ms/step\n"
          ]
        },
        {
          "output_type": "stream",
          "name": "stderr",
          "text": [
            "\r 40%|███▉      | 200/506 [01:53<01:57,  2.61it/s]"
          ]
        },
        {
          "output_type": "stream",
          "name": "stdout",
          "text": [
            "1/1 [==============================] - 0s 24ms/step\n"
          ]
        },
        {
          "output_type": "stream",
          "name": "stderr",
          "text": [
            "\r 40%|███▉      | 201/506 [01:54<02:01,  2.51it/s]"
          ]
        },
        {
          "output_type": "stream",
          "name": "stdout",
          "text": [
            "1/1 [==============================] - 0s 39ms/step\n"
          ]
        },
        {
          "output_type": "stream",
          "name": "stderr",
          "text": [
            "\r 40%|███▉      | 202/506 [01:54<02:21,  2.15it/s]"
          ]
        },
        {
          "output_type": "stream",
          "name": "stdout",
          "text": [
            "1/1 [==============================] - 0s 32ms/step\n"
          ]
        },
        {
          "output_type": "stream",
          "name": "stderr",
          "text": [
            "\r 40%|████      | 203/506 [01:55<02:29,  2.03it/s]"
          ]
        },
        {
          "output_type": "stream",
          "name": "stdout",
          "text": [
            "1/1 [==============================] - 0s 38ms/step\n"
          ]
        },
        {
          "output_type": "stream",
          "name": "stderr",
          "text": [
            "\r 40%|████      | 204/506 [01:55<02:34,  1.95it/s]"
          ]
        },
        {
          "output_type": "stream",
          "name": "stdout",
          "text": [
            "1/1 [==============================] - 0s 39ms/step\n"
          ]
        },
        {
          "output_type": "stream",
          "name": "stderr",
          "text": [
            "\r 41%|████      | 205/506 [01:56<02:42,  1.85it/s]"
          ]
        },
        {
          "output_type": "stream",
          "name": "stdout",
          "text": [
            "1/1 [==============================] - 0s 39ms/step\n"
          ]
        },
        {
          "output_type": "stream",
          "name": "stderr",
          "text": [
            "\r 41%|████      | 206/506 [01:57<02:47,  1.79it/s]"
          ]
        },
        {
          "output_type": "stream",
          "name": "stdout",
          "text": [
            "1/1 [==============================] - 0s 32ms/step\n"
          ]
        },
        {
          "output_type": "stream",
          "name": "stderr",
          "text": [
            "\r 41%|████      | 207/506 [01:57<02:46,  1.79it/s]"
          ]
        },
        {
          "output_type": "stream",
          "name": "stdout",
          "text": [
            "1/1 [==============================] - 0s 24ms/step\n"
          ]
        },
        {
          "output_type": "stream",
          "name": "stderr",
          "text": [
            "\r 41%|████      | 208/506 [01:57<02:32,  1.96it/s]"
          ]
        },
        {
          "output_type": "stream",
          "name": "stdout",
          "text": [
            "1/1 [==============================] - 0s 24ms/step\n"
          ]
        },
        {
          "output_type": "stream",
          "name": "stderr",
          "text": [
            "\r 41%|████▏     | 209/506 [01:58<02:19,  2.14it/s]"
          ]
        },
        {
          "output_type": "stream",
          "name": "stdout",
          "text": [
            "1/1 [==============================] - 0s 23ms/step\n"
          ]
        },
        {
          "output_type": "stream",
          "name": "stderr",
          "text": [
            "\r 42%|████▏     | 210/506 [01:58<02:10,  2.27it/s]"
          ]
        },
        {
          "output_type": "stream",
          "name": "stdout",
          "text": [
            "1/1 [==============================] - 0s 23ms/step\n"
          ]
        },
        {
          "output_type": "stream",
          "name": "stderr",
          "text": [
            "\r 42%|████▏     | 211/506 [01:59<02:05,  2.36it/s]"
          ]
        },
        {
          "output_type": "stream",
          "name": "stdout",
          "text": [
            "1/1 [==============================] - 0s 24ms/step\n"
          ]
        },
        {
          "output_type": "stream",
          "name": "stderr",
          "text": [
            "\r 42%|████▏     | 212/506 [01:59<02:04,  2.37it/s]"
          ]
        },
        {
          "output_type": "stream",
          "name": "stdout",
          "text": [
            "1/1 [==============================] - 0s 23ms/step\n"
          ]
        },
        {
          "output_type": "stream",
          "name": "stderr",
          "text": [
            "\r 42%|████▏     | 213/506 [01:59<01:59,  2.46it/s]"
          ]
        },
        {
          "output_type": "stream",
          "name": "stdout",
          "text": [
            "1/1 [==============================] - 0s 23ms/step\n"
          ]
        },
        {
          "output_type": "stream",
          "name": "stderr",
          "text": [
            "\r 42%|████▏     | 214/506 [02:00<01:59,  2.44it/s]"
          ]
        },
        {
          "output_type": "stream",
          "name": "stdout",
          "text": [
            "1/1 [==============================] - 0s 23ms/step\n"
          ]
        },
        {
          "output_type": "stream",
          "name": "stderr",
          "text": [
            "\r 42%|████▏     | 215/506 [02:00<01:55,  2.53it/s]"
          ]
        },
        {
          "output_type": "stream",
          "name": "stdout",
          "text": [
            "1/1 [==============================] - 0s 24ms/step\n"
          ]
        },
        {
          "output_type": "stream",
          "name": "stderr",
          "text": [
            "\r 43%|████▎     | 216/506 [02:01<01:57,  2.47it/s]"
          ]
        },
        {
          "output_type": "stream",
          "name": "stdout",
          "text": [
            "1/1 [==============================] - 0s 22ms/step\n"
          ]
        },
        {
          "output_type": "stream",
          "name": "stderr",
          "text": [
            "\r 43%|████▎     | 217/506 [02:01<01:58,  2.44it/s]"
          ]
        },
        {
          "output_type": "stream",
          "name": "stdout",
          "text": [
            "1/1 [==============================] - 0s 24ms/step\n"
          ]
        },
        {
          "output_type": "stream",
          "name": "stderr",
          "text": [
            "\r 43%|████▎     | 218/506 [02:01<01:59,  2.41it/s]"
          ]
        },
        {
          "output_type": "stream",
          "name": "stdout",
          "text": [
            "1/1 [==============================] - 0s 23ms/step\n"
          ]
        },
        {
          "output_type": "stream",
          "name": "stderr",
          "text": [
            "\r 43%|████▎     | 219/506 [02:02<01:55,  2.48it/s]"
          ]
        },
        {
          "output_type": "stream",
          "name": "stdout",
          "text": [
            "1/1 [==============================] - 0s 24ms/step\n"
          ]
        },
        {
          "output_type": "stream",
          "name": "stderr",
          "text": [
            "\r 43%|████▎     | 220/506 [02:02<01:52,  2.55it/s]"
          ]
        },
        {
          "output_type": "stream",
          "name": "stdout",
          "text": [
            "1/1 [==============================] - 0s 26ms/step\n"
          ]
        },
        {
          "output_type": "stream",
          "name": "stderr",
          "text": [
            "\r 44%|████▎     | 221/506 [02:03<01:49,  2.60it/s]"
          ]
        },
        {
          "output_type": "stream",
          "name": "stdout",
          "text": [
            "1/1 [==============================] - 0s 23ms/step\n"
          ]
        },
        {
          "output_type": "stream",
          "name": "stderr",
          "text": [
            "\r 44%|████▍     | 222/506 [02:03<01:47,  2.63it/s]"
          ]
        },
        {
          "output_type": "stream",
          "name": "stdout",
          "text": [
            "1/1 [==============================] - 0s 23ms/step\n"
          ]
        },
        {
          "output_type": "stream",
          "name": "stderr",
          "text": [
            "\r 44%|████▍     | 223/506 [02:03<01:50,  2.55it/s]"
          ]
        },
        {
          "output_type": "stream",
          "name": "stdout",
          "text": [
            "1/1 [==============================] - 0s 23ms/step\n"
          ]
        },
        {
          "output_type": "stream",
          "name": "stderr",
          "text": [
            "\r 44%|████▍     | 224/506 [02:04<01:48,  2.60it/s]"
          ]
        },
        {
          "output_type": "stream",
          "name": "stdout",
          "text": [
            "1/1 [==============================] - 0s 23ms/step\n"
          ]
        },
        {
          "output_type": "stream",
          "name": "stderr",
          "text": [
            "\r 44%|████▍     | 225/506 [02:04<01:46,  2.63it/s]"
          ]
        },
        {
          "output_type": "stream",
          "name": "stdout",
          "text": [
            "1/1 [==============================] - 0s 23ms/step\n"
          ]
        },
        {
          "output_type": "stream",
          "name": "stderr",
          "text": [
            "\r 45%|████▍     | 226/506 [02:04<01:45,  2.64it/s]"
          ]
        },
        {
          "output_type": "stream",
          "name": "stdout",
          "text": [
            "1/1 [==============================] - 0s 23ms/step\n"
          ]
        },
        {
          "output_type": "stream",
          "name": "stderr",
          "text": [
            "\r 45%|████▍     | 227/506 [02:05<01:45,  2.64it/s]"
          ]
        },
        {
          "output_type": "stream",
          "name": "stdout",
          "text": [
            "1/1 [==============================] - 0s 25ms/step\n"
          ]
        },
        {
          "output_type": "stream",
          "name": "stderr",
          "text": [
            "\r 45%|████▌     | 228/506 [02:05<01:48,  2.56it/s]"
          ]
        },
        {
          "output_type": "stream",
          "name": "stdout",
          "text": [
            "1/1 [==============================] - 0s 23ms/step\n"
          ]
        },
        {
          "output_type": "stream",
          "name": "stderr",
          "text": [
            "\r 45%|████▌     | 229/506 [02:06<01:51,  2.49it/s]"
          ]
        },
        {
          "output_type": "stream",
          "name": "stdout",
          "text": [
            "1/1 [==============================] - 0s 23ms/step\n"
          ]
        },
        {
          "output_type": "stream",
          "name": "stderr",
          "text": [
            "\r 45%|████▌     | 230/506 [02:06<01:47,  2.56it/s]"
          ]
        },
        {
          "output_type": "stream",
          "name": "stdout",
          "text": [
            "1/1 [==============================] - 0s 23ms/step\n"
          ]
        },
        {
          "output_type": "stream",
          "name": "stderr",
          "text": [
            "\r 46%|████▌     | 231/506 [02:06<01:49,  2.51it/s]"
          ]
        },
        {
          "output_type": "stream",
          "name": "stdout",
          "text": [
            "1/1 [==============================] - 0s 26ms/step\n"
          ]
        },
        {
          "output_type": "stream",
          "name": "stderr",
          "text": [
            "\r 46%|████▌     | 232/506 [02:07<01:50,  2.48it/s]"
          ]
        },
        {
          "output_type": "stream",
          "name": "stdout",
          "text": [
            "1/1 [==============================] - 0s 22ms/step\n"
          ]
        },
        {
          "output_type": "stream",
          "name": "stderr",
          "text": [
            "\r 46%|████▌     | 233/506 [02:07<02:04,  2.20it/s]"
          ]
        },
        {
          "output_type": "stream",
          "name": "stdout",
          "text": [
            "1/1 [==============================] - 0s 35ms/step\n"
          ]
        },
        {
          "output_type": "stream",
          "name": "stderr",
          "text": [
            "\r 46%|████▌     | 234/506 [02:08<02:11,  2.07it/s]"
          ]
        },
        {
          "output_type": "stream",
          "name": "stdout",
          "text": [
            "1/1 [==============================] - 0s 33ms/step\n"
          ]
        },
        {
          "output_type": "stream",
          "name": "stderr",
          "text": [
            "\r 46%|████▋     | 235/506 [02:09<02:17,  1.97it/s]"
          ]
        },
        {
          "output_type": "stream",
          "name": "stdout",
          "text": [
            "1/1 [==============================] - 0s 52ms/step\n"
          ]
        },
        {
          "output_type": "stream",
          "name": "stderr",
          "text": [
            "\r 47%|████▋     | 236/506 [02:09<02:21,  1.90it/s]"
          ]
        },
        {
          "output_type": "stream",
          "name": "stdout",
          "text": [
            "1/1 [==============================] - 0s 34ms/step\n"
          ]
        },
        {
          "output_type": "stream",
          "name": "stderr",
          "text": [
            "\r 47%|████▋     | 237/506 [02:10<02:23,  1.88it/s]"
          ]
        },
        {
          "output_type": "stream",
          "name": "stdout",
          "text": [
            "1/1 [==============================] - 0s 35ms/step\n"
          ]
        },
        {
          "output_type": "stream",
          "name": "stderr",
          "text": [
            "\r 47%|████▋     | 238/506 [02:10<02:24,  1.86it/s]"
          ]
        },
        {
          "output_type": "stream",
          "name": "stdout",
          "text": [
            "1/1 [==============================] - 0s 34ms/step\n"
          ]
        },
        {
          "output_type": "stream",
          "name": "stderr",
          "text": [
            "\r 47%|████▋     | 239/506 [02:11<02:11,  2.02it/s]"
          ]
        },
        {
          "output_type": "stream",
          "name": "stdout",
          "text": [
            "1/1 [==============================] - 0s 24ms/step\n"
          ]
        },
        {
          "output_type": "stream",
          "name": "stderr",
          "text": [
            "\r 47%|████▋     | 240/506 [02:11<02:00,  2.21it/s]"
          ]
        },
        {
          "output_type": "stream",
          "name": "stdout",
          "text": [
            "1/1 [==============================] - 0s 24ms/step\n"
          ]
        },
        {
          "output_type": "stream",
          "name": "stderr",
          "text": [
            "\r 48%|████▊     | 241/506 [02:11<01:57,  2.26it/s]"
          ]
        },
        {
          "output_type": "stream",
          "name": "stdout",
          "text": [
            "1/1 [==============================] - 0s 22ms/step\n"
          ]
        },
        {
          "output_type": "stream",
          "name": "stderr",
          "text": [
            "\r 48%|████▊     | 242/506 [02:12<01:50,  2.39it/s]"
          ]
        },
        {
          "output_type": "stream",
          "name": "stdout",
          "text": [
            "1/1 [==============================] - 0s 23ms/step\n"
          ]
        },
        {
          "output_type": "stream",
          "name": "stderr",
          "text": [
            "\r 48%|████▊     | 243/506 [02:12<01:46,  2.48it/s]"
          ]
        },
        {
          "output_type": "stream",
          "name": "stdout",
          "text": [
            "1/1 [==============================] - 0s 26ms/step\n"
          ]
        },
        {
          "output_type": "stream",
          "name": "stderr",
          "text": [
            "\r 48%|████▊     | 244/506 [02:12<01:42,  2.55it/s]"
          ]
        },
        {
          "output_type": "stream",
          "name": "stdout",
          "text": [
            "1/1 [==============================] - 0s 23ms/step\n"
          ]
        },
        {
          "output_type": "stream",
          "name": "stderr",
          "text": [
            "\r 48%|████▊     | 245/506 [02:13<01:45,  2.47it/s]"
          ]
        },
        {
          "output_type": "stream",
          "name": "stdout",
          "text": [
            "1/1 [==============================] - 0s 23ms/step\n"
          ]
        },
        {
          "output_type": "stream",
          "name": "stderr",
          "text": [
            "\r 49%|████▊     | 246/506 [02:13<01:46,  2.44it/s]"
          ]
        },
        {
          "output_type": "stream",
          "name": "stdout",
          "text": [
            "1/1 [==============================] - 0s 23ms/step\n"
          ]
        },
        {
          "output_type": "stream",
          "name": "stderr",
          "text": [
            "\r 49%|████▉     | 247/506 [02:14<01:44,  2.48it/s]"
          ]
        },
        {
          "output_type": "stream",
          "name": "stdout",
          "text": [
            "1/1 [==============================] - 0s 23ms/step\n"
          ]
        },
        {
          "output_type": "stream",
          "name": "stderr",
          "text": [
            "\r 49%|████▉     | 248/506 [02:14<01:45,  2.45it/s]"
          ]
        },
        {
          "output_type": "stream",
          "name": "stdout",
          "text": [
            "1/1 [==============================] - 0s 29ms/step\n"
          ]
        },
        {
          "output_type": "stream",
          "name": "stderr",
          "text": [
            "\r 49%|████▉     | 249/506 [02:15<01:42,  2.51it/s]"
          ]
        },
        {
          "output_type": "stream",
          "name": "stdout",
          "text": [
            "1/1 [==============================] - 0s 25ms/step\n"
          ]
        },
        {
          "output_type": "stream",
          "name": "stderr",
          "text": [
            "\r 49%|████▉     | 250/506 [02:15<01:40,  2.56it/s]"
          ]
        },
        {
          "output_type": "stream",
          "name": "stdout",
          "text": [
            "1/1 [==============================] - 0s 24ms/step\n"
          ]
        },
        {
          "output_type": "stream",
          "name": "stderr",
          "text": [
            "\r 50%|████▉     | 251/506 [02:15<01:38,  2.59it/s]"
          ]
        },
        {
          "output_type": "stream",
          "name": "stdout",
          "text": [
            "1/1 [==============================] - 0s 23ms/step\n"
          ]
        },
        {
          "output_type": "stream",
          "name": "stderr",
          "text": [
            "\r 50%|████▉     | 252/506 [02:16<01:40,  2.53it/s]"
          ]
        },
        {
          "output_type": "stream",
          "name": "stdout",
          "text": [
            "1/1 [==============================] - 0s 26ms/step\n"
          ]
        },
        {
          "output_type": "stream",
          "name": "stderr",
          "text": [
            "\r 50%|█████     | 253/506 [02:16<01:38,  2.57it/s]"
          ]
        },
        {
          "output_type": "stream",
          "name": "stdout",
          "text": [
            "1/1 [==============================] - 0s 24ms/step\n"
          ]
        },
        {
          "output_type": "stream",
          "name": "stderr",
          "text": [
            "\r 50%|█████     | 254/506 [02:16<01:40,  2.51it/s]"
          ]
        },
        {
          "output_type": "stream",
          "name": "stdout",
          "text": [
            "1/1 [==============================] - 0s 24ms/step\n"
          ]
        },
        {
          "output_type": "stream",
          "name": "stderr",
          "text": [
            "\r 50%|█████     | 255/506 [02:17<01:42,  2.46it/s]"
          ]
        },
        {
          "output_type": "stream",
          "name": "stdout",
          "text": [
            "1/1 [==============================] - 0s 23ms/step\n"
          ]
        },
        {
          "output_type": "stream",
          "name": "stderr",
          "text": [
            "\r 51%|█████     | 256/506 [02:17<01:38,  2.54it/s]"
          ]
        },
        {
          "output_type": "stream",
          "name": "stdout",
          "text": [
            "1/1 [==============================] - 0s 24ms/step\n"
          ]
        },
        {
          "output_type": "stream",
          "name": "stderr",
          "text": [
            "\r 51%|█████     | 257/506 [02:18<01:40,  2.49it/s]"
          ]
        },
        {
          "output_type": "stream",
          "name": "stdout",
          "text": [
            "1/1 [==============================] - 0s 23ms/step\n"
          ]
        },
        {
          "output_type": "stream",
          "name": "stderr",
          "text": [
            "\r 51%|█████     | 258/506 [02:18<01:37,  2.55it/s]"
          ]
        },
        {
          "output_type": "stream",
          "name": "stdout",
          "text": [
            "1/1 [==============================] - 0s 23ms/step\n"
          ]
        },
        {
          "output_type": "stream",
          "name": "stderr",
          "text": [
            "\r 51%|█████     | 259/506 [02:18<01:35,  2.59it/s]"
          ]
        },
        {
          "output_type": "stream",
          "name": "stdout",
          "text": [
            "1/1 [==============================] - 0s 25ms/step\n"
          ]
        },
        {
          "output_type": "stream",
          "name": "stderr",
          "text": [
            "\r 51%|█████▏    | 260/506 [02:19<01:34,  2.61it/s]"
          ]
        },
        {
          "output_type": "stream",
          "name": "stdout",
          "text": [
            "1/1 [==============================] - 0s 22ms/step\n"
          ]
        },
        {
          "output_type": "stream",
          "name": "stderr",
          "text": [
            "\r 52%|█████▏    | 261/506 [02:19<01:33,  2.62it/s]"
          ]
        },
        {
          "output_type": "stream",
          "name": "stdout",
          "text": [
            "1/1 [==============================] - 0s 24ms/step\n"
          ]
        },
        {
          "output_type": "stream",
          "name": "stderr",
          "text": [
            "\r 52%|█████▏    | 262/506 [02:20<01:36,  2.52it/s]"
          ]
        },
        {
          "output_type": "stream",
          "name": "stdout",
          "text": [
            "1/1 [==============================] - 0s 24ms/step\n"
          ]
        },
        {
          "output_type": "stream",
          "name": "stderr",
          "text": [
            "\r 52%|█████▏    | 263/506 [02:20<01:38,  2.46it/s]"
          ]
        },
        {
          "output_type": "stream",
          "name": "stdout",
          "text": [
            "1/1 [==============================] - 0s 23ms/step\n"
          ]
        },
        {
          "output_type": "stream",
          "name": "stderr",
          "text": [
            "\r 52%|█████▏    | 264/506 [02:21<01:42,  2.35it/s]"
          ]
        },
        {
          "output_type": "stream",
          "name": "stdout",
          "text": [
            "1/1 [==============================] - 0s 34ms/step\n"
          ]
        },
        {
          "output_type": "stream",
          "name": "stderr",
          "text": [
            "\r 52%|█████▏    | 265/506 [02:21<01:55,  2.08it/s]"
          ]
        },
        {
          "output_type": "stream",
          "name": "stdout",
          "text": [
            "1/1 [==============================] - 0s 35ms/step\n"
          ]
        },
        {
          "output_type": "stream",
          "name": "stderr",
          "text": [
            "\r 53%|█████▎    | 266/506 [02:22<02:01,  1.98it/s]"
          ]
        },
        {
          "output_type": "stream",
          "name": "stdout",
          "text": [
            "1/1 [==============================] - 0s 33ms/step\n"
          ]
        },
        {
          "output_type": "stream",
          "name": "stderr",
          "text": [
            "\r 53%|█████▎    | 267/506 [02:22<02:05,  1.90it/s]"
          ]
        },
        {
          "output_type": "stream",
          "name": "stdout",
          "text": [
            "1/1 [==============================] - 0s 33ms/step\n"
          ]
        },
        {
          "output_type": "stream",
          "name": "stderr",
          "text": [
            "\r 53%|█████▎    | 268/506 [02:23<02:08,  1.85it/s]"
          ]
        },
        {
          "output_type": "stream",
          "name": "stdout",
          "text": [
            "1/1 [==============================] - 0s 35ms/step\n"
          ]
        },
        {
          "output_type": "stream",
          "name": "stderr",
          "text": [
            "\r 53%|█████▎    | 269/506 [02:23<02:09,  1.83it/s]"
          ]
        },
        {
          "output_type": "stream",
          "name": "stdout",
          "text": [
            "1/1 [==============================] - 0s 45ms/step\n"
          ]
        },
        {
          "output_type": "stream",
          "name": "stderr",
          "text": [
            "\r 53%|█████▎    | 270/506 [02:24<02:08,  1.83it/s]"
          ]
        },
        {
          "output_type": "stream",
          "name": "stdout",
          "text": [
            "1/1 [==============================] - 0s 24ms/step\n"
          ]
        },
        {
          "output_type": "stream",
          "name": "stderr",
          "text": [
            "\r 54%|█████▎    | 271/506 [02:24<02:00,  1.95it/s]"
          ]
        },
        {
          "output_type": "stream",
          "name": "stdout",
          "text": [
            "1/1 [==============================] - 0s 24ms/step\n"
          ]
        },
        {
          "output_type": "stream",
          "name": "stderr",
          "text": [
            "\r 54%|█████▍    | 272/506 [02:25<01:49,  2.13it/s]"
          ]
        },
        {
          "output_type": "stream",
          "name": "stdout",
          "text": [
            "1/1 [==============================] - 0s 23ms/step\n"
          ]
        },
        {
          "output_type": "stream",
          "name": "stderr",
          "text": [
            "\r 54%|█████▍    | 273/506 [02:25<01:47,  2.18it/s]"
          ]
        },
        {
          "output_type": "stream",
          "name": "stdout",
          "text": [
            "1/1 [==============================] - 0s 25ms/step\n"
          ]
        },
        {
          "output_type": "stream",
          "name": "stderr",
          "text": [
            "\r 54%|█████▍    | 274/506 [02:26<01:45,  2.21it/s]"
          ]
        },
        {
          "output_type": "stream",
          "name": "stdout",
          "text": [
            "1/1 [==============================] - 0s 23ms/step\n"
          ]
        },
        {
          "output_type": "stream",
          "name": "stderr",
          "text": [
            "\r 54%|█████▍    | 275/506 [02:26<01:42,  2.26it/s]"
          ]
        },
        {
          "output_type": "stream",
          "name": "stdout",
          "text": [
            "1/1 [==============================] - 0s 27ms/step\n"
          ]
        },
        {
          "output_type": "stream",
          "name": "stderr",
          "text": [
            "\r 55%|█████▍    | 276/506 [02:26<01:37,  2.37it/s]"
          ]
        },
        {
          "output_type": "stream",
          "name": "stdout",
          "text": [
            "1/1 [==============================] - 0s 23ms/step\n"
          ]
        },
        {
          "output_type": "stream",
          "name": "stderr",
          "text": [
            "\r 55%|█████▍    | 277/506 [02:27<01:36,  2.37it/s]"
          ]
        },
        {
          "output_type": "stream",
          "name": "stdout",
          "text": [
            "1/1 [==============================] - 0s 25ms/step\n"
          ]
        },
        {
          "output_type": "stream",
          "name": "stderr",
          "text": [
            "\r 55%|█████▍    | 278/506 [02:27<01:34,  2.41it/s]"
          ]
        },
        {
          "output_type": "stream",
          "name": "stdout",
          "text": [
            "1/1 [==============================] - 0s 26ms/step\n"
          ]
        },
        {
          "output_type": "stream",
          "name": "stderr",
          "text": [
            "\r 55%|█████▌    | 279/506 [02:28<01:35,  2.38it/s]"
          ]
        },
        {
          "output_type": "stream",
          "name": "stdout",
          "text": [
            "1/1 [==============================] - 0s 25ms/step\n"
          ]
        },
        {
          "output_type": "stream",
          "name": "stderr",
          "text": [
            "\r 55%|█████▌    | 280/506 [02:28<01:30,  2.49it/s]"
          ]
        },
        {
          "output_type": "stream",
          "name": "stdout",
          "text": [
            "1/1 [==============================] - 0s 23ms/step\n"
          ]
        },
        {
          "output_type": "stream",
          "name": "stderr",
          "text": [
            "\r 56%|█████▌    | 281/506 [02:28<01:28,  2.56it/s]"
          ]
        },
        {
          "output_type": "stream",
          "name": "stdout",
          "text": [
            "1/1 [==============================] - 0s 26ms/step\n"
          ]
        },
        {
          "output_type": "stream",
          "name": "stderr",
          "text": [
            "\r 56%|█████▌    | 282/506 [02:29<01:25,  2.61it/s]"
          ]
        },
        {
          "output_type": "stream",
          "name": "stdout",
          "text": [
            "1/1 [==============================] - 0s 23ms/step\n"
          ]
        },
        {
          "output_type": "stream",
          "name": "stderr",
          "text": [
            "\r 56%|█████▌    | 283/506 [02:29<01:28,  2.52it/s]"
          ]
        },
        {
          "output_type": "stream",
          "name": "stdout",
          "text": [
            "1/1 [==============================] - 0s 23ms/step\n"
          ]
        },
        {
          "output_type": "stream",
          "name": "stderr",
          "text": [
            "\r 56%|█████▌    | 284/506 [02:30<01:29,  2.47it/s]"
          ]
        },
        {
          "output_type": "stream",
          "name": "stdout",
          "text": [
            "1/1 [==============================] - 0s 23ms/step\n"
          ]
        },
        {
          "output_type": "stream",
          "name": "stderr",
          "text": [
            "\r 56%|█████▋    | 285/506 [02:30<01:30,  2.45it/s]"
          ]
        },
        {
          "output_type": "stream",
          "name": "stdout",
          "text": [
            "1/1 [==============================] - 0s 24ms/step\n"
          ]
        },
        {
          "output_type": "stream",
          "name": "stderr",
          "text": [
            "\r 57%|█████▋    | 286/506 [02:30<01:30,  2.42it/s]"
          ]
        },
        {
          "output_type": "stream",
          "name": "stdout",
          "text": [
            "1/1 [==============================] - 0s 22ms/step\n"
          ]
        },
        {
          "output_type": "stream",
          "name": "stderr",
          "text": [
            "\r 57%|█████▋    | 287/506 [02:31<01:30,  2.41it/s]"
          ]
        },
        {
          "output_type": "stream",
          "name": "stdout",
          "text": [
            "1/1 [==============================] - 0s 25ms/step\n"
          ]
        },
        {
          "output_type": "stream",
          "name": "stderr",
          "text": [
            "\r 57%|█████▋    | 288/506 [02:31<01:27,  2.48it/s]"
          ]
        },
        {
          "output_type": "stream",
          "name": "stdout",
          "text": [
            "1/1 [==============================] - 0s 31ms/step\n"
          ]
        },
        {
          "output_type": "stream",
          "name": "stderr",
          "text": [
            "\r 57%|█████▋    | 289/506 [02:32<01:24,  2.57it/s]"
          ]
        },
        {
          "output_type": "stream",
          "name": "stdout",
          "text": [
            "1/1 [==============================] - 0s 23ms/step\n"
          ]
        },
        {
          "output_type": "stream",
          "name": "stderr",
          "text": [
            "\r 57%|█████▋    | 290/506 [02:32<01:25,  2.52it/s]"
          ]
        },
        {
          "output_type": "stream",
          "name": "stdout",
          "text": [
            "1/1 [==============================] - 0s 23ms/step\n"
          ]
        },
        {
          "output_type": "stream",
          "name": "stderr",
          "text": [
            "\r 58%|█████▊    | 291/506 [02:32<01:27,  2.47it/s]"
          ]
        },
        {
          "output_type": "stream",
          "name": "stdout",
          "text": [
            "1/1 [==============================] - 0s 24ms/step\n"
          ]
        },
        {
          "output_type": "stream",
          "name": "stderr",
          "text": [
            "\r 58%|█████▊    | 292/506 [02:33<01:23,  2.56it/s]"
          ]
        },
        {
          "output_type": "stream",
          "name": "stdout",
          "text": [
            "1/1 [==============================] - 0s 22ms/step\n"
          ]
        },
        {
          "output_type": "stream",
          "name": "stderr",
          "text": [
            "\r 58%|█████▊    | 293/506 [02:33<01:21,  2.62it/s]"
          ]
        },
        {
          "output_type": "stream",
          "name": "stdout",
          "text": [
            "1/1 [==============================] - 0s 32ms/step\n"
          ]
        },
        {
          "output_type": "stream",
          "name": "stderr",
          "text": [
            "\r 58%|█████▊    | 294/506 [02:34<01:20,  2.64it/s]"
          ]
        },
        {
          "output_type": "stream",
          "name": "stdout",
          "text": [
            "1/1 [==============================] - 0s 22ms/step\n"
          ]
        },
        {
          "output_type": "stream",
          "name": "stderr",
          "text": [
            "\r 58%|█████▊    | 295/506 [02:34<01:20,  2.61it/s]"
          ]
        },
        {
          "output_type": "stream",
          "name": "stdout",
          "text": [
            "1/1 [==============================] - 0s 35ms/step\n"
          ]
        },
        {
          "output_type": "stream",
          "name": "stderr",
          "text": [
            "\r 58%|█████▊    | 296/506 [02:35<01:34,  2.23it/s]"
          ]
        },
        {
          "output_type": "stream",
          "name": "stdout",
          "text": [
            "1/1 [==============================] - 0s 33ms/step\n"
          ]
        },
        {
          "output_type": "stream",
          "name": "stderr",
          "text": [
            "\r 59%|█████▊    | 297/506 [02:35<01:39,  2.10it/s]"
          ]
        },
        {
          "output_type": "stream",
          "name": "stdout",
          "text": [
            "1/1 [==============================] - 0s 32ms/step\n"
          ]
        },
        {
          "output_type": "stream",
          "name": "stderr",
          "text": [
            "\r 59%|█████▉    | 298/506 [02:36<01:43,  2.01it/s]"
          ]
        },
        {
          "output_type": "stream",
          "name": "stdout",
          "text": [
            "1/1 [==============================] - 0s 32ms/step\n"
          ]
        },
        {
          "output_type": "stream",
          "name": "stderr",
          "text": [
            "\r 59%|█████▉    | 299/506 [02:36<01:44,  1.97it/s]"
          ]
        },
        {
          "output_type": "stream",
          "name": "stdout",
          "text": [
            "1/1 [==============================] - 0s 36ms/step\n"
          ]
        },
        {
          "output_type": "stream",
          "name": "stderr",
          "text": [
            "\r 59%|█████▉    | 300/506 [02:37<01:50,  1.86it/s]"
          ]
        },
        {
          "output_type": "stream",
          "name": "stdout",
          "text": [
            "1/1 [==============================] - 0s 38ms/step\n"
          ]
        },
        {
          "output_type": "stream",
          "name": "stderr",
          "text": [
            "\r 59%|█████▉    | 301/506 [02:37<01:54,  1.79it/s]"
          ]
        },
        {
          "output_type": "stream",
          "name": "stdout",
          "text": [
            "1/1 [==============================] - 0s 22ms/step\n"
          ]
        },
        {
          "output_type": "stream",
          "name": "stderr",
          "text": [
            "\r 60%|█████▉    | 302/506 [02:38<01:42,  1.99it/s]"
          ]
        },
        {
          "output_type": "stream",
          "name": "stdout",
          "text": [
            "1/1 [==============================] - 0s 22ms/step\n"
          ]
        },
        {
          "output_type": "stream",
          "name": "stderr",
          "text": [
            "\r 60%|█████▉    | 303/506 [02:38<01:37,  2.08it/s]"
          ]
        },
        {
          "output_type": "stream",
          "name": "stdout",
          "text": [
            "1/1 [==============================] - 0s 23ms/step\n"
          ]
        },
        {
          "output_type": "stream",
          "name": "stderr",
          "text": [
            "\r 60%|██████    | 304/506 [02:39<01:33,  2.16it/s]"
          ]
        },
        {
          "output_type": "stream",
          "name": "stdout",
          "text": [
            "1/1 [==============================] - 0s 24ms/step\n"
          ]
        },
        {
          "output_type": "stream",
          "name": "stderr",
          "text": [
            "\r 60%|██████    | 305/506 [02:39<01:30,  2.22it/s]"
          ]
        },
        {
          "output_type": "stream",
          "name": "stdout",
          "text": [
            "1/1 [==============================] - 0s 23ms/step\n"
          ]
        },
        {
          "output_type": "stream",
          "name": "stderr",
          "text": [
            "\r 60%|██████    | 306/506 [02:39<01:29,  2.25it/s]"
          ]
        },
        {
          "output_type": "stream",
          "name": "stdout",
          "text": [
            "1/1 [==============================] - 0s 23ms/step\n"
          ]
        },
        {
          "output_type": "stream",
          "name": "stderr",
          "text": [
            "\r 61%|██████    | 307/506 [02:40<01:23,  2.38it/s]"
          ]
        },
        {
          "output_type": "stream",
          "name": "stdout",
          "text": [
            "1/1 [==============================] - 0s 23ms/step\n"
          ]
        },
        {
          "output_type": "stream",
          "name": "stderr",
          "text": [
            "\r 61%|██████    | 308/506 [02:40<01:20,  2.45it/s]"
          ]
        },
        {
          "output_type": "stream",
          "name": "stdout",
          "text": [
            "1/1 [==============================] - 0s 23ms/step\n"
          ]
        },
        {
          "output_type": "stream",
          "name": "stderr",
          "text": [
            "\r 61%|██████    | 309/506 [02:41<01:19,  2.48it/s]"
          ]
        },
        {
          "output_type": "stream",
          "name": "stdout",
          "text": [
            "1/1 [==============================] - 0s 23ms/step\n"
          ]
        },
        {
          "output_type": "stream",
          "name": "stderr",
          "text": [
            "\r 61%|██████▏   | 310/506 [02:41<01:19,  2.46it/s]"
          ]
        },
        {
          "output_type": "stream",
          "name": "stdout",
          "text": [
            "1/1 [==============================] - 0s 23ms/step\n"
          ]
        },
        {
          "output_type": "stream",
          "name": "stderr",
          "text": [
            "\r 61%|██████▏   | 311/506 [02:41<01:19,  2.44it/s]"
          ]
        },
        {
          "output_type": "stream",
          "name": "stdout",
          "text": [
            "1/1 [==============================] - 0s 22ms/step\n"
          ]
        },
        {
          "output_type": "stream",
          "name": "stderr",
          "text": [
            "\r 62%|██████▏   | 312/506 [02:42<01:17,  2.51it/s]"
          ]
        },
        {
          "output_type": "stream",
          "name": "stdout",
          "text": [
            "1/1 [==============================] - 0s 23ms/step\n"
          ]
        },
        {
          "output_type": "stream",
          "name": "stderr",
          "text": [
            "\r 62%|██████▏   | 313/506 [02:42<01:18,  2.47it/s]"
          ]
        },
        {
          "output_type": "stream",
          "name": "stdout",
          "text": [
            "1/1 [==============================] - 0s 25ms/step\n"
          ]
        },
        {
          "output_type": "stream",
          "name": "stderr",
          "text": [
            "\r 62%|██████▏   | 314/506 [02:43<01:19,  2.41it/s]"
          ]
        },
        {
          "output_type": "stream",
          "name": "stdout",
          "text": [
            "1/1 [==============================] - 0s 24ms/step\n"
          ]
        },
        {
          "output_type": "stream",
          "name": "stderr",
          "text": [
            "\r 62%|██████▏   | 315/506 [02:43<01:19,  2.41it/s]"
          ]
        },
        {
          "output_type": "stream",
          "name": "stdout",
          "text": [
            "1/1 [==============================] - 0s 23ms/step\n"
          ]
        },
        {
          "output_type": "stream",
          "name": "stderr",
          "text": [
            "\r 62%|██████▏   | 316/506 [02:43<01:15,  2.50it/s]"
          ]
        },
        {
          "output_type": "stream",
          "name": "stdout",
          "text": [
            "1/1 [==============================] - 0s 25ms/step\n"
          ]
        },
        {
          "output_type": "stream",
          "name": "stderr",
          "text": [
            "\r 63%|██████▎   | 317/506 [02:44<01:17,  2.45it/s]"
          ]
        },
        {
          "output_type": "stream",
          "name": "stdout",
          "text": [
            "1/1 [==============================] - 0s 22ms/step\n"
          ]
        },
        {
          "output_type": "stream",
          "name": "stderr",
          "text": [
            "\r 63%|██████▎   | 318/506 [02:44<01:15,  2.49it/s]"
          ]
        },
        {
          "output_type": "stream",
          "name": "stdout",
          "text": [
            "1/1 [==============================] - 0s 23ms/step\n"
          ]
        },
        {
          "output_type": "stream",
          "name": "stderr",
          "text": [
            "\r 63%|██████▎   | 319/506 [02:45<01:14,  2.51it/s]"
          ]
        },
        {
          "output_type": "stream",
          "name": "stdout",
          "text": [
            "1/1 [==============================] - 0s 24ms/step\n"
          ]
        },
        {
          "output_type": "stream",
          "name": "stderr",
          "text": [
            "\r 63%|██████▎   | 320/506 [02:45<01:13,  2.53it/s]"
          ]
        },
        {
          "output_type": "stream",
          "name": "stdout",
          "text": [
            "1/1 [==============================] - 0s 22ms/step\n"
          ]
        },
        {
          "output_type": "stream",
          "name": "stderr",
          "text": [
            "\r 63%|██████▎   | 321/506 [02:45<01:13,  2.52it/s]"
          ]
        },
        {
          "output_type": "stream",
          "name": "stdout",
          "text": [
            "1/1 [==============================] - 0s 24ms/step\n"
          ]
        },
        {
          "output_type": "stream",
          "name": "stderr",
          "text": [
            "\r 64%|██████▎   | 322/506 [02:46<01:14,  2.46it/s]"
          ]
        },
        {
          "output_type": "stream",
          "name": "stdout",
          "text": [
            "1/1 [==============================] - 0s 24ms/step\n"
          ]
        },
        {
          "output_type": "stream",
          "name": "stderr",
          "text": [
            "\r 64%|██████▍   | 323/506 [02:46<01:14,  2.47it/s]"
          ]
        },
        {
          "output_type": "stream",
          "name": "stdout",
          "text": [
            "1/1 [==============================] - 0s 23ms/step\n"
          ]
        },
        {
          "output_type": "stream",
          "name": "stderr",
          "text": [
            "\r 64%|██████▍   | 324/506 [02:47<01:13,  2.46it/s]"
          ]
        },
        {
          "output_type": "stream",
          "name": "stdout",
          "text": [
            "1/1 [==============================] - 0s 22ms/step\n"
          ]
        },
        {
          "output_type": "stream",
          "name": "stderr",
          "text": [
            "\r 64%|██████▍   | 325/506 [02:47<01:14,  2.44it/s]"
          ]
        },
        {
          "output_type": "stream",
          "name": "stdout",
          "text": [
            "1/1 [==============================] - 0s 39ms/step\n"
          ]
        },
        {
          "output_type": "stream",
          "name": "stderr",
          "text": [
            "\r 64%|██████▍   | 326/506 [02:48<01:18,  2.29it/s]"
          ]
        },
        {
          "output_type": "stream",
          "name": "stdout",
          "text": [
            "1/1 [==============================] - 0s 35ms/step\n"
          ]
        },
        {
          "output_type": "stream",
          "name": "stderr",
          "text": [
            "\r 65%|██████▍   | 327/506 [02:48<01:27,  2.05it/s]"
          ]
        },
        {
          "output_type": "stream",
          "name": "stdout",
          "text": [
            "1/1 [==============================] - 0s 37ms/step\n"
          ]
        },
        {
          "output_type": "stream",
          "name": "stderr",
          "text": [
            "\r 65%|██████▍   | 328/506 [02:49<01:35,  1.87it/s]"
          ]
        },
        {
          "output_type": "stream",
          "name": "stdout",
          "text": [
            "1/1 [==============================] - 0s 34ms/step\n"
          ]
        },
        {
          "output_type": "stream",
          "name": "stderr",
          "text": [
            "\r 65%|██████▌   | 329/506 [02:49<01:34,  1.87it/s]"
          ]
        },
        {
          "output_type": "stream",
          "name": "stdout",
          "text": [
            "1/1 [==============================] - 0s 34ms/step\n"
          ]
        },
        {
          "output_type": "stream",
          "name": "stderr",
          "text": [
            "\r 65%|██████▌   | 330/506 [02:50<01:34,  1.86it/s]"
          ]
        },
        {
          "output_type": "stream",
          "name": "stdout",
          "text": [
            "1/1 [==============================] - 0s 34ms/step\n"
          ]
        },
        {
          "output_type": "stream",
          "name": "stderr",
          "text": [
            "\r 65%|██████▌   | 331/506 [02:51<01:37,  1.79it/s]"
          ]
        },
        {
          "output_type": "stream",
          "name": "stdout",
          "text": [
            "1/1 [==============================] - 0s 33ms/step\n"
          ]
        },
        {
          "output_type": "stream",
          "name": "stderr",
          "text": [
            "\r 66%|██████▌   | 332/506 [02:51<01:31,  1.89it/s]"
          ]
        },
        {
          "output_type": "stream",
          "name": "stdout",
          "text": [
            "1/1 [==============================] - 0s 23ms/step\n"
          ]
        },
        {
          "output_type": "stream",
          "name": "stderr",
          "text": [
            "\r 66%|██████▌   | 333/506 [02:51<01:22,  2.09it/s]"
          ]
        },
        {
          "output_type": "stream",
          "name": "stdout",
          "text": [
            "1/1 [==============================] - 0s 23ms/step\n"
          ]
        },
        {
          "output_type": "stream",
          "name": "stderr",
          "text": [
            "\r 66%|██████▌   | 334/506 [02:52<01:19,  2.16it/s]"
          ]
        },
        {
          "output_type": "stream",
          "name": "stdout",
          "text": [
            "1/1 [==============================] - 0s 24ms/step\n"
          ]
        },
        {
          "output_type": "stream",
          "name": "stderr",
          "text": [
            "\r 66%|██████▌   | 335/506 [02:52<01:13,  2.31it/s]"
          ]
        },
        {
          "output_type": "stream",
          "name": "stdout",
          "text": [
            "1/1 [==============================] - 0s 22ms/step\n"
          ]
        },
        {
          "output_type": "stream",
          "name": "stderr",
          "text": [
            "\r 66%|██████▋   | 336/506 [02:52<01:10,  2.43it/s]"
          ]
        },
        {
          "output_type": "stream",
          "name": "stdout",
          "text": [
            "1/1 [==============================] - 0s 24ms/step\n"
          ]
        },
        {
          "output_type": "stream",
          "name": "stderr",
          "text": [
            "\r 67%|██████▋   | 337/506 [02:53<01:07,  2.51it/s]"
          ]
        },
        {
          "output_type": "stream",
          "name": "stdout",
          "text": [
            "1/1 [==============================] - 0s 24ms/step\n"
          ]
        },
        {
          "output_type": "stream",
          "name": "stderr",
          "text": [
            "\r 67%|██████▋   | 338/506 [02:53<01:05,  2.58it/s]"
          ]
        },
        {
          "output_type": "stream",
          "name": "stdout",
          "text": [
            "1/1 [==============================] - 0s 23ms/step\n"
          ]
        },
        {
          "output_type": "stream",
          "name": "stderr",
          "text": [
            "\r 67%|██████▋   | 339/506 [02:54<01:06,  2.52it/s]"
          ]
        },
        {
          "output_type": "stream",
          "name": "stdout",
          "text": [
            "1/1 [==============================] - 0s 24ms/step\n"
          ]
        },
        {
          "output_type": "stream",
          "name": "stderr",
          "text": [
            "\r 67%|██████▋   | 340/506 [02:54<01:07,  2.47it/s]"
          ]
        },
        {
          "output_type": "stream",
          "name": "stdout",
          "text": [
            "1/1 [==============================] - 0s 26ms/step\n"
          ]
        },
        {
          "output_type": "stream",
          "name": "stderr",
          "text": [
            "\r 67%|██████▋   | 341/506 [02:54<01:05,  2.52it/s]"
          ]
        },
        {
          "output_type": "stream",
          "name": "stdout",
          "text": [
            "1/1 [==============================] - 0s 24ms/step\n"
          ]
        },
        {
          "output_type": "stream",
          "name": "stderr",
          "text": [
            "\r 68%|██████▊   | 342/506 [02:55<01:06,  2.45it/s]"
          ]
        },
        {
          "output_type": "stream",
          "name": "stdout",
          "text": [
            "1/1 [==============================] - 0s 23ms/step\n"
          ]
        },
        {
          "output_type": "stream",
          "name": "stderr",
          "text": [
            "\r 68%|██████▊   | 343/506 [02:55<01:04,  2.54it/s]"
          ]
        },
        {
          "output_type": "stream",
          "name": "stdout",
          "text": [
            "1/1 [==============================] - 0s 22ms/step\n"
          ]
        },
        {
          "output_type": "stream",
          "name": "stderr",
          "text": [
            "\r 68%|██████▊   | 344/506 [02:56<01:05,  2.49it/s]"
          ]
        },
        {
          "output_type": "stream",
          "name": "stdout",
          "text": [
            "1/1 [==============================] - 0s 24ms/step\n"
          ]
        },
        {
          "output_type": "stream",
          "name": "stderr",
          "text": [
            "\r 68%|██████▊   | 345/506 [02:56<01:02,  2.57it/s]"
          ]
        },
        {
          "output_type": "stream",
          "name": "stdout",
          "text": [
            "1/1 [==============================] - 0s 22ms/step\n"
          ]
        },
        {
          "output_type": "stream",
          "name": "stderr",
          "text": [
            "\r 68%|██████▊   | 346/506 [02:56<01:03,  2.51it/s]"
          ]
        },
        {
          "output_type": "stream",
          "name": "stdout",
          "text": [
            "1/1 [==============================] - 0s 22ms/step\n"
          ]
        },
        {
          "output_type": "stream",
          "name": "stderr",
          "text": [
            "\r 69%|██████▊   | 347/506 [02:57<01:04,  2.46it/s]"
          ]
        },
        {
          "output_type": "stream",
          "name": "stdout",
          "text": [
            "1/1 [==============================] - 0s 26ms/step\n"
          ]
        },
        {
          "output_type": "stream",
          "name": "stderr",
          "text": [
            "\r 69%|██████▉   | 348/506 [02:57<01:02,  2.55it/s]"
          ]
        },
        {
          "output_type": "stream",
          "name": "stdout",
          "text": [
            "1/1 [==============================] - 0s 23ms/step\n"
          ]
        },
        {
          "output_type": "stream",
          "name": "stderr",
          "text": [
            "\r 69%|██████▉   | 349/506 [02:58<01:01,  2.57it/s]"
          ]
        },
        {
          "output_type": "stream",
          "name": "stdout",
          "text": [
            "1/1 [==============================] - 0s 25ms/step\n"
          ]
        },
        {
          "output_type": "stream",
          "name": "stderr",
          "text": [
            "\r 69%|██████▉   | 350/506 [02:58<01:00,  2.58it/s]"
          ]
        },
        {
          "output_type": "stream",
          "name": "stdout",
          "text": [
            "1/1 [==============================] - 0s 23ms/step\n"
          ]
        },
        {
          "output_type": "stream",
          "name": "stderr",
          "text": [
            "\r 69%|██████▉   | 351/506 [02:58<00:59,  2.61it/s]"
          ]
        },
        {
          "output_type": "stream",
          "name": "stdout",
          "text": [
            "1/1 [==============================] - 0s 33ms/step\n"
          ]
        },
        {
          "output_type": "stream",
          "name": "stderr",
          "text": [
            "\r 70%|██████▉   | 352/506 [02:59<00:58,  2.63it/s]"
          ]
        },
        {
          "output_type": "stream",
          "name": "stdout",
          "text": [
            "1/1 [==============================] - 0s 23ms/step\n"
          ]
        },
        {
          "output_type": "stream",
          "name": "stderr",
          "text": [
            "\r 70%|██████▉   | 353/506 [02:59<01:00,  2.55it/s]"
          ]
        },
        {
          "output_type": "stream",
          "name": "stdout",
          "text": [
            "1/1 [==============================] - 0s 22ms/step\n"
          ]
        },
        {
          "output_type": "stream",
          "name": "stderr",
          "text": [
            "\r 70%|██████▉   | 354/506 [02:59<00:58,  2.62it/s]"
          ]
        },
        {
          "output_type": "stream",
          "name": "stdout",
          "text": [
            "1/1 [==============================] - 0s 23ms/step\n"
          ]
        },
        {
          "output_type": "stream",
          "name": "stderr",
          "text": [
            "\r 70%|███████   | 355/506 [03:00<00:59,  2.53it/s]"
          ]
        },
        {
          "output_type": "stream",
          "name": "stdout",
          "text": [
            "1/1 [==============================] - 0s 23ms/step\n"
          ]
        },
        {
          "output_type": "stream",
          "name": "stderr",
          "text": [
            "\r 70%|███████   | 356/506 [03:00<01:00,  2.49it/s]"
          ]
        },
        {
          "output_type": "stream",
          "name": "stdout",
          "text": [
            "1/1 [==============================] - 0s 23ms/step\n"
          ]
        },
        {
          "output_type": "stream",
          "name": "stderr",
          "text": [
            "\r 71%|███████   | 357/506 [03:01<01:00,  2.45it/s]"
          ]
        },
        {
          "output_type": "stream",
          "name": "stdout",
          "text": [
            "1/1 [==============================] - 0s 45ms/step\n"
          ]
        },
        {
          "output_type": "stream",
          "name": "stderr",
          "text": [
            "\r 71%|███████   | 358/506 [03:01<01:07,  2.19it/s]"
          ]
        },
        {
          "output_type": "stream",
          "name": "stdout",
          "text": [
            "1/1 [==============================] - 0s 33ms/step\n"
          ]
        },
        {
          "output_type": "stream",
          "name": "stderr",
          "text": [
            "\r 71%|███████   | 359/506 [03:02<01:14,  1.98it/s]"
          ]
        },
        {
          "output_type": "stream",
          "name": "stdout",
          "text": [
            "1/1 [==============================] - 0s 36ms/step\n"
          ]
        },
        {
          "output_type": "stream",
          "name": "stderr",
          "text": [
            "\r 71%|███████   | 360/506 [03:03<01:15,  1.93it/s]"
          ]
        },
        {
          "output_type": "stream",
          "name": "stdout",
          "text": [
            "1/1 [==============================] - 0s 33ms/step\n"
          ]
        },
        {
          "output_type": "stream",
          "name": "stderr",
          "text": [
            "\r 71%|███████▏  | 361/506 [03:03<01:15,  1.91it/s]"
          ]
        },
        {
          "output_type": "stream",
          "name": "stdout",
          "text": [
            "1/1 [==============================] - 0s 34ms/step\n"
          ]
        },
        {
          "output_type": "stream",
          "name": "stderr",
          "text": [
            "\r 72%|███████▏  | 362/506 [03:04<01:19,  1.82it/s]"
          ]
        },
        {
          "output_type": "stream",
          "name": "stdout",
          "text": [
            "1/1 [==============================] - 0s 36ms/step\n"
          ]
        },
        {
          "output_type": "stream",
          "name": "stderr",
          "text": [
            "\r 72%|███████▏  | 363/506 [03:04<01:17,  1.84it/s]"
          ]
        },
        {
          "output_type": "stream",
          "name": "stdout",
          "text": [
            "1/1 [==============================] - 0s 25ms/step\n"
          ]
        },
        {
          "output_type": "stream",
          "name": "stderr",
          "text": [
            "\r 72%|███████▏  | 364/506 [03:05<01:09,  2.03it/s]"
          ]
        },
        {
          "output_type": "stream",
          "name": "stdout",
          "text": [
            "1/1 [==============================] - 0s 24ms/step\n"
          ]
        },
        {
          "output_type": "stream",
          "name": "stderr",
          "text": [
            "\r 72%|███████▏  | 365/506 [03:05<01:06,  2.13it/s]"
          ]
        },
        {
          "output_type": "stream",
          "name": "stdout",
          "text": [
            "1/1 [==============================] - 0s 28ms/step\n"
          ]
        },
        {
          "output_type": "stream",
          "name": "stderr",
          "text": [
            "\r 72%|███████▏  | 366/506 [03:05<01:04,  2.18it/s]"
          ]
        },
        {
          "output_type": "stream",
          "name": "stdout",
          "text": [
            "1/1 [==============================] - 0s 23ms/step\n"
          ]
        },
        {
          "output_type": "stream",
          "name": "stderr",
          "text": [
            "\r 73%|███████▎  | 367/506 [03:06<01:02,  2.23it/s]"
          ]
        },
        {
          "output_type": "stream",
          "name": "stdout",
          "text": [
            "1/1 [==============================] - 0s 23ms/step\n"
          ]
        },
        {
          "output_type": "stream",
          "name": "stderr",
          "text": [
            "\r 73%|███████▎  | 368/506 [03:06<00:58,  2.34it/s]"
          ]
        },
        {
          "output_type": "stream",
          "name": "stdout",
          "text": [
            "1/1 [==============================] - 0s 24ms/step\n"
          ]
        },
        {
          "output_type": "stream",
          "name": "stderr",
          "text": [
            "\r 73%|███████▎  | 369/506 [03:07<00:55,  2.46it/s]"
          ]
        },
        {
          "output_type": "stream",
          "name": "stdout",
          "text": [
            "1/1 [==============================] - 0s 22ms/step\n"
          ]
        },
        {
          "output_type": "stream",
          "name": "stderr",
          "text": [
            "\r 73%|███████▎  | 370/506 [03:07<00:55,  2.44it/s]"
          ]
        },
        {
          "output_type": "stream",
          "name": "stdout",
          "text": [
            "1/1 [==============================] - 0s 23ms/step\n"
          ]
        },
        {
          "output_type": "stream",
          "name": "stderr",
          "text": [
            "\r 73%|███████▎  | 371/506 [03:07<00:55,  2.43it/s]"
          ]
        },
        {
          "output_type": "stream",
          "name": "stdout",
          "text": [
            "1/1 [==============================] - 0s 22ms/step\n"
          ]
        },
        {
          "output_type": "stream",
          "name": "stderr",
          "text": [
            "\r 74%|███████▎  | 372/506 [03:08<00:55,  2.43it/s]"
          ]
        },
        {
          "output_type": "stream",
          "name": "stdout",
          "text": [
            "1/1 [==============================] - 0s 25ms/step\n"
          ]
        },
        {
          "output_type": "stream",
          "name": "stderr",
          "text": [
            "\r 74%|███████▎  | 373/506 [03:08<00:53,  2.50it/s]"
          ]
        },
        {
          "output_type": "stream",
          "name": "stdout",
          "text": [
            "1/1 [==============================] - 0s 23ms/step\n"
          ]
        },
        {
          "output_type": "stream",
          "name": "stderr",
          "text": [
            "\r 74%|███████▍  | 374/506 [03:09<00:51,  2.58it/s]"
          ]
        },
        {
          "output_type": "stream",
          "name": "stdout",
          "text": [
            "1/1 [==============================] - 0s 23ms/step\n"
          ]
        },
        {
          "output_type": "stream",
          "name": "stderr",
          "text": [
            "\r 74%|███████▍  | 375/506 [03:09<00:52,  2.51it/s]"
          ]
        },
        {
          "output_type": "stream",
          "name": "stdout",
          "text": [
            "1/1 [==============================] - 0s 23ms/step\n"
          ]
        },
        {
          "output_type": "stream",
          "name": "stderr",
          "text": [
            "\r 74%|███████▍  | 376/506 [03:09<00:52,  2.47it/s]"
          ]
        },
        {
          "output_type": "stream",
          "name": "stdout",
          "text": [
            "1/1 [==============================] - 0s 25ms/step\n"
          ]
        },
        {
          "output_type": "stream",
          "name": "stderr",
          "text": [
            "\r 75%|███████▍  | 377/506 [03:10<00:52,  2.45it/s]"
          ]
        },
        {
          "output_type": "stream",
          "name": "stdout",
          "text": [
            "1/1 [==============================] - 0s 23ms/step\n"
          ]
        },
        {
          "output_type": "stream",
          "name": "stderr",
          "text": [
            "\r 75%|███████▍  | 378/506 [03:10<00:51,  2.49it/s]"
          ]
        },
        {
          "output_type": "stream",
          "name": "stdout",
          "text": [
            "1/1 [==============================] - 0s 22ms/step\n"
          ]
        },
        {
          "output_type": "stream",
          "name": "stderr",
          "text": [
            "\r 75%|███████▍  | 379/506 [03:11<00:52,  2.41it/s]"
          ]
        },
        {
          "output_type": "stream",
          "name": "stdout",
          "text": [
            "1/1 [==============================] - 0s 23ms/step\n"
          ]
        },
        {
          "output_type": "stream",
          "name": "stderr",
          "text": [
            "\r 75%|███████▌  | 380/506 [03:11<00:50,  2.51it/s]"
          ]
        },
        {
          "output_type": "stream",
          "name": "stdout",
          "text": [
            "1/1 [==============================] - 0s 24ms/step\n"
          ]
        },
        {
          "output_type": "stream",
          "name": "stderr",
          "text": [
            "\r 75%|███████▌  | 381/506 [03:11<00:48,  2.57it/s]"
          ]
        },
        {
          "output_type": "stream",
          "name": "stdout",
          "text": [
            "1/1 [==============================] - 0s 28ms/step\n"
          ]
        },
        {
          "output_type": "stream",
          "name": "stderr",
          "text": [
            "\r 75%|███████▌  | 382/506 [03:12<00:50,  2.47it/s]"
          ]
        },
        {
          "output_type": "stream",
          "name": "stdout",
          "text": [
            "1/1 [==============================] - 0s 23ms/step\n"
          ]
        },
        {
          "output_type": "stream",
          "name": "stderr",
          "text": [
            "\r 76%|███████▌  | 383/506 [03:12<00:48,  2.53it/s]"
          ]
        },
        {
          "output_type": "stream",
          "name": "stdout",
          "text": [
            "1/1 [==============================] - 0s 23ms/step\n"
          ]
        },
        {
          "output_type": "stream",
          "name": "stderr",
          "text": [
            "\r 76%|███████▌  | 384/506 [03:13<00:49,  2.48it/s]"
          ]
        },
        {
          "output_type": "stream",
          "name": "stdout",
          "text": [
            "1/1 [==============================] - 0s 23ms/step\n"
          ]
        },
        {
          "output_type": "stream",
          "name": "stderr",
          "text": [
            "\r 76%|███████▌  | 385/506 [03:13<00:49,  2.45it/s]"
          ]
        },
        {
          "output_type": "stream",
          "name": "stdout",
          "text": [
            "1/1 [==============================] - 0s 23ms/step\n"
          ]
        },
        {
          "output_type": "stream",
          "name": "stderr",
          "text": [
            "\r 76%|███████▋  | 386/506 [03:13<00:49,  2.41it/s]"
          ]
        },
        {
          "output_type": "stream",
          "name": "stdout",
          "text": [
            "1/1 [==============================] - 0s 27ms/step\n"
          ]
        },
        {
          "output_type": "stream",
          "name": "stderr",
          "text": [
            "\r 76%|███████▋  | 387/506 [03:14<00:47,  2.50it/s]"
          ]
        },
        {
          "output_type": "stream",
          "name": "stdout",
          "text": [
            "1/1 [==============================] - 0s 24ms/step\n"
          ]
        },
        {
          "output_type": "stream",
          "name": "stderr",
          "text": [
            "\r 77%|███████▋  | 388/506 [03:14<00:49,  2.39it/s]"
          ]
        },
        {
          "output_type": "stream",
          "name": "stdout",
          "text": [
            "1/1 [==============================] - 0s 36ms/step\n"
          ]
        },
        {
          "output_type": "stream",
          "name": "stderr",
          "text": [
            "\r 77%|███████▋  | 389/506 [03:15<00:55,  2.10it/s]"
          ]
        },
        {
          "output_type": "stream",
          "name": "stdout",
          "text": [
            "1/1 [==============================] - 0s 31ms/step\n"
          ]
        },
        {
          "output_type": "stream",
          "name": "stderr",
          "text": [
            "\r 77%|███████▋  | 390/506 [03:15<00:59,  1.95it/s]"
          ]
        },
        {
          "output_type": "stream",
          "name": "stdout",
          "text": [
            "1/1 [==============================] - 0s 32ms/step\n"
          ]
        },
        {
          "output_type": "stream",
          "name": "stderr",
          "text": [
            "\r 77%|███████▋  | 391/506 [03:16<01:02,  1.85it/s]"
          ]
        },
        {
          "output_type": "stream",
          "name": "stdout",
          "text": [
            "1/1 [==============================] - 0s 32ms/step\n"
          ]
        },
        {
          "output_type": "stream",
          "name": "stderr",
          "text": [
            "\r 77%|███████▋  | 392/506 [03:17<01:03,  1.78it/s]"
          ]
        },
        {
          "output_type": "stream",
          "name": "stdout",
          "text": [
            "1/1 [==============================] - 0s 34ms/step\n"
          ]
        },
        {
          "output_type": "stream",
          "name": "stderr",
          "text": [
            "\r 78%|███████▊  | 393/506 [03:17<01:04,  1.74it/s]"
          ]
        },
        {
          "output_type": "stream",
          "name": "stdout",
          "text": [
            "1/1 [==============================] - 0s 33ms/step\n"
          ]
        },
        {
          "output_type": "stream",
          "name": "stderr",
          "text": [
            "\r 78%|███████▊  | 394/506 [03:18<01:00,  1.84it/s]"
          ]
        },
        {
          "output_type": "stream",
          "name": "stdout",
          "text": [
            "1/1 [==============================] - 0s 23ms/step\n"
          ]
        },
        {
          "output_type": "stream",
          "name": "stderr",
          "text": [
            "\r 78%|███████▊  | 395/506 [03:18<00:56,  1.96it/s]"
          ]
        },
        {
          "output_type": "stream",
          "name": "stdout",
          "text": [
            "1/1 [==============================] - 0s 23ms/step\n"
          ]
        },
        {
          "output_type": "stream",
          "name": "stderr",
          "text": [
            "\r 78%|███████▊  | 396/506 [03:19<00:53,  2.07it/s]"
          ]
        },
        {
          "output_type": "stream",
          "name": "stdout",
          "text": [
            "1/1 [==============================] - 0s 23ms/step\n"
          ]
        },
        {
          "output_type": "stream",
          "name": "stderr",
          "text": [
            "\r 78%|███████▊  | 397/506 [03:19<00:50,  2.15it/s]"
          ]
        },
        {
          "output_type": "stream",
          "name": "stdout",
          "text": [
            "1/1 [==============================] - 0s 23ms/step\n"
          ]
        },
        {
          "output_type": "stream",
          "name": "stderr",
          "text": [
            "\r 79%|███████▊  | 398/506 [03:19<00:47,  2.29it/s]"
          ]
        },
        {
          "output_type": "stream",
          "name": "stdout",
          "text": [
            "1/1 [==============================] - 0s 23ms/step\n"
          ]
        },
        {
          "output_type": "stream",
          "name": "stderr",
          "text": [
            "\r 79%|███████▉  | 399/506 [03:20<00:46,  2.31it/s]"
          ]
        },
        {
          "output_type": "stream",
          "name": "stdout",
          "text": [
            "1/1 [==============================] - 0s 23ms/step\n"
          ]
        },
        {
          "output_type": "stream",
          "name": "stderr",
          "text": [
            "\r 79%|███████▉  | 400/506 [03:20<00:43,  2.43it/s]"
          ]
        },
        {
          "output_type": "stream",
          "name": "stdout",
          "text": [
            "1/1 [==============================] - 0s 25ms/step\n"
          ]
        },
        {
          "output_type": "stream",
          "name": "stderr",
          "text": [
            "\r 79%|███████▉  | 401/506 [03:21<00:43,  2.41it/s]"
          ]
        },
        {
          "output_type": "stream",
          "name": "stdout",
          "text": [
            "1/1 [==============================] - 0s 24ms/step\n"
          ]
        },
        {
          "output_type": "stream",
          "name": "stderr",
          "text": [
            "\r 79%|███████▉  | 402/506 [03:21<00:41,  2.52it/s]"
          ]
        },
        {
          "output_type": "stream",
          "name": "stdout",
          "text": [
            "1/1 [==============================] - 0s 23ms/step\n"
          ]
        },
        {
          "output_type": "stream",
          "name": "stderr",
          "text": [
            "\r 80%|███████▉  | 403/506 [03:21<00:42,  2.42it/s]"
          ]
        },
        {
          "output_type": "stream",
          "name": "stdout",
          "text": [
            "1/1 [==============================] - 0s 24ms/step\n"
          ]
        },
        {
          "output_type": "stream",
          "name": "stderr",
          "text": [
            "\r 80%|███████▉  | 404/506 [03:22<00:42,  2.41it/s]"
          ]
        },
        {
          "output_type": "stream",
          "name": "stdout",
          "text": [
            "1/1 [==============================] - 0s 22ms/step\n"
          ]
        },
        {
          "output_type": "stream",
          "name": "stderr",
          "text": [
            "\r 80%|████████  | 405/506 [03:22<00:41,  2.41it/s]"
          ]
        },
        {
          "output_type": "stream",
          "name": "stdout",
          "text": [
            "1/1 [==============================] - 0s 24ms/step\n"
          ]
        },
        {
          "output_type": "stream",
          "name": "stderr",
          "text": [
            "\r 80%|████████  | 406/506 [03:23<00:41,  2.40it/s]"
          ]
        },
        {
          "output_type": "stream",
          "name": "stdout",
          "text": [
            "1/1 [==============================] - 0s 23ms/step\n"
          ]
        },
        {
          "output_type": "stream",
          "name": "stderr",
          "text": [
            "\r 80%|████████  | 407/506 [03:23<00:39,  2.50it/s]"
          ]
        },
        {
          "output_type": "stream",
          "name": "stdout",
          "text": [
            "1/1 [==============================] - 0s 23ms/step\n"
          ]
        },
        {
          "output_type": "stream",
          "name": "stderr",
          "text": [
            "\r 81%|████████  | 408/506 [03:23<00:37,  2.58it/s]"
          ]
        },
        {
          "output_type": "stream",
          "name": "stdout",
          "text": [
            "1/1 [==============================] - 0s 29ms/step\n"
          ]
        },
        {
          "output_type": "stream",
          "name": "stderr",
          "text": [
            "\r 81%|████████  | 409/506 [03:24<00:36,  2.64it/s]"
          ]
        },
        {
          "output_type": "stream",
          "name": "stdout",
          "text": [
            "1/1 [==============================] - 0s 23ms/step\n"
          ]
        },
        {
          "output_type": "stream",
          "name": "stderr",
          "text": [
            "\r 81%|████████  | 410/506 [03:24<00:36,  2.66it/s]"
          ]
        },
        {
          "output_type": "stream",
          "name": "stdout",
          "text": [
            "1/1 [==============================] - 0s 23ms/step\n"
          ]
        },
        {
          "output_type": "stream",
          "name": "stderr",
          "text": [
            "\r 81%|████████  | 411/506 [03:25<00:35,  2.65it/s]"
          ]
        },
        {
          "output_type": "stream",
          "name": "stdout",
          "text": [
            "1/1 [==============================] - 0s 23ms/step\n"
          ]
        },
        {
          "output_type": "stream",
          "name": "stderr",
          "text": [
            "\r 81%|████████▏ | 412/506 [03:25<00:36,  2.56it/s]"
          ]
        },
        {
          "output_type": "stream",
          "name": "stdout",
          "text": [
            "1/1 [==============================] - 0s 30ms/step\n"
          ]
        },
        {
          "output_type": "stream",
          "name": "stderr",
          "text": [
            "\r 82%|████████▏ | 413/506 [03:25<00:37,  2.50it/s]"
          ]
        },
        {
          "output_type": "stream",
          "name": "stdout",
          "text": [
            "1/1 [==============================] - 0s 22ms/step\n"
          ]
        },
        {
          "output_type": "stream",
          "name": "stderr",
          "text": [
            "\r 82%|████████▏ | 414/506 [03:26<00:37,  2.47it/s]"
          ]
        },
        {
          "output_type": "stream",
          "name": "stdout",
          "text": [
            "1/1 [==============================] - 0s 22ms/step\n"
          ]
        },
        {
          "output_type": "stream",
          "name": "stderr",
          "text": [
            "\r 82%|████████▏ | 415/506 [03:26<00:35,  2.56it/s]"
          ]
        },
        {
          "output_type": "stream",
          "name": "stdout",
          "text": [
            "1/1 [==============================] - 0s 22ms/step\n"
          ]
        },
        {
          "output_type": "stream",
          "name": "stderr",
          "text": [
            "\r 82%|████████▏ | 416/506 [03:27<00:36,  2.48it/s]"
          ]
        },
        {
          "output_type": "stream",
          "name": "stdout",
          "text": [
            "1/1 [==============================] - 0s 22ms/step\n"
          ]
        },
        {
          "output_type": "stream",
          "name": "stderr",
          "text": [
            "\r 82%|████████▏ | 417/506 [03:27<00:36,  2.45it/s]"
          ]
        },
        {
          "output_type": "stream",
          "name": "stdout",
          "text": [
            "1/1 [==============================] - 0s 22ms/step\n"
          ]
        },
        {
          "output_type": "stream",
          "name": "stderr",
          "text": [
            "\r 83%|████████▎ | 418/506 [03:27<00:36,  2.44it/s]"
          ]
        },
        {
          "output_type": "stream",
          "name": "stdout",
          "text": [
            "1/1 [==============================] - 0s 24ms/step\n"
          ]
        },
        {
          "output_type": "stream",
          "name": "stderr",
          "text": [
            "\r 83%|████████▎ | 419/506 [03:28<00:40,  2.13it/s]"
          ]
        },
        {
          "output_type": "stream",
          "name": "stdout",
          "text": [
            "1/1 [==============================] - 0s 38ms/step\n"
          ]
        },
        {
          "output_type": "stream",
          "name": "stderr",
          "text": [
            "\r 83%|████████▎ | 420/506 [03:29<00:44,  1.95it/s]"
          ]
        },
        {
          "output_type": "stream",
          "name": "stdout",
          "text": [
            "1/1 [==============================] - 0s 35ms/step\n"
          ]
        },
        {
          "output_type": "stream",
          "name": "stderr",
          "text": [
            "\r 83%|████████▎ | 421/506 [03:29<00:46,  1.85it/s]"
          ]
        },
        {
          "output_type": "stream",
          "name": "stdout",
          "text": [
            "1/1 [==============================] - 0s 33ms/step\n"
          ]
        },
        {
          "output_type": "stream",
          "name": "stderr",
          "text": [
            "\r 83%|████████▎ | 422/506 [03:30<00:47,  1.78it/s]"
          ]
        },
        {
          "output_type": "stream",
          "name": "stdout",
          "text": [
            "1/1 [==============================] - 0s 40ms/step\n"
          ]
        },
        {
          "output_type": "stream",
          "name": "stderr",
          "text": [
            "\r 84%|████████▎ | 423/506 [03:30<00:47,  1.74it/s]"
          ]
        },
        {
          "output_type": "stream",
          "name": "stdout",
          "text": [
            "1/1 [==============================] - 0s 32ms/step\n"
          ]
        },
        {
          "output_type": "stream",
          "name": "stderr",
          "text": [
            "\r 84%|████████▍ | 424/506 [03:31<00:47,  1.72it/s]"
          ]
        },
        {
          "output_type": "stream",
          "name": "stdout",
          "text": [
            "1/1 [==============================] - 0s 24ms/step\n"
          ]
        },
        {
          "output_type": "stream",
          "name": "stderr",
          "text": [
            "\r 84%|████████▍ | 425/506 [03:31<00:43,  1.88it/s]"
          ]
        },
        {
          "output_type": "stream",
          "name": "stdout",
          "text": [
            "1/1 [==============================] - 0s 22ms/step\n"
          ]
        },
        {
          "output_type": "stream",
          "name": "stderr",
          "text": [
            "\r 84%|████████▍ | 426/506 [03:32<00:39,  2.04it/s]"
          ]
        },
        {
          "output_type": "stream",
          "name": "stdout",
          "text": [
            "1/1 [==============================] - 0s 22ms/step\n"
          ]
        },
        {
          "output_type": "stream",
          "name": "stderr",
          "text": [
            "\r 84%|████████▍ | 427/506 [03:32<00:37,  2.13it/s]"
          ]
        },
        {
          "output_type": "stream",
          "name": "stdout",
          "text": [
            "1/1 [==============================] - 0s 25ms/step\n"
          ]
        },
        {
          "output_type": "stream",
          "name": "stderr",
          "text": [
            "\r 85%|████████▍ | 428/506 [03:33<00:35,  2.20it/s]"
          ]
        },
        {
          "output_type": "stream",
          "name": "stdout",
          "text": [
            "1/1 [==============================] - 0s 22ms/step\n"
          ]
        },
        {
          "output_type": "stream",
          "name": "stderr",
          "text": [
            "\r 85%|████████▍ | 429/506 [03:33<00:33,  2.33it/s]"
          ]
        },
        {
          "output_type": "stream",
          "name": "stdout",
          "text": [
            "1/1 [==============================] - 0s 23ms/step\n"
          ]
        },
        {
          "output_type": "stream",
          "name": "stderr",
          "text": [
            "\r 85%|████████▍ | 430/506 [03:33<00:31,  2.44it/s]"
          ]
        },
        {
          "output_type": "stream",
          "name": "stdout",
          "text": [
            "1/1 [==============================] - 0s 22ms/step\n"
          ]
        },
        {
          "output_type": "stream",
          "name": "stderr",
          "text": [
            "\r 85%|████████▌ | 431/506 [03:34<00:31,  2.42it/s]"
          ]
        },
        {
          "output_type": "stream",
          "name": "stdout",
          "text": [
            "1/1 [==============================] - 0s 22ms/step\n"
          ]
        },
        {
          "output_type": "stream",
          "name": "stderr",
          "text": [
            "\r 85%|████████▌ | 432/506 [03:34<00:29,  2.51it/s]"
          ]
        },
        {
          "output_type": "stream",
          "name": "stdout",
          "text": [
            "1/1 [==============================] - 0s 22ms/step\n"
          ]
        },
        {
          "output_type": "stream",
          "name": "stderr",
          "text": [
            "\r 86%|████████▌ | 433/506 [03:35<00:29,  2.47it/s]"
          ]
        },
        {
          "output_type": "stream",
          "name": "stdout",
          "text": [
            "1/1 [==============================] - 0s 26ms/step\n"
          ]
        },
        {
          "output_type": "stream",
          "name": "stderr",
          "text": [
            "\r 86%|████████▌ | 434/506 [03:35<00:29,  2.45it/s]"
          ]
        },
        {
          "output_type": "stream",
          "name": "stdout",
          "text": [
            "1/1 [==============================] - 0s 23ms/step\n"
          ]
        },
        {
          "output_type": "stream",
          "name": "stderr",
          "text": [
            "\r 86%|████████▌ | 435/506 [03:35<00:29,  2.43it/s]"
          ]
        },
        {
          "output_type": "stream",
          "name": "stdout",
          "text": [
            "1/1 [==============================] - 0s 25ms/step\n"
          ]
        },
        {
          "output_type": "stream",
          "name": "stderr",
          "text": [
            "\r 86%|████████▌ | 436/506 [03:36<00:29,  2.40it/s]"
          ]
        },
        {
          "output_type": "stream",
          "name": "stdout",
          "text": [
            "1/1 [==============================] - 0s 24ms/step\n"
          ]
        },
        {
          "output_type": "stream",
          "name": "stderr",
          "text": [
            "\r 86%|████████▋ | 437/506 [03:36<00:28,  2.39it/s]"
          ]
        },
        {
          "output_type": "stream",
          "name": "stdout",
          "text": [
            "1/1 [==============================] - 0s 24ms/step\n"
          ]
        },
        {
          "output_type": "stream",
          "name": "stderr",
          "text": [
            "\r 87%|████████▋ | 438/506 [03:37<00:27,  2.50it/s]"
          ]
        },
        {
          "output_type": "stream",
          "name": "stdout",
          "text": [
            "1/1 [==============================] - 0s 27ms/step\n"
          ]
        },
        {
          "output_type": "stream",
          "name": "stderr",
          "text": [
            "\r 87%|████████▋ | 439/506 [03:37<00:27,  2.47it/s]"
          ]
        },
        {
          "output_type": "stream",
          "name": "stdout",
          "text": [
            "1/1 [==============================] - 0s 22ms/step\n"
          ]
        },
        {
          "output_type": "stream",
          "name": "stderr",
          "text": [
            "\r 87%|████████▋ | 440/506 [03:37<00:25,  2.56it/s]"
          ]
        },
        {
          "output_type": "stream",
          "name": "stdout",
          "text": [
            "1/1 [==============================] - 0s 23ms/step\n"
          ]
        },
        {
          "output_type": "stream",
          "name": "stderr",
          "text": [
            "\r 87%|████████▋ | 441/506 [03:38<00:24,  2.62it/s]"
          ]
        },
        {
          "output_type": "stream",
          "name": "stdout",
          "text": [
            "1/1 [==============================] - 0s 24ms/step\n"
          ]
        },
        {
          "output_type": "stream",
          "name": "stderr",
          "text": [
            "\r 87%|████████▋ | 442/506 [03:38<00:23,  2.67it/s]"
          ]
        },
        {
          "output_type": "stream",
          "name": "stdout",
          "text": [
            "1/1 [==============================] - 0s 23ms/step\n"
          ]
        },
        {
          "output_type": "stream",
          "name": "stderr",
          "text": [
            "\r 88%|████████▊ | 443/506 [03:39<00:23,  2.71it/s]"
          ]
        },
        {
          "output_type": "stream",
          "name": "stdout",
          "text": [
            "1/1 [==============================] - 0s 23ms/step\n"
          ]
        },
        {
          "output_type": "stream",
          "name": "stderr",
          "text": [
            "\r 88%|████████▊ | 444/506 [03:39<00:23,  2.69it/s]"
          ]
        },
        {
          "output_type": "stream",
          "name": "stdout",
          "text": [
            "1/1 [==============================] - 0s 23ms/step\n"
          ]
        },
        {
          "output_type": "stream",
          "name": "stderr",
          "text": [
            "\r 88%|████████▊ | 445/506 [03:39<00:23,  2.58it/s]"
          ]
        },
        {
          "output_type": "stream",
          "name": "stdout",
          "text": [
            "1/1 [==============================] - 0s 22ms/step\n"
          ]
        },
        {
          "output_type": "stream",
          "name": "stderr",
          "text": [
            "\r 88%|████████▊ | 446/506 [03:40<00:23,  2.52it/s]"
          ]
        },
        {
          "output_type": "stream",
          "name": "stdout",
          "text": [
            "1/1 [==============================] - 0s 31ms/step\n"
          ]
        },
        {
          "output_type": "stream",
          "name": "stderr",
          "text": [
            "\r 88%|████████▊ | 447/506 [03:40<00:23,  2.55it/s]"
          ]
        },
        {
          "output_type": "stream",
          "name": "stdout",
          "text": [
            "1/1 [==============================] - 0s 22ms/step\n"
          ]
        },
        {
          "output_type": "stream",
          "name": "stderr",
          "text": [
            "\r 89%|████████▊ | 448/506 [03:41<00:23,  2.48it/s]"
          ]
        },
        {
          "output_type": "stream",
          "name": "stdout",
          "text": [
            "1/1 [==============================] - 0s 23ms/step\n"
          ]
        },
        {
          "output_type": "stream",
          "name": "stderr",
          "text": [
            "\r 89%|████████▊ | 449/506 [03:41<00:23,  2.44it/s]"
          ]
        },
        {
          "output_type": "stream",
          "name": "stdout",
          "text": [
            "1/1 [==============================] - 0s 36ms/step\n"
          ]
        },
        {
          "output_type": "stream",
          "name": "stderr",
          "text": [
            "\r 89%|████████▉ | 450/506 [03:42<00:26,  2.15it/s]"
          ]
        },
        {
          "output_type": "stream",
          "name": "stdout",
          "text": [
            "1/1 [==============================] - 0s 31ms/step\n"
          ]
        },
        {
          "output_type": "stream",
          "name": "stderr",
          "text": [
            "\r 89%|████████▉ | 451/506 [03:42<00:28,  1.96it/s]"
          ]
        },
        {
          "output_type": "stream",
          "name": "stdout",
          "text": [
            "1/1 [==============================] - 0s 39ms/step\n"
          ]
        },
        {
          "output_type": "stream",
          "name": "stderr",
          "text": [
            "\r 89%|████████▉ | 452/506 [03:43<00:29,  1.84it/s]"
          ]
        },
        {
          "output_type": "stream",
          "name": "stdout",
          "text": [
            "1/1 [==============================] - 0s 37ms/step\n"
          ]
        },
        {
          "output_type": "stream",
          "name": "stderr",
          "text": [
            "\r 90%|████████▉ | 453/506 [03:43<00:29,  1.78it/s]"
          ]
        },
        {
          "output_type": "stream",
          "name": "stdout",
          "text": [
            "1/1 [==============================] - 0s 32ms/step\n"
          ]
        },
        {
          "output_type": "stream",
          "name": "stderr",
          "text": [
            "\r 90%|████████▉ | 454/506 [03:44<00:29,  1.78it/s]"
          ]
        },
        {
          "output_type": "stream",
          "name": "stdout",
          "text": [
            "1/1 [==============================] - 0s 42ms/step\n"
          ]
        },
        {
          "output_type": "stream",
          "name": "stderr",
          "text": [
            "\r 90%|████████▉ | 455/506 [03:44<00:27,  1.83it/s]"
          ]
        },
        {
          "output_type": "stream",
          "name": "stdout",
          "text": [
            "1/1 [==============================] - 0s 24ms/step\n"
          ]
        },
        {
          "output_type": "stream",
          "name": "stderr",
          "text": [
            "\r 90%|█████████ | 456/506 [03:45<00:24,  2.03it/s]"
          ]
        },
        {
          "output_type": "stream",
          "name": "stdout",
          "text": [
            "1/1 [==============================] - 0s 22ms/step\n"
          ]
        },
        {
          "output_type": "stream",
          "name": "stderr",
          "text": [
            "\r 90%|█████████ | 457/506 [03:45<00:22,  2.13it/s]"
          ]
        },
        {
          "output_type": "stream",
          "name": "stdout",
          "text": [
            "1/1 [==============================] - 0s 25ms/step\n"
          ]
        },
        {
          "output_type": "stream",
          "name": "stderr",
          "text": [
            "\r 91%|█████████ | 458/506 [03:46<00:21,  2.27it/s]"
          ]
        },
        {
          "output_type": "stream",
          "name": "stdout",
          "text": [
            "1/1 [==============================] - 0s 22ms/step\n"
          ]
        },
        {
          "output_type": "stream",
          "name": "stderr",
          "text": [
            "\r 91%|█████████ | 459/506 [03:46<00:20,  2.30it/s]"
          ]
        },
        {
          "output_type": "stream",
          "name": "stdout",
          "text": [
            "1/1 [==============================] - 0s 22ms/step\n"
          ]
        },
        {
          "output_type": "stream",
          "name": "stderr",
          "text": [
            "\r 91%|█████████ | 460/506 [03:46<00:19,  2.40it/s]"
          ]
        },
        {
          "output_type": "stream",
          "name": "stdout",
          "text": [
            "1/1 [==============================] - 0s 24ms/step\n"
          ]
        },
        {
          "output_type": "stream",
          "name": "stderr",
          "text": [
            "\r 91%|█████████ | 461/506 [03:47<00:18,  2.40it/s]"
          ]
        },
        {
          "output_type": "stream",
          "name": "stdout",
          "text": [
            "1/1 [==============================] - 0s 23ms/step\n"
          ]
        },
        {
          "output_type": "stream",
          "name": "stderr",
          "text": [
            "\r 91%|█████████▏| 462/506 [03:47<00:17,  2.49it/s]"
          ]
        },
        {
          "output_type": "stream",
          "name": "stdout",
          "text": [
            "1/1 [==============================] - 0s 23ms/step\n"
          ]
        },
        {
          "output_type": "stream",
          "name": "stderr",
          "text": [
            "\r 92%|█████████▏| 463/506 [03:48<00:16,  2.55it/s]"
          ]
        },
        {
          "output_type": "stream",
          "name": "stdout",
          "text": [
            "1/1 [==============================] - 0s 23ms/step\n"
          ]
        },
        {
          "output_type": "stream",
          "name": "stderr",
          "text": [
            "\r 92%|█████████▏| 464/506 [03:48<00:16,  2.62it/s]"
          ]
        },
        {
          "output_type": "stream",
          "name": "stdout",
          "text": [
            "1/1 [==============================] - 0s 31ms/step\n"
          ]
        },
        {
          "output_type": "stream",
          "name": "stderr",
          "text": [
            "\r 92%|█████████▏| 465/506 [03:48<00:16,  2.54it/s]"
          ]
        },
        {
          "output_type": "stream",
          "name": "stdout",
          "text": [
            "1/1 [==============================] - 0s 25ms/step\n"
          ]
        },
        {
          "output_type": "stream",
          "name": "stderr",
          "text": [
            "\r 92%|█████████▏| 466/506 [03:49<00:16,  2.50it/s]"
          ]
        },
        {
          "output_type": "stream",
          "name": "stdout",
          "text": [
            "1/1 [==============================] - 0s 22ms/step\n"
          ]
        },
        {
          "output_type": "stream",
          "name": "stderr",
          "text": [
            "\r 92%|█████████▏| 467/506 [03:49<00:15,  2.46it/s]"
          ]
        },
        {
          "output_type": "stream",
          "name": "stdout",
          "text": [
            "1/1 [==============================] - 0s 22ms/step\n"
          ]
        },
        {
          "output_type": "stream",
          "name": "stderr",
          "text": [
            "\r 92%|█████████▏| 468/506 [03:50<00:15,  2.44it/s]"
          ]
        },
        {
          "output_type": "stream",
          "name": "stdout",
          "text": [
            "1/1 [==============================] - 0s 24ms/step\n"
          ]
        },
        {
          "output_type": "stream",
          "name": "stderr",
          "text": [
            "\r 93%|█████████▎| 469/506 [03:50<00:14,  2.53it/s]"
          ]
        },
        {
          "output_type": "stream",
          "name": "stdout",
          "text": [
            "1/1 [==============================] - 0s 22ms/step\n"
          ]
        },
        {
          "output_type": "stream",
          "name": "stderr",
          "text": [
            "\r 93%|█████████▎| 470/506 [03:50<00:14,  2.49it/s]"
          ]
        },
        {
          "output_type": "stream",
          "name": "stdout",
          "text": [
            "1/1 [==============================] - 0s 24ms/step\n"
          ]
        },
        {
          "output_type": "stream",
          "name": "stderr",
          "text": [
            "\r 93%|█████████▎| 471/506 [03:51<00:13,  2.56it/s]"
          ]
        },
        {
          "output_type": "stream",
          "name": "stdout",
          "text": [
            "1/1 [==============================] - 0s 23ms/step\n"
          ]
        },
        {
          "output_type": "stream",
          "name": "stderr",
          "text": [
            "\r 93%|█████████▎| 472/506 [03:51<00:13,  2.60it/s]"
          ]
        },
        {
          "output_type": "stream",
          "name": "stdout",
          "text": [
            "1/1 [==============================] - 0s 23ms/step\n"
          ]
        },
        {
          "output_type": "stream",
          "name": "stderr",
          "text": [
            "\r 93%|█████████▎| 473/506 [03:52<00:13,  2.53it/s]"
          ]
        },
        {
          "output_type": "stream",
          "name": "stdout",
          "text": [
            "1/1 [==============================] - 0s 22ms/step\n"
          ]
        },
        {
          "output_type": "stream",
          "name": "stderr",
          "text": [
            "\r 94%|█████████▎| 474/506 [03:52<00:12,  2.50it/s]"
          ]
        },
        {
          "output_type": "stream",
          "name": "stdout",
          "text": [
            "1/1 [==============================] - 0s 23ms/step\n"
          ]
        },
        {
          "output_type": "stream",
          "name": "stderr",
          "text": [
            "\r 94%|█████████▍| 475/506 [03:52<00:12,  2.56it/s]"
          ]
        },
        {
          "output_type": "stream",
          "name": "stdout",
          "text": [
            "1/1 [==============================] - 0s 22ms/step\n"
          ]
        },
        {
          "output_type": "stream",
          "name": "stderr",
          "text": [
            "\r 94%|█████████▍| 476/506 [03:53<00:11,  2.51it/s]"
          ]
        },
        {
          "output_type": "stream",
          "name": "stdout",
          "text": [
            "1/1 [==============================] - 0s 22ms/step\n"
          ]
        },
        {
          "output_type": "stream",
          "name": "stderr",
          "text": [
            "\r 94%|█████████▍| 477/506 [03:53<00:11,  2.59it/s]"
          ]
        },
        {
          "output_type": "stream",
          "name": "stdout",
          "text": [
            "1/1 [==============================] - 0s 22ms/step\n"
          ]
        },
        {
          "output_type": "stream",
          "name": "stderr",
          "text": [
            "\r 94%|█████████▍| 478/506 [03:53<00:10,  2.60it/s]"
          ]
        },
        {
          "output_type": "stream",
          "name": "stdout",
          "text": [
            "1/1 [==============================] - 0s 24ms/step\n"
          ]
        },
        {
          "output_type": "stream",
          "name": "stderr",
          "text": [
            "\r 95%|█████████▍| 479/506 [03:54<00:10,  2.53it/s]"
          ]
        },
        {
          "output_type": "stream",
          "name": "stdout",
          "text": [
            "1/1 [==============================] - 0s 23ms/step\n"
          ]
        },
        {
          "output_type": "stream",
          "name": "stderr",
          "text": [
            "\r 95%|█████████▍| 480/506 [03:54<00:10,  2.45it/s]"
          ]
        },
        {
          "output_type": "stream",
          "name": "stdout",
          "text": [
            "1/1 [==============================] - 0s 22ms/step\n"
          ]
        },
        {
          "output_type": "stream",
          "name": "stderr",
          "text": [
            "\r 95%|█████████▌| 481/506 [03:55<00:11,  2.17it/s]"
          ]
        },
        {
          "output_type": "stream",
          "name": "stdout",
          "text": [
            "1/1 [==============================] - 0s 33ms/step\n"
          ]
        },
        {
          "output_type": "stream",
          "name": "stderr",
          "text": [
            "\r 95%|█████████▌| 482/506 [03:56<00:12,  1.96it/s]"
          ]
        },
        {
          "output_type": "stream",
          "name": "stdout",
          "text": [
            "1/1 [==============================] - 0s 31ms/step\n"
          ]
        },
        {
          "output_type": "stream",
          "name": "stderr",
          "text": [
            "\r 95%|█████████▌| 483/506 [03:56<00:12,  1.87it/s]"
          ]
        },
        {
          "output_type": "stream",
          "name": "stdout",
          "text": [
            "1/1 [==============================] - 0s 47ms/step\n"
          ]
        },
        {
          "output_type": "stream",
          "name": "stderr",
          "text": [
            "\r 96%|█████████▌| 484/506 [03:57<00:12,  1.80it/s]"
          ]
        },
        {
          "output_type": "stream",
          "name": "stdout",
          "text": [
            "1/1 [==============================] - 0s 31ms/step\n"
          ]
        },
        {
          "output_type": "stream",
          "name": "stderr",
          "text": [
            "\r 96%|█████████▌| 485/506 [03:57<00:11,  1.76it/s]"
          ]
        },
        {
          "output_type": "stream",
          "name": "stdout",
          "text": [
            "1/1 [==============================] - 0s 32ms/step\n"
          ]
        },
        {
          "output_type": "stream",
          "name": "stderr",
          "text": [
            "\r 96%|█████████▌| 486/506 [03:58<00:11,  1.81it/s]"
          ]
        },
        {
          "output_type": "stream",
          "name": "stdout",
          "text": [
            "1/1 [==============================] - 0s 23ms/step\n"
          ]
        },
        {
          "output_type": "stream",
          "name": "stderr",
          "text": [
            "\r 96%|█████████▌| 487/506 [03:58<00:09,  1.93it/s]"
          ]
        },
        {
          "output_type": "stream",
          "name": "stdout",
          "text": [
            "1/1 [==============================] - 0s 23ms/step\n"
          ]
        },
        {
          "output_type": "stream",
          "name": "stderr",
          "text": [
            "\r 96%|█████████▋| 488/506 [03:59<00:08,  2.03it/s]"
          ]
        },
        {
          "output_type": "stream",
          "name": "stdout",
          "text": [
            "1/1 [==============================] - 0s 23ms/step\n"
          ]
        },
        {
          "output_type": "stream",
          "name": "stderr",
          "text": [
            "\r 97%|█████████▋| 489/506 [03:59<00:07,  2.21it/s]"
          ]
        },
        {
          "output_type": "stream",
          "name": "stdout",
          "text": [
            "1/1 [==============================] - 0s 23ms/step\n"
          ]
        },
        {
          "output_type": "stream",
          "name": "stderr",
          "text": [
            "\r 97%|█████████▋| 490/506 [03:59<00:06,  2.35it/s]"
          ]
        },
        {
          "output_type": "stream",
          "name": "stdout",
          "text": [
            "1/1 [==============================] - 0s 22ms/step\n"
          ]
        },
        {
          "output_type": "stream",
          "name": "stderr",
          "text": [
            "\r 97%|█████████▋| 491/506 [04:00<00:06,  2.47it/s]"
          ]
        },
        {
          "output_type": "stream",
          "name": "stdout",
          "text": [
            "1/1 [==============================] - 0s 23ms/step\n"
          ]
        },
        {
          "output_type": "stream",
          "name": "stderr",
          "text": [
            "\r 97%|█████████▋| 492/506 [04:00<00:05,  2.43it/s]"
          ]
        },
        {
          "output_type": "stream",
          "name": "stdout",
          "text": [
            "1/1 [==============================] - 0s 23ms/step\n"
          ]
        },
        {
          "output_type": "stream",
          "name": "stderr",
          "text": [
            "\r 97%|█████████▋| 493/506 [04:01<00:05,  2.40it/s]"
          ]
        },
        {
          "output_type": "stream",
          "name": "stdout",
          "text": [
            "1/1 [==============================] - 0s 22ms/step\n"
          ]
        },
        {
          "output_type": "stream",
          "name": "stderr",
          "text": [
            "\r 98%|█████████▊| 494/506 [04:01<00:04,  2.40it/s]"
          ]
        },
        {
          "output_type": "stream",
          "name": "stdout",
          "text": [
            "1/1 [==============================] - 0s 23ms/step\n"
          ]
        },
        {
          "output_type": "stream",
          "name": "stderr",
          "text": [
            "\r 98%|█████████▊| 495/506 [04:01<00:04,  2.48it/s]"
          ]
        },
        {
          "output_type": "stream",
          "name": "stdout",
          "text": [
            "1/1 [==============================] - 0s 22ms/step\n"
          ]
        },
        {
          "output_type": "stream",
          "name": "stderr",
          "text": [
            "\r 98%|█████████▊| 496/506 [04:02<00:03,  2.57it/s]"
          ]
        },
        {
          "output_type": "stream",
          "name": "stdout",
          "text": [
            "1/1 [==============================] - 0s 22ms/step\n"
          ]
        },
        {
          "output_type": "stream",
          "name": "stderr",
          "text": [
            "\r 98%|█████████▊| 497/506 [04:02<00:03,  2.49it/s]"
          ]
        },
        {
          "output_type": "stream",
          "name": "stdout",
          "text": [
            "1/1 [==============================] - 0s 24ms/step\n"
          ]
        },
        {
          "output_type": "stream",
          "name": "stderr",
          "text": [
            "\r 98%|█████████▊| 498/506 [04:03<00:03,  2.44it/s]"
          ]
        },
        {
          "output_type": "stream",
          "name": "stdout",
          "text": [
            "1/1 [==============================] - 0s 23ms/step\n"
          ]
        },
        {
          "output_type": "stream",
          "name": "stderr",
          "text": [
            "\r 99%|█████████▊| 499/506 [04:03<00:02,  2.52it/s]"
          ]
        },
        {
          "output_type": "stream",
          "name": "stdout",
          "text": [
            "1/1 [==============================] - 0s 23ms/step\n"
          ]
        },
        {
          "output_type": "stream",
          "name": "stderr",
          "text": [
            "\r 99%|█████████▉| 500/506 [04:03<00:02,  2.57it/s]"
          ]
        },
        {
          "output_type": "stream",
          "name": "stdout",
          "text": [
            "1/1 [==============================] - 0s 22ms/step\n"
          ]
        },
        {
          "output_type": "stream",
          "name": "stderr",
          "text": [
            "\r 99%|█████████▉| 501/506 [04:04<00:01,  2.62it/s]"
          ]
        },
        {
          "output_type": "stream",
          "name": "stdout",
          "text": [
            "1/1 [==============================] - 0s 22ms/step\n"
          ]
        },
        {
          "output_type": "stream",
          "name": "stderr",
          "text": [
            "\r 99%|█████████▉| 502/506 [04:04<00:01,  2.51it/s]"
          ]
        },
        {
          "output_type": "stream",
          "name": "stdout",
          "text": [
            "1/1 [==============================] - 0s 28ms/step\n"
          ]
        },
        {
          "output_type": "stream",
          "name": "stderr",
          "text": [
            "\r 99%|█████████▉| 503/506 [04:05<00:01,  2.46it/s]"
          ]
        },
        {
          "output_type": "stream",
          "name": "stdout",
          "text": [
            "1/1 [==============================] - 0s 23ms/step\n"
          ]
        },
        {
          "output_type": "stream",
          "name": "stderr",
          "text": [
            "\r100%|█████████▉| 504/506 [04:05<00:00,  2.42it/s]"
          ]
        },
        {
          "output_type": "stream",
          "name": "stdout",
          "text": [
            "1/1 [==============================] - 0s 22ms/step\n"
          ]
        },
        {
          "output_type": "stream",
          "name": "stderr",
          "text": [
            "\r100%|█████████▉| 505/506 [04:06<00:00,  2.39it/s]"
          ]
        },
        {
          "output_type": "stream",
          "name": "stdout",
          "text": [
            "1/1 [==============================] - 0s 24ms/step\n"
          ]
        },
        {
          "output_type": "stream",
          "name": "stderr",
          "text": [
            "100%|██████████| 506/506 [04:06<00:00,  2.05it/s]"
          ]
        },
        {
          "output_type": "stream",
          "name": "stdout",
          "text": [
            "Accuracy: 0.97788\n",
            "F1: 0.61098\n",
            "Jaccard: 0.57931\n",
            "Recall: 0.98112\n",
            "Precision: 0.59209\n"
          ]
        },
        {
          "output_type": "stream",
          "name": "stderr",
          "text": [
            "\n"
          ]
        }
      ]
    },
    {
      "cell_type": "code",
      "source": [],
      "metadata": {
        "id": "trR9J0E2stnr"
      },
      "execution_count": null,
      "outputs": []
    }
  ]
}